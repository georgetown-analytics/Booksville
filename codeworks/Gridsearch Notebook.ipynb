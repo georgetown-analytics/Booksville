{
 "cells": [
  {
   "cell_type": "code",
   "execution_count": 1,
   "metadata": {},
   "outputs": [],
   "source": [
    "## Importing the necesssary Libraries"
   ]
  },
  {
   "cell_type": "code",
   "execution_count": 2,
   "metadata": {},
   "outputs": [],
   "source": [
    "import pandas as pd\n",
    "import numpy as np\n",
    "\n",
    "import seaborn as sns\n",
    "import matplotlib.pyplot as plt\n",
    "%matplotlib inline\n",
    "\n",
    "import psycopg2 as pg2\n",
    "import datetime as dt\n",
    "# package used for converting the data into datetime format\n",
    "from sklearn.preprocessing import LabelEncoder\n",
    "\n",
    "from sklearn.feature_selection import RFE, f_regression\n",
    "from sklearn.linear_model import (LinearRegression, Ridge, Lasso, RandomizedLasso)\n",
    "from sklearn.preprocessing import MinMaxScaler\n",
    "from sklearn.ensemble import RandomForestRegressor\n",
    "\n",
    "import warnings\n",
    "warnings.filterwarnings(\"ignore\")"
   ]
  },
  {
   "cell_type": "code",
   "execution_count": 3,
   "metadata": {},
   "outputs": [],
   "source": [
    "##Establish connection to the postgres database"
   ]
  },
  {
   "cell_type": "code",
   "execution_count": 4,
   "metadata": {},
   "outputs": [],
   "source": [
    "conn= pg2.connect('dbname = postgres user= postgres password =Zl@tan1012 host= 127.0.0.1 port = 5432')\n",
    "cur=conn.cursor()\n",
    "df_raw = pd.read_sql_query('select * from public.\"Keepa\"', conn)"
   ]
  },
  {
   "cell_type": "code",
   "execution_count": 5,
   "metadata": {},
   "outputs": [
    {
     "name": "stdout",
     "output_type": "stream",
     "text": [
      "Starting size of our Dataset \n"
     ]
    },
    {
     "data": {
      "text/plain": [
       "(100192, 79)"
      ]
     },
     "execution_count": 5,
     "metadata": {},
     "output_type": "execute_result"
    }
   ],
   "source": [
    "#Check the dimension of the raw data to see if its properly imported\n",
    "print('Starting size of our Dataset ')\n",
    "df_raw.shape"
   ]
  },
  {
   "cell_type": "code",
   "execution_count": 6,
   "metadata": {},
   "outputs": [
    {
     "data": {
      "text/plain": [
       "object    77\n",
       "int64      2\n",
       "dtype: int64"
      ]
     },
     "execution_count": 6,
     "metadata": {},
     "output_type": "execute_result"
    }
   ],
   "source": [
    "# Print out count of each datatype in the dataframe\n",
    "df_raw.dtypes.value_counts()"
   ]
  },
  {
   "cell_type": "markdown",
   "metadata": {},
   "source": [
    "### Price Aggregator\n",
    "Price column is divided into three different coumns depending on availability and condition of books carried by Amazon.\n",
    "According to keepa, prise is set based on availability of information in the following order. The aggregator function adds\n",
    "a new column  called 'price' to the dataset and assigns the value that appers first from the following list and finally \n",
    "deletes the three price columns.      \n",
    "         * amazon_Price        \n",
    "         * marketplace_new        \n",
    "         * marketplace_used_price"
   ]
  },
  {
   "cell_type": "code",
   "execution_count": 7,
   "metadata": {},
   "outputs": [],
   "source": [
    "\n",
    "def PriceAggregator(original_df):\n",
    "    \n",
    "    df=original_df\n",
    "    # create a copy of the three columns to choose amazon price from\n",
    "    df_copy=df[['amazon_price','marketplace_new_price','marketplace_used_price']]\n",
    "    \n",
    "    # Replace missing price denoted by -1 to Null in all three price columns   \n",
    "    for item in df_copy:\n",
    "        df_copy[item].replace('-1',np.nan, inplace=True)\n",
    "        \n",
    "    # Add a new column to store the aggregated price with default value of 'amazon_price'         \n",
    "    df.insert(79,'price',df_copy['amazon_price'].astype('float'))\n",
    "    \n",
    "    \n",
    "    #Loop throgh all three columns to assign non-null value to the newly created price column. \n",
    "    #Keep amazon_price as is if not null, otherwise assign marketplace_new_price as the new price. \n",
    "    #Where both 'amazon_price' and 'marketplace_new_price' are null, price will be set to \n",
    "    #'marketplace_used_price' regardless of its value.\n",
    "    \n",
    "    for i in range(df['price'].size):\n",
    "        if pd.isnull(df['price'][i]):\n",
    "            if pd.isnull(df_copy['marketplace_new_price'][i]):\n",
    "                if pd.isnull(df_copy['marketplace_used_price'][i]):\n",
    "                    pass\n",
    "                else:\n",
    "                    df['price'][i]=df_copy['marketplace_used_price'][i]\n",
    "            else:\n",
    "                df['price'][i]=df_copy['marketplace_new_price'][i]\n",
    "        else:\n",
    "            pass\n",
    "    \n",
    "    #Delete records where price record is missing since there is no value to cross check\n",
    "    #the accuracy of the model in the test set. \n",
    "    df.dropna(subset=['price'], axis=0, inplace=True)\n",
    "    \n",
    "    #Reset index after dropping rows with missing price\n",
    "    df.reset_index(drop= True, inplace=True)\n",
    "    \n",
    "    #Delete old price columns after assigning aggregated price to a brand new column    \n",
    "    df.drop(['amazon_price','marketplace_new_price','marketplace_used_price'], axis=1 , inplace=True)\n",
    "    \n",
    "    #Return the a dataframe with a new price column added to the original dataframe\n",
    "    return df   \n",
    "    \n",
    "    "
   ]
  },
  {
   "cell_type": "code",
   "execution_count": 8,
   "metadata": {},
   "outputs": [],
   "source": [
    "df=PriceAggregator(df_raw)"
   ]
  },
  {
   "cell_type": "code",
   "execution_count": 9,
   "metadata": {},
   "outputs": [
    {
     "data": {
      "text/plain": [
       "(99658, 77)"
      ]
     },
     "execution_count": 9,
     "metadata": {},
     "output_type": "execute_result"
    }
   ],
   "source": [
    "df.shape"
   ]
  },
  {
   "cell_type": "markdown",
   "metadata": {},
   "source": [
    "## Delete duplicate records if there are any"
   ]
  },
  {
   "cell_type": "code",
   "execution_count": 10,
   "metadata": {},
   "outputs": [
    {
     "data": {
      "text/plain": [
       "(99658, 77)"
      ]
     },
     "execution_count": 10,
     "metadata": {},
     "output_type": "execute_result"
    }
   ],
   "source": [
    "df.shape"
   ]
  },
  {
   "cell_type": "code",
   "execution_count": 11,
   "metadata": {},
   "outputs": [],
   "source": [
    "df.drop_duplicates(inplace = True)"
   ]
  },
  {
   "cell_type": "code",
   "execution_count": 12,
   "metadata": {},
   "outputs": [
    {
     "data": {
      "text/plain": [
       "(99600, 77)"
      ]
     },
     "execution_count": 12,
     "metadata": {},
     "output_type": "execute_result"
    }
   ],
   "source": [
    "df.shape"
   ]
  },
  {
   "cell_type": "code",
   "execution_count": 13,
   "metadata": {},
   "outputs": [],
   "source": [
    "## categorical valued features"
   ]
  },
  {
   "cell_type": "code",
   "execution_count": 14,
   "metadata": {},
   "outputs": [],
   "source": [
    "cat=['author', 'binding','brand','categoryTree_0','categoryTree_1','categoryTree_2','categoryTree_3','categoryTree_4',\n",
    "'color','edition','features','format','genre','label','languages_0', 'manufacturer','productGroup','publisher','studio',\n",
    "'title','type']"
   ]
  },
  {
   "cell_type": "code",
   "execution_count": 15,
   "metadata": {},
   "outputs": [
    {
     "data": {
      "text/html": [
       "<div>\n",
       "<style scoped>\n",
       "    .dataframe tbody tr th:only-of-type {\n",
       "        vertical-align: middle;\n",
       "    }\n",
       "\n",
       "    .dataframe tbody tr th {\n",
       "        vertical-align: top;\n",
       "    }\n",
       "\n",
       "    .dataframe thead th {\n",
       "        text-align: right;\n",
       "    }\n",
       "</style>\n",
       "<table border=\"1\" class=\"dataframe\">\n",
       "  <thead>\n",
       "    <tr style=\"text-align: right;\">\n",
       "      <th></th>\n",
       "      <th>author</th>\n",
       "      <th>binding</th>\n",
       "      <th>brand</th>\n",
       "      <th>categoryTree_0</th>\n",
       "      <th>categoryTree_1</th>\n",
       "      <th>categoryTree_2</th>\n",
       "      <th>categoryTree_3</th>\n",
       "      <th>categoryTree_4</th>\n",
       "      <th>color</th>\n",
       "      <th>edition</th>\n",
       "      <th>...</th>\n",
       "      <th>format</th>\n",
       "      <th>genre</th>\n",
       "      <th>label</th>\n",
       "      <th>languages_0</th>\n",
       "      <th>manufacturer</th>\n",
       "      <th>productGroup</th>\n",
       "      <th>publisher</th>\n",
       "      <th>studio</th>\n",
       "      <th>title</th>\n",
       "      <th>type</th>\n",
       "    </tr>\n",
       "  </thead>\n",
       "  <tbody>\n",
       "    <tr>\n",
       "      <th>0</th>\n",
       "      <td>Glendy Vanderah</td>\n",
       "      <td>Hardcover</td>\n",
       "      <td></td>\n",
       "      <td>Books</td>\n",
       "      <td>Subjects</td>\n",
       "      <td>Literature &amp; Fiction</td>\n",
       "      <td>Genre Fiction</td>\n",
       "      <td>Family Life</td>\n",
       "      <td></td>\n",
       "      <td></td>\n",
       "      <td>...</td>\n",
       "      <td></td>\n",
       "      <td></td>\n",
       "      <td>Lake Union Publishing</td>\n",
       "      <td>English,Published</td>\n",
       "      <td>Lake Union Publishing</td>\n",
       "      <td>Book</td>\n",
       "      <td>Lake Union Publishing</td>\n",
       "      <td>Lake Union Publishing</td>\n",
       "      <td>Where the Forest Meets the Stars</td>\n",
       "      <td>ABIS_BOOK</td>\n",
       "    </tr>\n",
       "    <tr>\n",
       "      <th>1</th>\n",
       "      <td>Sudipta Bardhan-Quallen</td>\n",
       "      <td>Kindle Edition</td>\n",
       "      <td></td>\n",
       "      <td>Books</td>\n",
       "      <td>Subjects</td>\n",
       "      <td>Children's Books</td>\n",
       "      <td>Animals</td>\n",
       "      <td>Cats</td>\n",
       "      <td></td>\n",
       "      <td></td>\n",
       "      <td>...</td>\n",
       "      <td></td>\n",
       "      <td></td>\n",
       "      <td></td>\n",
       "      <td>English,Published</td>\n",
       "      <td></td>\n",
       "      <td>Ebook Bundle</td>\n",
       "      <td></td>\n",
       "      <td></td>\n",
       "      <td>Purrmaids (6 Book Series)</td>\n",
       "      <td>EBOOK_BUNDLE</td>\n",
       "    </tr>\n",
       "    <tr>\n",
       "      <th>2</th>\n",
       "      <td>Alan Forbes</td>\n",
       "      <td>Kindle Edition</td>\n",
       "      <td></td>\n",
       "      <td>Books</td>\n",
       "      <td>Subjects</td>\n",
       "      <td>Computers &amp; Technology</td>\n",
       "      <td>Programming</td>\n",
       "      <td>Software Design, Testing &amp; Engineering</td>\n",
       "      <td></td>\n",
       "      <td></td>\n",
       "      <td>...</td>\n",
       "      <td></td>\n",
       "      <td></td>\n",
       "      <td></td>\n",
       "      <td>English,Published</td>\n",
       "      <td></td>\n",
       "      <td>Ebook Bundle</td>\n",
       "      <td></td>\n",
       "      <td></td>\n",
       "      <td>The Joy of PHP (2 Book Series)</td>\n",
       "      <td>EBOOK_BUNDLE</td>\n",
       "    </tr>\n",
       "    <tr>\n",
       "      <th>3</th>\n",
       "      <td>Michelle Obama</td>\n",
       "      <td>Hardcover</td>\n",
       "      <td>AMERICAN WEST BOOKS</td>\n",
       "      <td>Books</td>\n",
       "      <td>Subjects</td>\n",
       "      <td>Biographies &amp; Memoirs</td>\n",
       "      <td>Ethnic &amp; National</td>\n",
       "      <td>African-American &amp; Black</td>\n",
       "      <td></td>\n",
       "      <td>First Edition</td>\n",
       "      <td>...</td>\n",
       "      <td></td>\n",
       "      <td></td>\n",
       "      <td>Crown Publishing Group</td>\n",
       "      <td>English,Published</td>\n",
       "      <td>Crown Publishing Group</td>\n",
       "      <td>Book</td>\n",
       "      <td>Crown Publishing Group</td>\n",
       "      <td>Crown Publishing Group</td>\n",
       "      <td>Becoming</td>\n",
       "      <td>ABIS_BOOK</td>\n",
       "    </tr>\n",
       "    <tr>\n",
       "      <th>4</th>\n",
       "      <td>Delia Owens</td>\n",
       "      <td>Hardcover</td>\n",
       "      <td>G.P. Putnam's Sons</td>\n",
       "      <td>Books</td>\n",
       "      <td>Subjects</td>\n",
       "      <td>Literature &amp; Fiction</td>\n",
       "      <td>Genre Fiction</td>\n",
       "      <td>Coming of Age</td>\n",
       "      <td></td>\n",
       "      <td>First Edition, First Printing</td>\n",
       "      <td>...</td>\n",
       "      <td></td>\n",
       "      <td></td>\n",
       "      <td>G.P. Putnam's Sons</td>\n",
       "      <td>English,Published</td>\n",
       "      <td>G.P. Putnam's Sons</td>\n",
       "      <td>Book</td>\n",
       "      <td>G.P. Putnam's Sons</td>\n",
       "      <td>G.P. Putnam's Sons</td>\n",
       "      <td>Where the Crawdads Sing</td>\n",
       "      <td>ABIS_BOOK</td>\n",
       "    </tr>\n",
       "  </tbody>\n",
       "</table>\n",
       "<p>5 rows × 21 columns</p>\n",
       "</div>"
      ],
      "text/plain": [
       "                    author         binding                brand  \\\n",
       "0          Glendy Vanderah       Hardcover                        \n",
       "1  Sudipta Bardhan-Quallen  Kindle Edition                        \n",
       "2              Alan Forbes  Kindle Edition                        \n",
       "3           Michelle Obama       Hardcover  AMERICAN WEST BOOKS   \n",
       "4              Delia Owens       Hardcover   G.P. Putnam's Sons   \n",
       "\n",
       "  categoryTree_0 categoryTree_1          categoryTree_2     categoryTree_3  \\\n",
       "0          Books       Subjects    Literature & Fiction      Genre Fiction   \n",
       "1          Books       Subjects        Children's Books            Animals   \n",
       "2          Books       Subjects  Computers & Technology        Programming   \n",
       "3          Books       Subjects   Biographies & Memoirs  Ethnic & National   \n",
       "4          Books       Subjects    Literature & Fiction      Genre Fiction   \n",
       "\n",
       "                           categoryTree_4 color  \\\n",
       "0                             Family Life         \n",
       "1                                    Cats         \n",
       "2  Software Design, Testing & Engineering         \n",
       "3                African-American & Black         \n",
       "4                           Coming of Age         \n",
       "\n",
       "                         edition  ... format genre                   label  \\\n",
       "0                                 ...                Lake Union Publishing   \n",
       "1                                 ...                                        \n",
       "2                                 ...                                        \n",
       "3                  First Edition  ...               Crown Publishing Group   \n",
       "4  First Edition, First Printing  ...                   G.P. Putnam's Sons   \n",
       "\n",
       "         languages_0            manufacturer  productGroup  \\\n",
       "0  English,Published   Lake Union Publishing          Book   \n",
       "1  English,Published                          Ebook Bundle   \n",
       "2  English,Published                          Ebook Bundle   \n",
       "3  English,Published  Crown Publishing Group          Book   \n",
       "4  English,Published      G.P. Putnam's Sons          Book   \n",
       "\n",
       "                publisher                  studio  \\\n",
       "0   Lake Union Publishing   Lake Union Publishing   \n",
       "1                                                   \n",
       "2                                                   \n",
       "3  Crown Publishing Group  Crown Publishing Group   \n",
       "4      G.P. Putnam's Sons      G.P. Putnam's Sons   \n",
       "\n",
       "                              title          type  \n",
       "0  Where the Forest Meets the Stars     ABIS_BOOK  \n",
       "1         Purrmaids (6 Book Series)  EBOOK_BUNDLE  \n",
       "2    The Joy of PHP (2 Book Series)  EBOOK_BUNDLE  \n",
       "3                          Becoming     ABIS_BOOK  \n",
       "4           Where the Crawdads Sing     ABIS_BOOK  \n",
       "\n",
       "[5 rows x 21 columns]"
      ]
     },
     "execution_count": 15,
     "metadata": {},
     "output_type": "execute_result"
    }
   ],
   "source": [
    "df[cat].head(5)"
   ]
  },
  {
   "cell_type": "markdown",
   "metadata": {},
   "source": [
    "## Replace every missing value with Null Values for  further analysis."
   ]
  },
  {
   "cell_type": "code",
   "execution_count": 16,
   "metadata": {},
   "outputs": [],
   "source": [
    "df.replace('', np.NaN, inplace=True)\n",
    "#df.fillna(np.NaN)"
   ]
  },
  {
   "cell_type": "code",
   "execution_count": 17,
   "metadata": {},
   "outputs": [
    {
     "data": {
      "text/html": [
       "<div>\n",
       "<style scoped>\n",
       "    .dataframe tbody tr th:only-of-type {\n",
       "        vertical-align: middle;\n",
       "    }\n",
       "\n",
       "    .dataframe tbody tr th {\n",
       "        vertical-align: top;\n",
       "    }\n",
       "\n",
       "    .dataframe thead th {\n",
       "        text-align: right;\n",
       "    }\n",
       "</style>\n",
       "<table border=\"1\" class=\"dataframe\">\n",
       "  <thead>\n",
       "    <tr style=\"text-align: right;\">\n",
       "      <th></th>\n",
       "      <th>Count of Null Values</th>\n",
       "    </tr>\n",
       "  </thead>\n",
       "  <tbody>\n",
       "    <tr>\n",
       "      <th>coupon</th>\n",
       "      <td>99600</td>\n",
       "    </tr>\n",
       "    <tr>\n",
       "      <th>offers</th>\n",
       "      <td>99600</td>\n",
       "    </tr>\n",
       "    <tr>\n",
       "      <th>liveOffersOrder</th>\n",
       "      <td>99600</td>\n",
       "    </tr>\n",
       "    <tr>\n",
       "      <th>promotions</th>\n",
       "      <td>99600</td>\n",
       "    </tr>\n",
       "    <tr>\n",
       "      <th>buyBoxSellerIdHistory</th>\n",
       "      <td>99600</td>\n",
       "    </tr>\n",
       "    <tr>\n",
       "      <th>features</th>\n",
       "      <td>99600</td>\n",
       "    </tr>\n",
       "    <tr>\n",
       "      <th>upcList</th>\n",
       "      <td>99600</td>\n",
       "    </tr>\n",
       "    <tr>\n",
       "      <th>variations</th>\n",
       "      <td>99600</td>\n",
       "    </tr>\n",
       "    <tr>\n",
       "      <th>hazardousMaterialType</th>\n",
       "      <td>99599</td>\n",
       "    </tr>\n",
       "    <tr>\n",
       "      <th>genre</th>\n",
       "      <td>99565</td>\n",
       "    </tr>\n",
       "    <tr>\n",
       "      <th>platform</th>\n",
       "      <td>99551</td>\n",
       "    </tr>\n",
       "    <tr>\n",
       "      <th>variationCSV</th>\n",
       "      <td>99541</td>\n",
       "    </tr>\n",
       "    <tr>\n",
       "      <th>parentAsin</th>\n",
       "      <td>99404</td>\n",
       "    </tr>\n",
       "    <tr>\n",
       "      <th>department</th>\n",
       "      <td>99087</td>\n",
       "    </tr>\n",
       "    <tr>\n",
       "      <th>size</th>\n",
       "      <td>98585</td>\n",
       "    </tr>\n",
       "    <tr>\n",
       "      <th>model</th>\n",
       "      <td>96864</td>\n",
       "    </tr>\n",
       "    <tr>\n",
       "      <th>color</th>\n",
       "      <td>96533</td>\n",
       "    </tr>\n",
       "    <tr>\n",
       "      <th>partNumber</th>\n",
       "      <td>68582</td>\n",
       "    </tr>\n",
       "    <tr>\n",
       "      <th>mpn</th>\n",
       "      <td>68560</td>\n",
       "    </tr>\n",
       "    <tr>\n",
       "      <th>brand</th>\n",
       "      <td>67295</td>\n",
       "    </tr>\n",
       "    <tr>\n",
       "      <th>edition</th>\n",
       "      <td>65652</td>\n",
       "    </tr>\n",
       "    <tr>\n",
       "      <th>format</th>\n",
       "      <td>52034</td>\n",
       "    </tr>\n",
       "    <tr>\n",
       "      <th>categoryTree_4</th>\n",
       "      <td>34740</td>\n",
       "    </tr>\n",
       "    <tr>\n",
       "      <th>categoryTree_3</th>\n",
       "      <td>7172</td>\n",
       "    </tr>\n",
       "    <tr>\n",
       "      <th>categoryTree_2</th>\n",
       "      <td>2964</td>\n",
       "    </tr>\n",
       "    <tr>\n",
       "      <th>author</th>\n",
       "      <td>2060</td>\n",
       "    </tr>\n",
       "    <tr>\n",
       "      <th>languages_0</th>\n",
       "      <td>493</td>\n",
       "    </tr>\n",
       "    <tr>\n",
       "      <th>studio</th>\n",
       "      <td>106</td>\n",
       "    </tr>\n",
       "    <tr>\n",
       "      <th>manufacturer</th>\n",
       "      <td>106</td>\n",
       "    </tr>\n",
       "    <tr>\n",
       "      <th>publisher</th>\n",
       "      <td>106</td>\n",
       "    </tr>\n",
       "    <tr>\n",
       "      <th>...</th>\n",
       "      <td>...</td>\n",
       "    </tr>\n",
       "    <tr>\n",
       "      <th>lastRatingUpdate</th>\n",
       "      <td>0</td>\n",
       "    </tr>\n",
       "    <tr>\n",
       "      <th>lastUpdate</th>\n",
       "      <td>0</td>\n",
       "    </tr>\n",
       "    <tr>\n",
       "      <th>upc</th>\n",
       "      <td>0</td>\n",
       "    </tr>\n",
       "    <tr>\n",
       "      <th>type</th>\n",
       "      <td>0</td>\n",
       "    </tr>\n",
       "    <tr>\n",
       "      <th>trackingSince</th>\n",
       "      <td>0</td>\n",
       "    </tr>\n",
       "    <tr>\n",
       "      <th>title</th>\n",
       "      <td>0</td>\n",
       "    </tr>\n",
       "    <tr>\n",
       "      <th>stats_outOfStockPercentageInInterval</th>\n",
       "      <td>0</td>\n",
       "    </tr>\n",
       "    <tr>\n",
       "      <th>stats_outOfStockPercentage90</th>\n",
       "      <td>0</td>\n",
       "    </tr>\n",
       "    <tr>\n",
       "      <th>stats_outOfStockPercentage30</th>\n",
       "      <td>0</td>\n",
       "    </tr>\n",
       "    <tr>\n",
       "      <th>stats_current</th>\n",
       "      <td>0</td>\n",
       "    </tr>\n",
       "    <tr>\n",
       "      <th>stats_avg180</th>\n",
       "      <td>0</td>\n",
       "    </tr>\n",
       "    <tr>\n",
       "      <th>stats_avg90</th>\n",
       "      <td>0</td>\n",
       "    </tr>\n",
       "    <tr>\n",
       "      <th>stats_avg30</th>\n",
       "      <td>0</td>\n",
       "    </tr>\n",
       "    <tr>\n",
       "      <th>stats_avg</th>\n",
       "      <td>0</td>\n",
       "    </tr>\n",
       "    <tr>\n",
       "      <th>stats_atIntervalStart</th>\n",
       "      <td>0</td>\n",
       "    </tr>\n",
       "    <tr>\n",
       "      <th>rootCategory</th>\n",
       "      <td>0</td>\n",
       "    </tr>\n",
       "    <tr>\n",
       "      <th>releaseDate</th>\n",
       "      <td>0</td>\n",
       "    </tr>\n",
       "    <tr>\n",
       "      <th>publicationDate</th>\n",
       "      <td>0</td>\n",
       "    </tr>\n",
       "    <tr>\n",
       "      <th>productGroup</th>\n",
       "      <td>0</td>\n",
       "    </tr>\n",
       "    <tr>\n",
       "      <th>packageWidth</th>\n",
       "      <td>0</td>\n",
       "    </tr>\n",
       "    <tr>\n",
       "      <th>packageWeight</th>\n",
       "      <td>0</td>\n",
       "    </tr>\n",
       "    <tr>\n",
       "      <th>packageQuantity</th>\n",
       "      <td>0</td>\n",
       "    </tr>\n",
       "    <tr>\n",
       "      <th>packageLength</th>\n",
       "      <td>0</td>\n",
       "    </tr>\n",
       "    <tr>\n",
       "      <th>packageHeight</th>\n",
       "      <td>0</td>\n",
       "    </tr>\n",
       "    <tr>\n",
       "      <th>offersSuccessful</th>\n",
       "      <td>0</td>\n",
       "    </tr>\n",
       "    <tr>\n",
       "      <th>numberOfPages</th>\n",
       "      <td>0</td>\n",
       "    </tr>\n",
       "    <tr>\n",
       "      <th>numberOfItems</th>\n",
       "      <td>0</td>\n",
       "    </tr>\n",
       "    <tr>\n",
       "      <th>sales_rank</th>\n",
       "      <td>0</td>\n",
       "    </tr>\n",
       "    <tr>\n",
       "      <th>listedSince</th>\n",
       "      <td>0</td>\n",
       "    </tr>\n",
       "    <tr>\n",
       "      <th>productType</th>\n",
       "      <td>0</td>\n",
       "    </tr>\n",
       "  </tbody>\n",
       "</table>\n",
       "<p>77 rows × 1 columns</p>\n",
       "</div>"
      ],
      "text/plain": [
       "                                      Count of Null Values\n",
       "coupon                                               99600\n",
       "offers                                               99600\n",
       "liveOffersOrder                                      99600\n",
       "promotions                                           99600\n",
       "buyBoxSellerIdHistory                                99600\n",
       "features                                             99600\n",
       "upcList                                              99600\n",
       "variations                                           99600\n",
       "hazardousMaterialType                                99599\n",
       "genre                                                99565\n",
       "platform                                             99551\n",
       "variationCSV                                         99541\n",
       "parentAsin                                           99404\n",
       "department                                           99087\n",
       "size                                                 98585\n",
       "model                                                96864\n",
       "color                                                96533\n",
       "partNumber                                           68582\n",
       "mpn                                                  68560\n",
       "brand                                                67295\n",
       "edition                                              65652\n",
       "format                                               52034\n",
       "categoryTree_4                                       34740\n",
       "categoryTree_3                                        7172\n",
       "categoryTree_2                                        2964\n",
       "author                                                2060\n",
       "languages_0                                            493\n",
       "studio                                                 106\n",
       "manufacturer                                           106\n",
       "publisher                                              106\n",
       "...                                                    ...\n",
       "lastRatingUpdate                                         0\n",
       "lastUpdate                                               0\n",
       "upc                                                      0\n",
       "type                                                     0\n",
       "trackingSince                                            0\n",
       "title                                                    0\n",
       "stats_outOfStockPercentageInInterval                     0\n",
       "stats_outOfStockPercentage90                             0\n",
       "stats_outOfStockPercentage30                             0\n",
       "stats_current                                            0\n",
       "stats_avg180                                             0\n",
       "stats_avg90                                              0\n",
       "stats_avg30                                              0\n",
       "stats_avg                                                0\n",
       "stats_atIntervalStart                                    0\n",
       "rootCategory                                             0\n",
       "releaseDate                                              0\n",
       "publicationDate                                          0\n",
       "productGroup                                             0\n",
       "packageWidth                                             0\n",
       "packageWeight                                            0\n",
       "packageQuantity                                          0\n",
       "packageLength                                            0\n",
       "packageHeight                                            0\n",
       "offersSuccessful                                         0\n",
       "numberOfPages                                            0\n",
       "numberOfItems                                            0\n",
       "sales_rank                                               0\n",
       "listedSince                                              0\n",
       "productType                                              0\n",
       "\n",
       "[77 rows x 1 columns]"
      ]
     },
     "execution_count": 17,
     "metadata": {},
     "output_type": "execute_result"
    }
   ],
   "source": [
    "df.isna().sum().sort_values(ascending=False).to_frame(name='Count of Null Values')"
   ]
  },
  {
   "cell_type": "markdown",
   "metadata": {},
   "source": [
    "We can delete those columns that contain Null values for the majority of the record set since those features are not common \n",
    "behaviour to our instances."
   ]
  },
  {
   "cell_type": "code",
   "execution_count": 18,
   "metadata": {},
   "outputs": [],
   "source": [
    "Null_features=['coupon','offers','liveOffersOrder','promotions','buyBoxSellerIdHistory','features','upcList','variations',\n",
    "               'hazardousMaterialType','genre','platform','variationCSV','parentAsin','department','size','model','color'\n",
    "               ,'partNumber','mpn','brand','edition','format']"
   ]
  },
  {
   "cell_type": "code",
   "execution_count": 19,
   "metadata": {},
   "outputs": [
    {
     "data": {
      "text/plain": [
       "coupon                   99600\n",
       "offers                   99600\n",
       "liveOffersOrder          99600\n",
       "promotions               99600\n",
       "buyBoxSellerIdHistory    99600\n",
       "features                 99600\n",
       "upcList                  99600\n",
       "variations               99600\n",
       "hazardousMaterialType    99599\n",
       "genre                    99565\n",
       "platform                 99551\n",
       "variationCSV             99541\n",
       "parentAsin               99404\n",
       "department               99087\n",
       "size                     98585\n",
       "model                    96864\n",
       "color                    96533\n",
       "partNumber               68582\n",
       "mpn                      68560\n",
       "brand                    67295\n",
       "edition                  65652\n",
       "format                   52034\n",
       "dtype: int64"
      ]
     },
     "execution_count": 19,
     "metadata": {},
     "output_type": "execute_result"
    }
   ],
   "source": [
    "df[Null_features].isna().sum()"
   ]
  },
  {
   "cell_type": "markdown",
   "metadata": {},
   "source": [
    "   \n",
    "We can delete these features without losing any useful information from our data since more than 50% of the records in the above list contain null values. \n",
    "   "
   ]
  },
  {
   "cell_type": "code",
   "execution_count": 20,
   "metadata": {},
   "outputs": [],
   "source": [
    "df.drop(Null_features, axis=1, inplace=True)"
   ]
  },
  {
   "cell_type": "code",
   "execution_count": 21,
   "metadata": {},
   "outputs": [
    {
     "data": {
      "text/plain": [
       "(99600, 55)"
      ]
     },
     "execution_count": 21,
     "metadata": {},
     "output_type": "execute_result"
    }
   ],
   "source": [
    "df.shape"
   ]
  },
  {
   "cell_type": "markdown",
   "metadata": {},
   "source": [
    "For the remaining null values in our data where the total count is relatively small, we will replace them by  a statistically representative values like mean or mode.\n",
    "\n",
    "  * Mode for categorical values where there is a clear majority or filled with 'Unknown'\n",
    "  * Mean value is used for numerical columns"
   ]
  },
  {
   "cell_type": "code",
   "execution_count": 22,
   "metadata": {},
   "outputs": [],
   "source": [
    "with_Nulls=df.loc[:, df.isna().sum()!=0].columns.tolist()"
   ]
  },
  {
   "cell_type": "code",
   "execution_count": 23,
   "metadata": {},
   "outputs": [
    {
     "data": {
      "text/plain": [
       "categoryTree_4    34740\n",
       "categoryTree_3     7172\n",
       "categoryTree_2     2964\n",
       "author             2060\n",
       "languages_0         493\n",
       "studio              106\n",
       "publisher           106\n",
       "manufacturer        106\n",
       "label               106\n",
       "binding             102\n",
       "imagesCSV            60\n",
       "categoryTree_1        6\n",
       "categoryTree_0        6\n",
       "dtype: int64"
      ]
     },
     "execution_count": 23,
     "metadata": {},
     "output_type": "execute_result"
    }
   ],
   "source": [
    "df[with_Nulls].isna().sum().sort_values(ascending=False)"
   ]
  },
  {
   "cell_type": "code",
   "execution_count": 24,
   "metadata": {},
   "outputs": [],
   "source": [
    "## For our records sets mainly comprised of string or categorival data"
   ]
  },
  {
   "cell_type": "code",
   "execution_count": 25,
   "metadata": {},
   "outputs": [],
   "source": [
    "Nulls2Unknown=['categoryTree_4','categoryTree_3','categoryTree_2','author','studio','publisher','manufacturer',\n",
    "              'label']"
   ]
  },
  {
   "cell_type": "code",
   "execution_count": 26,
   "metadata": {},
   "outputs": [
    {
     "data": {
      "text/html": [
       "<div>\n",
       "<style scoped>\n",
       "    .dataframe tbody tr th:only-of-type {\n",
       "        vertical-align: middle;\n",
       "    }\n",
       "\n",
       "    .dataframe tbody tr th {\n",
       "        vertical-align: top;\n",
       "    }\n",
       "\n",
       "    .dataframe thead th {\n",
       "        text-align: right;\n",
       "    }\n",
       "</style>\n",
       "<table border=\"1\" class=\"dataframe\">\n",
       "  <thead>\n",
       "    <tr style=\"text-align: right;\">\n",
       "      <th></th>\n",
       "      <th>author</th>\n",
       "      <th>binding</th>\n",
       "      <th>categoryTree_0</th>\n",
       "      <th>categoryTree_1</th>\n",
       "      <th>categoryTree_2</th>\n",
       "      <th>categoryTree_3</th>\n",
       "      <th>categoryTree_4</th>\n",
       "      <th>imagesCSV</th>\n",
       "      <th>label</th>\n",
       "      <th>languages_0</th>\n",
       "      <th>manufacturer</th>\n",
       "      <th>publisher</th>\n",
       "      <th>studio</th>\n",
       "    </tr>\n",
       "  </thead>\n",
       "  <tbody>\n",
       "    <tr>\n",
       "      <th>0</th>\n",
       "      <td>Glendy Vanderah</td>\n",
       "      <td>Hardcover</td>\n",
       "      <td>Books</td>\n",
       "      <td>Subjects</td>\n",
       "      <td>Literature &amp; Fiction</td>\n",
       "      <td>Genre Fiction</td>\n",
       "      <td>Family Life</td>\n",
       "      <td>918hXn4Uy1L.jpg</td>\n",
       "      <td>Lake Union Publishing</td>\n",
       "      <td>English,Published</td>\n",
       "      <td>Lake Union Publishing</td>\n",
       "      <td>Lake Union Publishing</td>\n",
       "      <td>Lake Union Publishing</td>\n",
       "    </tr>\n",
       "    <tr>\n",
       "      <th>1</th>\n",
       "      <td>Sudipta Bardhan-Quallen</td>\n",
       "      <td>Kindle Edition</td>\n",
       "      <td>Books</td>\n",
       "      <td>Subjects</td>\n",
       "      <td>Children's Books</td>\n",
       "      <td>Animals</td>\n",
       "      <td>Cats</td>\n",
       "      <td>D1m%2BnXtoWRS.png</td>\n",
       "      <td>NaN</td>\n",
       "      <td>English,Published</td>\n",
       "      <td>NaN</td>\n",
       "      <td>NaN</td>\n",
       "      <td>NaN</td>\n",
       "    </tr>\n",
       "    <tr>\n",
       "      <th>2</th>\n",
       "      <td>Alan Forbes</td>\n",
       "      <td>Kindle Edition</td>\n",
       "      <td>Books</td>\n",
       "      <td>Subjects</td>\n",
       "      <td>Computers &amp; Technology</td>\n",
       "      <td>Programming</td>\n",
       "      <td>Software Design, Testing &amp; Engineering</td>\n",
       "      <td>B1bYlLoRRtS.png</td>\n",
       "      <td>NaN</td>\n",
       "      <td>English,Published</td>\n",
       "      <td>NaN</td>\n",
       "      <td>NaN</td>\n",
       "      <td>NaN</td>\n",
       "    </tr>\n",
       "  </tbody>\n",
       "</table>\n",
       "</div>"
      ],
      "text/plain": [
       "                    author         binding categoryTree_0 categoryTree_1  \\\n",
       "0          Glendy Vanderah       Hardcover          Books       Subjects   \n",
       "1  Sudipta Bardhan-Quallen  Kindle Edition          Books       Subjects   \n",
       "2              Alan Forbes  Kindle Edition          Books       Subjects   \n",
       "\n",
       "           categoryTree_2 categoryTree_3  \\\n",
       "0    Literature & Fiction  Genre Fiction   \n",
       "1        Children's Books        Animals   \n",
       "2  Computers & Technology    Programming   \n",
       "\n",
       "                           categoryTree_4          imagesCSV  \\\n",
       "0                             Family Life    918hXn4Uy1L.jpg   \n",
       "1                                    Cats  D1m%2BnXtoWRS.png   \n",
       "2  Software Design, Testing & Engineering    B1bYlLoRRtS.png   \n",
       "\n",
       "                   label        languages_0           manufacturer  \\\n",
       "0  Lake Union Publishing  English,Published  Lake Union Publishing   \n",
       "1                    NaN  English,Published                    NaN   \n",
       "2                    NaN  English,Published                    NaN   \n",
       "\n",
       "               publisher                 studio  \n",
       "0  Lake Union Publishing  Lake Union Publishing  \n",
       "1                    NaN                    NaN  \n",
       "2                    NaN                    NaN  "
      ]
     },
     "execution_count": 26,
     "metadata": {},
     "output_type": "execute_result"
    }
   ],
   "source": [
    "df[with_Nulls].head(3)"
   ]
  },
  {
   "cell_type": "code",
   "execution_count": 27,
   "metadata": {},
   "outputs": [
    {
     "name": "stdout",
     "output_type": "stream",
     "text": [
      "author\t\t319\n",
      "binding\t\t44619\n",
      "categoryTree_0\t\t99576\n",
      "categoryTree_1\t\t99576\n",
      "categoryTree_2\t\t17441\n",
      "categoryTree_3\t\t8216\n",
      "categoryTree_4\t\t2704\n",
      "imagesCSV\t\t4\n",
      "label\t\t4267\n",
      "languages_0\t\t95316\n",
      "manufacturer\t\t4267\n",
      "publisher\t\t4267\n",
      "studio\t\t4267\n"
     ]
    }
   ],
   "source": [
    "for item in with_Nulls:\n",
    "   print (f'{item}\\t\\t{df[item].value_counts().max()}')"
   ]
  },
  {
   "cell_type": "markdown",
   "metadata": {},
   "source": [
    "Given that our data contains 100,000 records we can clearly see the high mode value for some of the features to replace the nu"
   ]
  },
  {
   "cell_type": "code",
   "execution_count": 28,
   "metadata": {},
   "outputs": [],
   "source": [
    "Nulls2Mode=['languages_0','categoryTree_0','categoryTree_1']"
   ]
  },
  {
   "cell_type": "code",
   "execution_count": 29,
   "metadata": {},
   "outputs": [],
   "source": [
    "mode = df.filter(['languages_0','categoryTree_0','categoryTree_1']).mode()\n",
    "df[Nulls2Mode]=df[Nulls2Mode].fillna(df.mode().iloc[0])"
   ]
  },
  {
   "cell_type": "markdown",
   "metadata": {},
   "source": [
    "       \n",
    "     \n",
    "               \n",
    "  \n",
    "  \n",
    "For the following features since there is no one single category with a high frequency(Mode) in the group, we are filling the missing(Null) values with 'Unknown'.\n",
    "  "
   ]
  },
  {
   "cell_type": "code",
   "execution_count": 30,
   "metadata": {},
   "outputs": [],
   "source": [
    "NullswithNoMode=df.loc[:, df.isna().sum()!=0].columns.tolist()"
   ]
  },
  {
   "cell_type": "code",
   "execution_count": 31,
   "metadata": {},
   "outputs": [
    {
     "name": "stdout",
     "output_type": "stream",
     "text": [
      "author\n",
      "James Patterson    319\n",
      "DK                 306\n",
      "Stephen King       186\n",
      "Name: author, dtype: int64\n",
      "binding\n",
      "Audible Audiobook    44619\n",
      "Paperback            35263\n",
      "Hardcover            13342\n",
      "Name: binding, dtype: int64\n",
      "categoryTree_2\n",
      "Literature & Fiction    17441\n",
      "Children's Books        12742\n",
      "Self-Help                9712\n",
      "Name: categoryTree_2, dtype: int64\n",
      "categoryTree_3\n",
      "Genre Fiction       8216\n",
      "Christian Living    3547\n",
      "Animals             3516\n",
      "Name: categoryTree_3, dtype: int64\n",
      "categoryTree_4\n",
      "Historical       2704\n",
      "Family Life      2249\n",
      "United States    1988\n",
      "Name: categoryTree_4, dtype: int64\n",
      "imagesCSV\n",
      "51sV88-zsdL.jpg    4\n",
      "81jy9gMOf7L.jpg    3\n",
      "51lwDPW8IsL.jpg    3\n",
      "Name: imagesCSV, dtype: int64\n",
      "label\n",
      "Audible Studios     4267\n",
      "Tantor Audio        3707\n",
      "Brilliance Audio    2605\n",
      "Name: label, dtype: int64\n",
      "manufacturer\n",
      "Audible Studios     4267\n",
      "Tantor Audio        3707\n",
      "Brilliance Audio    2605\n",
      "Name: manufacturer, dtype: int64\n",
      "publisher\n",
      "Audible Studios     4267\n",
      "Tantor Audio        3707\n",
      "Brilliance Audio    2605\n",
      "Name: publisher, dtype: int64\n",
      "studio\n",
      "Audible Studios     4267\n",
      "Tantor Audio        3707\n",
      "Brilliance Audio    2605\n",
      "Name: studio, dtype: int64\n"
     ]
    }
   ],
   "source": [
    "for item in NullswithNoMode:\n",
    "    print(item)\n",
    "    print(df[item].value_counts().nlargest(3))"
   ]
  },
  {
   "cell_type": "code",
   "execution_count": 32,
   "metadata": {},
   "outputs": [],
   "source": [
    "df[NullswithNoMode]=df[NullswithNoMode].fillna('Unknown')"
   ]
  },
  {
   "cell_type": "code",
   "execution_count": 33,
   "metadata": {},
   "outputs": [
    {
     "data": {
      "text/plain": [
       "Series([], dtype: float64)"
      ]
     },
     "execution_count": 33,
     "metadata": {},
     "output_type": "execute_result"
    }
   ],
   "source": [
    "# Check if there are still missing or null values in the dataset\n",
    "df[df.loc[:, df.isna().sum()!=0].columns].isna().sum()"
   ]
  },
  {
   "cell_type": "markdown",
   "metadata": {},
   "source": [
    "We have entirely replaced the null and missing values in the dataset by statistically representative values."
   ]
  },
  {
   "cell_type": "markdown",
   "metadata": {},
   "source": [
    "## Data Type Conversion"
   ]
  },
  {
   "cell_type": "code",
   "execution_count": 34,
   "metadata": {},
   "outputs": [
    {
     "data": {
      "text/plain": [
       "object     52\n",
       "int64       2\n",
       "float64     1\n",
       "dtype: int64"
      ]
     },
     "execution_count": 34,
     "metadata": {},
     "output_type": "execute_result"
    }
   ],
   "source": [
    "df.dtypes.value_counts()"
   ]
  },
  {
   "cell_type": "markdown",
   "metadata": {},
   "source": [
    "Lets group all those features that are in string (object) format and convert them to numeric"
   ]
  },
  {
   "cell_type": "code",
   "execution_count": 35,
   "metadata": {},
   "outputs": [],
   "source": [
    "#df[strings] = df[strings].apply(pd.to_numeric, errors='coerce', axis=1)"
   ]
  },
  {
   "cell_type": "code",
   "execution_count": 36,
   "metadata": {},
   "outputs": [
    {
     "data": {
      "text/plain": [
       "object     52\n",
       "int64       2\n",
       "float64     1\n",
       "dtype: int64"
      ]
     },
     "execution_count": 36,
     "metadata": {},
     "output_type": "execute_result"
    }
   ],
   "source": [
    "df.dtypes.value_counts()"
   ]
  },
  {
   "cell_type": "code",
   "execution_count": 37,
   "metadata": {},
   "outputs": [],
   "source": [
    "#Convert columns that contain numerical values to numeric data type using pandsas to_numeric\n",
    "numeric=['availabilityAmazon',\n",
    "       'ean','hasReviews', 'isEligibleForSuperSaverShipping', 'isEligibleForTradeIn',\n",
    "       'isRedirectASIN', 'isSNS', 'lastPriceChange','lastRatingUpdate', 'lastUpdate', 'listedSince', \n",
    "       'newPriceIsMAP', 'numberOfItems','numberOfPages', 'offersSuccessful', 'packageHeight',\n",
    "       'packageLength', 'packageQuantity', 'packageWeight', 'packageWidth',\n",
    "       'publicationDate', 'releaseDate', 'rootCategory','stats_atIntervalStart', 'stats_avg', 'stats_avg30', 'stats_avg90',\n",
    "       'stats_avg180', 'stats_current', 'stats_outOfStockPercentage30',\n",
    "       'stats_outOfStockPercentage90', 'stats_outOfStockPercentageInInterval',\n",
    "       'trackingSince','sales_rank', 'price']\n",
    "#cols = ['productType','rootCategory','stats_atIntervalStart','availabilityAmazon','hasReviews','isRedirectASIN','isSNS','isEligibleForTradeIn','isEligibleForSuperSaverShipping', 'ean','hasReviews', 'availabilityAmazon','isEligibleForTradeIn','lastPriceChange','lastRatingUpdate','lastUpdate','lastRatingUpdate','lastUpdate','listedSince',\"newPriceIsMAP\", \"numberOfItems\", \"numberOfPages\",\"packageHeight\", \"packageLength\",\"packageQuantity\", \"packageWeight\", \"packageWidth\",'stats_avg', 'stats_avg30', 'stats_avg90', 'stats_avg180', 'stats_current',\"stats_outOfStockPercentage30\", \"stats_outOfStockPercentage90\",\"stats_outOfStockPercentageInInterval\",\"trackingSince\",'upc','price','amazon_price', 'marketplace_new_price', 'marketplace_used_price', 'sales_rank']\n",
    "df[numeric] = df[numeric].apply(pd.to_numeric, errors='coerce', axis=1)"
   ]
  },
  {
   "cell_type": "code",
   "execution_count": 38,
   "metadata": {},
   "outputs": [
    {
     "data": {
      "text/plain": [
       "float64    35\n",
       "object     18\n",
       "int64       2\n",
       "dtype: int64"
      ]
     },
     "execution_count": 38,
     "metadata": {},
     "output_type": "execute_result"
    }
   ],
   "source": [
    "df.dtypes.value_counts()"
   ]
  },
  {
   "cell_type": "code",
   "execution_count": 39,
   "metadata": {},
   "outputs": [
    {
     "name": "stdout",
     "output_type": "stream",
     "text": [
      "\n",
      "Sample of the dataset with only categorical information\n",
      "\n"
     ]
    },
    {
     "data": {
      "text/html": [
       "<div>\n",
       "<style scoped>\n",
       "    .dataframe tbody tr th:only-of-type {\n",
       "        vertical-align: middle;\n",
       "    }\n",
       "\n",
       "    .dataframe tbody tr th {\n",
       "        vertical-align: top;\n",
       "    }\n",
       "\n",
       "    .dataframe thead th {\n",
       "        text-align: right;\n",
       "    }\n",
       "</style>\n",
       "<table border=\"1\" class=\"dataframe\">\n",
       "  <thead>\n",
       "    <tr style=\"text-align: right;\">\n",
       "      <th></th>\n",
       "      <th>asin</th>\n",
       "      <th>author</th>\n",
       "      <th>binding</th>\n",
       "      <th>categoryTree_0</th>\n",
       "      <th>categoryTree_1</th>\n",
       "      <th>categoryTree_2</th>\n",
       "      <th>categoryTree_3</th>\n",
       "      <th>categoryTree_4</th>\n",
       "      <th>imagesCSV</th>\n",
       "      <th>label</th>\n",
       "      <th>languages_0</th>\n",
       "      <th>manufacturer</th>\n",
       "      <th>productGroup</th>\n",
       "      <th>publisher</th>\n",
       "      <th>studio</th>\n",
       "      <th>title</th>\n",
       "      <th>type</th>\n",
       "      <th>upc</th>\n",
       "    </tr>\n",
       "  </thead>\n",
       "  <tbody>\n",
       "    <tr>\n",
       "      <th>0</th>\n",
       "      <td>154204006X                                    ...</td>\n",
       "      <td>Glendy Vanderah</td>\n",
       "      <td>Hardcover</td>\n",
       "      <td>Books</td>\n",
       "      <td>Subjects</td>\n",
       "      <td>Literature &amp; Fiction</td>\n",
       "      <td>Genre Fiction</td>\n",
       "      <td>Family Life</td>\n",
       "      <td>918hXn4Uy1L.jpg</td>\n",
       "      <td>Lake Union Publishing</td>\n",
       "      <td>English,Published</td>\n",
       "      <td>Lake Union Publishing</td>\n",
       "      <td>Book</td>\n",
       "      <td>Lake Union Publishing</td>\n",
       "      <td>Lake Union Publishing</td>\n",
       "      <td>Where the Forest Meets the Stars</td>\n",
       "      <td>ABIS_BOOK</td>\n",
       "      <td>0</td>\n",
       "    </tr>\n",
       "    <tr>\n",
       "      <th>1</th>\n",
       "      <td>B07JHVJ5SC                                    ...</td>\n",
       "      <td>Sudipta Bardhan-Quallen</td>\n",
       "      <td>Kindle Edition</td>\n",
       "      <td>Books</td>\n",
       "      <td>Subjects</td>\n",
       "      <td>Children's Books</td>\n",
       "      <td>Animals</td>\n",
       "      <td>Cats</td>\n",
       "      <td>D1m%2BnXtoWRS.png</td>\n",
       "      <td>Unknown</td>\n",
       "      <td>English,Published</td>\n",
       "      <td>Unknown</td>\n",
       "      <td>Ebook Bundle</td>\n",
       "      <td>Unknown</td>\n",
       "      <td>Unknown</td>\n",
       "      <td>Purrmaids (6 Book Series)</td>\n",
       "      <td>EBOOK_BUNDLE</td>\n",
       "      <td>0</td>\n",
       "    </tr>\n",
       "    <tr>\n",
       "      <th>2</th>\n",
       "      <td>B00XJ108I6                                    ...</td>\n",
       "      <td>Alan Forbes</td>\n",
       "      <td>Kindle Edition</td>\n",
       "      <td>Books</td>\n",
       "      <td>Subjects</td>\n",
       "      <td>Computers &amp; Technology</td>\n",
       "      <td>Programming</td>\n",
       "      <td>Software Design, Testing &amp; Engineering</td>\n",
       "      <td>B1bYlLoRRtS.png</td>\n",
       "      <td>Unknown</td>\n",
       "      <td>English,Published</td>\n",
       "      <td>Unknown</td>\n",
       "      <td>Ebook Bundle</td>\n",
       "      <td>Unknown</td>\n",
       "      <td>Unknown</td>\n",
       "      <td>The Joy of PHP (2 Book Series)</td>\n",
       "      <td>EBOOK_BUNDLE</td>\n",
       "      <td>0</td>\n",
       "    </tr>\n",
       "  </tbody>\n",
       "</table>\n",
       "</div>"
      ],
      "text/plain": [
       "                                                asin                   author  \\\n",
       "0  154204006X                                    ...          Glendy Vanderah   \n",
       "1  B07JHVJ5SC                                    ...  Sudipta Bardhan-Quallen   \n",
       "2  B00XJ108I6                                    ...              Alan Forbes   \n",
       "\n",
       "          binding categoryTree_0 categoryTree_1          categoryTree_2  \\\n",
       "0       Hardcover          Books       Subjects    Literature & Fiction   \n",
       "1  Kindle Edition          Books       Subjects        Children's Books   \n",
       "2  Kindle Edition          Books       Subjects  Computers & Technology   \n",
       "\n",
       "  categoryTree_3                          categoryTree_4          imagesCSV  \\\n",
       "0  Genre Fiction                             Family Life    918hXn4Uy1L.jpg   \n",
       "1        Animals                                    Cats  D1m%2BnXtoWRS.png   \n",
       "2    Programming  Software Design, Testing & Engineering    B1bYlLoRRtS.png   \n",
       "\n",
       "                   label        languages_0           manufacturer  \\\n",
       "0  Lake Union Publishing  English,Published  Lake Union Publishing   \n",
       "1                Unknown  English,Published                Unknown   \n",
       "2                Unknown  English,Published                Unknown   \n",
       "\n",
       "   productGroup              publisher                 studio  \\\n",
       "0          Book  Lake Union Publishing  Lake Union Publishing   \n",
       "1  Ebook Bundle                Unknown                Unknown   \n",
       "2  Ebook Bundle                Unknown                Unknown   \n",
       "\n",
       "                              title          type upc  \n",
       "0  Where the Forest Meets the Stars     ABIS_BOOK   0  \n",
       "1         Purrmaids (6 Book Series)  EBOOK_BUNDLE   0  \n",
       "2    The Joy of PHP (2 Book Series)  EBOOK_BUNDLE   0  "
      ]
     },
     "execution_count": 39,
     "metadata": {},
     "output_type": "execute_result"
    }
   ],
   "source": [
    "strings=df.loc[:, df.dtypes == np.object].columns.tolist()\n",
    "print('\\n'+ 'Sample of the dataset with only categorical information'+'\\n')\n",
    "df[strings].head(3)"
   ]
  },
  {
   "cell_type": "markdown",
   "metadata": {},
   "source": [
    "We can delete asin, ean and imageCSV columns since the information contained in them is not characteristic discription of books."
   ]
  },
  {
   "cell_type": "code",
   "execution_count": 40,
   "metadata": {},
   "outputs": [],
   "source": [
    "df.drop(['asin','imagesCSV','ean', 'upc'], axis=1, inplace=True)\n",
    "#upc  might break code watch for it"
   ]
  },
  {
   "cell_type": "code",
   "execution_count": 41,
   "metadata": {},
   "outputs": [
    {
     "data": {
      "text/plain": [
       "(99600, 51)"
      ]
     },
     "execution_count": 41,
     "metadata": {},
     "output_type": "execute_result"
    }
   ],
   "source": [
    "df.shape"
   ]
  },
  {
   "cell_type": "code",
   "execution_count": 42,
   "metadata": {},
   "outputs": [
    {
     "data": {
      "text/plain": [
       "float64    34\n",
       "object     15\n",
       "int64       2\n",
       "dtype: int64"
      ]
     },
     "execution_count": 42,
     "metadata": {},
     "output_type": "execute_result"
    }
   ],
   "source": [
    "df.dtypes.value_counts()"
   ]
  },
  {
   "cell_type": "code",
   "execution_count": 43,
   "metadata": {},
   "outputs": [
    {
     "data": {
      "text/plain": [
       "Index(['author', 'binding', 'categoryTree_0', 'categoryTree_1',\n",
       "       'categoryTree_2', 'categoryTree_3', 'categoryTree_4', 'label',\n",
       "       'languages_0', 'manufacturer', 'productGroup', 'publisher', 'studio',\n",
       "       'title', 'type'],\n",
       "      dtype='object')"
      ]
     },
     "execution_count": 43,
     "metadata": {},
     "output_type": "execute_result"
    }
   ],
   "source": [
    "df.loc[:, df.dtypes == np.object].columns"
   ]
  },
  {
   "cell_type": "markdown",
   "metadata": {},
   "source": [
    "The language_0 column contains aggregated information separated by comma, we are going to split it into 2 parts;"
   ]
  },
  {
   "cell_type": "code",
   "execution_count": 44,
   "metadata": {},
   "outputs": [
    {
     "data": {
      "text/plain": [
       "0    English,Published\n",
       "1    English,Published\n",
       "2    English,Published\n",
       "3    English,Published\n",
       "4    English,Published\n",
       "Name: languages_0, dtype: object"
      ]
     },
     "execution_count": 44,
     "metadata": {},
     "output_type": "execute_result"
    }
   ],
   "source": [
    "df['languages_0'].head(5)"
   ]
  },
  {
   "cell_type": "code",
   "execution_count": 45,
   "metadata": {},
   "outputs": [],
   "source": [
    "new = df['languages_0'].str.split(\",\", n = 1, expand = True)"
   ]
  },
  {
   "cell_type": "code",
   "execution_count": 46,
   "metadata": {},
   "outputs": [],
   "source": [
    "df['language_1']=new[0]\n",
    "df['language_2']=new[1]"
   ]
  },
  {
   "cell_type": "code",
   "execution_count": 47,
   "metadata": {},
   "outputs": [],
   "source": [
    "# reduced categories froom 9 to 6 grouping related categories together\n",
    "#df['language_1'].value_counts().to_frame()"
   ]
  },
  {
   "cell_type": "code",
   "execution_count": 48,
   "metadata": {},
   "outputs": [],
   "source": [
    "#group English, english and Middle English to one categry\n",
    "df['language_1'].replace(('English', 'english','Middle English'),'English', inplace = True)\n",
    "\n",
    "#grouping Spanish,Portuguese and Latin under \"Spanish\"\n",
    "df['language_1'].replace(('Spanish', 'Portuguese','Latin'),'Spanish', inplace = True)\n",
    "\n",
    "#grouping Chinese, mandarin Chinese and simplified chinese to Chinese \n",
    "df['language_1'].replace(('Simplified Chinese', 'Mandarin Chinese','Chinese'),'Chinese', inplace = True)\n",
    "\n",
    "#grouping Arabic,Hebrew and Turkish under Middle Eastern\n",
    "df['language_1'].replace(('Arabic', 'Hebrew','Turkish'),'Middle Eastern', inplace = True)\n",
    "\n",
    "# group languages with single entry record in to one group called 'Others'\n",
    "df['language_1'].replace(('Hindi', 'Scots','Filipino','Malay','Dutch','Greek','Korean','Romanian','Czech'),'Others', inplace = True)\n",
    "\n",
    "\n",
    "#grouping Danish and Norwegian into one group of 'Scandinavian'  \n",
    "df['language_1'].replace(('Danish', 'Norwegian'),'Scandinavian', inplace=True)"
   ]
  },
  {
   "cell_type": "code",
   "execution_count": null,
   "metadata": {},
   "outputs": [],
   "source": []
  },
  {
   "cell_type": "code",
   "execution_count": 49,
   "metadata": {},
   "outputs": [],
   "source": [
    "#replaced ('published','Published,Dolby Digital 1.0','Published,DTS-HD 5.1') by Published\n",
    "df['language_2'].replace(('published','Published,Dolby Digital 1.0','Published,DTS-HD 5.1'),'Published', inplace=True)"
   ]
  },
  {
   "cell_type": "code",
   "execution_count": 50,
   "metadata": {},
   "outputs": [
    {
     "data": {
      "text/html": [
       "<div>\n",
       "<style scoped>\n",
       "    .dataframe tbody tr th:only-of-type {\n",
       "        vertical-align: middle;\n",
       "    }\n",
       "\n",
       "    .dataframe tbody tr th {\n",
       "        vertical-align: top;\n",
       "    }\n",
       "\n",
       "    .dataframe thead th {\n",
       "        text-align: right;\n",
       "    }\n",
       "</style>\n",
       "<table border=\"1\" class=\"dataframe\">\n",
       "  <thead>\n",
       "    <tr style=\"text-align: right;\">\n",
       "      <th></th>\n",
       "      <th>language_1</th>\n",
       "      <th>language_2</th>\n",
       "    </tr>\n",
       "  </thead>\n",
       "  <tbody>\n",
       "    <tr>\n",
       "      <th>0</th>\n",
       "      <td>English</td>\n",
       "      <td>Published</td>\n",
       "    </tr>\n",
       "    <tr>\n",
       "      <th>1</th>\n",
       "      <td>English</td>\n",
       "      <td>Published</td>\n",
       "    </tr>\n",
       "    <tr>\n",
       "      <th>2</th>\n",
       "      <td>English</td>\n",
       "      <td>Published</td>\n",
       "    </tr>\n",
       "    <tr>\n",
       "      <th>3</th>\n",
       "      <td>English</td>\n",
       "      <td>Published</td>\n",
       "    </tr>\n",
       "    <tr>\n",
       "      <th>4</th>\n",
       "      <td>English</td>\n",
       "      <td>Published</td>\n",
       "    </tr>\n",
       "  </tbody>\n",
       "</table>\n",
       "</div>"
      ],
      "text/plain": [
       "  language_1 language_2\n",
       "0    English  Published\n",
       "1    English  Published\n",
       "2    English  Published\n",
       "3    English  Published\n",
       "4    English  Published"
      ]
     },
     "execution_count": 50,
     "metadata": {},
     "output_type": "execute_result"
    }
   ],
   "source": [
    "df[['language_1','language_2']].head(5)"
   ]
  },
  {
   "cell_type": "code",
   "execution_count": 51,
   "metadata": {},
   "outputs": [],
   "source": [
    "#Since we have copied the information into new columns we can delete the languages_0 column\n",
    "df.drop(['languages_0'], axis=1 , inplace=True)"
   ]
  },
  {
   "cell_type": "code",
   "execution_count": 52,
   "metadata": {},
   "outputs": [
    {
     "data": {
      "text/plain": [
       "Index(['productType', 'author', 'availabilityAmazon', 'binding',\n",
       "       'categoryTree_0', 'categoryTree_1', 'categoryTree_2', 'categoryTree_3',\n",
       "       'categoryTree_4', 'domainId', 'hasReviews',\n",
       "       'isEligibleForSuperSaverShipping', 'isEligibleForTradeIn',\n",
       "       'isRedirectASIN', 'isSNS', 'label', 'lastPriceChange',\n",
       "       'lastRatingUpdate', 'lastUpdate', 'listedSince', 'manufacturer',\n",
       "       'newPriceIsMAP', 'numberOfItems', 'numberOfPages', 'offersSuccessful',\n",
       "       'packageHeight', 'packageLength', 'packageQuantity', 'packageWeight',\n",
       "       'packageWidth', 'productGroup', 'publicationDate', 'publisher',\n",
       "       'releaseDate', 'rootCategory', 'stats_atIntervalStart', 'stats_avg',\n",
       "       'stats_avg30', 'stats_avg90', 'stats_avg180', 'stats_current',\n",
       "       'stats_outOfStockPercentage30', 'stats_outOfStockPercentage90',\n",
       "       'stats_outOfStockPercentageInInterval', 'studio', 'title',\n",
       "       'trackingSince', 'type', 'sales_rank', 'price', 'language_1',\n",
       "       'language_2'],\n",
       "      dtype='object')"
      ]
     },
     "execution_count": 52,
     "metadata": {},
     "output_type": "execute_result"
    }
   ],
   "source": [
    "df.columns"
   ]
  },
  {
   "cell_type": "code",
   "execution_count": 53,
   "metadata": {},
   "outputs": [
    {
     "data": {
      "text/plain": [
       "(99600, 52)"
      ]
     },
     "execution_count": 53,
     "metadata": {},
     "output_type": "execute_result"
    }
   ],
   "source": [
    "df.shape"
   ]
  },
  {
   "cell_type": "code",
   "execution_count": 54,
   "metadata": {},
   "outputs": [
    {
     "data": {
      "text/plain": [
       "Audible Audiobook              44619\n",
       "Paperback                      35263\n",
       "Hardcover                      13342\n",
       "Board book                      1633\n",
       "Mass Market Paperback           1260\n",
       "Spiral-bound                     611\n",
       "Cards                            459\n",
       "Calendar                         326\n",
       "Imitation Leather                283\n",
       "Map                              201\n",
       "Pamphlet                         187\n",
       "Perfect Paperback                162\n",
       "Diary                            132\n",
       "Audio CD                         116\n",
       "Unknown                          102\n",
       "Misc. Supplies                    90\n",
       "Sheet music                       84\n",
       "Leather Bound                     79\n",
       "Flexibound                        76\n",
       "Hardcover-spiral                  53\n",
       "Loose Leaf                        52\n",
       "Game                              47\n",
       "Plastic Comb                      40\n",
       "Software Download                 39\n",
       "Electronics                       30\n",
       "Bonded Leather                    27\n",
       "Single Issue Magazine             26\n",
       "Bookmark                          24\n",
       "Staple Bound                      17\n",
       "Ring-bound                        17\n",
       "                               ...  \n",
       "Kindle Edition                     7\n",
       "Kitchen                            6\n",
       "Textbook Binding                   5\n",
       "Comic                              5\n",
       "Rag Book                           5\n",
       "Vinyl Bound                        4\n",
       "Automotive                         3\n",
       "Print on Demand (Paperback)        2\n",
       "Turtleback                         2\n",
       "Album                              2\n",
       "CD-ROM                             2\n",
       "Jewelry                            2\n",
       "Workbook                           2\n",
       "Paperback Bunko                    2\n",
       "JP Oversized                       2\n",
       "Wireless Phone Accessory           2\n",
       "Poster                             2\n",
       "Personal Computers                 1\n",
       "Lawn & Patio                       1\n",
       "Thread Bound                       1\n",
       "Blu-ray                            1\n",
       "Health and Beauty                  1\n",
       "Video Game                         1\n",
       "DVD-ROM                            1\n",
       "Puzzle                             1\n",
       "School & Library Binding           1\n",
       "Roughcut                           1\n",
       "Audio CD Library Binding           1\n",
       "Pocket Book                        1\n",
       "Print Magazine                     1\n",
       "Name: binding, Length: 73, dtype: int64"
      ]
     },
     "execution_count": 54,
     "metadata": {},
     "output_type": "execute_result"
    }
   ],
   "source": [
    "df.binding.value_counts()"
   ]
  },
  {
   "cell_type": "markdown",
   "metadata": {},
   "source": [
    "The binding column contains 73 differnt categories that are mostly related and some of them contain very small elements, we will aggregate closely related categories to reduce the dimension of our variables to avoid curse of dimentioanlity\n"
   ]
  },
  {
   "cell_type": "code",
   "execution_count": 55,
   "metadata": {},
   "outputs": [
    {
     "data": {
      "text/plain": [
       "73"
      ]
     },
     "execution_count": 55,
     "metadata": {},
     "output_type": "execute_result"
    }
   ],
   "source": [
    "df.binding.nunique()"
   ]
  },
  {
   "cell_type": "code",
   "execution_count": 56,
   "metadata": {},
   "outputs": [],
   "source": [
    "dict={'Unknown':['Printed Access Code', 'Unknown','Health and Beauty', 'Lawn & Patio', 'Workbook', 'Kitchen', 'Automotive', 'Jewelry'],\n",
    "     'spiral':[ 'Spiral-bound', 'Staple Bound', 'Ring-bound', 'Plastic Comb', 'Loose Leaf', 'Thread Bound'],\n",
    "     'magazines':[ 'Journal', 'Single Issue Magazine', 'Print Magazine'],\n",
    "     'audios':[ 'Audible Audiobook', 'Audio CD', 'DVD', 'Album', 'MP3 CD', 'Audio CD Library Binding'],\n",
    "     'digital_prints':[ 'CD-ROM', 'Blu-ray', 'DVD-ROM', 'Kindle Edition', 'Video Game', 'Sheet music', 'Software Download',\n",
    " 'Personal Computers', 'Electronics', 'Game', 'Wireless Phone Accessory'],\n",
    "     'hardcovers':['Hardcover', 'Hardcover-spiral', 'Turtleback', 'Roughcut'],\n",
    "     'others':[ 'Cards', 'Pamphlet', 'Calendar', 'Map', 'Stationery', 'Accessory', 'Misc. Supplies', 'Office Product', 'Poster',\n",
    " 'Wall Chart', 'Bookmark', 'JP Oversized'],\n",
    "     'paperbacks':[ 'Paperback', 'Perfect Paperback', 'Mass Market Paperback', 'Flexibound', 'Print on Demand (Paperback)',\n",
    " 'Comic', 'Puzzle', 'Paperback Bunko'],\n",
    "     'leather_bonded':[ 'Bonded Leather', 'Leather Bound', 'Imitation Leather', 'Vinyl Bound'],\n",
    "     'board_book':[ 'Board book', 'Baby Product', 'Toy', 'Rag Book', 'Card Book', 'Bath Book', 'Pocket Book'],\n",
    "     'schoolLibrary_binding':[ 'School & Library Binding', 'Library Binding', 'Textbook Binding']}"
   ]
  },
  {
   "cell_type": "code",
   "execution_count": 57,
   "metadata": {},
   "outputs": [],
   "source": [
    "for key,val in dict.items():\n",
    "    df.binding.replace(val,key, inplace=True)"
   ]
  },
  {
   "cell_type": "code",
   "execution_count": 58,
   "metadata": {},
   "outputs": [
    {
     "data": {
      "text/plain": [
       "audios                   44757\n",
       "paperbacks               36771\n",
       "hardcovers               13398\n",
       "board_book                1679\n",
       "others                    1333\n",
       "spiral                     738\n",
       "leather_bonded             393\n",
       "digital_prints             215\n",
       "Diary                      132\n",
       "Unknown                    126\n",
       "magazines                   40\n",
       "schoolLibrary_binding       18\n",
       "Name: binding, dtype: int64"
      ]
     },
     "execution_count": 58,
     "metadata": {},
     "output_type": "execute_result"
    }
   ],
   "source": [
    "df.binding.value_counts()"
   ]
  },
  {
   "cell_type": "code",
   "execution_count": null,
   "metadata": {},
   "outputs": [],
   "source": []
  },
  {
   "cell_type": "code",
   "execution_count": 59,
   "metadata": {},
   "outputs": [
    {
     "data": {
      "text/html": [
       "<div>\n",
       "<style scoped>\n",
       "    .dataframe tbody tr th:only-of-type {\n",
       "        vertical-align: middle;\n",
       "    }\n",
       "\n",
       "    .dataframe tbody tr th {\n",
       "        vertical-align: top;\n",
       "    }\n",
       "\n",
       "    .dataframe thead th {\n",
       "        text-align: right;\n",
       "    }\n",
       "</style>\n",
       "<table border=\"1\" class=\"dataframe\">\n",
       "  <thead>\n",
       "    <tr style=\"text-align: right;\">\n",
       "      <th></th>\n",
       "      <th>productType</th>\n",
       "      <th>author</th>\n",
       "      <th>availabilityAmazon</th>\n",
       "      <th>binding</th>\n",
       "      <th>categoryTree_0</th>\n",
       "      <th>categoryTree_1</th>\n",
       "      <th>categoryTree_2</th>\n",
       "      <th>categoryTree_3</th>\n",
       "      <th>categoryTree_4</th>\n",
       "      <th>domainId</th>\n",
       "      <th>...</th>\n",
       "      <th>stats_outOfStockPercentage90</th>\n",
       "      <th>stats_outOfStockPercentageInInterval</th>\n",
       "      <th>studio</th>\n",
       "      <th>title</th>\n",
       "      <th>trackingSince</th>\n",
       "      <th>type</th>\n",
       "      <th>sales_rank</th>\n",
       "      <th>price</th>\n",
       "      <th>language_1</th>\n",
       "      <th>language_2</th>\n",
       "    </tr>\n",
       "  </thead>\n",
       "  <tbody>\n",
       "    <tr>\n",
       "      <th>0</th>\n",
       "      <td>0</td>\n",
       "      <td>Glendy Vanderah</td>\n",
       "      <td>0.0</td>\n",
       "      <td>hardcovers</td>\n",
       "      <td>Books</td>\n",
       "      <td>Subjects</td>\n",
       "      <td>Literature &amp; Fiction</td>\n",
       "      <td>Genre Fiction</td>\n",
       "      <td>Family Life</td>\n",
       "      <td>1</td>\n",
       "      <td>...</td>\n",
       "      <td>0.0</td>\n",
       "      <td>0.0</td>\n",
       "      <td>Lake Union Publishing</td>\n",
       "      <td>Where the Forest Meets the Stars</td>\n",
       "      <td>4103352.0</td>\n",
       "      <td>ABIS_BOOK</td>\n",
       "      <td>1945.0</td>\n",
       "      <td>1599.0</td>\n",
       "      <td>English</td>\n",
       "      <td>Published</td>\n",
       "    </tr>\n",
       "    <tr>\n",
       "      <th>1</th>\n",
       "      <td>0</td>\n",
       "      <td>Sudipta Bardhan-Quallen</td>\n",
       "      <td>-1.0</td>\n",
       "      <td>digital_prints</td>\n",
       "      <td>Books</td>\n",
       "      <td>Subjects</td>\n",
       "      <td>Children's Books</td>\n",
       "      <td>Animals</td>\n",
       "      <td>Cats</td>\n",
       "      <td>1</td>\n",
       "      <td>...</td>\n",
       "      <td>100.0</td>\n",
       "      <td>100.0</td>\n",
       "      <td>Unknown</td>\n",
       "      <td>Purrmaids (6 Book Series)</td>\n",
       "      <td>4135600.0</td>\n",
       "      <td>EBOOK_BUNDLE</td>\n",
       "      <td>1.0</td>\n",
       "      <td>3094.0</td>\n",
       "      <td>English</td>\n",
       "      <td>Published</td>\n",
       "    </tr>\n",
       "    <tr>\n",
       "      <th>2</th>\n",
       "      <td>0</td>\n",
       "      <td>Alan Forbes</td>\n",
       "      <td>-1.0</td>\n",
       "      <td>digital_prints</td>\n",
       "      <td>Books</td>\n",
       "      <td>Subjects</td>\n",
       "      <td>Computers &amp; Technology</td>\n",
       "      <td>Programming</td>\n",
       "      <td>Software Design, Testing &amp; Engineering</td>\n",
       "      <td>1</td>\n",
       "      <td>...</td>\n",
       "      <td>100.0</td>\n",
       "      <td>100.0</td>\n",
       "      <td>Unknown</td>\n",
       "      <td>The Joy of PHP (2 Book Series)</td>\n",
       "      <td>4079996.0</td>\n",
       "      <td>EBOOK_BUNDLE</td>\n",
       "      <td>2.0</td>\n",
       "      <td>698.0</td>\n",
       "      <td>English</td>\n",
       "      <td>Published</td>\n",
       "    </tr>\n",
       "    <tr>\n",
       "      <th>3</th>\n",
       "      <td>0</td>\n",
       "      <td>Michelle Obama</td>\n",
       "      <td>0.0</td>\n",
       "      <td>hardcovers</td>\n",
       "      <td>Books</td>\n",
       "      <td>Subjects</td>\n",
       "      <td>Biographies &amp; Memoirs</td>\n",
       "      <td>Ethnic &amp; National</td>\n",
       "      <td>African-American &amp; Black</td>\n",
       "      <td>1</td>\n",
       "      <td>...</td>\n",
       "      <td>0.0</td>\n",
       "      <td>1.0</td>\n",
       "      <td>Crown Publishing Group</td>\n",
       "      <td>Becoming</td>\n",
       "      <td>3762476.0</td>\n",
       "      <td>ABIS_BOOK</td>\n",
       "      <td>3568.0</td>\n",
       "      <td>1788.0</td>\n",
       "      <td>English</td>\n",
       "      <td>Published</td>\n",
       "    </tr>\n",
       "    <tr>\n",
       "      <th>4</th>\n",
       "      <td>0</td>\n",
       "      <td>Delia Owens</td>\n",
       "      <td>0.0</td>\n",
       "      <td>hardcovers</td>\n",
       "      <td>Books</td>\n",
       "      <td>Subjects</td>\n",
       "      <td>Literature &amp; Fiction</td>\n",
       "      <td>Genre Fiction</td>\n",
       "      <td>Coming of Age</td>\n",
       "      <td>1</td>\n",
       "      <td>...</td>\n",
       "      <td>0.0</td>\n",
       "      <td>0.0</td>\n",
       "      <td>G.P. Putnam's Sons</td>\n",
       "      <td>Where the Crawdads Sing</td>\n",
       "      <td>3836972.0</td>\n",
       "      <td>ABIS_BOOK</td>\n",
       "      <td>32.0</td>\n",
       "      <td>1670.0</td>\n",
       "      <td>English</td>\n",
       "      <td>Published</td>\n",
       "    </tr>\n",
       "  </tbody>\n",
       "</table>\n",
       "<p>5 rows × 52 columns</p>\n",
       "</div>"
      ],
      "text/plain": [
       "   productType                   author  availabilityAmazon         binding  \\\n",
       "0            0          Glendy Vanderah                 0.0      hardcovers   \n",
       "1            0  Sudipta Bardhan-Quallen                -1.0  digital_prints   \n",
       "2            0              Alan Forbes                -1.0  digital_prints   \n",
       "3            0           Michelle Obama                 0.0      hardcovers   \n",
       "4            0              Delia Owens                 0.0      hardcovers   \n",
       "\n",
       "  categoryTree_0 categoryTree_1          categoryTree_2     categoryTree_3  \\\n",
       "0          Books       Subjects    Literature & Fiction      Genre Fiction   \n",
       "1          Books       Subjects        Children's Books            Animals   \n",
       "2          Books       Subjects  Computers & Technology        Programming   \n",
       "3          Books       Subjects   Biographies & Memoirs  Ethnic & National   \n",
       "4          Books       Subjects    Literature & Fiction      Genre Fiction   \n",
       "\n",
       "                           categoryTree_4  domainId  ...  \\\n",
       "0                             Family Life         1  ...   \n",
       "1                                    Cats         1  ...   \n",
       "2  Software Design, Testing & Engineering         1  ...   \n",
       "3                African-American & Black         1  ...   \n",
       "4                           Coming of Age         1  ...   \n",
       "\n",
       "   stats_outOfStockPercentage90  stats_outOfStockPercentageInInterval  \\\n",
       "0                           0.0                                   0.0   \n",
       "1                         100.0                                 100.0   \n",
       "2                         100.0                                 100.0   \n",
       "3                           0.0                                   1.0   \n",
       "4                           0.0                                   0.0   \n",
       "\n",
       "                   studio                             title  trackingSince  \\\n",
       "0   Lake Union Publishing  Where the Forest Meets the Stars      4103352.0   \n",
       "1                 Unknown         Purrmaids (6 Book Series)      4135600.0   \n",
       "2                 Unknown    The Joy of PHP (2 Book Series)      4079996.0   \n",
       "3  Crown Publishing Group                          Becoming      3762476.0   \n",
       "4      G.P. Putnam's Sons           Where the Crawdads Sing      3836972.0   \n",
       "\n",
       "           type  sales_rank   price  language_1  language_2  \n",
       "0     ABIS_BOOK      1945.0  1599.0     English   Published  \n",
       "1  EBOOK_BUNDLE         1.0  3094.0     English   Published  \n",
       "2  EBOOK_BUNDLE         2.0   698.0     English   Published  \n",
       "3     ABIS_BOOK      3568.0  1788.0     English   Published  \n",
       "4     ABIS_BOOK        32.0  1670.0     English   Published  \n",
       "\n",
       "[5 rows x 52 columns]"
      ]
     },
     "execution_count": 59,
     "metadata": {},
     "output_type": "execute_result"
    }
   ],
   "source": [
    "df.head()"
   ]
  },
  {
   "cell_type": "code",
   "execution_count": 60,
   "metadata": {},
   "outputs": [],
   "source": [
    "#catTree_under10.categoryTree_2.values= 'Other'\n",
    "def groupUnder10(x):\n",
    "    cond = df[x].value_counts()\n",
    "    threshold = 10\n",
    "    df[x] = np.where(df[x].isin(cond.index[cond > threshold ]), df[x], 'Others')\n",
    "    return('All the different categories that contain less than 10 items in the %s column are renamed to Others \\n inorder to avoid curse of dimensionality' %x)"
   ]
  },
  {
   "cell_type": "code",
   "execution_count": 61,
   "metadata": {},
   "outputs": [
    {
     "data": {
      "text/plain": [
       "categoryTree_1      16\n",
       "categoryTree_2      47\n",
       "categoryTree_3     370\n",
       "categoryTree_4    1618\n",
       "dtype: int64"
      ]
     },
     "execution_count": 61,
     "metadata": {},
     "output_type": "execute_result"
    }
   ],
   "source": [
    "df[['categoryTree_1','categoryTree_2','categoryTree_3','categoryTree_4']].nunique()"
   ]
  },
  {
   "cell_type": "code",
   "execution_count": 62,
   "metadata": {},
   "outputs": [
    {
     "data": {
      "text/plain": [
       "'All the different categories that contain less than 10 items in the categoryTree_2 column are renamed to Others \\n inorder to avoid curse of dimensionality'"
      ]
     },
     "execution_count": 62,
     "metadata": {},
     "output_type": "execute_result"
    }
   ],
   "source": [
    "groupUnder10('categoryTree_2')"
   ]
  },
  {
   "cell_type": "code",
   "execution_count": 63,
   "metadata": {},
   "outputs": [
    {
     "data": {
      "text/plain": [
       "'All the different categories that contain less than 10 items in the categoryTree_3 column are renamed to Others \\n inorder to avoid curse of dimensionality'"
      ]
     },
     "execution_count": 63,
     "metadata": {},
     "output_type": "execute_result"
    }
   ],
   "source": [
    "#group under 10 counts in to one for categoryTree_3 column\n",
    "groupUnder10('categoryTree_3')"
   ]
  },
  {
   "cell_type": "code",
   "execution_count": 64,
   "metadata": {},
   "outputs": [
    {
     "data": {
      "text/plain": [
       "'All the different categories that contain less than 10 items in the categoryTree_4 column are renamed to Others \\n inorder to avoid curse of dimensionality'"
      ]
     },
     "execution_count": 64,
     "metadata": {},
     "output_type": "execute_result"
    }
   ],
   "source": [
    "groupUnder10('categoryTree_4')"
   ]
  },
  {
   "cell_type": "code",
   "execution_count": 65,
   "metadata": {},
   "outputs": [
    {
     "data": {
      "text/plain": [
       "categoryTree_0     12\n",
       "categoryTree_1     16\n",
       "categoryTree_2     34\n",
       "categoryTree_3    272\n",
       "categoryTree_4    680\n",
       "dtype: int64"
      ]
     },
     "execution_count": 65,
     "metadata": {},
     "output_type": "execute_result"
    }
   ],
   "source": [
    "df[['categoryTree_0','categoryTree_1','categoryTree_2','categoryTree_3','categoryTree_4']].nunique()"
   ]
  },
  {
   "cell_type": "code",
   "execution_count": 66,
   "metadata": {},
   "outputs": [],
   "source": [
    "## Some features are duplicated within the dataset, lets delete those duplicated columns"
   ]
  },
  {
   "cell_type": "code",
   "execution_count": 67,
   "metadata": {},
   "outputs": [],
   "source": [
    "## Delete duplicated features\n",
    "\n",
    "duplicates=df[['label', 'manufacturer', 'publisher', 'studio']]\n"
   ]
  },
  {
   "cell_type": "code",
   "execution_count": 68,
   "metadata": {},
   "outputs": [
    {
     "data": {
      "text/plain": [
       "True"
      ]
     },
     "execution_count": 68,
     "metadata": {},
     "output_type": "execute_result"
    }
   ],
   "source": [
    "df['label'].equals(df['manufacturer'])"
   ]
  },
  {
   "cell_type": "code",
   "execution_count": 69,
   "metadata": {},
   "outputs": [
    {
     "data": {
      "text/plain": [
       "True"
      ]
     },
     "execution_count": 69,
     "metadata": {},
     "output_type": "execute_result"
    }
   ],
   "source": [
    "df['label'].equals(duplicates['publisher'])"
   ]
  },
  {
   "cell_type": "code",
   "execution_count": 70,
   "metadata": {},
   "outputs": [
    {
     "data": {
      "text/plain": [
       "True"
      ]
     },
     "execution_count": 70,
     "metadata": {},
     "output_type": "execute_result"
    }
   ],
   "source": [
    "df['label'].equals(duplicates['studio'])"
   ]
  },
  {
   "cell_type": "code",
   "execution_count": 71,
   "metadata": {},
   "outputs": [],
   "source": [
    "#df[df.duplicated(['label', 'manufacturer', 'publisher', 'studio'])]"
   ]
  },
  {
   "cell_type": "code",
   "execution_count": 72,
   "metadata": {},
   "outputs": [
    {
     "data": {
      "text/html": [
       "<div>\n",
       "<style scoped>\n",
       "    .dataframe tbody tr th:only-of-type {\n",
       "        vertical-align: middle;\n",
       "    }\n",
       "\n",
       "    .dataframe tbody tr th {\n",
       "        vertical-align: top;\n",
       "    }\n",
       "\n",
       "    .dataframe thead th {\n",
       "        text-align: right;\n",
       "    }\n",
       "</style>\n",
       "<table border=\"1\" class=\"dataframe\">\n",
       "  <thead>\n",
       "    <tr style=\"text-align: right;\">\n",
       "      <th></th>\n",
       "      <th>label</th>\n",
       "      <th>manufacturer</th>\n",
       "      <th>publisher</th>\n",
       "      <th>studio</th>\n",
       "    </tr>\n",
       "  </thead>\n",
       "  <tbody>\n",
       "    <tr>\n",
       "      <th>count</th>\n",
       "      <td>99600</td>\n",
       "      <td>99600</td>\n",
       "      <td>99600</td>\n",
       "      <td>99600</td>\n",
       "    </tr>\n",
       "    <tr>\n",
       "      <th>unique</th>\n",
       "      <td>10107</td>\n",
       "      <td>10107</td>\n",
       "      <td>10107</td>\n",
       "      <td>10107</td>\n",
       "    </tr>\n",
       "    <tr>\n",
       "      <th>top</th>\n",
       "      <td>Audible Studios</td>\n",
       "      <td>Audible Studios</td>\n",
       "      <td>Audible Studios</td>\n",
       "      <td>Audible Studios</td>\n",
       "    </tr>\n",
       "    <tr>\n",
       "      <th>freq</th>\n",
       "      <td>4267</td>\n",
       "      <td>4267</td>\n",
       "      <td>4267</td>\n",
       "      <td>4267</td>\n",
       "    </tr>\n",
       "  </tbody>\n",
       "</table>\n",
       "</div>"
      ],
      "text/plain": [
       "                  label     manufacturer        publisher           studio\n",
       "count             99600            99600            99600            99600\n",
       "unique            10107            10107            10107            10107\n",
       "top     Audible Studios  Audible Studios  Audible Studios  Audible Studios\n",
       "freq               4267             4267             4267             4267"
      ]
     },
     "execution_count": 72,
     "metadata": {},
     "output_type": "execute_result"
    }
   ],
   "source": [
    "duplicates.describe(include='all')"
   ]
  },
  {
   "cell_type": "code",
   "execution_count": 73,
   "metadata": {},
   "outputs": [
    {
     "data": {
      "text/plain": [
       "True     89493\n",
       "False    10107\n",
       "dtype: int64"
      ]
     },
     "execution_count": 73,
     "metadata": {},
     "output_type": "execute_result"
    }
   ],
   "source": [
    "df.duplicated(subset=['label', 'manufacturer', 'publisher', 'studio'],keep='first').value_counts()"
   ]
  },
  {
   "cell_type": "markdown",
   "metadata": {},
   "source": [
    "Since the above 4 columns contain duplicated informartion in 89493 out of 99600 total records we can keep one of those and drop the reamining ones without losing useful information."
   ]
  },
  {
   "cell_type": "code",
   "execution_count": 74,
   "metadata": {},
   "outputs": [],
   "source": [
    "# Keep publisher and drop the rest\n",
    "df.drop(['label', 'manufacturer','studio'], axis =1, inplace=True)"
   ]
  },
  {
   "cell_type": "code",
   "execution_count": 75,
   "metadata": {},
   "outputs": [
    {
     "data": {
      "text/plain": [
       "(99600, 49)"
      ]
     },
     "execution_count": 75,
     "metadata": {},
     "output_type": "execute_result"
    }
   ],
   "source": [
    "df.shape"
   ]
  },
  {
   "cell_type": "code",
   "execution_count": 76,
   "metadata": {},
   "outputs": [
    {
     "data": {
      "text/html": [
       "<div>\n",
       "<style scoped>\n",
       "    .dataframe tbody tr th:only-of-type {\n",
       "        vertical-align: middle;\n",
       "    }\n",
       "\n",
       "    .dataframe tbody tr th {\n",
       "        vertical-align: top;\n",
       "    }\n",
       "\n",
       "    .dataframe thead th {\n",
       "        text-align: right;\n",
       "    }\n",
       "</style>\n",
       "<table border=\"1\" class=\"dataframe\">\n",
       "  <thead>\n",
       "    <tr style=\"text-align: right;\">\n",
       "      <th></th>\n",
       "      <th>count</th>\n",
       "      <th>unique</th>\n",
       "      <th>top</th>\n",
       "      <th>freq</th>\n",
       "      <th>mean</th>\n",
       "      <th>std</th>\n",
       "      <th>min</th>\n",
       "      <th>25%</th>\n",
       "      <th>50%</th>\n",
       "      <th>75%</th>\n",
       "      <th>max</th>\n",
       "    </tr>\n",
       "  </thead>\n",
       "  <tbody>\n",
       "    <tr>\n",
       "      <th>productType</th>\n",
       "      <td>99600</td>\n",
       "      <td>NaN</td>\n",
       "      <td>NaN</td>\n",
       "      <td>NaN</td>\n",
       "      <td>0.451878</td>\n",
       "      <td>0.508459</td>\n",
       "      <td>0</td>\n",
       "      <td>0</td>\n",
       "      <td>0</td>\n",
       "      <td>1</td>\n",
       "      <td>4</td>\n",
       "    </tr>\n",
       "    <tr>\n",
       "      <th>author</th>\n",
       "      <td>99600</td>\n",
       "      <td>37563</td>\n",
       "      <td>Unknown</td>\n",
       "      <td>2060</td>\n",
       "      <td>NaN</td>\n",
       "      <td>NaN</td>\n",
       "      <td>NaN</td>\n",
       "      <td>NaN</td>\n",
       "      <td>NaN</td>\n",
       "      <td>NaN</td>\n",
       "      <td>NaN</td>\n",
       "    </tr>\n",
       "    <tr>\n",
       "      <th>availabilityAmazon</th>\n",
       "      <td>99600</td>\n",
       "      <td>NaN</td>\n",
       "      <td>NaN</td>\n",
       "      <td>NaN</td>\n",
       "      <td>-0.00527108</td>\n",
       "      <td>0.231033</td>\n",
       "      <td>-1</td>\n",
       "      <td>0</td>\n",
       "      <td>0</td>\n",
       "      <td>0</td>\n",
       "      <td>2</td>\n",
       "    </tr>\n",
       "    <tr>\n",
       "      <th>binding</th>\n",
       "      <td>99600</td>\n",
       "      <td>12</td>\n",
       "      <td>audios</td>\n",
       "      <td>44757</td>\n",
       "      <td>NaN</td>\n",
       "      <td>NaN</td>\n",
       "      <td>NaN</td>\n",
       "      <td>NaN</td>\n",
       "      <td>NaN</td>\n",
       "      <td>NaN</td>\n",
       "      <td>NaN</td>\n",
       "    </tr>\n",
       "    <tr>\n",
       "      <th>categoryTree_0</th>\n",
       "      <td>99600</td>\n",
       "      <td>12</td>\n",
       "      <td>Books</td>\n",
       "      <td>99582</td>\n",
       "      <td>NaN</td>\n",
       "      <td>NaN</td>\n",
       "      <td>NaN</td>\n",
       "      <td>NaN</td>\n",
       "      <td>NaN</td>\n",
       "      <td>NaN</td>\n",
       "      <td>NaN</td>\n",
       "    </tr>\n",
       "    <tr>\n",
       "      <th>categoryTree_1</th>\n",
       "      <td>99600</td>\n",
       "      <td>16</td>\n",
       "      <td>Subjects</td>\n",
       "      <td>99582</td>\n",
       "      <td>NaN</td>\n",
       "      <td>NaN</td>\n",
       "      <td>NaN</td>\n",
       "      <td>NaN</td>\n",
       "      <td>NaN</td>\n",
       "      <td>NaN</td>\n",
       "      <td>NaN</td>\n",
       "    </tr>\n",
       "    <tr>\n",
       "      <th>categoryTree_2</th>\n",
       "      <td>99600</td>\n",
       "      <td>34</td>\n",
       "      <td>Literature &amp; Fiction</td>\n",
       "      <td>17441</td>\n",
       "      <td>NaN</td>\n",
       "      <td>NaN</td>\n",
       "      <td>NaN</td>\n",
       "      <td>NaN</td>\n",
       "      <td>NaN</td>\n",
       "      <td>NaN</td>\n",
       "      <td>NaN</td>\n",
       "    </tr>\n",
       "    <tr>\n",
       "      <th>categoryTree_3</th>\n",
       "      <td>99600</td>\n",
       "      <td>272</td>\n",
       "      <td>Genre Fiction</td>\n",
       "      <td>8216</td>\n",
       "      <td>NaN</td>\n",
       "      <td>NaN</td>\n",
       "      <td>NaN</td>\n",
       "      <td>NaN</td>\n",
       "      <td>NaN</td>\n",
       "      <td>NaN</td>\n",
       "      <td>NaN</td>\n",
       "    </tr>\n",
       "    <tr>\n",
       "      <th>categoryTree_4</th>\n",
       "      <td>99600</td>\n",
       "      <td>680</td>\n",
       "      <td>Unknown</td>\n",
       "      <td>34740</td>\n",
       "      <td>NaN</td>\n",
       "      <td>NaN</td>\n",
       "      <td>NaN</td>\n",
       "      <td>NaN</td>\n",
       "      <td>NaN</td>\n",
       "      <td>NaN</td>\n",
       "      <td>NaN</td>\n",
       "    </tr>\n",
       "    <tr>\n",
       "      <th>domainId</th>\n",
       "      <td>99600</td>\n",
       "      <td>NaN</td>\n",
       "      <td>NaN</td>\n",
       "      <td>NaN</td>\n",
       "      <td>1</td>\n",
       "      <td>0</td>\n",
       "      <td>1</td>\n",
       "      <td>1</td>\n",
       "      <td>1</td>\n",
       "      <td>1</td>\n",
       "      <td>1</td>\n",
       "    </tr>\n",
       "    <tr>\n",
       "      <th>hasReviews</th>\n",
       "      <td>99600</td>\n",
       "      <td>NaN</td>\n",
       "      <td>NaN</td>\n",
       "      <td>NaN</td>\n",
       "      <td>0.971305</td>\n",
       "      <td>0.166948</td>\n",
       "      <td>0</td>\n",
       "      <td>1</td>\n",
       "      <td>1</td>\n",
       "      <td>1</td>\n",
       "      <td>1</td>\n",
       "    </tr>\n",
       "    <tr>\n",
       "      <th>isEligibleForSuperSaverShipping</th>\n",
       "      <td>99600</td>\n",
       "      <td>NaN</td>\n",
       "      <td>NaN</td>\n",
       "      <td>NaN</td>\n",
       "      <td>0.525241</td>\n",
       "      <td>0.499365</td>\n",
       "      <td>0</td>\n",
       "      <td>0</td>\n",
       "      <td>1</td>\n",
       "      <td>1</td>\n",
       "      <td>1</td>\n",
       "    </tr>\n",
       "    <tr>\n",
       "      <th>isEligibleForTradeIn</th>\n",
       "      <td>99600</td>\n",
       "      <td>NaN</td>\n",
       "      <td>NaN</td>\n",
       "      <td>NaN</td>\n",
       "      <td>0.0831627</td>\n",
       "      <td>0.276129</td>\n",
       "      <td>0</td>\n",
       "      <td>0</td>\n",
       "      <td>0</td>\n",
       "      <td>0</td>\n",
       "      <td>1</td>\n",
       "    </tr>\n",
       "    <tr>\n",
       "      <th>isRedirectASIN</th>\n",
       "      <td>99600</td>\n",
       "      <td>NaN</td>\n",
       "      <td>NaN</td>\n",
       "      <td>NaN</td>\n",
       "      <td>0</td>\n",
       "      <td>0</td>\n",
       "      <td>0</td>\n",
       "      <td>0</td>\n",
       "      <td>0</td>\n",
       "      <td>0</td>\n",
       "      <td>0</td>\n",
       "    </tr>\n",
       "    <tr>\n",
       "      <th>isSNS</th>\n",
       "      <td>99600</td>\n",
       "      <td>NaN</td>\n",
       "      <td>NaN</td>\n",
       "      <td>NaN</td>\n",
       "      <td>1.00402e-05</td>\n",
       "      <td>0.00316862</td>\n",
       "      <td>0</td>\n",
       "      <td>0</td>\n",
       "      <td>0</td>\n",
       "      <td>0</td>\n",
       "      <td>1</td>\n",
       "    </tr>\n",
       "    <tr>\n",
       "      <th>lastPriceChange</th>\n",
       "      <td>99600</td>\n",
       "      <td>NaN</td>\n",
       "      <td>NaN</td>\n",
       "      <td>NaN</td>\n",
       "      <td>4.16463e+06</td>\n",
       "      <td>359964</td>\n",
       "      <td>0</td>\n",
       "      <td>4.19283e+06</td>\n",
       "      <td>4.2936e+06</td>\n",
       "      <td>4.30585e+06</td>\n",
       "      <td>4.30837e+06</td>\n",
       "    </tr>\n",
       "    <tr>\n",
       "      <th>lastRatingUpdate</th>\n",
       "      <td>99600</td>\n",
       "      <td>NaN</td>\n",
       "      <td>NaN</td>\n",
       "      <td>NaN</td>\n",
       "      <td>3.94477e+06</td>\n",
       "      <td>1.10148e+06</td>\n",
       "      <td>-1</td>\n",
       "      <td>4.20765e+06</td>\n",
       "      <td>4.29216e+06</td>\n",
       "      <td>4.30414e+06</td>\n",
       "      <td>4.30836e+06</td>\n",
       "    </tr>\n",
       "    <tr>\n",
       "      <th>lastUpdate</th>\n",
       "      <td>99600</td>\n",
       "      <td>NaN</td>\n",
       "      <td>NaN</td>\n",
       "      <td>NaN</td>\n",
       "      <td>4.30653e+06</td>\n",
       "      <td>1773.25</td>\n",
       "      <td>4.28382e+06</td>\n",
       "      <td>4.30612e+06</td>\n",
       "      <td>4.30665e+06</td>\n",
       "      <td>4.30742e+06</td>\n",
       "      <td>4.30838e+06</td>\n",
       "    </tr>\n",
       "    <tr>\n",
       "      <th>listedSince</th>\n",
       "      <td>99600</td>\n",
       "      <td>NaN</td>\n",
       "      <td>NaN</td>\n",
       "      <td>NaN</td>\n",
       "      <td>5272.63</td>\n",
       "      <td>138444</td>\n",
       "      <td>-2.92752e+06</td>\n",
       "      <td>-1</td>\n",
       "      <td>0</td>\n",
       "      <td>0</td>\n",
       "      <td>4.23504e+06</td>\n",
       "    </tr>\n",
       "    <tr>\n",
       "      <th>newPriceIsMAP</th>\n",
       "      <td>99600</td>\n",
       "      <td>NaN</td>\n",
       "      <td>NaN</td>\n",
       "      <td>NaN</td>\n",
       "      <td>0.000451807</td>\n",
       "      <td>0.0212511</td>\n",
       "      <td>0</td>\n",
       "      <td>0</td>\n",
       "      <td>0</td>\n",
       "      <td>0</td>\n",
       "      <td>1</td>\n",
       "    </tr>\n",
       "    <tr>\n",
       "      <th>numberOfItems</th>\n",
       "      <td>99600</td>\n",
       "      <td>NaN</td>\n",
       "      <td>NaN</td>\n",
       "      <td>NaN</td>\n",
       "      <td>0.12255</td>\n",
       "      <td>16.3078</td>\n",
       "      <td>-1</td>\n",
       "      <td>-1</td>\n",
       "      <td>-1</td>\n",
       "      <td>1</td>\n",
       "      <td>5000</td>\n",
       "    </tr>\n",
       "    <tr>\n",
       "      <th>numberOfPages</th>\n",
       "      <td>99600</td>\n",
       "      <td>NaN</td>\n",
       "      <td>NaN</td>\n",
       "      <td>NaN</td>\n",
       "      <td>161.027</td>\n",
       "      <td>289.258</td>\n",
       "      <td>-1</td>\n",
       "      <td>-1</td>\n",
       "      <td>32</td>\n",
       "      <td>256</td>\n",
       "      <td>9998</td>\n",
       "    </tr>\n",
       "    <tr>\n",
       "      <th>offersSuccessful</th>\n",
       "      <td>99600</td>\n",
       "      <td>NaN</td>\n",
       "      <td>NaN</td>\n",
       "      <td>NaN</td>\n",
       "      <td>0</td>\n",
       "      <td>0</td>\n",
       "      <td>0</td>\n",
       "      <td>0</td>\n",
       "      <td>0</td>\n",
       "      <td>0</td>\n",
       "      <td>0</td>\n",
       "    </tr>\n",
       "    <tr>\n",
       "      <th>packageHeight</th>\n",
       "      <td>99600</td>\n",
       "      <td>NaN</td>\n",
       "      <td>NaN</td>\n",
       "      <td>NaN</td>\n",
       "      <td>11.9898</td>\n",
       "      <td>16.5128</td>\n",
       "      <td>-1</td>\n",
       "      <td>-1</td>\n",
       "      <td>8</td>\n",
       "      <td>22</td>\n",
       "      <td>287</td>\n",
       "    </tr>\n",
       "    <tr>\n",
       "      <th>packageLength</th>\n",
       "      <td>99600</td>\n",
       "      <td>NaN</td>\n",
       "      <td>NaN</td>\n",
       "      <td>NaN</td>\n",
       "      <td>124.36</td>\n",
       "      <td>116.967</td>\n",
       "      <td>-1</td>\n",
       "      <td>-1</td>\n",
       "      <td>183</td>\n",
       "      <td>228</td>\n",
       "      <td>1143</td>\n",
       "    </tr>\n",
       "    <tr>\n",
       "      <th>packageQuantity</th>\n",
       "      <td>99600</td>\n",
       "      <td>NaN</td>\n",
       "      <td>NaN</td>\n",
       "      <td>NaN</td>\n",
       "      <td>-0.157199</td>\n",
       "      <td>4.82493</td>\n",
       "      <td>-1</td>\n",
       "      <td>-1</td>\n",
       "      <td>-1</td>\n",
       "      <td>1</td>\n",
       "      <td>1067</td>\n",
       "    </tr>\n",
       "    <tr>\n",
       "      <th>packageWeight</th>\n",
       "      <td>99600</td>\n",
       "      <td>NaN</td>\n",
       "      <td>NaN</td>\n",
       "      <td>NaN</td>\n",
       "      <td>278.982</td>\n",
       "      <td>455.452</td>\n",
       "      <td>-1</td>\n",
       "      <td>-1</td>\n",
       "      <td>113</td>\n",
       "      <td>386</td>\n",
       "      <td>10795</td>\n",
       "    </tr>\n",
       "    <tr>\n",
       "      <th>packageWidth</th>\n",
       "      <td>99600</td>\n",
       "      <td>NaN</td>\n",
       "      <td>NaN</td>\n",
       "      <td>NaN</td>\n",
       "      <td>90.7866</td>\n",
       "      <td>88.0171</td>\n",
       "      <td>-1</td>\n",
       "      <td>-1</td>\n",
       "      <td>127</td>\n",
       "      <td>157</td>\n",
       "      <td>483</td>\n",
       "    </tr>\n",
       "    <tr>\n",
       "      <th>productGroup</th>\n",
       "      <td>99600</td>\n",
       "      <td>33</td>\n",
       "      <td>Book</td>\n",
       "      <td>54619</td>\n",
       "      <td>NaN</td>\n",
       "      <td>NaN</td>\n",
       "      <td>NaN</td>\n",
       "      <td>NaN</td>\n",
       "      <td>NaN</td>\n",
       "      <td>NaN</td>\n",
       "      <td>NaN</td>\n",
       "    </tr>\n",
       "    <tr>\n",
       "      <th>publicationDate</th>\n",
       "      <td>99600</td>\n",
       "      <td>NaN</td>\n",
       "      <td>NaN</td>\n",
       "      <td>NaN</td>\n",
       "      <td>1.97803e+07</td>\n",
       "      <td>2.64172e+06</td>\n",
       "      <td>-1</td>\n",
       "      <td>2.01106e+07</td>\n",
       "      <td>2.01511e+07</td>\n",
       "      <td>2.01801e+07</td>\n",
       "      <td>2.20001e+07</td>\n",
       "    </tr>\n",
       "    <tr>\n",
       "      <th>publisher</th>\n",
       "      <td>99600</td>\n",
       "      <td>10107</td>\n",
       "      <td>Audible Studios</td>\n",
       "      <td>4267</td>\n",
       "      <td>NaN</td>\n",
       "      <td>NaN</td>\n",
       "      <td>NaN</td>\n",
       "      <td>NaN</td>\n",
       "      <td>NaN</td>\n",
       "      <td>NaN</td>\n",
       "      <td>NaN</td>\n",
       "    </tr>\n",
       "    <tr>\n",
       "      <th>releaseDate</th>\n",
       "      <td>99600</td>\n",
       "      <td>NaN</td>\n",
       "      <td>NaN</td>\n",
       "      <td>NaN</td>\n",
       "      <td>1.07679e+07</td>\n",
       "      <td>1.00449e+07</td>\n",
       "      <td>-1</td>\n",
       "      <td>-1</td>\n",
       "      <td>2.00201e+07</td>\n",
       "      <td>2.01701e+07</td>\n",
       "      <td>2.02008e+07</td>\n",
       "    </tr>\n",
       "    <tr>\n",
       "      <th>rootCategory</th>\n",
       "      <td>99600</td>\n",
       "      <td>NaN</td>\n",
       "      <td>NaN</td>\n",
       "      <td>NaN</td>\n",
       "      <td>1.85208e+14</td>\n",
       "      <td>4.13307e+16</td>\n",
       "      <td>283155</td>\n",
       "      <td>283155</td>\n",
       "      <td>283155</td>\n",
       "      <td>283155</td>\n",
       "      <td>9.22337e+18</td>\n",
       "    </tr>\n",
       "    <tr>\n",
       "      <th>stats_atIntervalStart</th>\n",
       "      <td>99600</td>\n",
       "      <td>NaN</td>\n",
       "      <td>NaN</td>\n",
       "      <td>NaN</td>\n",
       "      <td>1719.08</td>\n",
       "      <td>2196.38</td>\n",
       "      <td>-1</td>\n",
       "      <td>799</td>\n",
       "      <td>1476</td>\n",
       "      <td>2095</td>\n",
       "      <td>49900</td>\n",
       "    </tr>\n",
       "    <tr>\n",
       "      <th>stats_avg</th>\n",
       "      <td>99600</td>\n",
       "      <td>NaN</td>\n",
       "      <td>NaN</td>\n",
       "      <td>NaN</td>\n",
       "      <td>1932.09</td>\n",
       "      <td>2424.86</td>\n",
       "      <td>-1</td>\n",
       "      <td>1057</td>\n",
       "      <td>1521</td>\n",
       "      <td>2153</td>\n",
       "      <td>99998</td>\n",
       "    </tr>\n",
       "    <tr>\n",
       "      <th>stats_avg30</th>\n",
       "      <td>99600</td>\n",
       "      <td>NaN</td>\n",
       "      <td>NaN</td>\n",
       "      <td>NaN</td>\n",
       "      <td>1875.34</td>\n",
       "      <td>2232.52</td>\n",
       "      <td>-1</td>\n",
       "      <td>1006.75</td>\n",
       "      <td>1499</td>\n",
       "      <td>2099</td>\n",
       "      <td>99999</td>\n",
       "    </tr>\n",
       "    <tr>\n",
       "      <th>stats_avg90</th>\n",
       "      <td>99600</td>\n",
       "      <td>NaN</td>\n",
       "      <td>NaN</td>\n",
       "      <td>NaN</td>\n",
       "      <td>1911.44</td>\n",
       "      <td>2348.09</td>\n",
       "      <td>-1</td>\n",
       "      <td>1034</td>\n",
       "      <td>1505</td>\n",
       "      <td>2133.25</td>\n",
       "      <td>99999</td>\n",
       "    </tr>\n",
       "    <tr>\n",
       "      <th>stats_avg180</th>\n",
       "      <td>99600</td>\n",
       "      <td>NaN</td>\n",
       "      <td>NaN</td>\n",
       "      <td>NaN</td>\n",
       "      <td>1931.17</td>\n",
       "      <td>2404.5</td>\n",
       "      <td>-1</td>\n",
       "      <td>1058</td>\n",
       "      <td>1521</td>\n",
       "      <td>2153</td>\n",
       "      <td>99999</td>\n",
       "    </tr>\n",
       "    <tr>\n",
       "      <th>stats_current</th>\n",
       "      <td>99600</td>\n",
       "      <td>NaN</td>\n",
       "      <td>NaN</td>\n",
       "      <td>NaN</td>\n",
       "      <td>1850.58</td>\n",
       "      <td>2203.97</td>\n",
       "      <td>-1</td>\n",
       "      <td>999</td>\n",
       "      <td>1496</td>\n",
       "      <td>2099</td>\n",
       "      <td>99999</td>\n",
       "    </tr>\n",
       "    <tr>\n",
       "      <th>stats_outOfStockPercentage30</th>\n",
       "      <td>99600</td>\n",
       "      <td>NaN</td>\n",
       "      <td>NaN</td>\n",
       "      <td>NaN</td>\n",
       "      <td>2.55269</td>\n",
       "      <td>15.1155</td>\n",
       "      <td>-1</td>\n",
       "      <td>0</td>\n",
       "      <td>0</td>\n",
       "      <td>0</td>\n",
       "      <td>100</td>\n",
       "    </tr>\n",
       "    <tr>\n",
       "      <th>stats_outOfStockPercentage90</th>\n",
       "      <td>99600</td>\n",
       "      <td>NaN</td>\n",
       "      <td>NaN</td>\n",
       "      <td>NaN</td>\n",
       "      <td>2.63436</td>\n",
       "      <td>14.5735</td>\n",
       "      <td>-1</td>\n",
       "      <td>0</td>\n",
       "      <td>0</td>\n",
       "      <td>0</td>\n",
       "      <td>100</td>\n",
       "    </tr>\n",
       "    <tr>\n",
       "      <th>stats_outOfStockPercentageInInterval</th>\n",
       "      <td>99600</td>\n",
       "      <td>NaN</td>\n",
       "      <td>NaN</td>\n",
       "      <td>NaN</td>\n",
       "      <td>2.55913</td>\n",
       "      <td>14.1813</td>\n",
       "      <td>-1</td>\n",
       "      <td>0</td>\n",
       "      <td>0</td>\n",
       "      <td>0</td>\n",
       "      <td>100</td>\n",
       "    </tr>\n",
       "    <tr>\n",
       "      <th>title</th>\n",
       "      <td>99600</td>\n",
       "      <td>89646</td>\n",
       "      <td>Think and Grow Rich</td>\n",
       "      <td>15</td>\n",
       "      <td>NaN</td>\n",
       "      <td>NaN</td>\n",
       "      <td>NaN</td>\n",
       "      <td>NaN</td>\n",
       "      <td>NaN</td>\n",
       "      <td>NaN</td>\n",
       "      <td>NaN</td>\n",
       "    </tr>\n",
       "    <tr>\n",
       "      <th>trackingSince</th>\n",
       "      <td>99600</td>\n",
       "      <td>NaN</td>\n",
       "      <td>NaN</td>\n",
       "      <td>NaN</td>\n",
       "      <td>2.93417e+06</td>\n",
       "      <td>1.34744e+06</td>\n",
       "      <td>119040</td>\n",
       "      <td>2.27530e+06</td>\n",
       "      <td>3.77979e+06</td>\n",
       "      <td>3.79885e+06</td>\n",
       "      <td>4.28764e+06</td>\n",
       "    </tr>\n",
       "    <tr>\n",
       "      <th>type</th>\n",
       "      <td>99600</td>\n",
       "      <td>45</td>\n",
       "      <td>ABIS_BOOK</td>\n",
       "      <td>54138</td>\n",
       "      <td>NaN</td>\n",
       "      <td>NaN</td>\n",
       "      <td>NaN</td>\n",
       "      <td>NaN</td>\n",
       "      <td>NaN</td>\n",
       "      <td>NaN</td>\n",
       "      <td>NaN</td>\n",
       "    </tr>\n",
       "    <tr>\n",
       "      <th>sales_rank</th>\n",
       "      <td>99600</td>\n",
       "      <td>NaN</td>\n",
       "      <td>NaN</td>\n",
       "      <td>NaN</td>\n",
       "      <td>66907.5</td>\n",
       "      <td>300574</td>\n",
       "      <td>-1</td>\n",
       "      <td>11343.8</td>\n",
       "      <td>26444</td>\n",
       "      <td>54179.5</td>\n",
       "      <td>2.0883e+07</td>\n",
       "    </tr>\n",
       "    <tr>\n",
       "      <th>price</th>\n",
       "      <td>99600</td>\n",
       "      <td>NaN</td>\n",
       "      <td>NaN</td>\n",
       "      <td>NaN</td>\n",
       "      <td>1981.62</td>\n",
       "      <td>3067.89</td>\n",
       "      <td>1</td>\n",
       "      <td>1045</td>\n",
       "      <td>1524</td>\n",
       "      <td>2195</td>\n",
       "      <td>500000</td>\n",
       "    </tr>\n",
       "    <tr>\n",
       "      <th>language_1</th>\n",
       "      <td>99600</td>\n",
       "      <td>12</td>\n",
       "      <td>English</td>\n",
       "      <td>98700</td>\n",
       "      <td>NaN</td>\n",
       "      <td>NaN</td>\n",
       "      <td>NaN</td>\n",
       "      <td>NaN</td>\n",
       "      <td>NaN</td>\n",
       "      <td>NaN</td>\n",
       "      <td>NaN</td>\n",
       "    </tr>\n",
       "    <tr>\n",
       "      <th>language_2</th>\n",
       "      <td>99567</td>\n",
       "      <td>6</td>\n",
       "      <td>Published</td>\n",
       "      <td>96919</td>\n",
       "      <td>NaN</td>\n",
       "      <td>NaN</td>\n",
       "      <td>NaN</td>\n",
       "      <td>NaN</td>\n",
       "      <td>NaN</td>\n",
       "      <td>NaN</td>\n",
       "      <td>NaN</td>\n",
       "    </tr>\n",
       "  </tbody>\n",
       "</table>\n",
       "</div>"
      ],
      "text/plain": [
       "                                      count unique                   top  \\\n",
       "productType                           99600    NaN                   NaN   \n",
       "author                                99600  37563               Unknown   \n",
       "availabilityAmazon                    99600    NaN                   NaN   \n",
       "binding                               99600     12                audios   \n",
       "categoryTree_0                        99600     12                 Books   \n",
       "categoryTree_1                        99600     16              Subjects   \n",
       "categoryTree_2                        99600     34  Literature & Fiction   \n",
       "categoryTree_3                        99600    272         Genre Fiction   \n",
       "categoryTree_4                        99600    680               Unknown   \n",
       "domainId                              99600    NaN                   NaN   \n",
       "hasReviews                            99600    NaN                   NaN   \n",
       "isEligibleForSuperSaverShipping       99600    NaN                   NaN   \n",
       "isEligibleForTradeIn                  99600    NaN                   NaN   \n",
       "isRedirectASIN                        99600    NaN                   NaN   \n",
       "isSNS                                 99600    NaN                   NaN   \n",
       "lastPriceChange                       99600    NaN                   NaN   \n",
       "lastRatingUpdate                      99600    NaN                   NaN   \n",
       "lastUpdate                            99600    NaN                   NaN   \n",
       "listedSince                           99600    NaN                   NaN   \n",
       "newPriceIsMAP                         99600    NaN                   NaN   \n",
       "numberOfItems                         99600    NaN                   NaN   \n",
       "numberOfPages                         99600    NaN                   NaN   \n",
       "offersSuccessful                      99600    NaN                   NaN   \n",
       "packageHeight                         99600    NaN                   NaN   \n",
       "packageLength                         99600    NaN                   NaN   \n",
       "packageQuantity                       99600    NaN                   NaN   \n",
       "packageWeight                         99600    NaN                   NaN   \n",
       "packageWidth                          99600    NaN                   NaN   \n",
       "productGroup                          99600     33                  Book   \n",
       "publicationDate                       99600    NaN                   NaN   \n",
       "publisher                             99600  10107       Audible Studios   \n",
       "releaseDate                           99600    NaN                   NaN   \n",
       "rootCategory                          99600    NaN                   NaN   \n",
       "stats_atIntervalStart                 99600    NaN                   NaN   \n",
       "stats_avg                             99600    NaN                   NaN   \n",
       "stats_avg30                           99600    NaN                   NaN   \n",
       "stats_avg90                           99600    NaN                   NaN   \n",
       "stats_avg180                          99600    NaN                   NaN   \n",
       "stats_current                         99600    NaN                   NaN   \n",
       "stats_outOfStockPercentage30          99600    NaN                   NaN   \n",
       "stats_outOfStockPercentage90          99600    NaN                   NaN   \n",
       "stats_outOfStockPercentageInInterval  99600    NaN                   NaN   \n",
       "title                                 99600  89646   Think and Grow Rich   \n",
       "trackingSince                         99600    NaN                   NaN   \n",
       "type                                  99600     45             ABIS_BOOK   \n",
       "sales_rank                            99600    NaN                   NaN   \n",
       "price                                 99600    NaN                   NaN   \n",
       "language_1                            99600     12               English   \n",
       "language_2                            99567      6             Published   \n",
       "\n",
       "                                       freq         mean          std  \\\n",
       "productType                             NaN     0.451878     0.508459   \n",
       "author                                 2060          NaN          NaN   \n",
       "availabilityAmazon                      NaN  -0.00527108     0.231033   \n",
       "binding                               44757          NaN          NaN   \n",
       "categoryTree_0                        99582          NaN          NaN   \n",
       "categoryTree_1                        99582          NaN          NaN   \n",
       "categoryTree_2                        17441          NaN          NaN   \n",
       "categoryTree_3                         8216          NaN          NaN   \n",
       "categoryTree_4                        34740          NaN          NaN   \n",
       "domainId                                NaN            1            0   \n",
       "hasReviews                              NaN     0.971305     0.166948   \n",
       "isEligibleForSuperSaverShipping         NaN     0.525241     0.499365   \n",
       "isEligibleForTradeIn                    NaN    0.0831627     0.276129   \n",
       "isRedirectASIN                          NaN            0            0   \n",
       "isSNS                                   NaN  1.00402e-05   0.00316862   \n",
       "lastPriceChange                         NaN  4.16463e+06       359964   \n",
       "lastRatingUpdate                        NaN  3.94477e+06  1.10148e+06   \n",
       "lastUpdate                              NaN  4.30653e+06      1773.25   \n",
       "listedSince                             NaN      5272.63       138444   \n",
       "newPriceIsMAP                           NaN  0.000451807    0.0212511   \n",
       "numberOfItems                           NaN      0.12255      16.3078   \n",
       "numberOfPages                           NaN      161.027      289.258   \n",
       "offersSuccessful                        NaN            0            0   \n",
       "packageHeight                           NaN      11.9898      16.5128   \n",
       "packageLength                           NaN       124.36      116.967   \n",
       "packageQuantity                         NaN    -0.157199      4.82493   \n",
       "packageWeight                           NaN      278.982      455.452   \n",
       "packageWidth                            NaN      90.7866      88.0171   \n",
       "productGroup                          54619          NaN          NaN   \n",
       "publicationDate                         NaN  1.97803e+07  2.64172e+06   \n",
       "publisher                              4267          NaN          NaN   \n",
       "releaseDate                             NaN  1.07679e+07  1.00449e+07   \n",
       "rootCategory                            NaN  1.85208e+14  4.13307e+16   \n",
       "stats_atIntervalStart                   NaN      1719.08      2196.38   \n",
       "stats_avg                               NaN      1932.09      2424.86   \n",
       "stats_avg30                             NaN      1875.34      2232.52   \n",
       "stats_avg90                             NaN      1911.44      2348.09   \n",
       "stats_avg180                            NaN      1931.17       2404.5   \n",
       "stats_current                           NaN      1850.58      2203.97   \n",
       "stats_outOfStockPercentage30            NaN      2.55269      15.1155   \n",
       "stats_outOfStockPercentage90            NaN      2.63436      14.5735   \n",
       "stats_outOfStockPercentageInInterval    NaN      2.55913      14.1813   \n",
       "title                                    15          NaN          NaN   \n",
       "trackingSince                           NaN  2.93417e+06  1.34744e+06   \n",
       "type                                  54138          NaN          NaN   \n",
       "sales_rank                              NaN      66907.5       300574   \n",
       "price                                   NaN      1981.62      3067.89   \n",
       "language_1                            98700          NaN          NaN   \n",
       "language_2                            96919          NaN          NaN   \n",
       "\n",
       "                                              min          25%          50%  \\\n",
       "productType                                     0            0            0   \n",
       "author                                        NaN          NaN          NaN   \n",
       "availabilityAmazon                             -1            0            0   \n",
       "binding                                       NaN          NaN          NaN   \n",
       "categoryTree_0                                NaN          NaN          NaN   \n",
       "categoryTree_1                                NaN          NaN          NaN   \n",
       "categoryTree_2                                NaN          NaN          NaN   \n",
       "categoryTree_3                                NaN          NaN          NaN   \n",
       "categoryTree_4                                NaN          NaN          NaN   \n",
       "domainId                                        1            1            1   \n",
       "hasReviews                                      0            1            1   \n",
       "isEligibleForSuperSaverShipping                 0            0            1   \n",
       "isEligibleForTradeIn                            0            0            0   \n",
       "isRedirectASIN                                  0            0            0   \n",
       "isSNS                                           0            0            0   \n",
       "lastPriceChange                                 0  4.19283e+06   4.2936e+06   \n",
       "lastRatingUpdate                               -1  4.20765e+06  4.29216e+06   \n",
       "lastUpdate                            4.28382e+06  4.30612e+06  4.30665e+06   \n",
       "listedSince                          -2.92752e+06           -1            0   \n",
       "newPriceIsMAP                                   0            0            0   \n",
       "numberOfItems                                  -1           -1           -1   \n",
       "numberOfPages                                  -1           -1           32   \n",
       "offersSuccessful                                0            0            0   \n",
       "packageHeight                                  -1           -1            8   \n",
       "packageLength                                  -1           -1          183   \n",
       "packageQuantity                                -1           -1           -1   \n",
       "packageWeight                                  -1           -1          113   \n",
       "packageWidth                                   -1           -1          127   \n",
       "productGroup                                  NaN          NaN          NaN   \n",
       "publicationDate                                -1  2.01106e+07  2.01511e+07   \n",
       "publisher                                     NaN          NaN          NaN   \n",
       "releaseDate                                    -1           -1  2.00201e+07   \n",
       "rootCategory                               283155       283155       283155   \n",
       "stats_atIntervalStart                          -1          799         1476   \n",
       "stats_avg                                      -1         1057         1521   \n",
       "stats_avg30                                    -1      1006.75         1499   \n",
       "stats_avg90                                    -1         1034         1505   \n",
       "stats_avg180                                   -1         1058         1521   \n",
       "stats_current                                  -1          999         1496   \n",
       "stats_outOfStockPercentage30                   -1            0            0   \n",
       "stats_outOfStockPercentage90                   -1            0            0   \n",
       "stats_outOfStockPercentageInInterval           -1            0            0   \n",
       "title                                         NaN          NaN          NaN   \n",
       "trackingSince                              119040  2.27530e+06  3.77979e+06   \n",
       "type                                          NaN          NaN          NaN   \n",
       "sales_rank                                     -1      11343.8        26444   \n",
       "price                                           1         1045         1524   \n",
       "language_1                                    NaN          NaN          NaN   \n",
       "language_2                                    NaN          NaN          NaN   \n",
       "\n",
       "                                              75%          max  \n",
       "productType                                     1            4  \n",
       "author                                        NaN          NaN  \n",
       "availabilityAmazon                              0            2  \n",
       "binding                                       NaN          NaN  \n",
       "categoryTree_0                                NaN          NaN  \n",
       "categoryTree_1                                NaN          NaN  \n",
       "categoryTree_2                                NaN          NaN  \n",
       "categoryTree_3                                NaN          NaN  \n",
       "categoryTree_4                                NaN          NaN  \n",
       "domainId                                        1            1  \n",
       "hasReviews                                      1            1  \n",
       "isEligibleForSuperSaverShipping                 1            1  \n",
       "isEligibleForTradeIn                            0            1  \n",
       "isRedirectASIN                                  0            0  \n",
       "isSNS                                           0            1  \n",
       "lastPriceChange                       4.30585e+06  4.30837e+06  \n",
       "lastRatingUpdate                      4.30414e+06  4.30836e+06  \n",
       "lastUpdate                            4.30742e+06  4.30838e+06  \n",
       "listedSince                                     0  4.23504e+06  \n",
       "newPriceIsMAP                                   0            1  \n",
       "numberOfItems                                   1         5000  \n",
       "numberOfPages                                 256         9998  \n",
       "offersSuccessful                                0            0  \n",
       "packageHeight                                  22          287  \n",
       "packageLength                                 228         1143  \n",
       "packageQuantity                                 1         1067  \n",
       "packageWeight                                 386        10795  \n",
       "packageWidth                                  157          483  \n",
       "productGroup                                  NaN          NaN  \n",
       "publicationDate                       2.01801e+07  2.20001e+07  \n",
       "publisher                                     NaN          NaN  \n",
       "releaseDate                           2.01701e+07  2.02008e+07  \n",
       "rootCategory                               283155  9.22337e+18  \n",
       "stats_atIntervalStart                        2095        49900  \n",
       "stats_avg                                    2153        99998  \n",
       "stats_avg30                                  2099        99999  \n",
       "stats_avg90                               2133.25        99999  \n",
       "stats_avg180                                 2153        99999  \n",
       "stats_current                                2099        99999  \n",
       "stats_outOfStockPercentage30                    0          100  \n",
       "stats_outOfStockPercentage90                    0          100  \n",
       "stats_outOfStockPercentageInInterval            0          100  \n",
       "title                                         NaN          NaN  \n",
       "trackingSince                         3.79885e+06  4.28764e+06  \n",
       "type                                          NaN          NaN  \n",
       "sales_rank                                54179.5   2.0883e+07  \n",
       "price                                        2195       500000  \n",
       "language_1                                    NaN          NaN  \n",
       "language_2                                    NaN          NaN  "
      ]
     },
     "execution_count": 76,
     "metadata": {},
     "output_type": "execute_result"
    }
   ],
   "source": [
    "df.describe(include='all').transpose()"
   ]
  },
  {
   "cell_type": "markdown",
   "metadata": {},
   "source": [
    "## Encoding categorical columns"
   ]
  },
  {
   "cell_type": "code",
   "execution_count": 77,
   "metadata": {},
   "outputs": [],
   "source": [
    "cat_cols=['author','language_1','language_2','binding','categoryTree_0', 'categoryTree_1', 'categoryTree_2', 'categoryTree_3',\n",
    "       'categoryTree_4','productGroup','publisher','title','type','language_1','language_2']"
   ]
  },
  {
   "cell_type": "code",
   "execution_count": 78,
   "metadata": {},
   "outputs": [
    {
     "data": {
      "text/html": [
       "<div>\n",
       "<style scoped>\n",
       "    .dataframe tbody tr th:only-of-type {\n",
       "        vertical-align: middle;\n",
       "    }\n",
       "\n",
       "    .dataframe tbody tr th {\n",
       "        vertical-align: top;\n",
       "    }\n",
       "\n",
       "    .dataframe thead th {\n",
       "        text-align: right;\n",
       "    }\n",
       "</style>\n",
       "<table border=\"1\" class=\"dataframe\">\n",
       "  <thead>\n",
       "    <tr style=\"text-align: right;\">\n",
       "      <th></th>\n",
       "      <th>author</th>\n",
       "      <th>language_1</th>\n",
       "      <th>language_2</th>\n",
       "      <th>binding</th>\n",
       "      <th>categoryTree_0</th>\n",
       "      <th>categoryTree_1</th>\n",
       "      <th>categoryTree_2</th>\n",
       "      <th>categoryTree_3</th>\n",
       "      <th>categoryTree_4</th>\n",
       "      <th>productGroup</th>\n",
       "      <th>publisher</th>\n",
       "      <th>title</th>\n",
       "      <th>type</th>\n",
       "      <th>language_1</th>\n",
       "      <th>language_2</th>\n",
       "    </tr>\n",
       "  </thead>\n",
       "  <tbody>\n",
       "    <tr>\n",
       "      <th>0</th>\n",
       "      <td>Glendy Vanderah</td>\n",
       "      <td>English</td>\n",
       "      <td>Published</td>\n",
       "      <td>hardcovers</td>\n",
       "      <td>Books</td>\n",
       "      <td>Subjects</td>\n",
       "      <td>Literature &amp; Fiction</td>\n",
       "      <td>Genre Fiction</td>\n",
       "      <td>Family Life</td>\n",
       "      <td>Book</td>\n",
       "      <td>Lake Union Publishing</td>\n",
       "      <td>Where the Forest Meets the Stars</td>\n",
       "      <td>ABIS_BOOK</td>\n",
       "      <td>English</td>\n",
       "      <td>Published</td>\n",
       "    </tr>\n",
       "    <tr>\n",
       "      <th>1</th>\n",
       "      <td>Sudipta Bardhan-Quallen</td>\n",
       "      <td>English</td>\n",
       "      <td>Published</td>\n",
       "      <td>digital_prints</td>\n",
       "      <td>Books</td>\n",
       "      <td>Subjects</td>\n",
       "      <td>Children's Books</td>\n",
       "      <td>Animals</td>\n",
       "      <td>Cats</td>\n",
       "      <td>Ebook Bundle</td>\n",
       "      <td>Unknown</td>\n",
       "      <td>Purrmaids (6 Book Series)</td>\n",
       "      <td>EBOOK_BUNDLE</td>\n",
       "      <td>English</td>\n",
       "      <td>Published</td>\n",
       "    </tr>\n",
       "    <tr>\n",
       "      <th>2</th>\n",
       "      <td>Alan Forbes</td>\n",
       "      <td>English</td>\n",
       "      <td>Published</td>\n",
       "      <td>digital_prints</td>\n",
       "      <td>Books</td>\n",
       "      <td>Subjects</td>\n",
       "      <td>Computers &amp; Technology</td>\n",
       "      <td>Programming</td>\n",
       "      <td>Software Design, Testing &amp; Engineering</td>\n",
       "      <td>Ebook Bundle</td>\n",
       "      <td>Unknown</td>\n",
       "      <td>The Joy of PHP (2 Book Series)</td>\n",
       "      <td>EBOOK_BUNDLE</td>\n",
       "      <td>English</td>\n",
       "      <td>Published</td>\n",
       "    </tr>\n",
       "    <tr>\n",
       "      <th>3</th>\n",
       "      <td>Michelle Obama</td>\n",
       "      <td>English</td>\n",
       "      <td>Published</td>\n",
       "      <td>hardcovers</td>\n",
       "      <td>Books</td>\n",
       "      <td>Subjects</td>\n",
       "      <td>Biographies &amp; Memoirs</td>\n",
       "      <td>Ethnic &amp; National</td>\n",
       "      <td>African-American &amp; Black</td>\n",
       "      <td>Book</td>\n",
       "      <td>Crown Publishing Group</td>\n",
       "      <td>Becoming</td>\n",
       "      <td>ABIS_BOOK</td>\n",
       "      <td>English</td>\n",
       "      <td>Published</td>\n",
       "    </tr>\n",
       "    <tr>\n",
       "      <th>4</th>\n",
       "      <td>Delia Owens</td>\n",
       "      <td>English</td>\n",
       "      <td>Published</td>\n",
       "      <td>hardcovers</td>\n",
       "      <td>Books</td>\n",
       "      <td>Subjects</td>\n",
       "      <td>Literature &amp; Fiction</td>\n",
       "      <td>Genre Fiction</td>\n",
       "      <td>Coming of Age</td>\n",
       "      <td>Book</td>\n",
       "      <td>G.P. Putnam's Sons</td>\n",
       "      <td>Where the Crawdads Sing</td>\n",
       "      <td>ABIS_BOOK</td>\n",
       "      <td>English</td>\n",
       "      <td>Published</td>\n",
       "    </tr>\n",
       "  </tbody>\n",
       "</table>\n",
       "</div>"
      ],
      "text/plain": [
       "                    author language_1 language_2         binding  \\\n",
       "0          Glendy Vanderah    English  Published      hardcovers   \n",
       "1  Sudipta Bardhan-Quallen    English  Published  digital_prints   \n",
       "2              Alan Forbes    English  Published  digital_prints   \n",
       "3           Michelle Obama    English  Published      hardcovers   \n",
       "4              Delia Owens    English  Published      hardcovers   \n",
       "\n",
       "  categoryTree_0 categoryTree_1          categoryTree_2     categoryTree_3  \\\n",
       "0          Books       Subjects    Literature & Fiction      Genre Fiction   \n",
       "1          Books       Subjects        Children's Books            Animals   \n",
       "2          Books       Subjects  Computers & Technology        Programming   \n",
       "3          Books       Subjects   Biographies & Memoirs  Ethnic & National   \n",
       "4          Books       Subjects    Literature & Fiction      Genre Fiction   \n",
       "\n",
       "                           categoryTree_4  productGroup  \\\n",
       "0                             Family Life          Book   \n",
       "1                                    Cats  Ebook Bundle   \n",
       "2  Software Design, Testing & Engineering  Ebook Bundle   \n",
       "3                African-American & Black          Book   \n",
       "4                           Coming of Age          Book   \n",
       "\n",
       "                publisher                             title          type  \\\n",
       "0   Lake Union Publishing  Where the Forest Meets the Stars     ABIS_BOOK   \n",
       "1                 Unknown         Purrmaids (6 Book Series)  EBOOK_BUNDLE   \n",
       "2                 Unknown    The Joy of PHP (2 Book Series)  EBOOK_BUNDLE   \n",
       "3  Crown Publishing Group                          Becoming     ABIS_BOOK   \n",
       "4      G.P. Putnam's Sons           Where the Crawdads Sing     ABIS_BOOK   \n",
       "\n",
       "  language_1 language_2  \n",
       "0    English  Published  \n",
       "1    English  Published  \n",
       "2    English  Published  \n",
       "3    English  Published  \n",
       "4    English  Published  "
      ]
     },
     "execution_count": 78,
     "metadata": {},
     "output_type": "execute_result"
    }
   ],
   "source": [
    "df[cat_cols].head()"
   ]
  },
  {
   "cell_type": "code",
   "execution_count": null,
   "metadata": {},
   "outputs": [],
   "source": []
  },
  {
   "cell_type": "code",
   "execution_count": 79,
   "metadata": {},
   "outputs": [],
   "source": [
    "#might not be necessary\n",
    "df['author']=df['author'].astype(str)\n",
    "df['language_2']=df['language_2'].astype(str)\n",
    "\n",
    "df['categoryTree_1']=df['categoryTree_1'].astype(str)\n",
    "df['categoryTree_2']=df['categoryTree_2'].astype(str)\n",
    "df['categoryTree_3']=df['categoryTree_3'].astype(str)\n",
    "df['categoryTree_4']=df['categoryTree_4'].astype(str)"
   ]
  },
  {
   "cell_type": "markdown",
   "metadata": {},
   "source": []
  },
  {
   "cell_type": "markdown",
   "metadata": {},
   "source": [
    "## Outlier detection and transformation"
   ]
  },
  {
   "cell_type": "markdown",
   "metadata": {},
   "source": [
    "Before we decide whether to use standard deviation or interquntile range to identify outliers, lets plot the data points using a distribution plot."
   ]
  },
  {
   "cell_type": "code",
   "execution_count": 80,
   "metadata": {},
   "outputs": [],
   "source": [
    "def distWithBox(data):\n",
    "    import numpy as np\n",
    "    import seaborn as sns\n",
    "    import matplotlib.pyplot as plt\n",
    "\n",
    "    sns.set(style=\"ticks\")\n",
    "\n",
    "    x = df[data]\n",
    "\n",
    "    f, (ax_box, ax_hist) = plt.subplots(2, sharex=True, \n",
    "                                        gridspec_kw={\"height_ratios\": (.15, .85)})\n",
    "\n",
    "    sns.boxplot(x, ax=ax_box)\n",
    "    sns.distplot(x, ax=ax_hist)\n",
    "\n",
    "    ax_box.set(yticks=[])\n",
    "    sns.despine(ax=ax_hist)\n",
    "    sns.despine(ax=ax_box, left=True)"
   ]
  },
  {
   "cell_type": "code",
   "execution_count": 81,
   "metadata": {},
   "outputs": [
    {
     "data": {
      "image/png": "[encoded data removed]",
      "text/plain": [
       "<Figure size 432x288 with 2 Axes>"
      ]
     },
     "metadata": {},
     "output_type": "display_data"
    }
   ],
   "source": [
    "## Distribution and box plot of the raw data with outliers\n",
    "distWithBox('price')"
   ]
  },
  {
   "cell_type": "markdown",
   "metadata": {},
   "source": [
    "We can see from the graph that the distribution is not normal so we have to use interquantile range to cutoff outliers"
   ]
  },
  {
   "cell_type": "code",
   "execution_count": 82,
   "metadata": {},
   "outputs": [
    {
     "name": "stdout",
     "output_type": "stream",
     "text": [
      "Percentiles: 25th=1045.000, 75th=2195.000, IQR=1150.000\n",
      "Identified outliers: 4619\n",
      "Non-outlier observations: 94981\n"
     ]
    }
   ],
   "source": [
    "from numpy import percentile\n",
    "data=df['price']\n",
    "q25, q75 = percentile(data, 25), percentile(data, 75)\n",
    "iqr = q75 - q25\n",
    "print('Percentiles: 25th=%.3f, 75th=%.3f, IQR=%.3f' % (q25, q75, iqr))\n",
    "# calculate the outlier cutoff\n",
    "cut_off = iqr * 1.5\n",
    "lower, upper = q25 - cut_off, q75 + cut_off\n",
    "# identify outliers\n",
    "outliers = [x for x in data if x < lower or x > upper]\n",
    "print('Identified outliers: %d' % len(outliers))\n",
    "outliers_removed = [x for x in data if x >= lower and x <= upper]\n",
    "print('Non-outlier observations: %d' % len(outliers_removed))"
   ]
  },
  {
   "cell_type": "code",
   "execution_count": 83,
   "metadata": {},
   "outputs": [],
   "source": [
    "outliers=[] \n",
    "data_1=df['price'] \n",
    "for item in data_1:\n",
    "    if item <lower or item>upper:\n",
    "        outliers.append(item)\n"
   ]
  },
  {
   "cell_type": "code",
   "execution_count": 84,
   "metadata": {},
   "outputs": [],
   "source": [
    "x=df['price']\n",
    "outlier_indices=list(data_1.index[(x<lower) | (x> upper)])"
   ]
  },
  {
   "cell_type": "code",
   "execution_count": 85,
   "metadata": {},
   "outputs": [
    {
     "data": {
      "text/plain": [
       "4619"
      ]
     },
     "execution_count": 85,
     "metadata": {},
     "output_type": "execute_result"
    }
   ],
   "source": [
    "len(outlier_indices)"
   ]
  },
  {
   "cell_type": "code",
   "execution_count": 86,
   "metadata": {},
   "outputs": [],
   "source": [
    "df.drop(axis=0,index=outlier_indices, inplace=True)"
   ]
  },
  {
   "cell_type": "code",
   "execution_count": 87,
   "metadata": {},
   "outputs": [
    {
     "data": {
      "text/plain": [
       "(94981, 49)"
      ]
     },
     "execution_count": 87,
     "metadata": {},
     "output_type": "execute_result"
    }
   ],
   "source": [
    "df.shape"
   ]
  },
  {
   "cell_type": "code",
   "execution_count": 88,
   "metadata": {},
   "outputs": [
    {
     "data": {
      "image/png": "[encoded data removed]",
      "text/plain": [
       "<Figure size 432x288 with 2 Axes>"
      ]
     },
     "metadata": {},
     "output_type": "display_data"
    }
   ],
   "source": [
    "## lets plot distribution with and box plot to see the change after we trim down the outliers\n",
    "distWithBox('price')"
   ]
  },
  {
   "cell_type": "markdown",
   "metadata": {},
   "source": [
    "### Label Encoding"
   ]
  },
  {
   "cell_type": "code",
   "execution_count": 89,
   "metadata": {},
   "outputs": [],
   "source": [
    "df[cat_cols]= df[cat_cols].apply(LabelEncoder().fit_transform)"
   ]
  },
  {
   "cell_type": "markdown",
   "metadata": {},
   "source": [
    "### Feature Selection"
   ]
  },
  {
   "cell_type": "markdown",
   "metadata": {},
   "source": [
    "\n",
    "VarianceThreshold is a simple baseline approach to feature selection. It removes all features whose variance doesn’t meet some threshold. By default, it removes all zero-variance features, i.e. features that have the same value in all samples.\n",
    "\n",
    "so we can select using the threshold .8 * (1 - .8):"
   ]
  },
  {
   "cell_type": "code",
   "execution_count": 90,
   "metadata": {},
   "outputs": [],
   "source": [
    "df_X=df.loc[:, df.columns != 'price']\n",
    "df_y=df['price']"
   ]
  },
  {
   "cell_type": "code",
   "execution_count": 91,
   "metadata": {},
   "outputs": [
    {
     "name": "stdout",
     "output_type": "stream",
     "text": [
      "48 Number of features before VarianceThreshhold\n",
      "[ True  True False  True False False  True  True  True False False  True\n",
      " False False False  True  True  True  True False  True  True False  True\n",
      "  True  True  True  True  True  True  True  True  True  True  True  True\n",
      "  True  True  True  True  True  True  True  True  True  True  True False]\n"
     ]
    }
   ],
   "source": [
    "from sklearn.feature_selection import VarianceThreshold\n",
    "print('%s Number of features before VarianceThreshhold'%len(df_X.columns))\n",
    "\n",
    "selector=VarianceThreshold(threshold=(.8*(1-.8)))\n",
    "FeaturesTransformed=selector.fit_transform(df_X)\n",
    "\n",
    "## print the support and shape of the transformed features\n",
    "print(selector.get_support())\n"
   ]
  },
  {
   "cell_type": "code",
   "execution_count": 92,
   "metadata": {},
   "outputs": [],
   "source": [
    "data=df_X[df_X.columns[selector.get_support(indices=True)]]\n",
    "cols=data.columns"
   ]
  },
  {
   "cell_type": "code",
   "execution_count": 93,
   "metadata": {},
   "outputs": [
    {
     "data": {
      "text/plain": [
       "(94981, 37)"
      ]
     },
     "execution_count": 93,
     "metadata": {},
     "output_type": "execute_result"
    }
   ],
   "source": [
    "df_reduced=pd.DataFrame(FeaturesTransformed, columns=cols)\n",
    "df_reduced.shape"
   ]
  },
  {
   "cell_type": "code",
   "execution_count": 94,
   "metadata": {},
   "outputs": [],
   "source": [
    "df_X=df_reduced"
   ]
  },
  {
   "cell_type": "code",
   "execution_count": 95,
   "metadata": {},
   "outputs": [
    {
     "data": {
      "image/png": "[encoded data removed]",
      "text/plain": [
       "<Figure size 1440x1440 with 1 Axes>"
      ]
     },
     "metadata": {},
     "output_type": "display_data"
    }
   ],
   "source": [
    "from sklearn.ensemble import RandomForestRegressor\n",
    "\n",
    "from yellowbrick.features.importances import FeatureImportances\n",
    "\n",
    "fig = plt.figure(figsize=(20,20))\n",
    "ax = fig.add_subplot()\n",
    "\n",
    "viz = FeatureImportances(RandomForestRegressor(), ax=ax)\n",
    "viz.fit(df_X, df_y)\n",
    "viz.poof()"
   ]
  },
  {
   "cell_type": "code",
   "execution_count": 96,
   "metadata": {},
   "outputs": [],
   "source": [
    "feature_importances = pd.DataFrame(viz.feature_importances_,\n",
    "                                   index=df_X.columns,\n",
    "                                   columns=['importance']).sort_values('importance', ascending=False)"
   ]
  },
  {
   "cell_type": "code",
   "execution_count": 97,
   "metadata": {},
   "outputs": [],
   "source": [
    "## important features for Random Forest Regression\n",
    "importants=feature_importances.index[feature_importances.importance!=0]"
   ]
  },
  {
   "cell_type": "code",
   "execution_count": 98,
   "metadata": {},
   "outputs": [
    {
     "data": {
      "text/plain": [
       "Index(['language_1', 'sales_rank', 'type', 'trackingSince', 'title',\n",
       "       'stats_outOfStockPercentageInInterval', 'stats_outOfStockPercentage90',\n",
       "       'stats_outOfStockPercentage30', 'stats_current', 'stats_avg180',\n",
       "       'stats_avg90', 'stats_avg30', 'stats_avg', 'stats_atIntervalStart',\n",
       "       'rootCategory', 'releaseDate', 'publisher', 'publicationDate',\n",
       "       'productGroup', 'packageWidth', 'packageWeight', 'packageQuantity',\n",
       "       'packageLength', 'packageHeight', 'numberOfPages', 'numberOfItems',\n",
       "       'listedSince', 'lastUpdate', 'lastRatingUpdate', 'lastPriceChange',\n",
       "       'isEligibleForSuperSaverShipping', 'categoryTree_4', 'categoryTree_3',\n",
       "       'categoryTree_2', 'binding', 'author', 'productType'],\n",
       "      dtype='object')"
      ]
     },
     "execution_count": 98,
     "metadata": {},
     "output_type": "execute_result"
    }
   ],
   "source": [
    "importants"
   ]
  },
  {
   "cell_type": "code",
   "execution_count": 99,
   "metadata": {},
   "outputs": [
    {
     "data": {
      "text/plain": [
       "RandomForestRegressor(bootstrap=True, criterion='mse', max_depth=None,\n",
       "           max_features='auto', max_leaf_nodes=None,\n",
       "           min_impurity_decrease=0.0, min_impurity_split=None,\n",
       "           min_samples_leaf=1, min_samples_split=2,\n",
       "           min_weight_fraction_leaf=0.0, n_estimators=10, n_jobs=None,\n",
       "           oob_score=False, random_state=None, verbose=0, warm_start=False)"
      ]
     },
     "execution_count": 99,
     "metadata": {},
     "output_type": "execute_result"
    }
   ],
   "source": [
    "from sklearn.ensemble import RandomForestRegressor\n",
    "from sklearn.model_selection import train_test_split as split\n",
    "X=df[['language_1', 'sales_rank', 'type', 'trackingSince', 'title',\n",
    "       'stats_outOfStockPercentageInInterval', 'stats_outOfStockPercentage90',\n",
    "       'stats_outOfStockPercentage30', 'stats_current', 'stats_avg180',\n",
    "       'stats_avg90', 'stats_avg30', 'stats_avg', 'stats_atIntervalStart',\n",
    "       'rootCategory', 'releaseDate', 'publisher', 'publicationDate',\n",
    "       'productGroup', 'packageWidth', 'packageWeight', 'packageQuantity',\n",
    "       'packageLength', 'packageHeight', 'numberOfPages', 'numberOfItems',\n",
    "       'listedSince', 'lastUpdate', 'lastRatingUpdate', 'lastPriceChange',\n",
    "       'isEligibleForSuperSaverShipping', 'categoryTree_4', 'categoryTree_3',\n",
    "       'categoryTree_2', 'binding', 'author', 'productType']]\n",
    "Y=df['price']\n",
    "model=RandomForestRegressor()\n",
    "X_train, X_test, Y_train, Y_test= split(X,Y,test_size=0.25, random_state=42)\n",
    "model.fit(X_train,Y_train)"
   ]
  },
  {
   "cell_type": "code",
   "execution_count": 100,
   "metadata": {},
   "outputs": [
    {
     "data": {
      "image/png": "[encoded data removed]",
      "text/plain": [
       "<Figure size 1440x1440 with 1 Axes>"
      ]
     },
     "metadata": {},
     "output_type": "display_data"
    }
   ],
   "source": [
    "from sklearn.ensemble import GradientBoostingRegressor\n",
    "\n",
    "from yellowbrick.features.importances import FeatureImportances\n",
    "\n",
    "fig = plt.figure(figsize=(20,20))\n",
    "ax = fig.add_subplot()\n",
    "\n",
    "viz = FeatureImportances(GradientBoostingRegressor(), ax=ax)\n",
    "viz.fit(df_X, df_y)\n",
    "viz.poof()"
   ]
  },
  {
   "cell_type": "code",
   "execution_count": 101,
   "metadata": {},
   "outputs": [],
   "source": [
    "feature_importances = pd.DataFrame(viz.feature_importances_,\n",
    "                                   index=df_X.columns,\n",
    "                                   columns=['importance']).sort_values('importance', ascending=False)"
   ]
  },
  {
   "cell_type": "code",
   "execution_count": 102,
   "metadata": {},
   "outputs": [],
   "source": [
    "## important features for gradient boosting regression\n",
    "importants=feature_importances.index[feature_importances.importance!=0]"
   ]
  },
  {
   "cell_type": "code",
   "execution_count": 103,
   "metadata": {},
   "outputs": [
    {
     "data": {
      "text/plain": [
       "Index(['language_1', 'sales_rank', 'type', 'trackingSince', 'title',\n",
       "       'stats_outOfStockPercentageInInterval', 'stats_outOfStockPercentage90',\n",
       "       'stats_outOfStockPercentage30', 'stats_current', 'stats_avg180',\n",
       "       'stats_avg90', 'stats_avg30', 'stats_avg', 'stats_atIntervalStart',\n",
       "       'rootCategory', 'releaseDate', 'publisher', 'publicationDate',\n",
       "       'productGroup', 'packageWidth', 'packageWeight', 'packageQuantity',\n",
       "       'packageLength', 'packageHeight', 'numberOfPages', 'numberOfItems',\n",
       "       'listedSince', 'lastUpdate', 'lastRatingUpdate', 'lastPriceChange',\n",
       "       'isEligibleForSuperSaverShipping', 'categoryTree_4', 'categoryTree_3'],\n",
       "      dtype='object')"
      ]
     },
     "execution_count": 103,
     "metadata": {},
     "output_type": "execute_result"
    }
   ],
   "source": [
    "importants"
   ]
  },
  {
   "cell_type": "code",
   "execution_count": null,
   "metadata": {},
   "outputs": [],
   "source": []
  },
  {
   "cell_type": "code",
   "execution_count": 104,
   "metadata": {},
   "outputs": [
    {
     "name": "stdout",
     "output_type": "stream",
     "text": [
      "Accuracy Score 0.9378170499591189\n",
      "The root mean square value 185.15045639656591\n"
     ]
    }
   ],
   "source": [
    "from sklearn.ensemble import GradientBoostingRegressor\n",
    "from sklearn.metrics import r2_score\n",
    "from sklearn.metrics import mean_squared_error\n",
    "import math\n",
    "from sklearn.model_selection import train_test_split as split\n",
    "X=df[['language_1', 'sales_rank', 'type', 'trackingSince', 'title',\n",
    "       'stats_outOfStockPercentageInInterval', 'stats_outOfStockPercentage90',\n",
    "       'stats_outOfStockPercentage30', 'stats_current', 'stats_avg180',\n",
    "       'stats_avg90', 'stats_avg30', 'stats_avg', 'stats_atIntervalStart',\n",
    "       'rootCategory', 'releaseDate', 'publisher', 'publicationDate',\n",
    "       'productGroup', 'packageWidth', 'packageWeight', 'packageQuantity',\n",
    "       'packageLength', 'packageHeight', 'numberOfPages', 'numberOfItems',\n",
    "       'listedSince', 'lastUpdate', 'lastRatingUpdate', 'lastPriceChange',\n",
    "       'isEligibleForSuperSaverShipping', 'categoryTree_4']]\n",
    "Y=df['price']\n",
    "model=GradientBoostingRegressor()\n",
    "X_train, X_test, Y_train, Y_test= split(X,Y,test_size=0.25, random_state=42)\n",
    "model.fit(X_train,Y_train)\n",
    "prediction1 = model.predict(X_test)\n",
    "print(\"Accuracy Score\", r2_score(Y_test, prediction1))\n",
    "mse = mean_squared_error(Y_test, prediction1)\n",
    "print(\"The root mean square value\", math.sqrt(mse))\n",
    "\n",
    "\n",
    "\n"
   ]
  },
  {
   "cell_type": "code",
   "execution_count": 105,
   "metadata": {},
   "outputs": [
    {
     "name": "stdout",
     "output_type": "stream",
     "text": [
      "Accuracy Score 0.935014795330641\n",
      "The root mean square value 189.27635835569328\n"
     ]
    }
   ],
   "source": [
    "from sklearn.ensemble import RandomForestRegressor\n",
    "rfg = RandomForestRegressor()\n",
    "rfg.fit(X_train, Y_train)\n",
    "prediction2 = rfg.predict(X_test)\n",
    "print(\"Accuracy Score\", r2_score(Y_test, prediction2))\n",
    "mse2 = mean_squared_error(Y_test, prediction2)\n",
    "print(\"The root mean square value\", math.sqrt(mse2))\n"
   ]
  },
  {
   "cell_type": "code",
   "execution_count": 106,
   "metadata": {},
   "outputs": [
    {
     "name": "stdout",
     "output_type": "stream",
     "text": [
      "Accuracy Score 0.8791628625626629\n",
      "The root mean square value 258.10079386318677\n"
     ]
    }
   ],
   "source": [
    "from sklearn.tree import DecisionTreeRegressor\n",
    "dtg = DecisionTreeRegressor()\n",
    "dtg.fit(X_train, Y_train)\n",
    "prediction3 = dtg.predict(X_test)\n",
    "print(\"Accuracy Score\", r2_score(Y_test, prediction3))\n",
    "mse3 = mean_squared_error(Y_test, prediction3)\n",
    "print(\"The root mean square value\", math.sqrt(mse3))"
   ]
  },
  {
   "cell_type": "code",
   "execution_count": 107,
   "metadata": {},
   "outputs": [
    {
     "name": "stdout",
     "output_type": "stream",
     "text": [
      "Accuracy Score -99425234578408.22\n",
      "The root mean square value 7403506094.520586\n"
     ]
    }
   ],
   "source": [
    "from sklearn.linear_model import LinearRegression\n",
    "lr = LinearRegression()\n",
    "lr.fit(X_train, Y_train)\n",
    "prediction4 = lr.predict(X_test)\n",
    "print(\"Accuracy Score\", r2_score(Y_test, prediction4))\n",
    "mse4 = mean_squared_error(Y_test, prediction4)\n",
    "print(\"The root mean square value\", math.sqrt(mse4))"
   ]
  },
  {
   "cell_type": "code",
   "execution_count": 108,
   "metadata": {},
   "outputs": [
    {
     "name": "stdout",
     "output_type": "stream",
     "text": [
      "Accuracy Score -3.9749827808249497e+24\n",
      "The root mean square value 1480323903362887.8\n"
     ]
    }
   ],
   "source": [
    "from sklearn.neural_network import MLPRegressor\n",
    "mlp = MLPRegressor()\n",
    "mlp.fit(X_train, Y_train)\n",
    "prediction5 = mlp.predict(X_test)\n",
    "print(\"Accuracy Score\", r2_score(Y_test, prediction5))\n",
    "mse5 = mean_squared_error(Y_test, prediction5)\n",
    "print(\"The root mean square value\", math.sqrt(mse5))"
   ]
  },
  {
   "cell_type": "code",
   "execution_count": 109,
   "metadata": {},
   "outputs": [
    {
     "name": "stdout",
     "output_type": "stream",
     "text": [
      "Accuracy Score -2.3996545174436477e+28\n",
      "The root mean square value 1.1501738413058042e+17\n"
     ]
    }
   ],
   "source": [
    "from sklearn.linear_model import RidgeCV\n",
    "rcv = RidgeCV()\n",
    "rcv.fit(X_train, Y_train)\n",
    "prediction6 = rcv.predict(X_test)\n",
    "print(\"Accuracy Score\", r2_score(Y_test, prediction6))\n",
    "mse6 = mean_squared_error(Y_test, prediction6)\n",
    "print(\"The root mean square value\", math.sqrt(mse6))"
   ]
  },
  {
   "cell_type": "code",
   "execution_count": 110,
   "metadata": {},
   "outputs": [
    {
     "name": "stdout",
     "output_type": "stream",
     "text": [
      "Accuracy Score -192782250115893.34\n",
      "The root mean square value 10309145010.897713\n"
     ]
    }
   ],
   "source": [
    "from sklearn.linear_model import ElasticNet\n",
    "lm_elastic = ElasticNet()\n",
    "lm_elastic.fit(X_train, Y_train)\n",
    "prediction7 = lm_elastic.predict(X_test)\n",
    "print(\"Accuracy Score\", r2_score(Y_test, prediction7))\n",
    "mse7 = mean_squared_error(Y_test, prediction7)\n",
    "print(\"The root mean square value\", math.sqrt(mse7))"
   ]
  },
  {
   "cell_type": "code",
   "execution_count": 111,
   "metadata": {},
   "outputs": [
    {
     "name": "stdout",
     "output_type": "stream",
     "text": [
      "Accuracy Score 0.6437717350552057\n",
      "The root mean square value 443.1526124509504\n"
     ]
    }
   ],
   "source": [
    "from sklearn.linear_model import LassoLars\n",
    "llrs = LassoLars()\n",
    "llrs.fit(X_train, Y_train)\n",
    "prediction8 = llrs.predict(X_test)\n",
    "print(\"Accuracy Score\", r2_score(Y_test, prediction8))\n",
    "mse8 = mean_squared_error(Y_test, prediction8)\n",
    "print(\"The root mean square value\", math.sqrt(mse8))"
   ]
  },
  {
   "cell_type": "code",
   "execution_count": 112,
   "metadata": {},
   "outputs": [
    {
     "name": "stdout",
     "output_type": "stream",
     "text": [
      "Accuracy Score -125426158778036.6\n",
      "The root mean square value 8315400803.180053\n"
     ]
    }
   ],
   "source": [
    "from sklearn.linear_model import Lasso\n",
    "lass = Lasso()\n",
    "lass.fit(X_train, Y_train)\n",
    "prediction9 = lass.predict(X_test)\n",
    "print(\"Accuracy Score\", r2_score(Y_test, prediction9))\n",
    "mse9 = mean_squared_error(Y_test, prediction9)\n",
    "print(\"The root mean square value\", math.sqrt(mse9))"
   ]
  },
  {
   "cell_type": "code",
   "execution_count": 113,
   "metadata": {},
   "outputs": [
    {
     "name": "stdout",
     "output_type": "stream",
     "text": [
      "Accuracy Score -100416265861565.5\n",
      "The root mean square value 7440312210.1508465\n"
     ]
    }
   ],
   "source": [
    "from sklearn.linear_model import BayesianRidge\n",
    "br = BayesianRidge()\n",
    "br.fit(X_train, Y_train)\n",
    "prediction10 = br.predict(X_test)\n",
    "print(\"Accuracy Score\", r2_score(Y_test, prediction10))\n",
    "mse10 = mean_squared_error(Y_test, prediction10)\n",
    "print(\"The root mean square value\", math.sqrt(mse10))"
   ]
  },
  {
   "cell_type": "code",
   "execution_count": 114,
   "metadata": {},
   "outputs": [
    {
     "name": "stdout",
     "output_type": "stream",
     "text": [
      "Accuracy Score -4.175977640603628e+17\n",
      "The root mean square value 479808799407.2756\n"
     ]
    }
   ],
   "source": [
    "from sklearn import linear_model\n",
    "ransac = linear_model.RANSACRegressor()\n",
    "ransac.fit(X_train, Y_train)\n",
    "prediction11 = ransac.predict(X_test)\n",
    "print(\"Accuracy Score\", r2_score(Y_test, prediction11))\n",
    "mse11 = mean_squared_error(Y_test, prediction11)\n",
    "print(\"The root mean square value\", math.sqrt(mse11))"
   ]
  },
  {
   "cell_type": "code",
   "execution_count": null,
   "metadata": {},
   "outputs": [],
   "source": [
    "from sklearn.svm import SVR\n",
    "svr_rbf = SVR(kernel = 'rbf')\n",
    "svr_rbf.fit(X_train, Y_train)\n",
    "prediction12 = svr_rbf.predict(X_test)\n",
    "print(\"Accuracy Score\", r2_score(Y_test, prediction12))\n",
    "mse12 = mean_squared_error(Y_test, prediction12)\n",
    "print(\"The root mean square value\", math.sqrt(mse12))"
   ]
  },
  {
   "cell_type": "markdown",
   "metadata": {},
   "source": []
  },
  {
   "cell_type": "code",
   "execution_count": 115,
   "metadata": {},
   "outputs": [
    {
     "data": {
      "image/png": "[encoded data removed]",
      "text/plain": [
       "<Figure size 432x288 with 2 Axes>"
      ]
     },
     "metadata": {
      "needs_background": "light"
     },
     "output_type": "display_data"
    },
    {
     "data": {
      "image/png": "[encoded data removed]",
      "text/plain": [
       "<Figure size 432x288 with 2 Axes>"
      ]
     },
     "metadata": {
      "needs_background": "light"
     },
     "output_type": "display_data"
    },
    {
     "data": {
      "image/png": "[encoded data removed]",
      "text/plain": [
       "<Figure size 432x288 with 2 Axes>"
      ]
     },
     "metadata": {
      "needs_background": "light"
     },
     "output_type": "display_data"
    },
    {
     "data": {
      "image/png": "[encoded data removed]",
      "text/plain": [
       "<Figure size 432x288 with 2 Axes>"
      ]
     },
     "metadata": {
      "needs_background": "light"
     },
     "output_type": "display_data"
    }
   ],
   "source": [
    "%matplotlib inline\n",
    "from sklearn.linear_model import LassoLars\n",
    "from sklearn.tree import DecisionTreeRegressor\n",
    "from sklearn.ensemble import RandomForestRegressor\n",
    "from sklearn.ensemble import GradientBoostingRegressor\n",
    "from yellowbrick.classifier import ClassificationReport\n",
    "from yellowbrick.classifier import ClassPredictionError\n",
    "from yellowbrick.regressor import ResidualsPlot\n",
    "\n",
    "\n",
    "regressors = {\n",
    "    \"Gradient Boost\": GradientBoostingRegressor(),\n",
    "    \"Random Forest\": RandomForestRegressor(),\n",
    "    \"Decision Tree\": DecisionTreeRegressor(),\n",
    "    \"Lasso Lars\": LassoLars()\n",
    "    \n",
    "    \n",
    "}\n",
    "\n",
    "for _, regressor in regressors.items():\n",
    "    visualizer = ResidualsPlot(regressor)\n",
    "    visualizer.fit(X_train, Y_train)\n",
    "    visualizer.score(X_test, Y_test)\n",
    "    visualizer.poof()"
   ]
  },
  {
   "cell_type": "code",
   "execution_count": null,
   "metadata": {},
   "outputs": [],
   "source": [
    "\n"
   ]
  },
  {
   "cell_type": "code",
   "execution_count": 123,
   "metadata": {},
   "outputs": [
    {
     "data": {
      "image/png": "[encoded data removed]",
      "text/plain": [
       "<Figure size 432x288 with 1 Axes>"
      ]
     },
     "metadata": {
      "needs_background": "light"
     },
     "output_type": "display_data"
    }
   ],
   "source": [
    "from sklearn.ensemble import GradientBoostingRegressor\n",
    "from sklearn.model_selection import KFold\n",
    "from yellowbrick.model_selection import CVScores\n",
    "\n",
    "ind=df[['language_1', 'sales_rank', 'type', 'trackingSince', 'title',\n",
    "       'stats_outOfStockPercentageInInterval', 'stats_outOfStockPercentage90',\n",
    "       'stats_outOfStockPercentage30', 'stats_current', 'stats_avg180',\n",
    "       'stats_avg90', 'stats_avg30', 'stats_avg', 'stats_atIntervalStart',\n",
    "       'rootCategory', 'releaseDate', 'publisher', 'publicationDate',\n",
    "       'productGroup', 'packageWidth', 'packageWeight', 'packageQuantity',\n",
    "       'packageLength', 'packageHeight', 'numberOfPages', 'numberOfItems',\n",
    "       'listedSince', 'lastUpdate', 'lastRatingUpdate', 'lastPriceChange',\n",
    "       'isEligibleForSuperSaverShipping', 'categoryTree_4']].values\n",
    "dep=df['price'].values\n",
    "\n",
    "_, ax = plt.subplots()\n",
    "cv = KFold(15)\n",
    "oz = CVScores(\n",
    "    GradientBoostingRegressor(), ax=ax, cv=cv, scoring = 'r2'\n",
    ")\n",
    "\n",
    "oz.fit(ind, dep)\n",
    "oz.poof()\n"
   ]
  },
  {
   "cell_type": "code",
   "execution_count": 124,
   "metadata": {},
   "outputs": [
    {
     "data": {
      "image/png": "[encoded data removed]",
      "text/plain": [
       "<Figure size 432x288 with 1 Axes>"
      ]
     },
     "metadata": {
      "needs_background": "light"
     },
     "output_type": "display_data"
    }
   ],
   "source": [
    "from sklearn.ensemble import RandomForestRegressor\n",
    "from sklearn.model_selection import KFold\n",
    "from yellowbrick.model_selection import CVScores\n",
    "\n",
    "ind=df[['language_1', 'sales_rank', 'type', 'trackingSince', 'title',\n",
    "       'stats_outOfStockPercentageInInterval', 'stats_outOfStockPercentage90',\n",
    "       'stats_outOfStockPercentage30', 'stats_current', 'stats_avg180',\n",
    "       'stats_avg90', 'stats_avg30', 'stats_avg', 'stats_atIntervalStart',\n",
    "       'rootCategory', 'releaseDate', 'publisher', 'publicationDate',\n",
    "       'productGroup', 'packageWidth', 'packageWeight', 'packageQuantity',\n",
    "       'packageLength', 'packageHeight', 'numberOfPages', 'numberOfItems',\n",
    "       'listedSince', 'lastUpdate', 'lastRatingUpdate', 'lastPriceChange',\n",
    "       'isEligibleForSuperSaverShipping', 'categoryTree_4']].values\n",
    "dep=df['price'].values\n",
    "\n",
    "_, ax = plt.subplots()\n",
    "cv = KFold(15)\n",
    "oz = CVScores(\n",
    "    RandomForestRegressor(), ax=ax, cv=cv, scoring='r2'\n",
    ")\n",
    "\n",
    "oz.fit(ind, dep)\n",
    "oz.poof()\n"
   ]
  },
  {
   "cell_type": "code",
   "execution_count": 117,
   "metadata": {},
   "outputs": [
    {
     "name": "stdout",
     "output_type": "stream",
     "text": [
      "GradientBoostingRegressor(alpha=0.9, criterion='friedman_mse', init=None,\n",
      "             learning_rate=0.1, loss='ls', max_depth=7, max_features=None,\n",
      "             max_leaf_nodes=None, min_impurity_decrease=0.0,\n",
      "             min_impurity_split=None, min_samples_leaf=1,\n",
      "             min_samples_split=2, min_weight_fraction_leaf=0.0,\n",
      "             n_estimators=100, n_iter_no_change=None, presort='auto',\n",
      "             random_state=40, subsample=1.0, tol=0.0001,\n",
      "             validation_fraction=0.1, verbose=0, warm_start=False)\n"
     ]
    }
   ],
   "source": [
    "from sklearn.model_selection import GridSearchCV\n",
    "from sklearn.ensemble import RandomForestRegressor\n",
    "from sklearn.ensemble import GradientBoostingRegressor\n",
    "\n",
    "GradientBoosting = GradientBoostingRegressor(random_state = 40)\n",
    "alphas = [0.001, 0.01, 0.1, 0.5, 0.9]\n",
    "sample_split = [2,3,4,5,6,7,8]\n",
    "max_depth = [4,5,6,7,8,9]\n",
    "learning_rate = [0.1, 0.3, 0.5, 0.7]\n",
    "tuned_params = [{'alpha': alphas}, {'min_samples_split': sample_split}, {'max_depth': max_depth}, {'learning_rate':learning_rate}]\n",
    "n_folds = 5\n",
    "\n",
    "X=df[['language_1', 'sales_rank', 'type', 'trackingSince', 'title',\n",
    "       'stats_outOfStockPercentageInInterval', 'stats_outOfStockPercentage90',\n",
    "       'stats_outOfStockPercentage30', 'stats_current', 'stats_avg180',\n",
    "       'stats_avg90', 'stats_avg30', 'stats_avg', 'stats_atIntervalStart',\n",
    "       'rootCategory', 'releaseDate', 'publisher', 'publicationDate',\n",
    "       'productGroup', 'packageWidth', 'packageWeight', 'packageQuantity',\n",
    "       'packageLength', 'packageHeight', 'numberOfPages', 'numberOfItems',\n",
    "       'listedSince', 'lastUpdate', 'lastRatingUpdate', 'lastPriceChange',\n",
    "       'isEligibleForSuperSaverShipping', 'categoryTree_4']]\n",
    "Y=df['price']\n",
    "\n",
    "grid = GridSearchCV(\n",
    "    GradientBoosting, tuned_params, cv=n_folds\n",
    ")\n",
    "\n",
    "grid.fit(X, Y)\n",
    "print(grid.best_estimator_)\n",
    "\n",
    "\n"
   ]
  },
  {
   "cell_type": "code",
   "execution_count": 127,
   "metadata": {},
   "outputs": [
    {
     "name": "stdout",
     "output_type": "stream",
     "text": [
      "RandomForestRegressor(bootstrap=True, criterion='mse', max_depth=None,\n",
      "           max_features='auto', max_leaf_nodes=None,\n",
      "           min_impurity_decrease=0.0, min_impurity_split=None,\n",
      "           min_samples_leaf=5, min_samples_split=2,\n",
      "           min_weight_fraction_leaf=0.0, n_estimators=10, n_jobs=None,\n",
      "           oob_score=False, random_state=40, verbose=0, warm_start=False)\n"
     ]
    }
   ],
   "source": [
    "from sklearn.model_selection import GridSearchCV\n",
    "from sklearn.ensemble import RandomForestRegressor\n",
    "from sklearn.ensemble import GradientBoostingRegressor\n",
    "\n",
    "RandomForest = RandomForestRegressor(random_state = 40)\n",
    "\n",
    "estimators = [10,50,100]\n",
    "sample_split = [2,3,4,5,6,7,8]\n",
    "sample_leaf = [1,2,3,4,5]\n",
    "max_depth = [4,5,6,7,8,9]\n",
    "tuned_params = [{'n_estimators': estimators}, {'min_samples_split': sample_split}, {'min_samples_leaf': sample_leaf},{'max_leaf_nodes': max_depth}]\n",
    "n_folds = 5\n",
    "\n",
    "X=df[['language_1', 'sales_rank', 'type', 'trackingSince', 'title',\n",
    "       'stats_outOfStockPercentageInInterval', 'stats_outOfStockPercentage90',\n",
    "       'stats_outOfStockPercentage30', 'stats_current', 'stats_avg180',\n",
    "       'stats_avg90', 'stats_avg30', 'stats_avg', 'stats_atIntervalStart',\n",
    "       'rootCategory', 'releaseDate', 'publisher', 'publicationDate',\n",
    "       'productGroup', 'packageWidth', 'packageWeight', 'packageQuantity',\n",
    "       'packageLength', 'packageHeight', 'numberOfPages', 'numberOfItems',\n",
    "       'listedSince', 'lastUpdate', 'lastRatingUpdate', 'lastPriceChange',\n",
    "       'isEligibleForSuperSaverShipping', 'categoryTree_4']]\n",
    "Y=df['price']\n",
    "\n",
    "grid = GridSearchCV(\n",
    "    RandomForest, tuned_params, cv=n_folds\n",
    ")\n",
    "\n",
    "grid.fit(X, Y)\n",
    "print(grid.best_estimator_)\n",
    "\n",
    "\n"
   ]
  },
  {
   "cell_type": "code",
   "execution_count": 118,
   "metadata": {},
   "outputs": [
    {
     "name": "stdout",
     "output_type": "stream",
     "text": [
      "Accuracy Score 0.9400801236190429\n",
      "The root mean square value 181.75006733601313\n"
     ]
    }
   ],
   "source": [
    "from sklearn.ensemble import GradientBoostingRegressor\n",
    "model=GradientBoostingRegressor(alpha=0.9, criterion='friedman_mse', init=None,\n",
    "             learning_rate=0.1, loss='ls', max_depth=7, max_features=None,\n",
    "             max_leaf_nodes=None, min_impurity_decrease=0.0,\n",
    "             min_impurity_split=None, min_samples_leaf=1,\n",
    "             min_samples_split=2, min_weight_fraction_leaf=0.0,\n",
    "             n_estimators=100, n_iter_no_change=None, presort='auto',\n",
    "             random_state=40, subsample=1.0, tol=0.0001,\n",
    "             validation_fraction=0.1, verbose=0, warm_start=False)\n",
    "model.fit(X_train,Y_train)\n",
    "prediction13 = model.predict(X_test)\n",
    "print(\"Accuracy Score\", r2_score(Y_test, prediction13))\n",
    "mse = mean_squared_error(Y_test, prediction13)\n",
    "print(\"The root mean square value\", math.sqrt(mse))"
   ]
  },
  {
   "cell_type": "code",
   "execution_count": 128,
   "metadata": {},
   "outputs": [
    {
     "name": "stdout",
     "output_type": "stream",
     "text": [
      "Accuracy Score 0.9372077598204599\n",
      "The root mean square value 186.05532946896193\n"
     ]
    }
   ],
   "source": [
    "from sklearn.ensemble import RandomForestRegressor\n",
    "rfg = RandomForestRegressor(bootstrap=True, criterion='mse', max_depth=None,\n",
    "           max_features='auto', max_leaf_nodes=None,\n",
    "           min_impurity_decrease=0.0, min_impurity_split=None,\n",
    "           min_samples_leaf=5, min_samples_split=2,\n",
    "           min_weight_fraction_leaf=0.0, n_estimators=10, n_jobs=None,\n",
    "           oob_score=False, random_state=40, verbose=0, warm_start=False)\n",
    "rfg.fit(X_train, Y_train)\n",
    "prediction14 = rfg.predict(X_test)\n",
    "print(\"Accuracy Score\", r2_score(Y_test, prediction14))\n",
    "mse2 = mean_squared_error(Y_test, prediction14)\n",
    "print(\"The root mean square value\", math.sqrt(mse2))\n"
   ]
  },
  {
   "cell_type": "code",
   "execution_count": null,
   "metadata": {},
   "outputs": [],
   "source": []
  }
 ],
 "metadata": {
  "kernelspec": {
   "display_name": "Python 3",
   "language": "python",
   "name": "python3"
  },
  "language_info": {
   "codemirror_mode": {
    "name": "ipython",
    "version": 3
   },
   "file_extension": ".py",
   "mimetype": "text/x-python",
   "name": "python",
   "nbconvert_exporter": "python",
   "pygments_lexer": "ipython3",
   "version": "3.7.3"
  }
 },
 "nbformat": 4,
 "nbformat_minor": 2
}
