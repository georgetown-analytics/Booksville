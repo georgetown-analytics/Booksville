{
 "cells": [
  {
   "cell_type": "markdown",
   "metadata": {},
   "source": [
    "## Importing the necesssary Libraries"
   ]
  },
  {
   "cell_type": "code",
   "execution_count": 1,
   "metadata": {},
   "outputs": [],
   "source": [
    "import pandas as pd\n",
    "import numpy as np\n",
    "\n",
    "import seaborn as sns\n",
    "import matplotlib.pyplot as plt\n",
    "%matplotlib inline\n",
    "\n",
    "import psycopg2 as pg2\n",
    "import datetime as dt\n",
    "# package used for converting the data into datetime format\n",
    "from sklearn.preprocessing import LabelEncoder\n",
    "\n",
    "from sklearn.feature_selection import RFE, f_regression\n",
    "from sklearn.linear_model import (LinearRegression, Ridge, Lasso, RandomizedLasso)\n",
    "from sklearn.preprocessing import MinMaxScaler\n",
    "from sklearn.ensemble import RandomForestRegressor\n",
    "\n",
    "import warnings\n",
    "warnings.filterwarnings(\"ignore\")\n",
    "\n",
    "## Execution time counter\n",
    "#%load_ext autotime"
   ]
  },
  {
   "cell_type": "markdown",
   "metadata": {},
   "source": [
    "## Establish connection to the PostgreSQL database"
   ]
  },
  {
   "cell_type": "code",
   "execution_count": 2,
   "metadata": {},
   "outputs": [],
   "source": [
    "conn= pg2.connect('dbname = Amazon user= postgres password =data host= 127.0.0.1')\n",
    "cur=conn.cursor()\n",
    "df_raw = pd.read_sql_query('select * from public.keepa', conn)"
   ]
  },
  {
   "cell_type": "code",
   "execution_count": 3,
   "metadata": {},
   "outputs": [
    {
     "name": "stdout",
     "output_type": "stream",
     "text": [
      "Starting size of our Dataset \n"
     ]
    },
    {
     "data": {
      "text/plain": [
       "(100192, 79)"
      ]
     },
     "execution_count": 3,
     "metadata": {},
     "output_type": "execute_result"
    }
   ],
   "source": [
    "#Check the dimension of the raw data to see if its properly imported\n",
    "print('Starting size of our Dataset ')\n",
    "df_raw.shape"
   ]
  },
  {
   "cell_type": "code",
   "execution_count": 4,
   "metadata": {},
   "outputs": [
    {
     "data": {
      "text/plain": [
       "object    77\n",
       "int64      2\n",
       "dtype: int64"
      ]
     },
     "execution_count": 4,
     "metadata": {},
     "output_type": "execute_result"
    }
   ],
   "source": [
    "# Print out count of each datatype in the dataframe\n",
    "df_raw.dtypes.value_counts()"
   ]
  },
  {
   "cell_type": "markdown",
   "metadata": {},
   "source": [
    "### Price Aggregator\n",
    "\n",
    "Amazon's listing price for books is stored in one of three columns in keepa's Amazon Price Tracker data dump we obtained for this capstone project. If Amazon is fullfilling the sale, the price comes from amazon_price column. But if the book is sold by a third party seller,  the listing price would be marketplace_new_price for new books and for used ones the listing price will be marketplace_used_price.  \n",
    "\n",
    "We  are  combing the three columns in to one called 'price' and assign its value based on the the given price assignment information.\n",
    "\n",
    "The aggregator function adds the new column to the dataset and assigns the value that appers first from the following list and finally drops the three columns from the dataset.      \n",
    "         * amazon_Price        \n",
    "         * marketplace_new        \n",
    "         * marketplace_used_price"
   ]
  },
  {
   "cell_type": "code",
   "execution_count": 5,
   "metadata": {},
   "outputs": [],
   "source": [
    "\n",
    "def PriceAggregator(original_df):\n",
    "    \n",
    "    df=original_df\n",
    "    # create a copy of the three columns to choose amazon price from\n",
    "    df_copy=df[['amazon_price','marketplace_new_price','marketplace_used_price']]\n",
    "    \n",
    "    # Replace missing price denoted by -1 to Null in all three price columns   \n",
    "    for item in df_copy:\n",
    "        df_copy[item].replace('-1',np.nan, inplace=True)\n",
    "        \n",
    "    # Add a new column to store the aggregated price with default value of 'amazon_price'         \n",
    "    df.insert(79,'price',df_copy['amazon_price'].astype('float'))\n",
    "    \n",
    "    \n",
    "    #Loop throgh all three columns to assign non-null value to the newly created price column. \n",
    "    #Keep amazon_price as is if not null, otherwise assign marketplace_new_price as the new price. \n",
    "    #Where both 'amazon_price' and 'marketplace_new_price' are null, price will be set to \n",
    "    #'marketplace_used_price' regardless of its value.\n",
    "    \n",
    "    for i in range(df['price'].size):\n",
    "        if pd.isnull(df['price'][i]):\n",
    "            if pd.isnull(df_copy['marketplace_new_price'][i]):\n",
    "                if pd.isnull(df_copy['marketplace_used_price'][i]):\n",
    "                    pass\n",
    "                else:\n",
    "                    df['price'][i]=df_copy['marketplace_used_price'][i]\n",
    "            else:\n",
    "                df['price'][i]=df_copy['marketplace_new_price'][i]\n",
    "        else:\n",
    "            pass\n",
    "    \n",
    "    # Delete records where price value is missing since that is what we are trying to predict \n",
    "    df.dropna(subset=['price'], axis=0, inplace=True)\n",
    "    \n",
    "    #Reset index after dropping rows with missing price\n",
    "    df.reset_index(drop= True, inplace=True)\n",
    "    \n",
    "    #Delete old price columns after assigning aggregated price to a brand new column    \n",
    "    df.drop(['amazon_price','marketplace_new_price','marketplace_used_price'], axis=1 , inplace=True)\n",
    "    \n",
    "    #Return the a dataframe with a new price column added to the original dataframe\n",
    "    return df   \n",
    "    \n",
    "    "
   ]
  },
  {
   "cell_type": "code",
   "execution_count": 6,
   "metadata": {},
   "outputs": [],
   "source": [
    "df=PriceAggregator(df_raw)"
   ]
  },
  {
   "cell_type": "code",
   "execution_count": 7,
   "metadata": {},
   "outputs": [
    {
     "data": {
      "text/plain": [
       "(99658, 77)"
      ]
     },
     "execution_count": 7,
     "metadata": {},
     "output_type": "execute_result"
    }
   ],
   "source": [
    "df.shape"
   ]
  },
  {
   "cell_type": "markdown",
   "metadata": {},
   "source": [
    "## Delete duplicate records, if there are any."
   ]
  },
  {
   "cell_type": "code",
   "execution_count": 8,
   "metadata": {},
   "outputs": [
    {
     "data": {
      "text/plain": [
       "(99658, 77)"
      ]
     },
     "execution_count": 8,
     "metadata": {},
     "output_type": "execute_result"
    }
   ],
   "source": [
    "# data size before deleting duplicates\n",
    "df.shape"
   ]
  },
  {
   "cell_type": "code",
   "execution_count": 9,
   "metadata": {},
   "outputs": [],
   "source": [
    "df.drop_duplicates(inplace = True)"
   ]
  },
  {
   "cell_type": "code",
   "execution_count": 10,
   "metadata": {},
   "outputs": [
    {
     "data": {
      "text/plain": [
       "(99600, 77)"
      ]
     },
     "execution_count": 10,
     "metadata": {},
     "output_type": "execute_result"
    }
   ],
   "source": [
    "# data size after deleting duplicates\n",
    "df.shape"
   ]
  },
  {
   "cell_type": "markdown",
   "metadata": {},
   "source": [
    "We can see from .shape() function that there are 99600 unique records with 77 features in the dataset."
   ]
  },
  {
   "cell_type": "markdown",
   "metadata": {},
   "source": [
    "## Understanding the Data"
   ]
  },
  {
   "cell_type": "code",
   "execution_count": 11,
   "metadata": {},
   "outputs": [
    {
     "data": {
      "text/html": [
       "<div>\n",
       "<style scoped>\n",
       "    .dataframe tbody tr th:only-of-type {\n",
       "        vertical-align: middle;\n",
       "    }\n",
       "\n",
       "    .dataframe tbody tr th {\n",
       "        vertical-align: top;\n",
       "    }\n",
       "\n",
       "    .dataframe thead th {\n",
       "        text-align: right;\n",
       "    }\n",
       "</style>\n",
       "<table border=\"1\" class=\"dataframe\">\n",
       "  <thead>\n",
       "    <tr style=\"text-align: right;\">\n",
       "      <th></th>\n",
       "      <th>productType</th>\n",
       "      <th>asin</th>\n",
       "      <th>author</th>\n",
       "      <th>availabilityAmazon</th>\n",
       "      <th>binding</th>\n",
       "      <th>brand</th>\n",
       "      <th>buyBoxSellerIdHistory</th>\n",
       "      <th>categoryTree_0</th>\n",
       "      <th>categoryTree_1</th>\n",
       "      <th>categoryTree_2</th>\n",
       "      <th>...</th>\n",
       "      <th>studio</th>\n",
       "      <th>title</th>\n",
       "      <th>trackingSince</th>\n",
       "      <th>type</th>\n",
       "      <th>upc</th>\n",
       "      <th>upcList</th>\n",
       "      <th>variationCSV</th>\n",
       "      <th>variations</th>\n",
       "      <th>sales_rank</th>\n",
       "      <th>price</th>\n",
       "    </tr>\n",
       "  </thead>\n",
       "  <tbody>\n",
       "    <tr>\n",
       "      <th>0</th>\n",
       "      <td>1</td>\n",
       "      <td>B017WJ5PR4</td>\n",
       "      <td>J.K. Rowling</td>\n",
       "      <td>0</td>\n",
       "      <td>Audible Audiobook</td>\n",
       "      <td></td>\n",
       "      <td></td>\n",
       "      <td>Books</td>\n",
       "      <td>Subjects</td>\n",
       "      <td>Teen &amp; Young Adult</td>\n",
       "      <td>...</td>\n",
       "      <td>Pottermore Publishing</td>\n",
       "      <td>Harry Potter and the Deathly Hallows, Book 7</td>\n",
       "      <td>3796800</td>\n",
       "      <td>DOWNLOADABLE_AUDIO</td>\n",
       "      <td>0</td>\n",
       "      <td></td>\n",
       "      <td></td>\n",
       "      <td></td>\n",
       "      <td>41</td>\n",
       "      <td>4499.0</td>\n",
       "    </tr>\n",
       "    <tr>\n",
       "      <th>1</th>\n",
       "      <td>1</td>\n",
       "      <td>B07H4WPSS2</td>\n",
       "      <td>Adam Grant</td>\n",
       "      <td>0</td>\n",
       "      <td>Audible Audiobook</td>\n",
       "      <td></td>\n",
       "      <td></td>\n",
       "      <td>Books</td>\n",
       "      <td>Subjects</td>\n",
       "      <td>Biographies &amp; Memoirs</td>\n",
       "      <td>...</td>\n",
       "      <td>Audible Studios</td>\n",
       "      <td>Power Moves: Lessons from Davos</td>\n",
       "      <td>4060296</td>\n",
       "      <td>DOWNLOADABLE_AUDIO</td>\n",
       "      <td>0</td>\n",
       "      <td></td>\n",
       "      <td></td>\n",
       "      <td></td>\n",
       "      <td>43</td>\n",
       "      <td>696.0</td>\n",
       "    </tr>\n",
       "    <tr>\n",
       "      <th>2</th>\n",
       "      <td>0</td>\n",
       "      <td>038538369X</td>\n",
       "      <td>Naomi Kleinberg</td>\n",
       "      <td>0</td>\n",
       "      <td>Board book</td>\n",
       "      <td>Random House Books for Young Readers</td>\n",
       "      <td></td>\n",
       "      <td>Books</td>\n",
       "      <td>Subjects</td>\n",
       "      <td>Children's Books</td>\n",
       "      <td>...</td>\n",
       "      <td>Random House Books for Young Readers</td>\n",
       "      <td>P is for Potty! (Sesame Street) (Lift-the-Flap)</td>\n",
       "      <td>1708140</td>\n",
       "      <td>ABIS_BOOK</td>\n",
       "      <td>0</td>\n",
       "      <td></td>\n",
       "      <td></td>\n",
       "      <td></td>\n",
       "      <td>30</td>\n",
       "      <td>599.0</td>\n",
       "    </tr>\n",
       "  </tbody>\n",
       "</table>\n",
       "<p>3 rows × 77 columns</p>\n",
       "</div>"
      ],
      "text/plain": [
       "   productType        asin           author availabilityAmazon  \\\n",
       "0            1  B017WJ5PR4     J.K. Rowling                  0   \n",
       "1            1  B07H4WPSS2       Adam Grant                  0   \n",
       "2            0  038538369X  Naomi Kleinberg                  0   \n",
       "\n",
       "             binding                                 brand  \\\n",
       "0  Audible Audiobook                                         \n",
       "1  Audible Audiobook                                         \n",
       "2         Board book  Random House Books for Young Readers   \n",
       "\n",
       "  buyBoxSellerIdHistory categoryTree_0 categoryTree_1         categoryTree_2  \\\n",
       "0                                Books       Subjects     Teen & Young Adult   \n",
       "1                                Books       Subjects  Biographies & Memoirs   \n",
       "2                                Books       Subjects       Children's Books   \n",
       "\n",
       "   ...                                studio  \\\n",
       "0  ...                 Pottermore Publishing   \n",
       "1  ...                       Audible Studios   \n",
       "2  ...  Random House Books for Young Readers   \n",
       "\n",
       "                                             title trackingSince  \\\n",
       "0     Harry Potter and the Deathly Hallows, Book 7       3796800   \n",
       "1                  Power Moves: Lessons from Davos       4060296   \n",
       "2  P is for Potty! (Sesame Street) (Lift-the-Flap)       1708140   \n",
       "\n",
       "                 type upc  upcList variationCSV variations sales_rank   price  \n",
       "0  DOWNLOADABLE_AUDIO   0                                          41  4499.0  \n",
       "1  DOWNLOADABLE_AUDIO   0                                          43   696.0  \n",
       "2           ABIS_BOOK   0                                          30   599.0  \n",
       "\n",
       "[3 rows x 77 columns]"
      ]
     },
     "execution_count": 11,
     "metadata": {},
     "output_type": "execute_result"
    }
   ],
   "source": [
    "# Highlight of the dataframe\n",
    "df.head(3)"
   ]
  },
  {
   "cell_type": "markdown",
   "metadata": {},
   "source": [
    "Descriptive statistics that summarize the central tendency, dispersion and shape of a dataset’s distribution,"
   ]
  },
  {
   "cell_type": "code",
   "execution_count": 12,
   "metadata": {},
   "outputs": [
    {
     "data": {
      "text/html": [
       "<div>\n",
       "<style scoped>\n",
       "    .dataframe tbody tr th:only-of-type {\n",
       "        vertical-align: middle;\n",
       "    }\n",
       "\n",
       "    .dataframe tbody tr th {\n",
       "        vertical-align: top;\n",
       "    }\n",
       "\n",
       "    .dataframe thead th {\n",
       "        text-align: right;\n",
       "    }\n",
       "</style>\n",
       "<table border=\"1\" class=\"dataframe\">\n",
       "  <thead>\n",
       "    <tr style=\"text-align: right;\">\n",
       "      <th></th>\n",
       "      <th>productType</th>\n",
       "      <th>asin</th>\n",
       "      <th>author</th>\n",
       "      <th>availabilityAmazon</th>\n",
       "      <th>binding</th>\n",
       "      <th>brand</th>\n",
       "      <th>buyBoxSellerIdHistory</th>\n",
       "      <th>categoryTree_0</th>\n",
       "      <th>categoryTree_1</th>\n",
       "      <th>categoryTree_2</th>\n",
       "      <th>...</th>\n",
       "      <th>studio</th>\n",
       "      <th>title</th>\n",
       "      <th>trackingSince</th>\n",
       "      <th>type</th>\n",
       "      <th>upc</th>\n",
       "      <th>upcList</th>\n",
       "      <th>variationCSV</th>\n",
       "      <th>variations</th>\n",
       "      <th>sales_rank</th>\n",
       "      <th>price</th>\n",
       "    </tr>\n",
       "  </thead>\n",
       "  <tbody>\n",
       "    <tr>\n",
       "      <th>count</th>\n",
       "      <td>99600.000000</td>\n",
       "      <td>99600</td>\n",
       "      <td>99600</td>\n",
       "      <td>99600</td>\n",
       "      <td>99600</td>\n",
       "      <td>99600</td>\n",
       "      <td>99600</td>\n",
       "      <td>99594</td>\n",
       "      <td>99594</td>\n",
       "      <td>96636</td>\n",
       "      <td>...</td>\n",
       "      <td>99600</td>\n",
       "      <td>99600</td>\n",
       "      <td>99600</td>\n",
       "      <td>99600</td>\n",
       "      <td>99600</td>\n",
       "      <td>92565</td>\n",
       "      <td>99600</td>\n",
       "      <td>99600</td>\n",
       "      <td>99600</td>\n",
       "      <td>99600.000000</td>\n",
       "    </tr>\n",
       "    <tr>\n",
       "      <th>unique</th>\n",
       "      <td>NaN</td>\n",
       "      <td>99467</td>\n",
       "      <td>37563</td>\n",
       "      <td>4</td>\n",
       "      <td>73</td>\n",
       "      <td>7403</td>\n",
       "      <td>1</td>\n",
       "      <td>12</td>\n",
       "      <td>16</td>\n",
       "      <td>46</td>\n",
       "      <td>...</td>\n",
       "      <td>10107</td>\n",
       "      <td>89646</td>\n",
       "      <td>52318</td>\n",
       "      <td>45</td>\n",
       "      <td>7018</td>\n",
       "      <td>1</td>\n",
       "      <td>33</td>\n",
       "      <td>1</td>\n",
       "      <td>60449</td>\n",
       "      <td>NaN</td>\n",
       "    </tr>\n",
       "    <tr>\n",
       "      <th>top</th>\n",
       "      <td>NaN</td>\n",
       "      <td>B007VDJG0E</td>\n",
       "      <td></td>\n",
       "      <td>0</td>\n",
       "      <td>Audible Audiobook</td>\n",
       "      <td></td>\n",
       "      <td></td>\n",
       "      <td>Books</td>\n",
       "      <td>Subjects</td>\n",
       "      <td>Literature &amp; Fiction</td>\n",
       "      <td>...</td>\n",
       "      <td>Audible Studios</td>\n",
       "      <td>Think and Grow Rich</td>\n",
       "      <td>119040</td>\n",
       "      <td>ABIS_BOOK</td>\n",
       "      <td>0</td>\n",
       "      <td></td>\n",
       "      <td></td>\n",
       "      <td></td>\n",
       "      <td>258</td>\n",
       "      <td>NaN</td>\n",
       "    </tr>\n",
       "    <tr>\n",
       "      <th>freq</th>\n",
       "      <td>NaN</td>\n",
       "      <td>2</td>\n",
       "      <td>2060</td>\n",
       "      <td>95037</td>\n",
       "      <td>44619</td>\n",
       "      <td>67295</td>\n",
       "      <td>99600</td>\n",
       "      <td>99576</td>\n",
       "      <td>99576</td>\n",
       "      <td>17441</td>\n",
       "      <td>...</td>\n",
       "      <td>4267</td>\n",
       "      <td>15</td>\n",
       "      <td>4510</td>\n",
       "      <td>54138</td>\n",
       "      <td>92565</td>\n",
       "      <td>92565</td>\n",
       "      <td>99541</td>\n",
       "      <td>99600</td>\n",
       "      <td>11</td>\n",
       "      <td>NaN</td>\n",
       "    </tr>\n",
       "    <tr>\n",
       "      <th>mean</th>\n",
       "      <td>0.451878</td>\n",
       "      <td>NaN</td>\n",
       "      <td>NaN</td>\n",
       "      <td>NaN</td>\n",
       "      <td>NaN</td>\n",
       "      <td>NaN</td>\n",
       "      <td>NaN</td>\n",
       "      <td>NaN</td>\n",
       "      <td>NaN</td>\n",
       "      <td>NaN</td>\n",
       "      <td>...</td>\n",
       "      <td>NaN</td>\n",
       "      <td>NaN</td>\n",
       "      <td>NaN</td>\n",
       "      <td>NaN</td>\n",
       "      <td>NaN</td>\n",
       "      <td>NaN</td>\n",
       "      <td>NaN</td>\n",
       "      <td>NaN</td>\n",
       "      <td>NaN</td>\n",
       "      <td>1981.619367</td>\n",
       "    </tr>\n",
       "    <tr>\n",
       "      <th>std</th>\n",
       "      <td>0.508459</td>\n",
       "      <td>NaN</td>\n",
       "      <td>NaN</td>\n",
       "      <td>NaN</td>\n",
       "      <td>NaN</td>\n",
       "      <td>NaN</td>\n",
       "      <td>NaN</td>\n",
       "      <td>NaN</td>\n",
       "      <td>NaN</td>\n",
       "      <td>NaN</td>\n",
       "      <td>...</td>\n",
       "      <td>NaN</td>\n",
       "      <td>NaN</td>\n",
       "      <td>NaN</td>\n",
       "      <td>NaN</td>\n",
       "      <td>NaN</td>\n",
       "      <td>NaN</td>\n",
       "      <td>NaN</td>\n",
       "      <td>NaN</td>\n",
       "      <td>NaN</td>\n",
       "      <td>3067.885740</td>\n",
       "    </tr>\n",
       "    <tr>\n",
       "      <th>min</th>\n",
       "      <td>0.000000</td>\n",
       "      <td>NaN</td>\n",
       "      <td>NaN</td>\n",
       "      <td>NaN</td>\n",
       "      <td>NaN</td>\n",
       "      <td>NaN</td>\n",
       "      <td>NaN</td>\n",
       "      <td>NaN</td>\n",
       "      <td>NaN</td>\n",
       "      <td>NaN</td>\n",
       "      <td>...</td>\n",
       "      <td>NaN</td>\n",
       "      <td>NaN</td>\n",
       "      <td>NaN</td>\n",
       "      <td>NaN</td>\n",
       "      <td>NaN</td>\n",
       "      <td>NaN</td>\n",
       "      <td>NaN</td>\n",
       "      <td>NaN</td>\n",
       "      <td>NaN</td>\n",
       "      <td>1.000000</td>\n",
       "    </tr>\n",
       "    <tr>\n",
       "      <th>25%</th>\n",
       "      <td>0.000000</td>\n",
       "      <td>NaN</td>\n",
       "      <td>NaN</td>\n",
       "      <td>NaN</td>\n",
       "      <td>NaN</td>\n",
       "      <td>NaN</td>\n",
       "      <td>NaN</td>\n",
       "      <td>NaN</td>\n",
       "      <td>NaN</td>\n",
       "      <td>NaN</td>\n",
       "      <td>...</td>\n",
       "      <td>NaN</td>\n",
       "      <td>NaN</td>\n",
       "      <td>NaN</td>\n",
       "      <td>NaN</td>\n",
       "      <td>NaN</td>\n",
       "      <td>NaN</td>\n",
       "      <td>NaN</td>\n",
       "      <td>NaN</td>\n",
       "      <td>NaN</td>\n",
       "      <td>1045.000000</td>\n",
       "    </tr>\n",
       "    <tr>\n",
       "      <th>50%</th>\n",
       "      <td>0.000000</td>\n",
       "      <td>NaN</td>\n",
       "      <td>NaN</td>\n",
       "      <td>NaN</td>\n",
       "      <td>NaN</td>\n",
       "      <td>NaN</td>\n",
       "      <td>NaN</td>\n",
       "      <td>NaN</td>\n",
       "      <td>NaN</td>\n",
       "      <td>NaN</td>\n",
       "      <td>...</td>\n",
       "      <td>NaN</td>\n",
       "      <td>NaN</td>\n",
       "      <td>NaN</td>\n",
       "      <td>NaN</td>\n",
       "      <td>NaN</td>\n",
       "      <td>NaN</td>\n",
       "      <td>NaN</td>\n",
       "      <td>NaN</td>\n",
       "      <td>NaN</td>\n",
       "      <td>1524.000000</td>\n",
       "    </tr>\n",
       "    <tr>\n",
       "      <th>75%</th>\n",
       "      <td>1.000000</td>\n",
       "      <td>NaN</td>\n",
       "      <td>NaN</td>\n",
       "      <td>NaN</td>\n",
       "      <td>NaN</td>\n",
       "      <td>NaN</td>\n",
       "      <td>NaN</td>\n",
       "      <td>NaN</td>\n",
       "      <td>NaN</td>\n",
       "      <td>NaN</td>\n",
       "      <td>...</td>\n",
       "      <td>NaN</td>\n",
       "      <td>NaN</td>\n",
       "      <td>NaN</td>\n",
       "      <td>NaN</td>\n",
       "      <td>NaN</td>\n",
       "      <td>NaN</td>\n",
       "      <td>NaN</td>\n",
       "      <td>NaN</td>\n",
       "      <td>NaN</td>\n",
       "      <td>2195.000000</td>\n",
       "    </tr>\n",
       "    <tr>\n",
       "      <th>max</th>\n",
       "      <td>4.000000</td>\n",
       "      <td>NaN</td>\n",
       "      <td>NaN</td>\n",
       "      <td>NaN</td>\n",
       "      <td>NaN</td>\n",
       "      <td>NaN</td>\n",
       "      <td>NaN</td>\n",
       "      <td>NaN</td>\n",
       "      <td>NaN</td>\n",
       "      <td>NaN</td>\n",
       "      <td>...</td>\n",
       "      <td>NaN</td>\n",
       "      <td>NaN</td>\n",
       "      <td>NaN</td>\n",
       "      <td>NaN</td>\n",
       "      <td>NaN</td>\n",
       "      <td>NaN</td>\n",
       "      <td>NaN</td>\n",
       "      <td>NaN</td>\n",
       "      <td>NaN</td>\n",
       "      <td>500000.000000</td>\n",
       "    </tr>\n",
       "  </tbody>\n",
       "</table>\n",
       "<p>11 rows × 77 columns</p>\n",
       "</div>"
      ],
      "text/plain": [
       "         productType        asin author availabilityAmazon            binding  \\\n",
       "count   99600.000000       99600  99600              99600              99600   \n",
       "unique           NaN       99467  37563                  4                 73   \n",
       "top              NaN  B007VDJG0E                         0  Audible Audiobook   \n",
       "freq             NaN           2   2060              95037              44619   \n",
       "mean        0.451878         NaN    NaN                NaN                NaN   \n",
       "std         0.508459         NaN    NaN                NaN                NaN   \n",
       "min         0.000000         NaN    NaN                NaN                NaN   \n",
       "25%         0.000000         NaN    NaN                NaN                NaN   \n",
       "50%         0.000000         NaN    NaN                NaN                NaN   \n",
       "75%         1.000000         NaN    NaN                NaN                NaN   \n",
       "max         4.000000         NaN    NaN                NaN                NaN   \n",
       "\n",
       "        brand buyBoxSellerIdHistory categoryTree_0 categoryTree_1  \\\n",
       "count   99600                 99600          99594          99594   \n",
       "unique   7403                     1             12             16   \n",
       "top                                          Books       Subjects   \n",
       "freq    67295                 99600          99576          99576   \n",
       "mean      NaN                   NaN            NaN            NaN   \n",
       "std       NaN                   NaN            NaN            NaN   \n",
       "min       NaN                   NaN            NaN            NaN   \n",
       "25%       NaN                   NaN            NaN            NaN   \n",
       "50%       NaN                   NaN            NaN            NaN   \n",
       "75%       NaN                   NaN            NaN            NaN   \n",
       "max       NaN                   NaN            NaN            NaN   \n",
       "\n",
       "              categoryTree_2  ...           studio                title  \\\n",
       "count                  96636  ...            99600                99600   \n",
       "unique                    46  ...            10107                89646   \n",
       "top     Literature & Fiction  ...  Audible Studios  Think and Grow Rich   \n",
       "freq                   17441  ...             4267                   15   \n",
       "mean                     NaN  ...              NaN                  NaN   \n",
       "std                      NaN  ...              NaN                  NaN   \n",
       "min                      NaN  ...              NaN                  NaN   \n",
       "25%                      NaN  ...              NaN                  NaN   \n",
       "50%                      NaN  ...              NaN                  NaN   \n",
       "75%                      NaN  ...              NaN                  NaN   \n",
       "max                      NaN  ...              NaN                  NaN   \n",
       "\n",
       "       trackingSince       type    upc  upcList variationCSV variations  \\\n",
       "count          99600      99600  99600    92565        99600      99600   \n",
       "unique         52318         45   7018        1           33          1   \n",
       "top           119040  ABIS_BOOK      0                                    \n",
       "freq            4510      54138  92565    92565        99541      99600   \n",
       "mean             NaN        NaN    NaN      NaN          NaN        NaN   \n",
       "std              NaN        NaN    NaN      NaN          NaN        NaN   \n",
       "min              NaN        NaN    NaN      NaN          NaN        NaN   \n",
       "25%              NaN        NaN    NaN      NaN          NaN        NaN   \n",
       "50%              NaN        NaN    NaN      NaN          NaN        NaN   \n",
       "75%              NaN        NaN    NaN      NaN          NaN        NaN   \n",
       "max              NaN        NaN    NaN      NaN          NaN        NaN   \n",
       "\n",
       "       sales_rank          price  \n",
       "count       99600   99600.000000  \n",
       "unique      60449            NaN  \n",
       "top           258            NaN  \n",
       "freq           11            NaN  \n",
       "mean          NaN    1981.619367  \n",
       "std           NaN    3067.885740  \n",
       "min           NaN       1.000000  \n",
       "25%           NaN    1045.000000  \n",
       "50%           NaN    1524.000000  \n",
       "75%           NaN    2195.000000  \n",
       "max           NaN  500000.000000  \n",
       "\n",
       "[11 rows x 77 columns]"
      ]
     },
     "execution_count": 12,
     "metadata": {},
     "output_type": "execute_result"
    }
   ],
   "source": [
    "df.describe(include= 'all' )"
   ]
  },
  {
   "cell_type": "markdown",
   "metadata": {},
   "source": [
    "The data was stored in the PostgreSQL database as text(string) type and running discriptive statistics with .describe() on the dataframe doesnt tell us much until we do the proper type conversion."
   ]
  },
  {
   "cell_type": "markdown",
   "metadata": {},
   "source": [
    " # Data Wrangling \n",
    " \n",
    "Data wrangling is the process of converting data from the initial format to a format that may be better for analysis. As part of the wrangling process we are applying different techniques to comeup with a cleaner and complete dataset to apply machine learning. Here are some of he steps we are following;\n",
    "    - Identify Missing Values\n",
    "    - Replace or Delete Missing Values\n",
    "    - Correct Data format\n",
    "    - Aggregate highly related categorical values where necessary"
   ]
  },
  {
   "cell_type": "markdown",
   "metadata": {},
   "source": [
    "### Replace missing values with Null Values."
   ]
  },
  {
   "cell_type": "markdown",
   "metadata": {},
   "source": [
    "We will replace every missing values with Numpy Null inorder to keep uniformity and computational speed.  "
   ]
  },
  {
   "cell_type": "code",
   "execution_count": 13,
   "metadata": {},
   "outputs": [],
   "source": [
    "df.fillna(np.NaN)\n",
    "df.replace('', np.NaN, inplace=True)"
   ]
  },
  {
   "cell_type": "code",
   "execution_count": 14,
   "metadata": {},
   "outputs": [
    {
     "data": {
      "text/html": [
       "<div>\n",
       "<style scoped>\n",
       "    .dataframe tbody tr th:only-of-type {\n",
       "        vertical-align: middle;\n",
       "    }\n",
       "\n",
       "    .dataframe tbody tr th {\n",
       "        vertical-align: top;\n",
       "    }\n",
       "\n",
       "    .dataframe thead th {\n",
       "        text-align: right;\n",
       "    }\n",
       "</style>\n",
       "<table border=\"1\" class=\"dataframe\">\n",
       "  <thead>\n",
       "    <tr style=\"text-align: right;\">\n",
       "      <th></th>\n",
       "      <th>Count of Null Values</th>\n",
       "    </tr>\n",
       "  </thead>\n",
       "  <tbody>\n",
       "    <tr>\n",
       "      <th>coupon</th>\n",
       "      <td>99600</td>\n",
       "    </tr>\n",
       "    <tr>\n",
       "      <th>offers</th>\n",
       "      <td>99600</td>\n",
       "    </tr>\n",
       "    <tr>\n",
       "      <th>liveOffersOrder</th>\n",
       "      <td>99600</td>\n",
       "    </tr>\n",
       "    <tr>\n",
       "      <th>promotions</th>\n",
       "      <td>99600</td>\n",
       "    </tr>\n",
       "    <tr>\n",
       "      <th>buyBoxSellerIdHistory</th>\n",
       "      <td>99600</td>\n",
       "    </tr>\n",
       "    <tr>\n",
       "      <th>features</th>\n",
       "      <td>99600</td>\n",
       "    </tr>\n",
       "    <tr>\n",
       "      <th>upcList</th>\n",
       "      <td>99600</td>\n",
       "    </tr>\n",
       "    <tr>\n",
       "      <th>variations</th>\n",
       "      <td>99600</td>\n",
       "    </tr>\n",
       "    <tr>\n",
       "      <th>hazardousMaterialType</th>\n",
       "      <td>99599</td>\n",
       "    </tr>\n",
       "    <tr>\n",
       "      <th>genre</th>\n",
       "      <td>99565</td>\n",
       "    </tr>\n",
       "    <tr>\n",
       "      <th>platform</th>\n",
       "      <td>99551</td>\n",
       "    </tr>\n",
       "    <tr>\n",
       "      <th>variationCSV</th>\n",
       "      <td>99541</td>\n",
       "    </tr>\n",
       "    <tr>\n",
       "      <th>parentAsin</th>\n",
       "      <td>99404</td>\n",
       "    </tr>\n",
       "    <tr>\n",
       "      <th>department</th>\n",
       "      <td>99087</td>\n",
       "    </tr>\n",
       "    <tr>\n",
       "      <th>size</th>\n",
       "      <td>98585</td>\n",
       "    </tr>\n",
       "    <tr>\n",
       "      <th>model</th>\n",
       "      <td>96864</td>\n",
       "    </tr>\n",
       "    <tr>\n",
       "      <th>color</th>\n",
       "      <td>96533</td>\n",
       "    </tr>\n",
       "    <tr>\n",
       "      <th>partNumber</th>\n",
       "      <td>68582</td>\n",
       "    </tr>\n",
       "    <tr>\n",
       "      <th>mpn</th>\n",
       "      <td>68560</td>\n",
       "    </tr>\n",
       "    <tr>\n",
       "      <th>brand</th>\n",
       "      <td>67295</td>\n",
       "    </tr>\n",
       "    <tr>\n",
       "      <th>edition</th>\n",
       "      <td>65652</td>\n",
       "    </tr>\n",
       "    <tr>\n",
       "      <th>format</th>\n",
       "      <td>52034</td>\n",
       "    </tr>\n",
       "    <tr>\n",
       "      <th>categoryTree_4</th>\n",
       "      <td>34740</td>\n",
       "    </tr>\n",
       "    <tr>\n",
       "      <th>categoryTree_3</th>\n",
       "      <td>7172</td>\n",
       "    </tr>\n",
       "    <tr>\n",
       "      <th>categoryTree_2</th>\n",
       "      <td>2964</td>\n",
       "    </tr>\n",
       "    <tr>\n",
       "      <th>author</th>\n",
       "      <td>2060</td>\n",
       "    </tr>\n",
       "    <tr>\n",
       "      <th>languages_0</th>\n",
       "      <td>493</td>\n",
       "    </tr>\n",
       "    <tr>\n",
       "      <th>studio</th>\n",
       "      <td>106</td>\n",
       "    </tr>\n",
       "    <tr>\n",
       "      <th>manufacturer</th>\n",
       "      <td>106</td>\n",
       "    </tr>\n",
       "    <tr>\n",
       "      <th>publisher</th>\n",
       "      <td>106</td>\n",
       "    </tr>\n",
       "    <tr>\n",
       "      <th>...</th>\n",
       "      <td>...</td>\n",
       "    </tr>\n",
       "    <tr>\n",
       "      <th>lastRatingUpdate</th>\n",
       "      <td>0</td>\n",
       "    </tr>\n",
       "    <tr>\n",
       "      <th>lastUpdate</th>\n",
       "      <td>0</td>\n",
       "    </tr>\n",
       "    <tr>\n",
       "      <th>upc</th>\n",
       "      <td>0</td>\n",
       "    </tr>\n",
       "    <tr>\n",
       "      <th>type</th>\n",
       "      <td>0</td>\n",
       "    </tr>\n",
       "    <tr>\n",
       "      <th>trackingSince</th>\n",
       "      <td>0</td>\n",
       "    </tr>\n",
       "    <tr>\n",
       "      <th>title</th>\n",
       "      <td>0</td>\n",
       "    </tr>\n",
       "    <tr>\n",
       "      <th>stats_outOfStockPercentageInInterval</th>\n",
       "      <td>0</td>\n",
       "    </tr>\n",
       "    <tr>\n",
       "      <th>stats_outOfStockPercentage90</th>\n",
       "      <td>0</td>\n",
       "    </tr>\n",
       "    <tr>\n",
       "      <th>stats_outOfStockPercentage30</th>\n",
       "      <td>0</td>\n",
       "    </tr>\n",
       "    <tr>\n",
       "      <th>stats_current</th>\n",
       "      <td>0</td>\n",
       "    </tr>\n",
       "    <tr>\n",
       "      <th>stats_avg180</th>\n",
       "      <td>0</td>\n",
       "    </tr>\n",
       "    <tr>\n",
       "      <th>stats_avg90</th>\n",
       "      <td>0</td>\n",
       "    </tr>\n",
       "    <tr>\n",
       "      <th>stats_avg30</th>\n",
       "      <td>0</td>\n",
       "    </tr>\n",
       "    <tr>\n",
       "      <th>stats_avg</th>\n",
       "      <td>0</td>\n",
       "    </tr>\n",
       "    <tr>\n",
       "      <th>stats_atIntervalStart</th>\n",
       "      <td>0</td>\n",
       "    </tr>\n",
       "    <tr>\n",
       "      <th>rootCategory</th>\n",
       "      <td>0</td>\n",
       "    </tr>\n",
       "    <tr>\n",
       "      <th>releaseDate</th>\n",
       "      <td>0</td>\n",
       "    </tr>\n",
       "    <tr>\n",
       "      <th>publicationDate</th>\n",
       "      <td>0</td>\n",
       "    </tr>\n",
       "    <tr>\n",
       "      <th>productGroup</th>\n",
       "      <td>0</td>\n",
       "    </tr>\n",
       "    <tr>\n",
       "      <th>packageWidth</th>\n",
       "      <td>0</td>\n",
       "    </tr>\n",
       "    <tr>\n",
       "      <th>packageWeight</th>\n",
       "      <td>0</td>\n",
       "    </tr>\n",
       "    <tr>\n",
       "      <th>packageQuantity</th>\n",
       "      <td>0</td>\n",
       "    </tr>\n",
       "    <tr>\n",
       "      <th>packageLength</th>\n",
       "      <td>0</td>\n",
       "    </tr>\n",
       "    <tr>\n",
       "      <th>packageHeight</th>\n",
       "      <td>0</td>\n",
       "    </tr>\n",
       "    <tr>\n",
       "      <th>offersSuccessful</th>\n",
       "      <td>0</td>\n",
       "    </tr>\n",
       "    <tr>\n",
       "      <th>numberOfPages</th>\n",
       "      <td>0</td>\n",
       "    </tr>\n",
       "    <tr>\n",
       "      <th>numberOfItems</th>\n",
       "      <td>0</td>\n",
       "    </tr>\n",
       "    <tr>\n",
       "      <th>sales_rank</th>\n",
       "      <td>0</td>\n",
       "    </tr>\n",
       "    <tr>\n",
       "      <th>listedSince</th>\n",
       "      <td>0</td>\n",
       "    </tr>\n",
       "    <tr>\n",
       "      <th>productType</th>\n",
       "      <td>0</td>\n",
       "    </tr>\n",
       "  </tbody>\n",
       "</table>\n",
       "<p>77 rows × 1 columns</p>\n",
       "</div>"
      ],
      "text/plain": [
       "                                      Count of Null Values\n",
       "coupon                                               99600\n",
       "offers                                               99600\n",
       "liveOffersOrder                                      99600\n",
       "promotions                                           99600\n",
       "buyBoxSellerIdHistory                                99600\n",
       "features                                             99600\n",
       "upcList                                              99600\n",
       "variations                                           99600\n",
       "hazardousMaterialType                                99599\n",
       "genre                                                99565\n",
       "platform                                             99551\n",
       "variationCSV                                         99541\n",
       "parentAsin                                           99404\n",
       "department                                           99087\n",
       "size                                                 98585\n",
       "model                                                96864\n",
       "color                                                96533\n",
       "partNumber                                           68582\n",
       "mpn                                                  68560\n",
       "brand                                                67295\n",
       "edition                                              65652\n",
       "format                                               52034\n",
       "categoryTree_4                                       34740\n",
       "categoryTree_3                                        7172\n",
       "categoryTree_2                                        2964\n",
       "author                                                2060\n",
       "languages_0                                            493\n",
       "studio                                                 106\n",
       "manufacturer                                           106\n",
       "publisher                                              106\n",
       "...                                                    ...\n",
       "lastRatingUpdate                                         0\n",
       "lastUpdate                                               0\n",
       "upc                                                      0\n",
       "type                                                     0\n",
       "trackingSince                                            0\n",
       "title                                                    0\n",
       "stats_outOfStockPercentageInInterval                     0\n",
       "stats_outOfStockPercentage90                             0\n",
       "stats_outOfStockPercentage30                             0\n",
       "stats_current                                            0\n",
       "stats_avg180                                             0\n",
       "stats_avg90                                              0\n",
       "stats_avg30                                              0\n",
       "stats_avg                                                0\n",
       "stats_atIntervalStart                                    0\n",
       "rootCategory                                             0\n",
       "releaseDate                                              0\n",
       "publicationDate                                          0\n",
       "productGroup                                             0\n",
       "packageWidth                                             0\n",
       "packageWeight                                            0\n",
       "packageQuantity                                          0\n",
       "packageLength                                            0\n",
       "packageHeight                                            0\n",
       "offersSuccessful                                         0\n",
       "numberOfPages                                            0\n",
       "numberOfItems                                            0\n",
       "sales_rank                                               0\n",
       "listedSince                                              0\n",
       "productType                                              0\n",
       "\n",
       "[77 rows x 1 columns]"
      ]
     },
     "execution_count": 14,
     "metadata": {},
     "output_type": "execute_result"
    }
   ],
   "source": [
    "## count and sort null values in every coulumn in descending order\n",
    "df.isna().sum().sort_values(ascending=False).to_frame(name='Count of Null Values')"
   ]
  },
  {
   "cell_type": "markdown",
   "metadata": {},
   "source": [
    "Null or missing value implies that we dont have information about that feature for an entry in the dataset. We can delete those features that contain Null values for the majority of the recordset because keeping them will not contribute enough signal to the data."
   ]
  },
  {
   "cell_type": "code",
   "execution_count": 15,
   "metadata": {},
   "outputs": [],
   "source": [
    "## create a list of features that contain null value for more than 50% of the records based on the the above observation\n",
    "Null_features=['coupon','offers','liveOffersOrder','promotions','buyBoxSellerIdHistory','features','upcList','variations',\n",
    "               'hazardousMaterialType','genre','platform','variationCSV','parentAsin','department','size','model','color'\n",
    "               ,'partNumber','mpn','brand','edition','format']"
   ]
  },
  {
   "cell_type": "code",
   "execution_count": 16,
   "metadata": {},
   "outputs": [
    {
     "data": {
      "text/plain": [
       "coupon                   99600\n",
       "offers                   99600\n",
       "liveOffersOrder          99600\n",
       "promotions               99600\n",
       "buyBoxSellerIdHistory    99600\n",
       "features                 99600\n",
       "upcList                  99600\n",
       "variations               99600\n",
       "hazardousMaterialType    99599\n",
       "genre                    99565\n",
       "platform                 99551\n",
       "variationCSV             99541\n",
       "parentAsin               99404\n",
       "department               99087\n",
       "size                     98585\n",
       "model                    96864\n",
       "color                    96533\n",
       "partNumber               68582\n",
       "mpn                      68560\n",
       "brand                    67295\n",
       "edition                  65652\n",
       "format                   52034\n",
       "dtype: int64"
      ]
     },
     "execution_count": 16,
     "metadata": {},
     "output_type": "execute_result"
    }
   ],
   "source": [
    "# Column names with Number of Null values contained in them\n",
    "df[Null_features].isna().sum()"
   ]
  },
  {
   "cell_type": "markdown",
   "metadata": {},
   "source": [
    "   \n",
    "We can delete these features without losing any useful information from our data since more than 50% of the records in the above list contain null values. \n",
    "   "
   ]
  },
  {
   "cell_type": "code",
   "execution_count": 17,
   "metadata": {},
   "outputs": [],
   "source": [
    "## delete columns that contain very high count null values \n",
    "df.drop(Null_features, axis=1, inplace=True)"
   ]
  },
  {
   "cell_type": "code",
   "execution_count": 18,
   "metadata": {},
   "outputs": [
    {
     "data": {
      "text/plain": [
       "(99600, 55)"
      ]
     },
     "execution_count": 18,
     "metadata": {},
     "output_type": "execute_result"
    }
   ],
   "source": [
    "# check the shape of the dataset to confirm the features are dropped\n",
    "df.shape"
   ]
  },
  {
   "cell_type": "markdown",
   "metadata": {},
   "source": [
    "For the remaining Null values in our data where the total count is relatively small, we will replace them by  a statistically representative values like mean or mode.\n",
    "\n",
    "  * Mode for categorical values where there is a clear majority or will be replaced 'Unknown'\n",
    "  * Mean value is used for numerical columns"
   ]
  },
  {
   "cell_type": "code",
   "execution_count": 19,
   "metadata": {},
   "outputs": [],
   "source": [
    "#Assigns column names that contain null values to a list\n",
    "with_Nulls=df.loc[:, df.isna().sum()!=0].columns.tolist()"
   ]
  },
  {
   "cell_type": "code",
   "execution_count": 20,
   "metadata": {},
   "outputs": [
    {
     "data": {
      "text/plain": [
       "categoryTree_4    34740\n",
       "categoryTree_3     7172\n",
       "categoryTree_2     2964\n",
       "author             2060\n",
       "languages_0         493\n",
       "studio              106\n",
       "publisher           106\n",
       "manufacturer        106\n",
       "label               106\n",
       "binding             102\n",
       "imagesCSV            60\n",
       "categoryTree_1        6\n",
       "categoryTree_0        6\n",
       "dtype: int64"
      ]
     },
     "execution_count": 20,
     "metadata": {},
     "output_type": "execute_result"
    }
   ],
   "source": [
    "#Lists down the number of null values in every column in descending order\n",
    "df[with_Nulls].isna().sum().sort_values(ascending=False)"
   ]
  },
  {
   "cell_type": "code",
   "execution_count": 21,
   "metadata": {},
   "outputs": [
    {
     "data": {
      "text/html": [
       "<div>\n",
       "<style scoped>\n",
       "    .dataframe tbody tr th:only-of-type {\n",
       "        vertical-align: middle;\n",
       "    }\n",
       "\n",
       "    .dataframe tbody tr th {\n",
       "        vertical-align: top;\n",
       "    }\n",
       "\n",
       "    .dataframe thead th {\n",
       "        text-align: right;\n",
       "    }\n",
       "</style>\n",
       "<table border=\"1\" class=\"dataframe\">\n",
       "  <thead>\n",
       "    <tr style=\"text-align: right;\">\n",
       "      <th></th>\n",
       "      <th>author</th>\n",
       "      <th>binding</th>\n",
       "      <th>categoryTree_0</th>\n",
       "      <th>categoryTree_1</th>\n",
       "      <th>categoryTree_2</th>\n",
       "      <th>categoryTree_3</th>\n",
       "      <th>categoryTree_4</th>\n",
       "      <th>imagesCSV</th>\n",
       "      <th>label</th>\n",
       "      <th>languages_0</th>\n",
       "      <th>manufacturer</th>\n",
       "      <th>publisher</th>\n",
       "      <th>studio</th>\n",
       "    </tr>\n",
       "  </thead>\n",
       "  <tbody>\n",
       "    <tr>\n",
       "      <th>0</th>\n",
       "      <td>J.K. Rowling</td>\n",
       "      <td>Audible Audiobook</td>\n",
       "      <td>Books</td>\n",
       "      <td>Subjects</td>\n",
       "      <td>Teen &amp; Young Adult</td>\n",
       "      <td>Literature &amp; Fiction</td>\n",
       "      <td>Social &amp; Family Issues</td>\n",
       "      <td>917XxoD2LaL.jpg</td>\n",
       "      <td>Pottermore Publishing</td>\n",
       "      <td>English,Published</td>\n",
       "      <td>Pottermore Publishing</td>\n",
       "      <td>Pottermore Publishing</td>\n",
       "      <td>Pottermore Publishing</td>\n",
       "    </tr>\n",
       "    <tr>\n",
       "      <th>1</th>\n",
       "      <td>Adam Grant</td>\n",
       "      <td>Audible Audiobook</td>\n",
       "      <td>Books</td>\n",
       "      <td>Subjects</td>\n",
       "      <td>Biographies &amp; Memoirs</td>\n",
       "      <td>Memoirs</td>\n",
       "      <td>None</td>\n",
       "      <td>81Gwx%2BmKSEL.jpg</td>\n",
       "      <td>Audible Studios</td>\n",
       "      <td>English,Published</td>\n",
       "      <td>Audible Studios</td>\n",
       "      <td>Audible Studios</td>\n",
       "      <td>Audible Studios</td>\n",
       "    </tr>\n",
       "    <tr>\n",
       "      <th>2</th>\n",
       "      <td>Naomi Kleinberg</td>\n",
       "      <td>Board book</td>\n",
       "      <td>Books</td>\n",
       "      <td>Subjects</td>\n",
       "      <td>Children's Books</td>\n",
       "      <td>Growing Up &amp; Facts of Life</td>\n",
       "      <td>Health</td>\n",
       "      <td>91Nr-1lyMJL.jpg,81wHBCfxbYL.jpg,51vaGx5y9iL.jp...</td>\n",
       "      <td>Random House Books for Young Readers</td>\n",
       "      <td>English,Published</td>\n",
       "      <td>Random House Books for Young Readers</td>\n",
       "      <td>Random House Books for Young Readers</td>\n",
       "      <td>Random House Books for Young Readers</td>\n",
       "    </tr>\n",
       "    <tr>\n",
       "      <th>3</th>\n",
       "      <td>Jen Fisch</td>\n",
       "      <td>Paperback</td>\n",
       "      <td>Books</td>\n",
       "      <td>Subjects</td>\n",
       "      <td>Cookbooks, Food &amp; Wine</td>\n",
       "      <td>Regional &amp; International</td>\n",
       "      <td>Canadian</td>\n",
       "      <td>81It%2BExKfoL.jpg,71r6m-frl3L.jpg,A1QninHxorL....</td>\n",
       "      <td>Rockridge Press</td>\n",
       "      <td>English,Published</td>\n",
       "      <td>Rockridge Press</td>\n",
       "      <td>Rockridge Press</td>\n",
       "      <td>Rockridge Press</td>\n",
       "    </tr>\n",
       "    <tr>\n",
       "      <th>4</th>\n",
       "      <td>Elizabeth Cunningham</td>\n",
       "      <td>Paperback</td>\n",
       "      <td>Books</td>\n",
       "      <td>Subjects</td>\n",
       "      <td>Cookbooks, Food &amp; Wine</td>\n",
       "      <td>Baking</td>\n",
       "      <td>Cakes</td>\n",
       "      <td>51mxjPJXEaL.jpg</td>\n",
       "      <td>Independently published</td>\n",
       "      <td>English,Published</td>\n",
       "      <td>Independently published</td>\n",
       "      <td>Independently published</td>\n",
       "      <td>Independently published</td>\n",
       "    </tr>\n",
       "  </tbody>\n",
       "</table>\n",
       "</div>"
      ],
      "text/plain": [
       "                 author            binding categoryTree_0 categoryTree_1  \\\n",
       "0          J.K. Rowling  Audible Audiobook          Books       Subjects   \n",
       "1            Adam Grant  Audible Audiobook          Books       Subjects   \n",
       "2       Naomi Kleinberg         Board book          Books       Subjects   \n",
       "3             Jen Fisch          Paperback          Books       Subjects   \n",
       "4  Elizabeth Cunningham          Paperback          Books       Subjects   \n",
       "\n",
       "           categoryTree_2              categoryTree_3          categoryTree_4  \\\n",
       "0      Teen & Young Adult        Literature & Fiction  Social & Family Issues   \n",
       "1   Biographies & Memoirs                     Memoirs                    None   \n",
       "2        Children's Books  Growing Up & Facts of Life                  Health   \n",
       "3  Cookbooks, Food & Wine    Regional & International                Canadian   \n",
       "4  Cookbooks, Food & Wine                      Baking                   Cakes   \n",
       "\n",
       "                                           imagesCSV  \\\n",
       "0                                    917XxoD2LaL.jpg   \n",
       "1                                  81Gwx%2BmKSEL.jpg   \n",
       "2  91Nr-1lyMJL.jpg,81wHBCfxbYL.jpg,51vaGx5y9iL.jp...   \n",
       "3  81It%2BExKfoL.jpg,71r6m-frl3L.jpg,A1QninHxorL....   \n",
       "4                                    51mxjPJXEaL.jpg   \n",
       "\n",
       "                                  label        languages_0  \\\n",
       "0                 Pottermore Publishing  English,Published   \n",
       "1                       Audible Studios  English,Published   \n",
       "2  Random House Books for Young Readers  English,Published   \n",
       "3                       Rockridge Press  English,Published   \n",
       "4               Independently published  English,Published   \n",
       "\n",
       "                           manufacturer                             publisher  \\\n",
       "0                 Pottermore Publishing                 Pottermore Publishing   \n",
       "1                       Audible Studios                       Audible Studios   \n",
       "2  Random House Books for Young Readers  Random House Books for Young Readers   \n",
       "3                       Rockridge Press                       Rockridge Press   \n",
       "4               Independently published               Independently published   \n",
       "\n",
       "                                 studio  \n",
       "0                 Pottermore Publishing  \n",
       "1                       Audible Studios  \n",
       "2  Random House Books for Young Readers  \n",
       "3                       Rockridge Press  \n",
       "4               Independently published  "
      ]
     },
     "execution_count": 21,
     "metadata": {},
     "output_type": "execute_result"
    }
   ],
   "source": [
    "# let's see what kind of information is in each column\n",
    "df[with_Nulls].head(5)"
   ]
  },
  {
   "cell_type": "markdown",
   "metadata": {},
   "source": [
    "The sample shows that the records are mainly comprised of string or categorival values. Lets further divide the series based on the number of missing (Null) values."
   ]
  },
  {
   "cell_type": "code",
   "execution_count": 22,
   "metadata": {},
   "outputs": [],
   "source": [
    "\n",
    "Nulls2Unknown=['categoryTree_4','categoryTree_3','categoryTree_2','author','studio','publisher','manufacturer',\n",
    "              'label']"
   ]
  },
  {
   "cell_type": "code",
   "execution_count": null,
   "metadata": {},
   "outputs": [],
   "source": []
  },
  {
   "cell_type": "code",
   "execution_count": 23,
   "metadata": {},
   "outputs": [
    {
     "name": "stdout",
     "output_type": "stream",
     "text": [
      "author\t\t319\n",
      "binding\t\t44619\n",
      "categoryTree_0\t\t99576\n",
      "categoryTree_1\t\t99576\n",
      "categoryTree_2\t\t17441\n",
      "categoryTree_3\t\t8216\n",
      "categoryTree_4\t\t2704\n",
      "imagesCSV\t\t4\n",
      "label\t\t4267\n",
      "languages_0\t\t95316\n",
      "manufacturer\t\t4267\n",
      "publisher\t\t4267\n",
      "studio\t\t4267\n"
     ]
    }
   ],
   "source": [
    "#print out the highest frequency value(Mode) in the given list of features, it only shows the count not the value. \n",
    "#Based on the count we can tell if there's a statistical representative mode value to replace the nulls.  \n",
    "for item in with_Nulls:\n",
    "    print(f'{item}\\t\\t{df[item].value_counts().max()}')"
   ]
  },
  {
   "cell_type": "markdown",
   "metadata": {},
   "source": [
    "Given that our data contains 100,000 records we can clearly see the high mode value for some of the features to replace the nulls."
   ]
  },
  {
   "cell_type": "code",
   "execution_count": 24,
   "metadata": {},
   "outputs": [],
   "source": [
    "# The following 3 features have very high Mode value, therefore we'll replace nulls by mode\n",
    "Nulls2Mode=['languages_0','categoryTree_0','categoryTree_1']"
   ]
  },
  {
   "cell_type": "code",
   "execution_count": 25,
   "metadata": {},
   "outputs": [],
   "source": [
    "mode = df.filter(['languages_0','categoryTree_0','categoryTree_1']).mode()\n",
    "df[Nulls2Mode]=df[Nulls2Mode].fillna(df.mode().iloc[0])"
   ]
  },
  {
   "cell_type": "markdown",
   "metadata": {},
   "source": [
    "       \n",
    "     \n",
    "               \n",
    "  \n",
    "  \n",
    "For the following features since there is no one single category with a high frequency(Mode) in the group, we are filling the missing(Null) values with 'Unknown'.\n",
    "  "
   ]
  },
  {
   "cell_type": "code",
   "execution_count": 26,
   "metadata": {},
   "outputs": [],
   "source": [
    " \n",
    "NullswithNoMode=df.loc[:, df.isna().sum()!=0].columns.tolist()\n"
   ]
  },
  {
   "cell_type": "code",
   "execution_count": 27,
   "metadata": {},
   "outputs": [
    {
     "name": "stdout",
     "output_type": "stream",
     "text": [
      "author\n",
      "James Patterson    319\n",
      "DK                 306\n",
      "Stephen King       186\n",
      "Name: author, dtype: int64\n",
      "Total Number of null values in author = 2060\n",
      "\n",
      "binding\n",
      "Audible Audiobook    44619\n",
      "Paperback            35263\n",
      "Hardcover            13342\n",
      "Name: binding, dtype: int64\n",
      "Total Number of null values in binding = 102\n",
      "\n",
      "categoryTree_2\n",
      "Literature & Fiction    17441\n",
      "Children's Books        12742\n",
      "Self-Help                9712\n",
      "Name: categoryTree_2, dtype: int64\n",
      "Total Number of null values in categoryTree_2 = 2964\n",
      "\n",
      "categoryTree_3\n",
      "Genre Fiction       8216\n",
      "Christian Living    3547\n",
      "Animals             3516\n",
      "Name: categoryTree_3, dtype: int64\n",
      "Total Number of null values in categoryTree_3 = 7172\n",
      "\n",
      "categoryTree_4\n",
      "Historical       2704\n",
      "Family Life      2249\n",
      "United States    1988\n",
      "Name: categoryTree_4, dtype: int64\n",
      "Total Number of null values in categoryTree_4 = 34740\n",
      "\n",
      "imagesCSV\n",
      "51sV88-zsdL.jpg    4\n",
      "51lwDPW8IsL.jpg    3\n",
      "81jy9gMOf7L.jpg    3\n",
      "Name: imagesCSV, dtype: int64\n",
      "Total Number of null values in imagesCSV = 60\n",
      "\n",
      "label\n",
      "Audible Studios     4267\n",
      "Tantor Audio        3707\n",
      "Brilliance Audio    2605\n",
      "Name: label, dtype: int64\n",
      "Total Number of null values in label = 106\n",
      "\n",
      "manufacturer\n",
      "Audible Studios     4267\n",
      "Tantor Audio        3707\n",
      "Brilliance Audio    2605\n",
      "Name: manufacturer, dtype: int64\n",
      "Total Number of null values in manufacturer = 106\n",
      "\n",
      "publisher\n",
      "Audible Studios     4267\n",
      "Tantor Audio        3707\n",
      "Brilliance Audio    2605\n",
      "Name: publisher, dtype: int64\n",
      "Total Number of null values in publisher = 106\n",
      "\n",
      "studio\n",
      "Audible Studios     4267\n",
      "Tantor Audio        3707\n",
      "Brilliance Audio    2605\n",
      "Name: studio, dtype: int64\n",
      "Total Number of null values in studio = 106\n",
      "\n"
     ]
    }
   ],
   "source": [
    "#Based on the top 3 most frequent records in each column, it shows that there is no dominant value that can be used\n",
    "#as a mode to replace null values. We are therefore replacing null values with 'Unknown'.\n",
    "for item in NullswithNoMode:\n",
    "    print(item)\n",
    "    print(df[item].value_counts().nlargest(3))\n",
    "    print('Total Number of null values in %s = %d' % (item,df[item].isna().sum()))\n",
    "    print('')"
   ]
  },
  {
   "cell_type": "code",
   "execution_count": 28,
   "metadata": {},
   "outputs": [],
   "source": [
    "# Replace nulls with 'Unknown' for multimodel features\n",
    "df[NullswithNoMode]=df[NullswithNoMode].fillna('Unknown')"
   ]
  },
  {
   "cell_type": "code",
   "execution_count": 29,
   "metadata": {},
   "outputs": [
    {
     "data": {
      "text/plain": [
       "Series([], dtype: float64)"
      ]
     },
     "execution_count": 29,
     "metadata": {},
     "output_type": "execute_result"
    }
   ],
   "source": [
    "# Check if there are still missing or null values in the dataset\n",
    "df[df.loc[:, df.isna().sum()!=0].columns].isna().sum()"
   ]
  },
  {
   "cell_type": "markdown",
   "metadata": {},
   "source": [
    "We have entirely replaced the null and missing values in the dataset by statistically representative values."
   ]
  },
  {
   "cell_type": "markdown",
   "metadata": {},
   "source": [
    "## Data Type Conversion"
   ]
  },
  {
   "cell_type": "code",
   "execution_count": 30,
   "metadata": {},
   "outputs": [
    {
     "data": {
      "text/plain": [
       "object     52\n",
       "int64       2\n",
       "float64     1\n",
       "dtype: int64"
      ]
     },
     "execution_count": 30,
     "metadata": {},
     "output_type": "execute_result"
    }
   ],
   "source": [
    "df.dtypes.value_counts()"
   ]
  },
  {
   "cell_type": "markdown",
   "metadata": {},
   "source": [
    "The data imported from postgreSQL to pandas dataframe contains columns as type object(string). Most of those features are actually nemerical values, and we will convert the data type in to the proper format. "
   ]
  },
  {
   "cell_type": "markdown",
   "metadata": {},
   "source": [
    "Lets group all those features that are in string (object) format and convert them to numeric"
   ]
  },
  {
   "cell_type": "code",
   "execution_count": 31,
   "metadata": {},
   "outputs": [
    {
     "data": {
      "text/plain": [
       "object     52\n",
       "int64       2\n",
       "float64     1\n",
       "dtype: int64"
      ]
     },
     "execution_count": 31,
     "metadata": {},
     "output_type": "execute_result"
    }
   ],
   "source": [
    "df.dtypes.value_counts()"
   ]
  },
  {
   "cell_type": "code",
   "execution_count": 32,
   "metadata": {},
   "outputs": [],
   "source": [
    "#Convert columns that contain numerical values to numeric data type using pandsas to_numeric\n",
    "numeric=['availabilityAmazon',\n",
    "       'ean','hasReviews', 'isEligibleForSuperSaverShipping', 'isEligibleForTradeIn',\n",
    "       'isRedirectASIN', 'isSNS', 'lastPriceChange','lastRatingUpdate', 'lastUpdate', 'listedSince', \n",
    "       'newPriceIsMAP', 'numberOfItems','numberOfPages', 'offersSuccessful', 'packageHeight',\n",
    "       'packageLength', 'packageQuantity', 'packageWeight', 'packageWidth',\n",
    "       'publicationDate', 'releaseDate', 'rootCategory','stats_atIntervalStart', 'stats_avg', 'stats_avg30', 'stats_avg90',\n",
    "       'stats_avg180', 'stats_current', 'stats_outOfStockPercentage30',\n",
    "       'stats_outOfStockPercentage90', 'stats_outOfStockPercentageInInterval',\n",
    "       'trackingSince','sales_rank', 'price']\n",
    "#cols = ['productType','rootCategory','stats_atIntervalStart','availabilityAmazon','hasReviews','isRedirectASIN','isSNS','isEligibleForTradeIn','isEligibleForSuperSaverShipping', 'ean','hasReviews', 'availabilityAmazon','isEligibleForTradeIn','lastPriceChange','lastRatingUpdate','lastUpdate','lastRatingUpdate','lastUpdate','listedSince',\"newPriceIsMAP\", \"numberOfItems\", \"numberOfPages\",\"packageHeight\", \"packageLength\",\"packageQuantity\", \"packageWeight\", \"packageWidth\",'stats_avg', 'stats_avg30', 'stats_avg90', 'stats_avg180', 'stats_current',\"stats_outOfStockPercentage30\", \"stats_outOfStockPercentage90\",\"stats_outOfStockPercentageInInterval\",\"trackingSince\",'upc','price','amazon_price', 'marketplace_new_price', 'marketplace_used_price', 'sales_rank']\n",
    "df[numeric] = df[numeric].apply(pd.to_numeric, errors='coerce', axis=1)"
   ]
  },
  {
   "cell_type": "code",
   "execution_count": 33,
   "metadata": {},
   "outputs": [
    {
     "data": {
      "text/plain": [
       "float64    35\n",
       "object     18\n",
       "int64       2\n",
       "dtype: int64"
      ]
     },
     "execution_count": 33,
     "metadata": {},
     "output_type": "execute_result"
    }
   ],
   "source": [
    "df.dtypes.value_counts()"
   ]
  },
  {
   "cell_type": "code",
   "execution_count": 34,
   "metadata": {},
   "outputs": [
    {
     "name": "stdout",
     "output_type": "stream",
     "text": [
      "\n",
      "Sample of the dataset with only categorical information\n",
      "\n"
     ]
    },
    {
     "data": {
      "text/html": [
       "<div>\n",
       "<style scoped>\n",
       "    .dataframe tbody tr th:only-of-type {\n",
       "        vertical-align: middle;\n",
       "    }\n",
       "\n",
       "    .dataframe tbody tr th {\n",
       "        vertical-align: top;\n",
       "    }\n",
       "\n",
       "    .dataframe thead th {\n",
       "        text-align: right;\n",
       "    }\n",
       "</style>\n",
       "<table border=\"1\" class=\"dataframe\">\n",
       "  <thead>\n",
       "    <tr style=\"text-align: right;\">\n",
       "      <th></th>\n",
       "      <th>asin</th>\n",
       "      <th>author</th>\n",
       "      <th>binding</th>\n",
       "      <th>categoryTree_0</th>\n",
       "      <th>categoryTree_1</th>\n",
       "      <th>categoryTree_2</th>\n",
       "      <th>categoryTree_3</th>\n",
       "      <th>categoryTree_4</th>\n",
       "      <th>imagesCSV</th>\n",
       "      <th>label</th>\n",
       "      <th>languages_0</th>\n",
       "      <th>manufacturer</th>\n",
       "      <th>productGroup</th>\n",
       "      <th>publisher</th>\n",
       "      <th>studio</th>\n",
       "      <th>title</th>\n",
       "      <th>type</th>\n",
       "      <th>upc</th>\n",
       "    </tr>\n",
       "  </thead>\n",
       "  <tbody>\n",
       "    <tr>\n",
       "      <th>0</th>\n",
       "      <td>B017WJ5PR4</td>\n",
       "      <td>J.K. Rowling</td>\n",
       "      <td>Audible Audiobook</td>\n",
       "      <td>Books</td>\n",
       "      <td>Subjects</td>\n",
       "      <td>Teen &amp; Young Adult</td>\n",
       "      <td>Literature &amp; Fiction</td>\n",
       "      <td>Social &amp; Family Issues</td>\n",
       "      <td>917XxoD2LaL.jpg</td>\n",
       "      <td>Pottermore Publishing</td>\n",
       "      <td>English,Published</td>\n",
       "      <td>Pottermore Publishing</td>\n",
       "      <td>Audible</td>\n",
       "      <td>Pottermore Publishing</td>\n",
       "      <td>Pottermore Publishing</td>\n",
       "      <td>Harry Potter and the Deathly Hallows, Book 7</td>\n",
       "      <td>DOWNLOADABLE_AUDIO</td>\n",
       "      <td>0</td>\n",
       "    </tr>\n",
       "    <tr>\n",
       "      <th>1</th>\n",
       "      <td>B07H4WPSS2</td>\n",
       "      <td>Adam Grant</td>\n",
       "      <td>Audible Audiobook</td>\n",
       "      <td>Books</td>\n",
       "      <td>Subjects</td>\n",
       "      <td>Biographies &amp; Memoirs</td>\n",
       "      <td>Memoirs</td>\n",
       "      <td>Unknown</td>\n",
       "      <td>81Gwx%2BmKSEL.jpg</td>\n",
       "      <td>Audible Studios</td>\n",
       "      <td>English,Published</td>\n",
       "      <td>Audible Studios</td>\n",
       "      <td>Audible</td>\n",
       "      <td>Audible Studios</td>\n",
       "      <td>Audible Studios</td>\n",
       "      <td>Power Moves: Lessons from Davos</td>\n",
       "      <td>DOWNLOADABLE_AUDIO</td>\n",
       "      <td>0</td>\n",
       "    </tr>\n",
       "    <tr>\n",
       "      <th>2</th>\n",
       "      <td>038538369X</td>\n",
       "      <td>Naomi Kleinberg</td>\n",
       "      <td>Board book</td>\n",
       "      <td>Books</td>\n",
       "      <td>Subjects</td>\n",
       "      <td>Children's Books</td>\n",
       "      <td>Growing Up &amp; Facts of Life</td>\n",
       "      <td>Health</td>\n",
       "      <td>91Nr-1lyMJL.jpg,81wHBCfxbYL.jpg,51vaGx5y9iL.jp...</td>\n",
       "      <td>Random House Books for Young Readers</td>\n",
       "      <td>English,Published</td>\n",
       "      <td>Random House Books for Young Readers</td>\n",
       "      <td>Book</td>\n",
       "      <td>Random House Books for Young Readers</td>\n",
       "      <td>Random House Books for Young Readers</td>\n",
       "      <td>P is for Potty! (Sesame Street) (Lift-the-Flap)</td>\n",
       "      <td>ABIS_BOOK</td>\n",
       "      <td>0</td>\n",
       "    </tr>\n",
       "  </tbody>\n",
       "</table>\n",
       "</div>"
      ],
      "text/plain": [
       "         asin           author            binding categoryTree_0  \\\n",
       "0  B017WJ5PR4     J.K. Rowling  Audible Audiobook          Books   \n",
       "1  B07H4WPSS2       Adam Grant  Audible Audiobook          Books   \n",
       "2  038538369X  Naomi Kleinberg         Board book          Books   \n",
       "\n",
       "  categoryTree_1         categoryTree_2              categoryTree_3  \\\n",
       "0       Subjects     Teen & Young Adult        Literature & Fiction   \n",
       "1       Subjects  Biographies & Memoirs                     Memoirs   \n",
       "2       Subjects       Children's Books  Growing Up & Facts of Life   \n",
       "\n",
       "           categoryTree_4                                          imagesCSV  \\\n",
       "0  Social & Family Issues                                    917XxoD2LaL.jpg   \n",
       "1                 Unknown                                  81Gwx%2BmKSEL.jpg   \n",
       "2                  Health  91Nr-1lyMJL.jpg,81wHBCfxbYL.jpg,51vaGx5y9iL.jp...   \n",
       "\n",
       "                                  label        languages_0  \\\n",
       "0                 Pottermore Publishing  English,Published   \n",
       "1                       Audible Studios  English,Published   \n",
       "2  Random House Books for Young Readers  English,Published   \n",
       "\n",
       "                           manufacturer productGroup  \\\n",
       "0                 Pottermore Publishing      Audible   \n",
       "1                       Audible Studios      Audible   \n",
       "2  Random House Books for Young Readers         Book   \n",
       "\n",
       "                              publisher                                studio  \\\n",
       "0                 Pottermore Publishing                 Pottermore Publishing   \n",
       "1                       Audible Studios                       Audible Studios   \n",
       "2  Random House Books for Young Readers  Random House Books for Young Readers   \n",
       "\n",
       "                                             title                type upc  \n",
       "0     Harry Potter and the Deathly Hallows, Book 7  DOWNLOADABLE_AUDIO   0  \n",
       "1                  Power Moves: Lessons from Davos  DOWNLOADABLE_AUDIO   0  \n",
       "2  P is for Potty! (Sesame Street) (Lift-the-Flap)           ABIS_BOOK   0  "
      ]
     },
     "execution_count": 34,
     "metadata": {},
     "output_type": "execute_result"
    }
   ],
   "source": [
    "strings=df.loc[:, df.dtypes == np.object].columns.tolist()\n",
    "print('\\n'+ 'Sample of the dataset with only categorical information'+'\\n')\n",
    "df[strings].head(3)"
   ]
  },
  {
   "cell_type": "markdown",
   "metadata": {},
   "source": [
    "We can delete 'asin', 'ean' and 'imageCSV' columns since the information contained in them is not characteristic discription of books."
   ]
  },
  {
   "cell_type": "code",
   "execution_count": 35,
   "metadata": {},
   "outputs": [],
   "source": [
    "df.drop(['asin','imagesCSV','ean', 'upc'], axis=1, inplace=True)"
   ]
  },
  {
   "cell_type": "code",
   "execution_count": 36,
   "metadata": {},
   "outputs": [
    {
     "data": {
      "text/plain": [
       "(99600, 51)"
      ]
     },
     "execution_count": 36,
     "metadata": {},
     "output_type": "execute_result"
    }
   ],
   "source": [
    "df.shape"
   ]
  },
  {
   "cell_type": "code",
   "execution_count": 37,
   "metadata": {},
   "outputs": [
    {
     "data": {
      "text/plain": [
       "float64    34\n",
       "object     15\n",
       "int64       2\n",
       "dtype: int64"
      ]
     },
     "execution_count": 37,
     "metadata": {},
     "output_type": "execute_result"
    }
   ],
   "source": [
    "df.dtypes.value_counts()"
   ]
  },
  {
   "cell_type": "code",
   "execution_count": 38,
   "metadata": {},
   "outputs": [
    {
     "data": {
      "text/plain": [
       "Index(['author', 'binding', 'categoryTree_0', 'categoryTree_1',\n",
       "       'categoryTree_2', 'categoryTree_3', 'categoryTree_4', 'label',\n",
       "       'languages_0', 'manufacturer', 'productGroup', 'publisher', 'studio',\n",
       "       'title', 'type'],\n",
       "      dtype='object')"
      ]
     },
     "execution_count": 38,
     "metadata": {},
     "output_type": "execute_result"
    }
   ],
   "source": [
    "# Print features that are of object type\n",
    "df.loc[:, df.dtypes == np.object].columns"
   ]
  },
  {
   "cell_type": "markdown",
   "metadata": {},
   "source": [
    " \n",
    "\n",
    "Information regarding what language a book is written in and whether its an original print or translated version is recorded in the 'language_0' column. These two information are separated by comma, this column can be split into two parts and stored separately inorder to reduce categorical data we have to encode later.\n",
    "\n",
    "    \n"
   ]
  },
  {
   "cell_type": "code",
   "execution_count": 39,
   "metadata": {},
   "outputs": [
    {
     "data": {
      "text/plain": [
       "0    English,Published\n",
       "1    English,Published\n",
       "2    English,Published\n",
       "3    English,Published\n",
       "4    English,Published\n",
       "Name: languages_0, dtype: object"
      ]
     },
     "execution_count": 39,
     "metadata": {},
     "output_type": "execute_result"
    }
   ],
   "source": [
    "df['languages_0'].head(5)"
   ]
  },
  {
   "cell_type": "code",
   "execution_count": 40,
   "metadata": {},
   "outputs": [],
   "source": [
    "new = df['languages_0'].str.split(\",\", n = 1, expand = True)"
   ]
  },
  {
   "cell_type": "code",
   "execution_count": 41,
   "metadata": {},
   "outputs": [],
   "source": [
    "df['language_1']=new[0]\n",
    "df['language_2']=new[1]"
   ]
  },
  {
   "cell_type": "code",
   "execution_count": 42,
   "metadata": {},
   "outputs": [],
   "source": [
    "# reduced categories froom 9 to 6 grouping related categories together\n",
    "#df['language_1'].value_counts().to_frame()"
   ]
  },
  {
   "cell_type": "code",
   "execution_count": 43,
   "metadata": {},
   "outputs": [],
   "source": [
    "#group English, english and Middle English to one categry\n",
    "df['language_1'].replace(('English', 'english','Middle English'),'English', inplace = True)\n",
    "\n",
    "#grouping Spanish,Portuguese and Latin under \"Spanish\"\n",
    "df['language_1'].replace(('Spanish', 'Portuguese','Latin'),'Spanish', inplace = True)\n",
    "\n",
    "#grouping Chinese, mandarin Chinese and simplified chinese to Chinese \n",
    "df['language_1'].replace(('Simplified Chinese', 'Mandarin Chinese','Chinese'),'Chinese', inplace = True)\n",
    "\n",
    "#grouping Arabic,Hebrew and Turkish under Middle Eastern\n",
    "df['language_1'].replace(('Arabic', 'Hebrew','Turkish'),'Middle Eastern', inplace = True)\n",
    "\n",
    "# group languages with single entry record in to one group called 'Others'\n",
    "df['language_1'].replace(('Hindi', 'Scots','Filipino','Malay','Dutch','Greek','Korean','Romanian','Czech'),'Others', inplace = True)\n",
    "\n",
    "\n",
    "#grouping Danish and Norwegian into one group of 'Scandinavian'  \n",
    "df['language_1'].replace(('Danish', 'Norwegian'),'Scandinavian', inplace=True)"
   ]
  },
  {
   "cell_type": "code",
   "execution_count": null,
   "metadata": {},
   "outputs": [],
   "source": []
  },
  {
   "cell_type": "code",
   "execution_count": 44,
   "metadata": {},
   "outputs": [],
   "source": [
    "#replaced ('published','Published,Dolby Digital 1.0','Published,DTS-HD 5.1') by Published\n",
    "df['language_2'].replace(('published','Published,Dolby Digital 1.0','Published,DTS-HD 5.1'),'Published', inplace=True)"
   ]
  },
  {
   "cell_type": "code",
   "execution_count": 45,
   "metadata": {},
   "outputs": [
    {
     "data": {
      "text/html": [
       "<div>\n",
       "<style scoped>\n",
       "    .dataframe tbody tr th:only-of-type {\n",
       "        vertical-align: middle;\n",
       "    }\n",
       "\n",
       "    .dataframe tbody tr th {\n",
       "        vertical-align: top;\n",
       "    }\n",
       "\n",
       "    .dataframe thead th {\n",
       "        text-align: right;\n",
       "    }\n",
       "</style>\n",
       "<table border=\"1\" class=\"dataframe\">\n",
       "  <thead>\n",
       "    <tr style=\"text-align: right;\">\n",
       "      <th></th>\n",
       "      <th>language_1</th>\n",
       "      <th>language_2</th>\n",
       "    </tr>\n",
       "  </thead>\n",
       "  <tbody>\n",
       "    <tr>\n",
       "      <th>0</th>\n",
       "      <td>English</td>\n",
       "      <td>Published</td>\n",
       "    </tr>\n",
       "    <tr>\n",
       "      <th>1</th>\n",
       "      <td>English</td>\n",
       "      <td>Published</td>\n",
       "    </tr>\n",
       "    <tr>\n",
       "      <th>2</th>\n",
       "      <td>English</td>\n",
       "      <td>Published</td>\n",
       "    </tr>\n",
       "    <tr>\n",
       "      <th>3</th>\n",
       "      <td>English</td>\n",
       "      <td>Published</td>\n",
       "    </tr>\n",
       "    <tr>\n",
       "      <th>4</th>\n",
       "      <td>English</td>\n",
       "      <td>Published</td>\n",
       "    </tr>\n",
       "  </tbody>\n",
       "</table>\n",
       "</div>"
      ],
      "text/plain": [
       "  language_1 language_2\n",
       "0    English  Published\n",
       "1    English  Published\n",
       "2    English  Published\n",
       "3    English  Published\n",
       "4    English  Published"
      ]
     },
     "execution_count": 45,
     "metadata": {},
     "output_type": "execute_result"
    }
   ],
   "source": [
    "df[['language_1','language_2']].head(5)"
   ]
  },
  {
   "cell_type": "code",
   "execution_count": 46,
   "metadata": {},
   "outputs": [],
   "source": [
    "#Since we have copied the information into new columns we can delete the languages_0 column\n",
    "df.drop(['languages_0'], axis=1 , inplace=True)"
   ]
  },
  {
   "cell_type": "code",
   "execution_count": 47,
   "metadata": {},
   "outputs": [
    {
     "data": {
      "text/plain": [
       "Index(['productType', 'author', 'availabilityAmazon', 'binding',\n",
       "       'categoryTree_0', 'categoryTree_1', 'categoryTree_2', 'categoryTree_3',\n",
       "       'categoryTree_4', 'domainId', 'hasReviews',\n",
       "       'isEligibleForSuperSaverShipping', 'isEligibleForTradeIn',\n",
       "       'isRedirectASIN', 'isSNS', 'label', 'lastPriceChange',\n",
       "       'lastRatingUpdate', 'lastUpdate', 'listedSince', 'manufacturer',\n",
       "       'newPriceIsMAP', 'numberOfItems', 'numberOfPages', 'offersSuccessful',\n",
       "       'packageHeight', 'packageLength', 'packageQuantity', 'packageWeight',\n",
       "       'packageWidth', 'productGroup', 'publicationDate', 'publisher',\n",
       "       'releaseDate', 'rootCategory', 'stats_atIntervalStart', 'stats_avg',\n",
       "       'stats_avg30', 'stats_avg90', 'stats_avg180', 'stats_current',\n",
       "       'stats_outOfStockPercentage30', 'stats_outOfStockPercentage90',\n",
       "       'stats_outOfStockPercentageInInterval', 'studio', 'title',\n",
       "       'trackingSince', 'type', 'sales_rank', 'price', 'language_1',\n",
       "       'language_2'],\n",
       "      dtype='object')"
      ]
     },
     "execution_count": 47,
     "metadata": {},
     "output_type": "execute_result"
    }
   ],
   "source": [
    "df.columns"
   ]
  },
  {
   "cell_type": "code",
   "execution_count": 48,
   "metadata": {},
   "outputs": [
    {
     "data": {
      "text/plain": [
       "(99600, 52)"
      ]
     },
     "execution_count": 48,
     "metadata": {},
     "output_type": "execute_result"
    }
   ],
   "source": [
    "df.shape"
   ]
  },
  {
   "cell_type": "code",
   "execution_count": 49,
   "metadata": {},
   "outputs": [
    {
     "data": {
      "text/plain": [
       "Audible Audiobook              44619\n",
       "Paperback                      35263\n",
       "Hardcover                      13342\n",
       "Board book                      1633\n",
       "Mass Market Paperback           1260\n",
       "Spiral-bound                     611\n",
       "Cards                            459\n",
       "Calendar                         326\n",
       "Imitation Leather                283\n",
       "Map                              201\n",
       "Pamphlet                         187\n",
       "Perfect Paperback                162\n",
       "Diary                            132\n",
       "Audio CD                         116\n",
       "Unknown                          102\n",
       "Misc. Supplies                    90\n",
       "Sheet music                       84\n",
       "Leather Bound                     79\n",
       "Flexibound                        76\n",
       "Hardcover-spiral                  53\n",
       "Loose Leaf                        52\n",
       "Game                              47\n",
       "Plastic Comb                      40\n",
       "Software Download                 39\n",
       "Electronics                       30\n",
       "Bonded Leather                    27\n",
       "Single Issue Magazine             26\n",
       "Bookmark                          24\n",
       "Staple Bound                      17\n",
       "Ring-bound                        17\n",
       "                               ...  \n",
       "Kindle Edition                     7\n",
       "Kitchen                            6\n",
       "Textbook Binding                   5\n",
       "Rag Book                           5\n",
       "Comic                              5\n",
       "Vinyl Bound                        4\n",
       "Automotive                         3\n",
       "Print on Demand (Paperback)        2\n",
       "JP Oversized                       2\n",
       "Poster                             2\n",
       "Wireless Phone Accessory           2\n",
       "CD-ROM                             2\n",
       "Jewelry                            2\n",
       "Turtleback                         2\n",
       "Album                              2\n",
       "Workbook                           2\n",
       "Paperback Bunko                    2\n",
       "Pocket Book                        1\n",
       "Video Game                         1\n",
       "Roughcut                           1\n",
       "Print Magazine                     1\n",
       "DVD-ROM                            1\n",
       "Thread Bound                       1\n",
       "Lawn & Patio                       1\n",
       "Audio CD Library Binding           1\n",
       "Personal Computers                 1\n",
       "Health and Beauty                  1\n",
       "Puzzle                             1\n",
       "Blu-ray                            1\n",
       "School & Library Binding           1\n",
       "Name: binding, Length: 73, dtype: int64"
      ]
     },
     "execution_count": 49,
     "metadata": {},
     "output_type": "execute_result"
    }
   ],
   "source": [
    "#Cleaning binding column\n",
    "df.binding.value_counts()"
   ]
  },
  {
   "cell_type": "markdown",
   "metadata": {},
   "source": [
    "The binding column contains 73 differnt categories that are mostly related and some of them contain very small elements, we will aggregate closely related categories to reduce the dimension of our variables to avoid curse of dimensionality \n"
   ]
  },
  {
   "cell_type": "code",
   "execution_count": 50,
   "metadata": {},
   "outputs": [
    {
     "data": {
      "text/plain": [
       "73"
      ]
     },
     "execution_count": 50,
     "metadata": {},
     "output_type": "execute_result"
    }
   ],
   "source": [
    "df.binding.nunique()"
   ]
  },
  {
   "cell_type": "code",
   "execution_count": 51,
   "metadata": {},
   "outputs": [],
   "source": [
    "# create a dictionary of identiacal items to create a group an aggregate category \n",
    "dict={'Unknown':['Printed Access Code', 'Unknown','Health and Beauty', 'Lawn & Patio', 'Workbook', 'Kitchen', 'Automotive', 'Jewelry'],\n",
    "     'spiral':[ 'Spiral-bound', 'Staple Bound', 'Ring-bound', 'Plastic Comb', 'Loose Leaf', 'Thread Bound'],\n",
    "     'magazines':[ 'Journal', 'Single Issue Magazine', 'Print Magazine'],\n",
    "     'audios':[ 'Audible Audiobook', 'Audio CD', 'DVD', 'Album', 'MP3 CD', 'Audio CD Library Binding'],\n",
    "     'digital_prints':[ 'CD-ROM', 'Blu-ray', 'DVD-ROM', 'Kindle Edition', 'Video Game', 'Sheet music', 'Software Download',\n",
    " 'Personal Computers', 'Electronics', 'Game', 'Wireless Phone Accessory'],\n",
    "     'hardcovers':['Hardcover', 'Hardcover-spiral', 'Turtleback', 'Roughcut'],\n",
    "     'others':[ 'Cards', 'Pamphlet', 'Calendar', 'Map', 'Stationery', 'Accessory', 'Misc. Supplies', 'Office Product', 'Poster',\n",
    " 'Wall Chart', 'Bookmark', 'JP Oversized'],\n",
    "     'paperbacks':[ 'Paperback', 'Perfect Paperback', 'Mass Market Paperback', 'Flexibound', 'Print on Demand (Paperback)',\n",
    " 'Comic', 'Puzzle', 'Paperback Bunko'],\n",
    "     'leather_bonded':[ 'Bonded Leather', 'Leather Bound', 'Imitation Leather', 'Vinyl Bound'],\n",
    "     'board_book':[ 'Board book', 'Baby Product', 'Toy', 'Rag Book', 'Card Book', 'Bath Book', 'Pocket Book'],\n",
    "     'schoolLibrary_binding':[ 'School & Library Binding', 'Library Binding', 'Textbook Binding']}"
   ]
  },
  {
   "cell_type": "code",
   "execution_count": 52,
   "metadata": {},
   "outputs": [],
   "source": [
    "for key,val in dict.items():\n",
    "    df.binding.replace(val,key, inplace=True)"
   ]
  },
  {
   "cell_type": "code",
   "execution_count": 53,
   "metadata": {},
   "outputs": [
    {
     "data": {
      "text/plain": [
       "audios                   44757\n",
       "paperbacks               36771\n",
       "hardcovers               13398\n",
       "board_book                1679\n",
       "others                    1333\n",
       "spiral                     738\n",
       "leather_bonded             393\n",
       "digital_prints             215\n",
       "Diary                      132\n",
       "Unknown                    126\n",
       "magazines                   40\n",
       "schoolLibrary_binding       18\n",
       "Name: binding, dtype: int64"
      ]
     },
     "execution_count": 53,
     "metadata": {},
     "output_type": "execute_result"
    }
   ],
   "source": [
    "df.binding.value_counts()"
   ]
  },
  {
   "cell_type": "code",
   "execution_count": null,
   "metadata": {},
   "outputs": [],
   "source": []
  },
  {
   "cell_type": "code",
   "execution_count": 54,
   "metadata": {},
   "outputs": [
    {
     "data": {
      "text/html": [
       "<div>\n",
       "<style scoped>\n",
       "    .dataframe tbody tr th:only-of-type {\n",
       "        vertical-align: middle;\n",
       "    }\n",
       "\n",
       "    .dataframe tbody tr th {\n",
       "        vertical-align: top;\n",
       "    }\n",
       "\n",
       "    .dataframe thead th {\n",
       "        text-align: right;\n",
       "    }\n",
       "</style>\n",
       "<table border=\"1\" class=\"dataframe\">\n",
       "  <thead>\n",
       "    <tr style=\"text-align: right;\">\n",
       "      <th></th>\n",
       "      <th>productType</th>\n",
       "      <th>author</th>\n",
       "      <th>availabilityAmazon</th>\n",
       "      <th>binding</th>\n",
       "      <th>categoryTree_0</th>\n",
       "      <th>categoryTree_1</th>\n",
       "      <th>categoryTree_2</th>\n",
       "      <th>categoryTree_3</th>\n",
       "      <th>categoryTree_4</th>\n",
       "      <th>domainId</th>\n",
       "      <th>...</th>\n",
       "      <th>stats_outOfStockPercentage90</th>\n",
       "      <th>stats_outOfStockPercentageInInterval</th>\n",
       "      <th>studio</th>\n",
       "      <th>title</th>\n",
       "      <th>trackingSince</th>\n",
       "      <th>type</th>\n",
       "      <th>sales_rank</th>\n",
       "      <th>price</th>\n",
       "      <th>language_1</th>\n",
       "      <th>language_2</th>\n",
       "    </tr>\n",
       "  </thead>\n",
       "  <tbody>\n",
       "    <tr>\n",
       "      <th>0</th>\n",
       "      <td>1</td>\n",
       "      <td>J.K. Rowling</td>\n",
       "      <td>0.0</td>\n",
       "      <td>audios</td>\n",
       "      <td>Books</td>\n",
       "      <td>Subjects</td>\n",
       "      <td>Teen &amp; Young Adult</td>\n",
       "      <td>Literature &amp; Fiction</td>\n",
       "      <td>Social &amp; Family Issues</td>\n",
       "      <td>1</td>\n",
       "      <td>...</td>\n",
       "      <td>0.0</td>\n",
       "      <td>0.0</td>\n",
       "      <td>Pottermore Publishing</td>\n",
       "      <td>Harry Potter and the Deathly Hallows, Book 7</td>\n",
       "      <td>3796800.0</td>\n",
       "      <td>DOWNLOADABLE_AUDIO</td>\n",
       "      <td>41.0</td>\n",
       "      <td>4499.0</td>\n",
       "      <td>English</td>\n",
       "      <td>Published</td>\n",
       "    </tr>\n",
       "    <tr>\n",
       "      <th>1</th>\n",
       "      <td>1</td>\n",
       "      <td>Adam Grant</td>\n",
       "      <td>0.0</td>\n",
       "      <td>audios</td>\n",
       "      <td>Books</td>\n",
       "      <td>Subjects</td>\n",
       "      <td>Biographies &amp; Memoirs</td>\n",
       "      <td>Memoirs</td>\n",
       "      <td>Unknown</td>\n",
       "      <td>1</td>\n",
       "      <td>...</td>\n",
       "      <td>54.0</td>\n",
       "      <td>29.0</td>\n",
       "      <td>Audible Studios</td>\n",
       "      <td>Power Moves: Lessons from Davos</td>\n",
       "      <td>4060296.0</td>\n",
       "      <td>DOWNLOADABLE_AUDIO</td>\n",
       "      <td>43.0</td>\n",
       "      <td>696.0</td>\n",
       "      <td>English</td>\n",
       "      <td>Published</td>\n",
       "    </tr>\n",
       "    <tr>\n",
       "      <th>2</th>\n",
       "      <td>0</td>\n",
       "      <td>Naomi Kleinberg</td>\n",
       "      <td>0.0</td>\n",
       "      <td>board_book</td>\n",
       "      <td>Books</td>\n",
       "      <td>Subjects</td>\n",
       "      <td>Children's Books</td>\n",
       "      <td>Growing Up &amp; Facts of Life</td>\n",
       "      <td>Health</td>\n",
       "      <td>1</td>\n",
       "      <td>...</td>\n",
       "      <td>0.0</td>\n",
       "      <td>0.0</td>\n",
       "      <td>Random House Books for Young Readers</td>\n",
       "      <td>P is for Potty! (Sesame Street) (Lift-the-Flap)</td>\n",
       "      <td>1708140.0</td>\n",
       "      <td>ABIS_BOOK</td>\n",
       "      <td>30.0</td>\n",
       "      <td>599.0</td>\n",
       "      <td>English</td>\n",
       "      <td>Published</td>\n",
       "    </tr>\n",
       "    <tr>\n",
       "      <th>3</th>\n",
       "      <td>0</td>\n",
       "      <td>Jen Fisch</td>\n",
       "      <td>0.0</td>\n",
       "      <td>paperbacks</td>\n",
       "      <td>Books</td>\n",
       "      <td>Subjects</td>\n",
       "      <td>Cookbooks, Food &amp; Wine</td>\n",
       "      <td>Regional &amp; International</td>\n",
       "      <td>Canadian</td>\n",
       "      <td>1</td>\n",
       "      <td>...</td>\n",
       "      <td>0.0</td>\n",
       "      <td>0.0</td>\n",
       "      <td>Rockridge Press</td>\n",
       "      <td>The Easy 5-Ingredient Ketogenic Diet Cookbook:...</td>\n",
       "      <td>3622652.0</td>\n",
       "      <td>ABIS_BOOK</td>\n",
       "      <td>34.0</td>\n",
       "      <td>932.0</td>\n",
       "      <td>English</td>\n",
       "      <td>Published</td>\n",
       "    </tr>\n",
       "    <tr>\n",
       "      <th>4</th>\n",
       "      <td>0</td>\n",
       "      <td>Elizabeth Cunningham</td>\n",
       "      <td>0.0</td>\n",
       "      <td>paperbacks</td>\n",
       "      <td>Books</td>\n",
       "      <td>Subjects</td>\n",
       "      <td>Cookbooks, Food &amp; Wine</td>\n",
       "      <td>Baking</td>\n",
       "      <td>Cakes</td>\n",
       "      <td>1</td>\n",
       "      <td>...</td>\n",
       "      <td>0.0</td>\n",
       "      <td>0.0</td>\n",
       "      <td>Independently published</td>\n",
       "      <td>Keto Diet Cookbook For Beginners: 550 Recipes ...</td>\n",
       "      <td>4199258.0</td>\n",
       "      <td>ABIS_BOOK</td>\n",
       "      <td>71.0</td>\n",
       "      <td>999.0</td>\n",
       "      <td>English</td>\n",
       "      <td>Published</td>\n",
       "    </tr>\n",
       "  </tbody>\n",
       "</table>\n",
       "<p>5 rows × 52 columns</p>\n",
       "</div>"
      ],
      "text/plain": [
       "   productType                author  availabilityAmazon     binding  \\\n",
       "0            1          J.K. Rowling                 0.0      audios   \n",
       "1            1            Adam Grant                 0.0      audios   \n",
       "2            0       Naomi Kleinberg                 0.0  board_book   \n",
       "3            0             Jen Fisch                 0.0  paperbacks   \n",
       "4            0  Elizabeth Cunningham                 0.0  paperbacks   \n",
       "\n",
       "  categoryTree_0 categoryTree_1          categoryTree_2  \\\n",
       "0          Books       Subjects      Teen & Young Adult   \n",
       "1          Books       Subjects   Biographies & Memoirs   \n",
       "2          Books       Subjects        Children's Books   \n",
       "3          Books       Subjects  Cookbooks, Food & Wine   \n",
       "4          Books       Subjects  Cookbooks, Food & Wine   \n",
       "\n",
       "               categoryTree_3          categoryTree_4  domainId  ...  \\\n",
       "0        Literature & Fiction  Social & Family Issues         1  ...   \n",
       "1                     Memoirs                 Unknown         1  ...   \n",
       "2  Growing Up & Facts of Life                  Health         1  ...   \n",
       "3    Regional & International                Canadian         1  ...   \n",
       "4                      Baking                   Cakes         1  ...   \n",
       "\n",
       "   stats_outOfStockPercentage90  stats_outOfStockPercentageInInterval  \\\n",
       "0                           0.0                                   0.0   \n",
       "1                          54.0                                  29.0   \n",
       "2                           0.0                                   0.0   \n",
       "3                           0.0                                   0.0   \n",
       "4                           0.0                                   0.0   \n",
       "\n",
       "                                 studio  \\\n",
       "0                 Pottermore Publishing   \n",
       "1                       Audible Studios   \n",
       "2  Random House Books for Young Readers   \n",
       "3                       Rockridge Press   \n",
       "4               Independently published   \n",
       "\n",
       "                                               title  trackingSince  \\\n",
       "0       Harry Potter and the Deathly Hallows, Book 7      3796800.0   \n",
       "1                    Power Moves: Lessons from Davos      4060296.0   \n",
       "2    P is for Potty! (Sesame Street) (Lift-the-Flap)      1708140.0   \n",
       "3  The Easy 5-Ingredient Ketogenic Diet Cookbook:...      3622652.0   \n",
       "4  Keto Diet Cookbook For Beginners: 550 Recipes ...      4199258.0   \n",
       "\n",
       "                 type  sales_rank   price  language_1  language_2  \n",
       "0  DOWNLOADABLE_AUDIO        41.0  4499.0     English   Published  \n",
       "1  DOWNLOADABLE_AUDIO        43.0   696.0     English   Published  \n",
       "2           ABIS_BOOK        30.0   599.0     English   Published  \n",
       "3           ABIS_BOOK        34.0   932.0     English   Published  \n",
       "4           ABIS_BOOK        71.0   999.0     English   Published  \n",
       "\n",
       "[5 rows x 52 columns]"
      ]
     },
     "execution_count": 54,
     "metadata": {},
     "output_type": "execute_result"
    }
   ],
   "source": [
    "df.head()"
   ]
  },
  {
   "cell_type": "code",
   "execution_count": 55,
   "metadata": {},
   "outputs": [],
   "source": [
    "#catTree_under10.categoryTree_2.values= 'Other'\n",
    "def groupUnder10(x):\n",
    "    cond = df[x].value_counts()\n",
    "    threshold = 10\n",
    "    df[x] = np.where(df[x].isin(cond.index[cond > threshold ]), df[x], 'Others')\n",
    "    print('All the different categories that contain less than 10 items in the %s column are grouped together and renamed to \"Others\".' %x)"
   ]
  },
  {
   "cell_type": "code",
   "execution_count": 56,
   "metadata": {},
   "outputs": [
    {
     "data": {
      "text/plain": [
       "categoryTree_1      16\n",
       "categoryTree_2      47\n",
       "categoryTree_3     370\n",
       "categoryTree_4    1618\n",
       "dtype: int64"
      ]
     },
     "execution_count": 56,
     "metadata": {},
     "output_type": "execute_result"
    }
   ],
   "source": [
    "df[['categoryTree_1','categoryTree_2','categoryTree_3','categoryTree_4']].nunique()"
   ]
  },
  {
   "cell_type": "code",
   "execution_count": 57,
   "metadata": {},
   "outputs": [
    {
     "name": "stdout",
     "output_type": "stream",
     "text": [
      "All the different categories that contain less than 10 items in the categoryTree_2 column are grouped together and renamed to \"Others\".\n"
     ]
    }
   ],
   "source": [
    "groupUnder10('categoryTree_2')"
   ]
  },
  {
   "cell_type": "code",
   "execution_count": 58,
   "metadata": {},
   "outputs": [
    {
     "name": "stdout",
     "output_type": "stream",
     "text": [
      "All the different categories that contain less than 10 items in the categoryTree_3 column are grouped together and renamed to \"Others\".\n"
     ]
    }
   ],
   "source": [
    "#group under 10 counts in to one for categoryTree_3 column\n",
    "groupUnder10('categoryTree_3')"
   ]
  },
  {
   "cell_type": "code",
   "execution_count": 59,
   "metadata": {},
   "outputs": [
    {
     "name": "stdout",
     "output_type": "stream",
     "text": [
      "All the different categories that contain less than 10 items in the categoryTree_4 column are grouped together and renamed to \"Others\".\n"
     ]
    }
   ],
   "source": [
    "groupUnder10('categoryTree_4')"
   ]
  },
  {
   "cell_type": "code",
   "execution_count": 60,
   "metadata": {},
   "outputs": [
    {
     "data": {
      "text/plain": [
       "categoryTree_0     12\n",
       "categoryTree_1     16\n",
       "categoryTree_2     34\n",
       "categoryTree_3    272\n",
       "categoryTree_4    680\n",
       "dtype: int64"
      ]
     },
     "execution_count": 60,
     "metadata": {},
     "output_type": "execute_result"
    }
   ],
   "source": [
    "df[['categoryTree_0','categoryTree_1','categoryTree_2','categoryTree_3','categoryTree_4']].nunique()"
   ]
  },
  {
   "cell_type": "code",
   "execution_count": 61,
   "metadata": {},
   "outputs": [],
   "source": [
    "## Some features are duplicated within the dataset, lets delete those duplicated columns"
   ]
  },
  {
   "cell_type": "code",
   "execution_count": 62,
   "metadata": {},
   "outputs": [],
   "source": [
    "## Delete duplicated features\n",
    "\n",
    "duplicates=df[['label', 'manufacturer', 'publisher', 'studio']]\n"
   ]
  },
  {
   "cell_type": "code",
   "execution_count": 63,
   "metadata": {},
   "outputs": [
    {
     "data": {
      "text/plain": [
       "True"
      ]
     },
     "execution_count": 63,
     "metadata": {},
     "output_type": "execute_result"
    }
   ],
   "source": [
    "df['label'].equals(df['manufacturer'])"
   ]
  },
  {
   "cell_type": "code",
   "execution_count": 64,
   "metadata": {},
   "outputs": [
    {
     "data": {
      "text/plain": [
       "True"
      ]
     },
     "execution_count": 64,
     "metadata": {},
     "output_type": "execute_result"
    }
   ],
   "source": [
    "df['label'].equals(duplicates['publisher'])"
   ]
  },
  {
   "cell_type": "code",
   "execution_count": 65,
   "metadata": {},
   "outputs": [
    {
     "data": {
      "text/plain": [
       "True"
      ]
     },
     "execution_count": 65,
     "metadata": {},
     "output_type": "execute_result"
    }
   ],
   "source": [
    "df['label'].equals(duplicates['studio'])"
   ]
  },
  {
   "cell_type": "code",
   "execution_count": 66,
   "metadata": {},
   "outputs": [],
   "source": [
    "#df[df.duplicated(['label', 'manufacturer', 'publisher', 'studio'])]"
   ]
  },
  {
   "cell_type": "code",
   "execution_count": 67,
   "metadata": {},
   "outputs": [
    {
     "data": {
      "text/html": [
       "<div>\n",
       "<style scoped>\n",
       "    .dataframe tbody tr th:only-of-type {\n",
       "        vertical-align: middle;\n",
       "    }\n",
       "\n",
       "    .dataframe tbody tr th {\n",
       "        vertical-align: top;\n",
       "    }\n",
       "\n",
       "    .dataframe thead th {\n",
       "        text-align: right;\n",
       "    }\n",
       "</style>\n",
       "<table border=\"1\" class=\"dataframe\">\n",
       "  <thead>\n",
       "    <tr style=\"text-align: right;\">\n",
       "      <th></th>\n",
       "      <th>label</th>\n",
       "      <th>manufacturer</th>\n",
       "      <th>publisher</th>\n",
       "      <th>studio</th>\n",
       "    </tr>\n",
       "  </thead>\n",
       "  <tbody>\n",
       "    <tr>\n",
       "      <th>count</th>\n",
       "      <td>99600</td>\n",
       "      <td>99600</td>\n",
       "      <td>99600</td>\n",
       "      <td>99600</td>\n",
       "    </tr>\n",
       "    <tr>\n",
       "      <th>unique</th>\n",
       "      <td>10107</td>\n",
       "      <td>10107</td>\n",
       "      <td>10107</td>\n",
       "      <td>10107</td>\n",
       "    </tr>\n",
       "    <tr>\n",
       "      <th>top</th>\n",
       "      <td>Audible Studios</td>\n",
       "      <td>Audible Studios</td>\n",
       "      <td>Audible Studios</td>\n",
       "      <td>Audible Studios</td>\n",
       "    </tr>\n",
       "    <tr>\n",
       "      <th>freq</th>\n",
       "      <td>4267</td>\n",
       "      <td>4267</td>\n",
       "      <td>4267</td>\n",
       "      <td>4267</td>\n",
       "    </tr>\n",
       "  </tbody>\n",
       "</table>\n",
       "</div>"
      ],
      "text/plain": [
       "                  label     manufacturer        publisher           studio\n",
       "count             99600            99600            99600            99600\n",
       "unique            10107            10107            10107            10107\n",
       "top     Audible Studios  Audible Studios  Audible Studios  Audible Studios\n",
       "freq               4267             4267             4267             4267"
      ]
     },
     "execution_count": 67,
     "metadata": {},
     "output_type": "execute_result"
    }
   ],
   "source": [
    "duplicates.describe(include='all')"
   ]
  },
  {
   "cell_type": "code",
   "execution_count": 68,
   "metadata": {},
   "outputs": [
    {
     "data": {
      "text/plain": [
       "True     89493\n",
       "False    10107\n",
       "dtype: int64"
      ]
     },
     "execution_count": 68,
     "metadata": {},
     "output_type": "execute_result"
    }
   ],
   "source": [
    "df.duplicated(subset=['label', 'manufacturer', 'publisher', 'studio'],keep='first').value_counts()"
   ]
  },
  {
   "cell_type": "markdown",
   "metadata": {},
   "source": [
    "Since the above 4 columns contain duplicated informartion in 89493 out of 99600 total records we can keep one of those and drop the reamining ones without losing useful information."
   ]
  },
  {
   "cell_type": "code",
   "execution_count": 69,
   "metadata": {},
   "outputs": [],
   "source": [
    "# Keep publisher and drop the rest\n",
    "df.drop(['label', 'manufacturer','studio'], axis =1, inplace=True)"
   ]
  },
  {
   "cell_type": "code",
   "execution_count": 70,
   "metadata": {},
   "outputs": [
    {
     "data": {
      "text/plain": [
       "(99600, 49)"
      ]
     },
     "execution_count": 70,
     "metadata": {},
     "output_type": "execute_result"
    }
   ],
   "source": [
    "df.shape"
   ]
  },
  {
   "cell_type": "code",
   "execution_count": 71,
   "metadata": {},
   "outputs": [
    {
     "data": {
      "text/html": [
       "<div>\n",
       "<style scoped>\n",
       "    .dataframe tbody tr th:only-of-type {\n",
       "        vertical-align: middle;\n",
       "    }\n",
       "\n",
       "    .dataframe tbody tr th {\n",
       "        vertical-align: top;\n",
       "    }\n",
       "\n",
       "    .dataframe thead th {\n",
       "        text-align: right;\n",
       "    }\n",
       "</style>\n",
       "<table border=\"1\" class=\"dataframe\">\n",
       "  <thead>\n",
       "    <tr style=\"text-align: right;\">\n",
       "      <th></th>\n",
       "      <th>count</th>\n",
       "      <th>unique</th>\n",
       "      <th>top</th>\n",
       "      <th>freq</th>\n",
       "      <th>mean</th>\n",
       "      <th>std</th>\n",
       "      <th>min</th>\n",
       "      <th>25%</th>\n",
       "      <th>50%</th>\n",
       "      <th>75%</th>\n",
       "      <th>max</th>\n",
       "    </tr>\n",
       "  </thead>\n",
       "  <tbody>\n",
       "    <tr>\n",
       "      <th>productType</th>\n",
       "      <td>99600</td>\n",
       "      <td>NaN</td>\n",
       "      <td>NaN</td>\n",
       "      <td>NaN</td>\n",
       "      <td>0.451878</td>\n",
       "      <td>0.508459</td>\n",
       "      <td>0</td>\n",
       "      <td>0</td>\n",
       "      <td>0</td>\n",
       "      <td>1</td>\n",
       "      <td>4</td>\n",
       "    </tr>\n",
       "    <tr>\n",
       "      <th>author</th>\n",
       "      <td>99600</td>\n",
       "      <td>37563</td>\n",
       "      <td>Unknown</td>\n",
       "      <td>2060</td>\n",
       "      <td>NaN</td>\n",
       "      <td>NaN</td>\n",
       "      <td>NaN</td>\n",
       "      <td>NaN</td>\n",
       "      <td>NaN</td>\n",
       "      <td>NaN</td>\n",
       "      <td>NaN</td>\n",
       "    </tr>\n",
       "    <tr>\n",
       "      <th>availabilityAmazon</th>\n",
       "      <td>99600</td>\n",
       "      <td>NaN</td>\n",
       "      <td>NaN</td>\n",
       "      <td>NaN</td>\n",
       "      <td>-0.00527108</td>\n",
       "      <td>0.231033</td>\n",
       "      <td>-1</td>\n",
       "      <td>0</td>\n",
       "      <td>0</td>\n",
       "      <td>0</td>\n",
       "      <td>2</td>\n",
       "    </tr>\n",
       "    <tr>\n",
       "      <th>binding</th>\n",
       "      <td>99600</td>\n",
       "      <td>12</td>\n",
       "      <td>audios</td>\n",
       "      <td>44757</td>\n",
       "      <td>NaN</td>\n",
       "      <td>NaN</td>\n",
       "      <td>NaN</td>\n",
       "      <td>NaN</td>\n",
       "      <td>NaN</td>\n",
       "      <td>NaN</td>\n",
       "      <td>NaN</td>\n",
       "    </tr>\n",
       "    <tr>\n",
       "      <th>categoryTree_0</th>\n",
       "      <td>99600</td>\n",
       "      <td>12</td>\n",
       "      <td>Books</td>\n",
       "      <td>99582</td>\n",
       "      <td>NaN</td>\n",
       "      <td>NaN</td>\n",
       "      <td>NaN</td>\n",
       "      <td>NaN</td>\n",
       "      <td>NaN</td>\n",
       "      <td>NaN</td>\n",
       "      <td>NaN</td>\n",
       "    </tr>\n",
       "    <tr>\n",
       "      <th>categoryTree_1</th>\n",
       "      <td>99600</td>\n",
       "      <td>16</td>\n",
       "      <td>Subjects</td>\n",
       "      <td>99582</td>\n",
       "      <td>NaN</td>\n",
       "      <td>NaN</td>\n",
       "      <td>NaN</td>\n",
       "      <td>NaN</td>\n",
       "      <td>NaN</td>\n",
       "      <td>NaN</td>\n",
       "      <td>NaN</td>\n",
       "    </tr>\n",
       "    <tr>\n",
       "      <th>categoryTree_2</th>\n",
       "      <td>99600</td>\n",
       "      <td>34</td>\n",
       "      <td>Literature &amp; Fiction</td>\n",
       "      <td>17441</td>\n",
       "      <td>NaN</td>\n",
       "      <td>NaN</td>\n",
       "      <td>NaN</td>\n",
       "      <td>NaN</td>\n",
       "      <td>NaN</td>\n",
       "      <td>NaN</td>\n",
       "      <td>NaN</td>\n",
       "    </tr>\n",
       "    <tr>\n",
       "      <th>categoryTree_3</th>\n",
       "      <td>99600</td>\n",
       "      <td>272</td>\n",
       "      <td>Genre Fiction</td>\n",
       "      <td>8216</td>\n",
       "      <td>NaN</td>\n",
       "      <td>NaN</td>\n",
       "      <td>NaN</td>\n",
       "      <td>NaN</td>\n",
       "      <td>NaN</td>\n",
       "      <td>NaN</td>\n",
       "      <td>NaN</td>\n",
       "    </tr>\n",
       "    <tr>\n",
       "      <th>categoryTree_4</th>\n",
       "      <td>99600</td>\n",
       "      <td>680</td>\n",
       "      <td>Unknown</td>\n",
       "      <td>34740</td>\n",
       "      <td>NaN</td>\n",
       "      <td>NaN</td>\n",
       "      <td>NaN</td>\n",
       "      <td>NaN</td>\n",
       "      <td>NaN</td>\n",
       "      <td>NaN</td>\n",
       "      <td>NaN</td>\n",
       "    </tr>\n",
       "    <tr>\n",
       "      <th>domainId</th>\n",
       "      <td>99600</td>\n",
       "      <td>NaN</td>\n",
       "      <td>NaN</td>\n",
       "      <td>NaN</td>\n",
       "      <td>1</td>\n",
       "      <td>0</td>\n",
       "      <td>1</td>\n",
       "      <td>1</td>\n",
       "      <td>1</td>\n",
       "      <td>1</td>\n",
       "      <td>1</td>\n",
       "    </tr>\n",
       "    <tr>\n",
       "      <th>hasReviews</th>\n",
       "      <td>99600</td>\n",
       "      <td>NaN</td>\n",
       "      <td>NaN</td>\n",
       "      <td>NaN</td>\n",
       "      <td>0.971305</td>\n",
       "      <td>0.166948</td>\n",
       "      <td>0</td>\n",
       "      <td>1</td>\n",
       "      <td>1</td>\n",
       "      <td>1</td>\n",
       "      <td>1</td>\n",
       "    </tr>\n",
       "    <tr>\n",
       "      <th>isEligibleForSuperSaverShipping</th>\n",
       "      <td>99600</td>\n",
       "      <td>NaN</td>\n",
       "      <td>NaN</td>\n",
       "      <td>NaN</td>\n",
       "      <td>0.525241</td>\n",
       "      <td>0.499365</td>\n",
       "      <td>0</td>\n",
       "      <td>0</td>\n",
       "      <td>1</td>\n",
       "      <td>1</td>\n",
       "      <td>1</td>\n",
       "    </tr>\n",
       "    <tr>\n",
       "      <th>isEligibleForTradeIn</th>\n",
       "      <td>99600</td>\n",
       "      <td>NaN</td>\n",
       "      <td>NaN</td>\n",
       "      <td>NaN</td>\n",
       "      <td>0.0831627</td>\n",
       "      <td>0.276129</td>\n",
       "      <td>0</td>\n",
       "      <td>0</td>\n",
       "      <td>0</td>\n",
       "      <td>0</td>\n",
       "      <td>1</td>\n",
       "    </tr>\n",
       "    <tr>\n",
       "      <th>isRedirectASIN</th>\n",
       "      <td>99600</td>\n",
       "      <td>NaN</td>\n",
       "      <td>NaN</td>\n",
       "      <td>NaN</td>\n",
       "      <td>0</td>\n",
       "      <td>0</td>\n",
       "      <td>0</td>\n",
       "      <td>0</td>\n",
       "      <td>0</td>\n",
       "      <td>0</td>\n",
       "      <td>0</td>\n",
       "    </tr>\n",
       "    <tr>\n",
       "      <th>isSNS</th>\n",
       "      <td>99600</td>\n",
       "      <td>NaN</td>\n",
       "      <td>NaN</td>\n",
       "      <td>NaN</td>\n",
       "      <td>1.00402e-05</td>\n",
       "      <td>0.00316862</td>\n",
       "      <td>0</td>\n",
       "      <td>0</td>\n",
       "      <td>0</td>\n",
       "      <td>0</td>\n",
       "      <td>1</td>\n",
       "    </tr>\n",
       "    <tr>\n",
       "      <th>lastPriceChange</th>\n",
       "      <td>99600</td>\n",
       "      <td>NaN</td>\n",
       "      <td>NaN</td>\n",
       "      <td>NaN</td>\n",
       "      <td>4.16463e+06</td>\n",
       "      <td>359964</td>\n",
       "      <td>0</td>\n",
       "      <td>4.19283e+06</td>\n",
       "      <td>4.2936e+06</td>\n",
       "      <td>4.30585e+06</td>\n",
       "      <td>4.30837e+06</td>\n",
       "    </tr>\n",
       "    <tr>\n",
       "      <th>lastRatingUpdate</th>\n",
       "      <td>99600</td>\n",
       "      <td>NaN</td>\n",
       "      <td>NaN</td>\n",
       "      <td>NaN</td>\n",
       "      <td>3.94477e+06</td>\n",
       "      <td>1.10148e+06</td>\n",
       "      <td>-1</td>\n",
       "      <td>4.20765e+06</td>\n",
       "      <td>4.29216e+06</td>\n",
       "      <td>4.30414e+06</td>\n",
       "      <td>4.30836e+06</td>\n",
       "    </tr>\n",
       "    <tr>\n",
       "      <th>lastUpdate</th>\n",
       "      <td>99600</td>\n",
       "      <td>NaN</td>\n",
       "      <td>NaN</td>\n",
       "      <td>NaN</td>\n",
       "      <td>4.30653e+06</td>\n",
       "      <td>1773.25</td>\n",
       "      <td>4.28382e+06</td>\n",
       "      <td>4.30612e+06</td>\n",
       "      <td>4.30665e+06</td>\n",
       "      <td>4.30742e+06</td>\n",
       "      <td>4.30838e+06</td>\n",
       "    </tr>\n",
       "    <tr>\n",
       "      <th>listedSince</th>\n",
       "      <td>99600</td>\n",
       "      <td>NaN</td>\n",
       "      <td>NaN</td>\n",
       "      <td>NaN</td>\n",
       "      <td>5272.63</td>\n",
       "      <td>138444</td>\n",
       "      <td>-2.92752e+06</td>\n",
       "      <td>-1</td>\n",
       "      <td>0</td>\n",
       "      <td>0</td>\n",
       "      <td>4.23504e+06</td>\n",
       "    </tr>\n",
       "    <tr>\n",
       "      <th>newPriceIsMAP</th>\n",
       "      <td>99600</td>\n",
       "      <td>NaN</td>\n",
       "      <td>NaN</td>\n",
       "      <td>NaN</td>\n",
       "      <td>0.000451807</td>\n",
       "      <td>0.0212511</td>\n",
       "      <td>0</td>\n",
       "      <td>0</td>\n",
       "      <td>0</td>\n",
       "      <td>0</td>\n",
       "      <td>1</td>\n",
       "    </tr>\n",
       "    <tr>\n",
       "      <th>numberOfItems</th>\n",
       "      <td>99600</td>\n",
       "      <td>NaN</td>\n",
       "      <td>NaN</td>\n",
       "      <td>NaN</td>\n",
       "      <td>0.12255</td>\n",
       "      <td>16.3078</td>\n",
       "      <td>-1</td>\n",
       "      <td>-1</td>\n",
       "      <td>-1</td>\n",
       "      <td>1</td>\n",
       "      <td>5000</td>\n",
       "    </tr>\n",
       "    <tr>\n",
       "      <th>numberOfPages</th>\n",
       "      <td>99600</td>\n",
       "      <td>NaN</td>\n",
       "      <td>NaN</td>\n",
       "      <td>NaN</td>\n",
       "      <td>161.027</td>\n",
       "      <td>289.258</td>\n",
       "      <td>-1</td>\n",
       "      <td>-1</td>\n",
       "      <td>32</td>\n",
       "      <td>256</td>\n",
       "      <td>9998</td>\n",
       "    </tr>\n",
       "    <tr>\n",
       "      <th>offersSuccessful</th>\n",
       "      <td>99600</td>\n",
       "      <td>NaN</td>\n",
       "      <td>NaN</td>\n",
       "      <td>NaN</td>\n",
       "      <td>0</td>\n",
       "      <td>0</td>\n",
       "      <td>0</td>\n",
       "      <td>0</td>\n",
       "      <td>0</td>\n",
       "      <td>0</td>\n",
       "      <td>0</td>\n",
       "    </tr>\n",
       "    <tr>\n",
       "      <th>packageHeight</th>\n",
       "      <td>99600</td>\n",
       "      <td>NaN</td>\n",
       "      <td>NaN</td>\n",
       "      <td>NaN</td>\n",
       "      <td>11.9898</td>\n",
       "      <td>16.5128</td>\n",
       "      <td>-1</td>\n",
       "      <td>-1</td>\n",
       "      <td>8</td>\n",
       "      <td>22</td>\n",
       "      <td>287</td>\n",
       "    </tr>\n",
       "    <tr>\n",
       "      <th>packageLength</th>\n",
       "      <td>99600</td>\n",
       "      <td>NaN</td>\n",
       "      <td>NaN</td>\n",
       "      <td>NaN</td>\n",
       "      <td>124.36</td>\n",
       "      <td>116.967</td>\n",
       "      <td>-1</td>\n",
       "      <td>-1</td>\n",
       "      <td>183</td>\n",
       "      <td>228</td>\n",
       "      <td>1143</td>\n",
       "    </tr>\n",
       "    <tr>\n",
       "      <th>packageQuantity</th>\n",
       "      <td>99600</td>\n",
       "      <td>NaN</td>\n",
       "      <td>NaN</td>\n",
       "      <td>NaN</td>\n",
       "      <td>-0.157199</td>\n",
       "      <td>4.82493</td>\n",
       "      <td>-1</td>\n",
       "      <td>-1</td>\n",
       "      <td>-1</td>\n",
       "      <td>1</td>\n",
       "      <td>1067</td>\n",
       "    </tr>\n",
       "    <tr>\n",
       "      <th>packageWeight</th>\n",
       "      <td>99600</td>\n",
       "      <td>NaN</td>\n",
       "      <td>NaN</td>\n",
       "      <td>NaN</td>\n",
       "      <td>278.982</td>\n",
       "      <td>455.452</td>\n",
       "      <td>-1</td>\n",
       "      <td>-1</td>\n",
       "      <td>113</td>\n",
       "      <td>386</td>\n",
       "      <td>10795</td>\n",
       "    </tr>\n",
       "    <tr>\n",
       "      <th>packageWidth</th>\n",
       "      <td>99600</td>\n",
       "      <td>NaN</td>\n",
       "      <td>NaN</td>\n",
       "      <td>NaN</td>\n",
       "      <td>90.7866</td>\n",
       "      <td>88.0171</td>\n",
       "      <td>-1</td>\n",
       "      <td>-1</td>\n",
       "      <td>127</td>\n",
       "      <td>157</td>\n",
       "      <td>483</td>\n",
       "    </tr>\n",
       "    <tr>\n",
       "      <th>productGroup</th>\n",
       "      <td>99600</td>\n",
       "      <td>33</td>\n",
       "      <td>Book</td>\n",
       "      <td>54619</td>\n",
       "      <td>NaN</td>\n",
       "      <td>NaN</td>\n",
       "      <td>NaN</td>\n",
       "      <td>NaN</td>\n",
       "      <td>NaN</td>\n",
       "      <td>NaN</td>\n",
       "      <td>NaN</td>\n",
       "    </tr>\n",
       "    <tr>\n",
       "      <th>publicationDate</th>\n",
       "      <td>99600</td>\n",
       "      <td>NaN</td>\n",
       "      <td>NaN</td>\n",
       "      <td>NaN</td>\n",
       "      <td>1.97803e+07</td>\n",
       "      <td>2.64172e+06</td>\n",
       "      <td>-1</td>\n",
       "      <td>2.01106e+07</td>\n",
       "      <td>2.01511e+07</td>\n",
       "      <td>2.01801e+07</td>\n",
       "      <td>2.20001e+07</td>\n",
       "    </tr>\n",
       "    <tr>\n",
       "      <th>publisher</th>\n",
       "      <td>99600</td>\n",
       "      <td>10107</td>\n",
       "      <td>Audible Studios</td>\n",
       "      <td>4267</td>\n",
       "      <td>NaN</td>\n",
       "      <td>NaN</td>\n",
       "      <td>NaN</td>\n",
       "      <td>NaN</td>\n",
       "      <td>NaN</td>\n",
       "      <td>NaN</td>\n",
       "      <td>NaN</td>\n",
       "    </tr>\n",
       "    <tr>\n",
       "      <th>releaseDate</th>\n",
       "      <td>99600</td>\n",
       "      <td>NaN</td>\n",
       "      <td>NaN</td>\n",
       "      <td>NaN</td>\n",
       "      <td>1.07679e+07</td>\n",
       "      <td>1.00449e+07</td>\n",
       "      <td>-1</td>\n",
       "      <td>-1</td>\n",
       "      <td>2.00201e+07</td>\n",
       "      <td>2.01701e+07</td>\n",
       "      <td>2.02008e+07</td>\n",
       "    </tr>\n",
       "    <tr>\n",
       "      <th>rootCategory</th>\n",
       "      <td>99600</td>\n",
       "      <td>NaN</td>\n",
       "      <td>NaN</td>\n",
       "      <td>NaN</td>\n",
       "      <td>1.85208e+14</td>\n",
       "      <td>4.13307e+16</td>\n",
       "      <td>283155</td>\n",
       "      <td>283155</td>\n",
       "      <td>283155</td>\n",
       "      <td>283155</td>\n",
       "      <td>9.22337e+18</td>\n",
       "    </tr>\n",
       "    <tr>\n",
       "      <th>stats_atIntervalStart</th>\n",
       "      <td>99600</td>\n",
       "      <td>NaN</td>\n",
       "      <td>NaN</td>\n",
       "      <td>NaN</td>\n",
       "      <td>1719.08</td>\n",
       "      <td>2196.38</td>\n",
       "      <td>-1</td>\n",
       "      <td>799</td>\n",
       "      <td>1476</td>\n",
       "      <td>2095</td>\n",
       "      <td>49900</td>\n",
       "    </tr>\n",
       "    <tr>\n",
       "      <th>stats_avg</th>\n",
       "      <td>99600</td>\n",
       "      <td>NaN</td>\n",
       "      <td>NaN</td>\n",
       "      <td>NaN</td>\n",
       "      <td>1932.09</td>\n",
       "      <td>2424.86</td>\n",
       "      <td>-1</td>\n",
       "      <td>1057</td>\n",
       "      <td>1521</td>\n",
       "      <td>2153</td>\n",
       "      <td>99998</td>\n",
       "    </tr>\n",
       "    <tr>\n",
       "      <th>stats_avg30</th>\n",
       "      <td>99600</td>\n",
       "      <td>NaN</td>\n",
       "      <td>NaN</td>\n",
       "      <td>NaN</td>\n",
       "      <td>1875.34</td>\n",
       "      <td>2232.52</td>\n",
       "      <td>-1</td>\n",
       "      <td>1006.75</td>\n",
       "      <td>1499</td>\n",
       "      <td>2099</td>\n",
       "      <td>99999</td>\n",
       "    </tr>\n",
       "    <tr>\n",
       "      <th>stats_avg90</th>\n",
       "      <td>99600</td>\n",
       "      <td>NaN</td>\n",
       "      <td>NaN</td>\n",
       "      <td>NaN</td>\n",
       "      <td>1911.44</td>\n",
       "      <td>2348.09</td>\n",
       "      <td>-1</td>\n",
       "      <td>1034</td>\n",
       "      <td>1505</td>\n",
       "      <td>2133.25</td>\n",
       "      <td>99999</td>\n",
       "    </tr>\n",
       "    <tr>\n",
       "      <th>stats_avg180</th>\n",
       "      <td>99600</td>\n",
       "      <td>NaN</td>\n",
       "      <td>NaN</td>\n",
       "      <td>NaN</td>\n",
       "      <td>1931.17</td>\n",
       "      <td>2404.5</td>\n",
       "      <td>-1</td>\n",
       "      <td>1058</td>\n",
       "      <td>1521</td>\n",
       "      <td>2153</td>\n",
       "      <td>99999</td>\n",
       "    </tr>\n",
       "    <tr>\n",
       "      <th>stats_current</th>\n",
       "      <td>99600</td>\n",
       "      <td>NaN</td>\n",
       "      <td>NaN</td>\n",
       "      <td>NaN</td>\n",
       "      <td>1850.58</td>\n",
       "      <td>2203.97</td>\n",
       "      <td>-1</td>\n",
       "      <td>999</td>\n",
       "      <td>1496</td>\n",
       "      <td>2099</td>\n",
       "      <td>99999</td>\n",
       "    </tr>\n",
       "    <tr>\n",
       "      <th>stats_outOfStockPercentage30</th>\n",
       "      <td>99600</td>\n",
       "      <td>NaN</td>\n",
       "      <td>NaN</td>\n",
       "      <td>NaN</td>\n",
       "      <td>2.55269</td>\n",
       "      <td>15.1155</td>\n",
       "      <td>-1</td>\n",
       "      <td>0</td>\n",
       "      <td>0</td>\n",
       "      <td>0</td>\n",
       "      <td>100</td>\n",
       "    </tr>\n",
       "    <tr>\n",
       "      <th>stats_outOfStockPercentage90</th>\n",
       "      <td>99600</td>\n",
       "      <td>NaN</td>\n",
       "      <td>NaN</td>\n",
       "      <td>NaN</td>\n",
       "      <td>2.63436</td>\n",
       "      <td>14.5735</td>\n",
       "      <td>-1</td>\n",
       "      <td>0</td>\n",
       "      <td>0</td>\n",
       "      <td>0</td>\n",
       "      <td>100</td>\n",
       "    </tr>\n",
       "    <tr>\n",
       "      <th>stats_outOfStockPercentageInInterval</th>\n",
       "      <td>99600</td>\n",
       "      <td>NaN</td>\n",
       "      <td>NaN</td>\n",
       "      <td>NaN</td>\n",
       "      <td>2.55913</td>\n",
       "      <td>14.1813</td>\n",
       "      <td>-1</td>\n",
       "      <td>0</td>\n",
       "      <td>0</td>\n",
       "      <td>0</td>\n",
       "      <td>100</td>\n",
       "    </tr>\n",
       "    <tr>\n",
       "      <th>title</th>\n",
       "      <td>99600</td>\n",
       "      <td>89646</td>\n",
       "      <td>Think and Grow Rich</td>\n",
       "      <td>15</td>\n",
       "      <td>NaN</td>\n",
       "      <td>NaN</td>\n",
       "      <td>NaN</td>\n",
       "      <td>NaN</td>\n",
       "      <td>NaN</td>\n",
       "      <td>NaN</td>\n",
       "      <td>NaN</td>\n",
       "    </tr>\n",
       "    <tr>\n",
       "      <th>trackingSince</th>\n",
       "      <td>99600</td>\n",
       "      <td>NaN</td>\n",
       "      <td>NaN</td>\n",
       "      <td>NaN</td>\n",
       "      <td>2.93417e+06</td>\n",
       "      <td>1.34744e+06</td>\n",
       "      <td>119040</td>\n",
       "      <td>2.27530e+06</td>\n",
       "      <td>3.77979e+06</td>\n",
       "      <td>3.79885e+06</td>\n",
       "      <td>4.28764e+06</td>\n",
       "    </tr>\n",
       "    <tr>\n",
       "      <th>type</th>\n",
       "      <td>99600</td>\n",
       "      <td>45</td>\n",
       "      <td>ABIS_BOOK</td>\n",
       "      <td>54138</td>\n",
       "      <td>NaN</td>\n",
       "      <td>NaN</td>\n",
       "      <td>NaN</td>\n",
       "      <td>NaN</td>\n",
       "      <td>NaN</td>\n",
       "      <td>NaN</td>\n",
       "      <td>NaN</td>\n",
       "    </tr>\n",
       "    <tr>\n",
       "      <th>sales_rank</th>\n",
       "      <td>99600</td>\n",
       "      <td>NaN</td>\n",
       "      <td>NaN</td>\n",
       "      <td>NaN</td>\n",
       "      <td>66907.5</td>\n",
       "      <td>300574</td>\n",
       "      <td>-1</td>\n",
       "      <td>11343.8</td>\n",
       "      <td>26444</td>\n",
       "      <td>54179.5</td>\n",
       "      <td>2.0883e+07</td>\n",
       "    </tr>\n",
       "    <tr>\n",
       "      <th>price</th>\n",
       "      <td>99600</td>\n",
       "      <td>NaN</td>\n",
       "      <td>NaN</td>\n",
       "      <td>NaN</td>\n",
       "      <td>1981.62</td>\n",
       "      <td>3067.89</td>\n",
       "      <td>1</td>\n",
       "      <td>1045</td>\n",
       "      <td>1524</td>\n",
       "      <td>2195</td>\n",
       "      <td>500000</td>\n",
       "    </tr>\n",
       "    <tr>\n",
       "      <th>language_1</th>\n",
       "      <td>99600</td>\n",
       "      <td>12</td>\n",
       "      <td>English</td>\n",
       "      <td>98700</td>\n",
       "      <td>NaN</td>\n",
       "      <td>NaN</td>\n",
       "      <td>NaN</td>\n",
       "      <td>NaN</td>\n",
       "      <td>NaN</td>\n",
       "      <td>NaN</td>\n",
       "      <td>NaN</td>\n",
       "    </tr>\n",
       "    <tr>\n",
       "      <th>language_2</th>\n",
       "      <td>99567</td>\n",
       "      <td>6</td>\n",
       "      <td>Published</td>\n",
       "      <td>96919</td>\n",
       "      <td>NaN</td>\n",
       "      <td>NaN</td>\n",
       "      <td>NaN</td>\n",
       "      <td>NaN</td>\n",
       "      <td>NaN</td>\n",
       "      <td>NaN</td>\n",
       "      <td>NaN</td>\n",
       "    </tr>\n",
       "  </tbody>\n",
       "</table>\n",
       "</div>"
      ],
      "text/plain": [
       "                                      count unique                   top  \\\n",
       "productType                           99600    NaN                   NaN   \n",
       "author                                99600  37563               Unknown   \n",
       "availabilityAmazon                    99600    NaN                   NaN   \n",
       "binding                               99600     12                audios   \n",
       "categoryTree_0                        99600     12                 Books   \n",
       "categoryTree_1                        99600     16              Subjects   \n",
       "categoryTree_2                        99600     34  Literature & Fiction   \n",
       "categoryTree_3                        99600    272         Genre Fiction   \n",
       "categoryTree_4                        99600    680               Unknown   \n",
       "domainId                              99600    NaN                   NaN   \n",
       "hasReviews                            99600    NaN                   NaN   \n",
       "isEligibleForSuperSaverShipping       99600    NaN                   NaN   \n",
       "isEligibleForTradeIn                  99600    NaN                   NaN   \n",
       "isRedirectASIN                        99600    NaN                   NaN   \n",
       "isSNS                                 99600    NaN                   NaN   \n",
       "lastPriceChange                       99600    NaN                   NaN   \n",
       "lastRatingUpdate                      99600    NaN                   NaN   \n",
       "lastUpdate                            99600    NaN                   NaN   \n",
       "listedSince                           99600    NaN                   NaN   \n",
       "newPriceIsMAP                         99600    NaN                   NaN   \n",
       "numberOfItems                         99600    NaN                   NaN   \n",
       "numberOfPages                         99600    NaN                   NaN   \n",
       "offersSuccessful                      99600    NaN                   NaN   \n",
       "packageHeight                         99600    NaN                   NaN   \n",
       "packageLength                         99600    NaN                   NaN   \n",
       "packageQuantity                       99600    NaN                   NaN   \n",
       "packageWeight                         99600    NaN                   NaN   \n",
       "packageWidth                          99600    NaN                   NaN   \n",
       "productGroup                          99600     33                  Book   \n",
       "publicationDate                       99600    NaN                   NaN   \n",
       "publisher                             99600  10107       Audible Studios   \n",
       "releaseDate                           99600    NaN                   NaN   \n",
       "rootCategory                          99600    NaN                   NaN   \n",
       "stats_atIntervalStart                 99600    NaN                   NaN   \n",
       "stats_avg                             99600    NaN                   NaN   \n",
       "stats_avg30                           99600    NaN                   NaN   \n",
       "stats_avg90                           99600    NaN                   NaN   \n",
       "stats_avg180                          99600    NaN                   NaN   \n",
       "stats_current                         99600    NaN                   NaN   \n",
       "stats_outOfStockPercentage30          99600    NaN                   NaN   \n",
       "stats_outOfStockPercentage90          99600    NaN                   NaN   \n",
       "stats_outOfStockPercentageInInterval  99600    NaN                   NaN   \n",
       "title                                 99600  89646   Think and Grow Rich   \n",
       "trackingSince                         99600    NaN                   NaN   \n",
       "type                                  99600     45             ABIS_BOOK   \n",
       "sales_rank                            99600    NaN                   NaN   \n",
       "price                                 99600    NaN                   NaN   \n",
       "language_1                            99600     12               English   \n",
       "language_2                            99567      6             Published   \n",
       "\n",
       "                                       freq         mean          std  \\\n",
       "productType                             NaN     0.451878     0.508459   \n",
       "author                                 2060          NaN          NaN   \n",
       "availabilityAmazon                      NaN  -0.00527108     0.231033   \n",
       "binding                               44757          NaN          NaN   \n",
       "categoryTree_0                        99582          NaN          NaN   \n",
       "categoryTree_1                        99582          NaN          NaN   \n",
       "categoryTree_2                        17441          NaN          NaN   \n",
       "categoryTree_3                         8216          NaN          NaN   \n",
       "categoryTree_4                        34740          NaN          NaN   \n",
       "domainId                                NaN            1            0   \n",
       "hasReviews                              NaN     0.971305     0.166948   \n",
       "isEligibleForSuperSaverShipping         NaN     0.525241     0.499365   \n",
       "isEligibleForTradeIn                    NaN    0.0831627     0.276129   \n",
       "isRedirectASIN                          NaN            0            0   \n",
       "isSNS                                   NaN  1.00402e-05   0.00316862   \n",
       "lastPriceChange                         NaN  4.16463e+06       359964   \n",
       "lastRatingUpdate                        NaN  3.94477e+06  1.10148e+06   \n",
       "lastUpdate                              NaN  4.30653e+06      1773.25   \n",
       "listedSince                             NaN      5272.63       138444   \n",
       "newPriceIsMAP                           NaN  0.000451807    0.0212511   \n",
       "numberOfItems                           NaN      0.12255      16.3078   \n",
       "numberOfPages                           NaN      161.027      289.258   \n",
       "offersSuccessful                        NaN            0            0   \n",
       "packageHeight                           NaN      11.9898      16.5128   \n",
       "packageLength                           NaN       124.36      116.967   \n",
       "packageQuantity                         NaN    -0.157199      4.82493   \n",
       "packageWeight                           NaN      278.982      455.452   \n",
       "packageWidth                            NaN      90.7866      88.0171   \n",
       "productGroup                          54619          NaN          NaN   \n",
       "publicationDate                         NaN  1.97803e+07  2.64172e+06   \n",
       "publisher                              4267          NaN          NaN   \n",
       "releaseDate                             NaN  1.07679e+07  1.00449e+07   \n",
       "rootCategory                            NaN  1.85208e+14  4.13307e+16   \n",
       "stats_atIntervalStart                   NaN      1719.08      2196.38   \n",
       "stats_avg                               NaN      1932.09      2424.86   \n",
       "stats_avg30                             NaN      1875.34      2232.52   \n",
       "stats_avg90                             NaN      1911.44      2348.09   \n",
       "stats_avg180                            NaN      1931.17       2404.5   \n",
       "stats_current                           NaN      1850.58      2203.97   \n",
       "stats_outOfStockPercentage30            NaN      2.55269      15.1155   \n",
       "stats_outOfStockPercentage90            NaN      2.63436      14.5735   \n",
       "stats_outOfStockPercentageInInterval    NaN      2.55913      14.1813   \n",
       "title                                    15          NaN          NaN   \n",
       "trackingSince                           NaN  2.93417e+06  1.34744e+06   \n",
       "type                                  54138          NaN          NaN   \n",
       "sales_rank                              NaN      66907.5       300574   \n",
       "price                                   NaN      1981.62      3067.89   \n",
       "language_1                            98700          NaN          NaN   \n",
       "language_2                            96919          NaN          NaN   \n",
       "\n",
       "                                              min          25%          50%  \\\n",
       "productType                                     0            0            0   \n",
       "author                                        NaN          NaN          NaN   \n",
       "availabilityAmazon                             -1            0            0   \n",
       "binding                                       NaN          NaN          NaN   \n",
       "categoryTree_0                                NaN          NaN          NaN   \n",
       "categoryTree_1                                NaN          NaN          NaN   \n",
       "categoryTree_2                                NaN          NaN          NaN   \n",
       "categoryTree_3                                NaN          NaN          NaN   \n",
       "categoryTree_4                                NaN          NaN          NaN   \n",
       "domainId                                        1            1            1   \n",
       "hasReviews                                      0            1            1   \n",
       "isEligibleForSuperSaverShipping                 0            0            1   \n",
       "isEligibleForTradeIn                            0            0            0   \n",
       "isRedirectASIN                                  0            0            0   \n",
       "isSNS                                           0            0            0   \n",
       "lastPriceChange                                 0  4.19283e+06   4.2936e+06   \n",
       "lastRatingUpdate                               -1  4.20765e+06  4.29216e+06   \n",
       "lastUpdate                            4.28382e+06  4.30612e+06  4.30665e+06   \n",
       "listedSince                          -2.92752e+06           -1            0   \n",
       "newPriceIsMAP                                   0            0            0   \n",
       "numberOfItems                                  -1           -1           -1   \n",
       "numberOfPages                                  -1           -1           32   \n",
       "offersSuccessful                                0            0            0   \n",
       "packageHeight                                  -1           -1            8   \n",
       "packageLength                                  -1           -1          183   \n",
       "packageQuantity                                -1           -1           -1   \n",
       "packageWeight                                  -1           -1          113   \n",
       "packageWidth                                   -1           -1          127   \n",
       "productGroup                                  NaN          NaN          NaN   \n",
       "publicationDate                                -1  2.01106e+07  2.01511e+07   \n",
       "publisher                                     NaN          NaN          NaN   \n",
       "releaseDate                                    -1           -1  2.00201e+07   \n",
       "rootCategory                               283155       283155       283155   \n",
       "stats_atIntervalStart                          -1          799         1476   \n",
       "stats_avg                                      -1         1057         1521   \n",
       "stats_avg30                                    -1      1006.75         1499   \n",
       "stats_avg90                                    -1         1034         1505   \n",
       "stats_avg180                                   -1         1058         1521   \n",
       "stats_current                                  -1          999         1496   \n",
       "stats_outOfStockPercentage30                   -1            0            0   \n",
       "stats_outOfStockPercentage90                   -1            0            0   \n",
       "stats_outOfStockPercentageInInterval           -1            0            0   \n",
       "title                                         NaN          NaN          NaN   \n",
       "trackingSince                              119040  2.27530e+06  3.77979e+06   \n",
       "type                                          NaN          NaN          NaN   \n",
       "sales_rank                                     -1      11343.8        26444   \n",
       "price                                           1         1045         1524   \n",
       "language_1                                    NaN          NaN          NaN   \n",
       "language_2                                    NaN          NaN          NaN   \n",
       "\n",
       "                                              75%          max  \n",
       "productType                                     1            4  \n",
       "author                                        NaN          NaN  \n",
       "availabilityAmazon                              0            2  \n",
       "binding                                       NaN          NaN  \n",
       "categoryTree_0                                NaN          NaN  \n",
       "categoryTree_1                                NaN          NaN  \n",
       "categoryTree_2                                NaN          NaN  \n",
       "categoryTree_3                                NaN          NaN  \n",
       "categoryTree_4                                NaN          NaN  \n",
       "domainId                                        1            1  \n",
       "hasReviews                                      1            1  \n",
       "isEligibleForSuperSaverShipping                 1            1  \n",
       "isEligibleForTradeIn                            0            1  \n",
       "isRedirectASIN                                  0            0  \n",
       "isSNS                                           0            1  \n",
       "lastPriceChange                       4.30585e+06  4.30837e+06  \n",
       "lastRatingUpdate                      4.30414e+06  4.30836e+06  \n",
       "lastUpdate                            4.30742e+06  4.30838e+06  \n",
       "listedSince                                     0  4.23504e+06  \n",
       "newPriceIsMAP                                   0            1  \n",
       "numberOfItems                                   1         5000  \n",
       "numberOfPages                                 256         9998  \n",
       "offersSuccessful                                0            0  \n",
       "packageHeight                                  22          287  \n",
       "packageLength                                 228         1143  \n",
       "packageQuantity                                 1         1067  \n",
       "packageWeight                                 386        10795  \n",
       "packageWidth                                  157          483  \n",
       "productGroup                                  NaN          NaN  \n",
       "publicationDate                       2.01801e+07  2.20001e+07  \n",
       "publisher                                     NaN          NaN  \n",
       "releaseDate                           2.01701e+07  2.02008e+07  \n",
       "rootCategory                               283155  9.22337e+18  \n",
       "stats_atIntervalStart                        2095        49900  \n",
       "stats_avg                                    2153        99998  \n",
       "stats_avg30                                  2099        99999  \n",
       "stats_avg90                               2133.25        99999  \n",
       "stats_avg180                                 2153        99999  \n",
       "stats_current                                2099        99999  \n",
       "stats_outOfStockPercentage30                    0          100  \n",
       "stats_outOfStockPercentage90                    0          100  \n",
       "stats_outOfStockPercentageInInterval            0          100  \n",
       "title                                         NaN          NaN  \n",
       "trackingSince                         3.79885e+06  4.28764e+06  \n",
       "type                                          NaN          NaN  \n",
       "sales_rank                                54179.5   2.0883e+07  \n",
       "price                                        2195       500000  \n",
       "language_1                                    NaN          NaN  \n",
       "language_2                                    NaN          NaN  "
      ]
     },
     "execution_count": 71,
     "metadata": {},
     "output_type": "execute_result"
    }
   ],
   "source": [
    "df.describe(include='all').transpose()"
   ]
  },
  {
   "cell_type": "markdown",
   "metadata": {},
   "source": [
    "## Encoding categorical columns"
   ]
  },
  {
   "cell_type": "code",
   "execution_count": 72,
   "metadata": {},
   "outputs": [],
   "source": [
    "cat_cols=['author','language_1','language_2','binding','categoryTree_0', 'categoryTree_1', 'categoryTree_2', 'categoryTree_3',\n",
    "       'categoryTree_4','productGroup','publisher','title','type','language_1','language_2']"
   ]
  },
  {
   "cell_type": "code",
   "execution_count": 73,
   "metadata": {},
   "outputs": [],
   "source": [
    "for item in cat_cols:\n",
    "    df[item]=df[item].astype(str)"
   ]
  },
  {
   "cell_type": "code",
   "execution_count": 74,
   "metadata": {},
   "outputs": [
    {
     "data": {
      "text/html": [
       "<div>\n",
       "<style scoped>\n",
       "    .dataframe tbody tr th:only-of-type {\n",
       "        vertical-align: middle;\n",
       "    }\n",
       "\n",
       "    .dataframe tbody tr th {\n",
       "        vertical-align: top;\n",
       "    }\n",
       "\n",
       "    .dataframe thead th {\n",
       "        text-align: right;\n",
       "    }\n",
       "</style>\n",
       "<table border=\"1\" class=\"dataframe\">\n",
       "  <thead>\n",
       "    <tr style=\"text-align: right;\">\n",
       "      <th></th>\n",
       "      <th>author</th>\n",
       "      <th>language_1</th>\n",
       "      <th>language_2</th>\n",
       "      <th>binding</th>\n",
       "      <th>categoryTree_0</th>\n",
       "      <th>categoryTree_1</th>\n",
       "      <th>categoryTree_2</th>\n",
       "      <th>categoryTree_3</th>\n",
       "      <th>categoryTree_4</th>\n",
       "      <th>productGroup</th>\n",
       "      <th>publisher</th>\n",
       "      <th>title</th>\n",
       "      <th>type</th>\n",
       "      <th>language_1</th>\n",
       "      <th>language_2</th>\n",
       "    </tr>\n",
       "  </thead>\n",
       "  <tbody>\n",
       "    <tr>\n",
       "      <th>0</th>\n",
       "      <td>J.K. Rowling</td>\n",
       "      <td>English</td>\n",
       "      <td>Published</td>\n",
       "      <td>audios</td>\n",
       "      <td>Books</td>\n",
       "      <td>Subjects</td>\n",
       "      <td>Teen &amp; Young Adult</td>\n",
       "      <td>Literature &amp; Fiction</td>\n",
       "      <td>Social &amp; Family Issues</td>\n",
       "      <td>Audible</td>\n",
       "      <td>Pottermore Publishing</td>\n",
       "      <td>Harry Potter and the Deathly Hallows, Book 7</td>\n",
       "      <td>DOWNLOADABLE_AUDIO</td>\n",
       "      <td>English</td>\n",
       "      <td>Published</td>\n",
       "    </tr>\n",
       "    <tr>\n",
       "      <th>1</th>\n",
       "      <td>Adam Grant</td>\n",
       "      <td>English</td>\n",
       "      <td>Published</td>\n",
       "      <td>audios</td>\n",
       "      <td>Books</td>\n",
       "      <td>Subjects</td>\n",
       "      <td>Biographies &amp; Memoirs</td>\n",
       "      <td>Memoirs</td>\n",
       "      <td>Unknown</td>\n",
       "      <td>Audible</td>\n",
       "      <td>Audible Studios</td>\n",
       "      <td>Power Moves: Lessons from Davos</td>\n",
       "      <td>DOWNLOADABLE_AUDIO</td>\n",
       "      <td>English</td>\n",
       "      <td>Published</td>\n",
       "    </tr>\n",
       "    <tr>\n",
       "      <th>2</th>\n",
       "      <td>Naomi Kleinberg</td>\n",
       "      <td>English</td>\n",
       "      <td>Published</td>\n",
       "      <td>board_book</td>\n",
       "      <td>Books</td>\n",
       "      <td>Subjects</td>\n",
       "      <td>Children's Books</td>\n",
       "      <td>Growing Up &amp; Facts of Life</td>\n",
       "      <td>Health</td>\n",
       "      <td>Book</td>\n",
       "      <td>Random House Books for Young Readers</td>\n",
       "      <td>P is for Potty! (Sesame Street) (Lift-the-Flap)</td>\n",
       "      <td>ABIS_BOOK</td>\n",
       "      <td>English</td>\n",
       "      <td>Published</td>\n",
       "    </tr>\n",
       "    <tr>\n",
       "      <th>3</th>\n",
       "      <td>Jen Fisch</td>\n",
       "      <td>English</td>\n",
       "      <td>Published</td>\n",
       "      <td>paperbacks</td>\n",
       "      <td>Books</td>\n",
       "      <td>Subjects</td>\n",
       "      <td>Cookbooks, Food &amp; Wine</td>\n",
       "      <td>Regional &amp; International</td>\n",
       "      <td>Others</td>\n",
       "      <td>Book</td>\n",
       "      <td>Rockridge Press</td>\n",
       "      <td>The Easy 5-Ingredient Ketogenic Diet Cookbook:...</td>\n",
       "      <td>ABIS_BOOK</td>\n",
       "      <td>English</td>\n",
       "      <td>Published</td>\n",
       "    </tr>\n",
       "    <tr>\n",
       "      <th>4</th>\n",
       "      <td>Elizabeth Cunningham</td>\n",
       "      <td>English</td>\n",
       "      <td>Published</td>\n",
       "      <td>paperbacks</td>\n",
       "      <td>Books</td>\n",
       "      <td>Subjects</td>\n",
       "      <td>Cookbooks, Food &amp; Wine</td>\n",
       "      <td>Baking</td>\n",
       "      <td>Cakes</td>\n",
       "      <td>Book</td>\n",
       "      <td>Independently published</td>\n",
       "      <td>Keto Diet Cookbook For Beginners: 550 Recipes ...</td>\n",
       "      <td>ABIS_BOOK</td>\n",
       "      <td>English</td>\n",
       "      <td>Published</td>\n",
       "    </tr>\n",
       "  </tbody>\n",
       "</table>\n",
       "</div>"
      ],
      "text/plain": [
       "                 author language_1 language_2     binding categoryTree_0  \\\n",
       "0          J.K. Rowling    English  Published      audios          Books   \n",
       "1            Adam Grant    English  Published      audios          Books   \n",
       "2       Naomi Kleinberg    English  Published  board_book          Books   \n",
       "3             Jen Fisch    English  Published  paperbacks          Books   \n",
       "4  Elizabeth Cunningham    English  Published  paperbacks          Books   \n",
       "\n",
       "  categoryTree_1          categoryTree_2              categoryTree_3  \\\n",
       "0       Subjects      Teen & Young Adult        Literature & Fiction   \n",
       "1       Subjects   Biographies & Memoirs                     Memoirs   \n",
       "2       Subjects        Children's Books  Growing Up & Facts of Life   \n",
       "3       Subjects  Cookbooks, Food & Wine    Regional & International   \n",
       "4       Subjects  Cookbooks, Food & Wine                      Baking   \n",
       "\n",
       "           categoryTree_4 productGroup                             publisher  \\\n",
       "0  Social & Family Issues      Audible                 Pottermore Publishing   \n",
       "1                 Unknown      Audible                       Audible Studios   \n",
       "2                  Health         Book  Random House Books for Young Readers   \n",
       "3                  Others         Book                       Rockridge Press   \n",
       "4                   Cakes         Book               Independently published   \n",
       "\n",
       "                                               title                type  \\\n",
       "0       Harry Potter and the Deathly Hallows, Book 7  DOWNLOADABLE_AUDIO   \n",
       "1                    Power Moves: Lessons from Davos  DOWNLOADABLE_AUDIO   \n",
       "2    P is for Potty! (Sesame Street) (Lift-the-Flap)           ABIS_BOOK   \n",
       "3  The Easy 5-Ingredient Ketogenic Diet Cookbook:...           ABIS_BOOK   \n",
       "4  Keto Diet Cookbook For Beginners: 550 Recipes ...           ABIS_BOOK   \n",
       "\n",
       "  language_1 language_2  \n",
       "0    English  Published  \n",
       "1    English  Published  \n",
       "2    English  Published  \n",
       "3    English  Published  \n",
       "4    English  Published  "
      ]
     },
     "execution_count": 74,
     "metadata": {},
     "output_type": "execute_result"
    }
   ],
   "source": [
    "df[cat_cols].head()"
   ]
  },
  {
   "cell_type": "code",
   "execution_count": 75,
   "metadata": {},
   "outputs": [],
   "source": [
    "# Label encoding to convert string to representative numeric values\n",
    "df[cat_cols]= df[cat_cols].apply(LabelEncoder().fit_transform)"
   ]
  },
  {
   "cell_type": "code",
   "execution_count": 76,
   "metadata": {},
   "outputs": [
    {
     "data": {
      "text/html": [
       "<div>\n",
       "<style scoped>\n",
       "    .dataframe tbody tr th:only-of-type {\n",
       "        vertical-align: middle;\n",
       "    }\n",
       "\n",
       "    .dataframe tbody tr th {\n",
       "        vertical-align: top;\n",
       "    }\n",
       "\n",
       "    .dataframe thead th {\n",
       "        text-align: right;\n",
       "    }\n",
       "</style>\n",
       "<table border=\"1\" class=\"dataframe\">\n",
       "  <thead>\n",
       "    <tr style=\"text-align: right;\">\n",
       "      <th></th>\n",
       "      <th>productType</th>\n",
       "      <th>author</th>\n",
       "      <th>availabilityAmazon</th>\n",
       "      <th>binding</th>\n",
       "      <th>categoryTree_0</th>\n",
       "      <th>categoryTree_1</th>\n",
       "      <th>categoryTree_2</th>\n",
       "      <th>categoryTree_3</th>\n",
       "      <th>categoryTree_4</th>\n",
       "      <th>domainId</th>\n",
       "      <th>...</th>\n",
       "      <th>stats_outOfStockPercentage30</th>\n",
       "      <th>stats_outOfStockPercentage90</th>\n",
       "      <th>stats_outOfStockPercentageInInterval</th>\n",
       "      <th>title</th>\n",
       "      <th>trackingSince</th>\n",
       "      <th>type</th>\n",
       "      <th>sales_rank</th>\n",
       "      <th>price</th>\n",
       "      <th>language_1</th>\n",
       "      <th>language_2</th>\n",
       "    </tr>\n",
       "  </thead>\n",
       "  <tbody>\n",
       "    <tr>\n",
       "      <th>0</th>\n",
       "      <td>1</td>\n",
       "      <td>14568</td>\n",
       "      <td>0.0</td>\n",
       "      <td>2</td>\n",
       "      <td>1</td>\n",
       "      <td>14</td>\n",
       "      <td>30</td>\n",
       "      <td>156</td>\n",
       "      <td>575</td>\n",
       "      <td>1</td>\n",
       "      <td>...</td>\n",
       "      <td>0.0</td>\n",
       "      <td>0.0</td>\n",
       "      <td>0.0</td>\n",
       "      <td>28679</td>\n",
       "      <td>3796800.0</td>\n",
       "      <td>16</td>\n",
       "      <td>41.0</td>\n",
       "      <td>4499.0</td>\n",
       "      <td>1</td>\n",
       "      <td>4</td>\n",
       "    </tr>\n",
       "    <tr>\n",
       "      <th>1</th>\n",
       "      <td>1</td>\n",
       "      <td>316</td>\n",
       "      <td>0.0</td>\n",
       "      <td>2</td>\n",
       "      <td>1</td>\n",
       "      <td>14</td>\n",
       "      <td>1</td>\n",
       "      <td>163</td>\n",
       "      <td>646</td>\n",
       "      <td>1</td>\n",
       "      <td>...</td>\n",
       "      <td>0.0</td>\n",
       "      <td>54.0</td>\n",
       "      <td>29.0</td>\n",
       "      <td>50152</td>\n",
       "      <td>4060296.0</td>\n",
       "      <td>16</td>\n",
       "      <td>43.0</td>\n",
       "      <td>696.0</td>\n",
       "      <td>1</td>\n",
       "      <td>4</td>\n",
       "    </tr>\n",
       "    <tr>\n",
       "      <th>2</th>\n",
       "      <td>0</td>\n",
       "      <td>26438</td>\n",
       "      <td>0.0</td>\n",
       "      <td>3</td>\n",
       "      <td>1</td>\n",
       "      <td>14</td>\n",
       "      <td>4</td>\n",
       "      <td>119</td>\n",
       "      <td>293</td>\n",
       "      <td>1</td>\n",
       "      <td>...</td>\n",
       "      <td>0.0</td>\n",
       "      <td>0.0</td>\n",
       "      <td>0.0</td>\n",
       "      <td>47944</td>\n",
       "      <td>1708140.0</td>\n",
       "      <td>0</td>\n",
       "      <td>30.0</td>\n",
       "      <td>599.0</td>\n",
       "      <td>1</td>\n",
       "      <td>4</td>\n",
       "    </tr>\n",
       "    <tr>\n",
       "      <th>3</th>\n",
       "      <td>0</td>\n",
       "      <td>16198</td>\n",
       "      <td>0.0</td>\n",
       "      <td>9</td>\n",
       "      <td>1</td>\n",
       "      <td>14</td>\n",
       "      <td>8</td>\n",
       "      <td>220</td>\n",
       "      <td>459</td>\n",
       "      <td>1</td>\n",
       "      <td>...</td>\n",
       "      <td>0.0</td>\n",
       "      <td>0.0</td>\n",
       "      <td>0.0</td>\n",
       "      <td>66996</td>\n",
       "      <td>3622652.0</td>\n",
       "      <td>0</td>\n",
       "      <td>34.0</td>\n",
       "      <td>932.0</td>\n",
       "      <td>1</td>\n",
       "      <td>4</td>\n",
       "    </tr>\n",
       "    <tr>\n",
       "      <th>4</th>\n",
       "      <td>0</td>\n",
       "      <td>10536</td>\n",
       "      <td>0.0</td>\n",
       "      <td>9</td>\n",
       "      <td>1</td>\n",
       "      <td>14</td>\n",
       "      <td>8</td>\n",
       "      <td>29</td>\n",
       "      <td>88</td>\n",
       "      <td>1</td>\n",
       "      <td>...</td>\n",
       "      <td>0.0</td>\n",
       "      <td>0.0</td>\n",
       "      <td>0.0</td>\n",
       "      <td>35798</td>\n",
       "      <td>4199258.0</td>\n",
       "      <td>0</td>\n",
       "      <td>71.0</td>\n",
       "      <td>999.0</td>\n",
       "      <td>1</td>\n",
       "      <td>4</td>\n",
       "    </tr>\n",
       "  </tbody>\n",
       "</table>\n",
       "<p>5 rows × 49 columns</p>\n",
       "</div>"
      ],
      "text/plain": [
       "   productType  author  availabilityAmazon  binding  categoryTree_0  \\\n",
       "0            1   14568                 0.0        2               1   \n",
       "1            1     316                 0.0        2               1   \n",
       "2            0   26438                 0.0        3               1   \n",
       "3            0   16198                 0.0        9               1   \n",
       "4            0   10536                 0.0        9               1   \n",
       "\n",
       "   categoryTree_1  categoryTree_2  categoryTree_3  categoryTree_4  domainId  \\\n",
       "0              14              30             156             575         1   \n",
       "1              14               1             163             646         1   \n",
       "2              14               4             119             293         1   \n",
       "3              14               8             220             459         1   \n",
       "4              14               8              29              88         1   \n",
       "\n",
       "   ...  stats_outOfStockPercentage30  stats_outOfStockPercentage90  \\\n",
       "0  ...                           0.0                           0.0   \n",
       "1  ...                           0.0                          54.0   \n",
       "2  ...                           0.0                           0.0   \n",
       "3  ...                           0.0                           0.0   \n",
       "4  ...                           0.0                           0.0   \n",
       "\n",
       "   stats_outOfStockPercentageInInterval  title  trackingSince  type  \\\n",
       "0                                   0.0  28679      3796800.0    16   \n",
       "1                                  29.0  50152      4060296.0    16   \n",
       "2                                   0.0  47944      1708140.0     0   \n",
       "3                                   0.0  66996      3622652.0     0   \n",
       "4                                   0.0  35798      4199258.0     0   \n",
       "\n",
       "   sales_rank   price  language_1  language_2  \n",
       "0        41.0  4499.0           1           4  \n",
       "1        43.0   696.0           1           4  \n",
       "2        30.0   599.0           1           4  \n",
       "3        34.0   932.0           1           4  \n",
       "4        71.0   999.0           1           4  \n",
       "\n",
       "[5 rows x 49 columns]"
      ]
     },
     "execution_count": 76,
     "metadata": {},
     "output_type": "execute_result"
    }
   ],
   "source": [
    "# Display top 5 records from the dataset to check if all the records are converted to numbers\n",
    "df.head(5)"
   ]
  },
  {
   "cell_type": "markdown",
   "metadata": {},
   "source": [
    "## Outlier detection and transformation"
   ]
  },
  {
   "cell_type": "markdown",
   "metadata": {},
   "source": [
    "Before we decide whether to use standard deviation or interquntile range to identify outliers, lets plot the data points using a distribution plot."
   ]
  },
  {
   "cell_type": "code",
   "execution_count": 77,
   "metadata": {},
   "outputs": [],
   "source": [
    "def distWithBox(data):\n",
    "    import numpy as np\n",
    "    import seaborn as sns\n",
    "    import matplotlib.pyplot as plt\n",
    "\n",
    "    sns.set(style=\"ticks\")\n",
    "\n",
    "    x = df[data]\n",
    "\n",
    "    f, (ax_box, ax_hist) = plt.subplots(2, sharex=True, \n",
    "                                        gridspec_kw={\"height_ratios\": (.15, .85)})\n",
    "\n",
    "    sns.boxplot(x, ax=ax_box)\n",
    "    sns.distplot(x, ax=ax_hist)\n",
    "\n",
    "    ax_box.set(yticks=[])\n",
    "    sns.despine(ax=ax_hist)\n",
    "    sns.despine(ax=ax_box, left=True)"
   ]
  },
  {
   "cell_type": "code",
   "execution_count": 78,
   "metadata": {},
   "outputs": [
    {
     "data": {
      "image/png": "[encoded data removed]",
      "text/plain": [
       "<Figure size 432x288 with 2 Axes>"
      ]
     },
     "metadata": {},
     "output_type": "display_data"
    }
   ],
   "source": [
    "## Distribution and box plot of the raw data with outliers\n",
    "distWithBox('price')"
   ]
  },
  {
   "cell_type": "markdown",
   "metadata": {},
   "source": [
    "For normally distributed data, the skewness should be about 0. A skewness value > 0 means that there is more weight in the left tail of the distribution. The function skewtest can be used to determine if the skewness value is close enough to 0, statistically speaking."
   ]
  },
  {
   "cell_type": "code",
   "execution_count": 79,
   "metadata": {},
   "outputs": [
    {
     "data": {
      "text/plain": [
       "49.71356722842452"
      ]
     },
     "execution_count": 79,
     "metadata": {},
     "output_type": "execute_result"
    }
   ],
   "source": [
    "from scipy.stats import skew\n",
    "from scipy.stats import skewtest\n",
    "skew(df['price'])\n"
   ]
  },
  {
   "cell_type": "code",
   "execution_count": 80,
   "metadata": {},
   "outputs": [
    {
     "data": {
      "image/png": "[encoded data removed]",
      "text/plain": [
       "<Figure size 432x288 with 1 Axes>"
      ]
     },
     "metadata": {},
     "output_type": "display_data"
    }
   ],
   "source": [
    "import seaborn as sns\n",
    "sns.set(style=\"whitegrid\")\n",
    "ax = sns.boxplot(x=df['price'])"
   ]
  },
  {
   "cell_type": "markdown",
   "metadata": {},
   "source": [
    "We can see from the the distribution plot, the skewtest and the box plot that price is not normally distributed. The price  data is right skewed and there are outlier values that need to be handled.\n",
    "\n",
    "When a data set has outliers or extreme values, we summarize a typical value using the median as opposed to the mean.  When a data set has outliers, variability is often summarized by a statistic called the interquartile range, which is the difference between the first and third quartiles. The first quartile, denoted Q1, is the value in the data set that holds 25% of the values below it. The third quartile, denoted Q3, is the value in the data set that holds 25% of the values above it. The quartiles can be determined following the same approach that we used to determine the median, but we now consider each half of the data set separately. The interquartile range is defined as follows:\n",
    "\n",
    "Interquartile Range(IQR) = Q3-Q1\n",
    "\n",
    "Outliers are values  1.5*IQR below Q1 or above Q3 or equivalently, values below Q1-1.5 IQR or above Q3+1.5 IQR.\n",
    "These are referred to as Tukey fences.\n"
   ]
  },
  {
   "cell_type": "code",
   "execution_count": 81,
   "metadata": {},
   "outputs": [
    {
     "name": "stdout",
     "output_type": "stream",
     "text": [
      "Percentiles:\n",
      "\t25th=1045.000 \n",
      "\t75th=2195.000 \n",
      "\tIQR=1150.000\n",
      "Identified outliers: 4619\n",
      "Non-outlier observations: 94981\n"
     ]
    }
   ],
   "source": [
    "from numpy import percentile\n",
    "data=df['price']\n",
    "q25, q75 = percentile(data, 25), percentile(data, 75)\n",
    "iqr = q75 - q25\n",
    "print('Percentiles:\\n\\t25th=%.3f \\n\\t75th=%.3f \\n\\tIQR=%.3f' % (q25, q75, iqr))\n",
    "# calculate the outlier cutoff\n",
    "cut_off = iqr * 1.5\n",
    "lower, upper = q25 - cut_off, q75 + cut_off\n",
    "# identify outliers\n",
    "outliers = [x for x in data if x < lower or x > upper]\n",
    "print('Identified outliers: %d' % len(outliers) )\n",
    "outliers_removed = [x for x in data if x >= lower and x <= upper]\n",
    "print('Non-outlier observations: %d' % len(outliers_removed))"
   ]
  },
  {
   "cell_type": "code",
   "execution_count": 82,
   "metadata": {},
   "outputs": [],
   "source": [
    "outliers=[] \n",
    "data_1=df['price'] \n",
    "for item in data_1:\n",
    "    if item <lower or item>upper:\n",
    "        outliers.append(item)\n"
   ]
  },
  {
   "cell_type": "code",
   "execution_count": 83,
   "metadata": {},
   "outputs": [],
   "source": [
    "x=df['price']\n",
    "outlier_indices=list(data_1.index[(x<lower) | (x> upper)])"
   ]
  },
  {
   "cell_type": "code",
   "execution_count": 84,
   "metadata": {},
   "outputs": [
    {
     "data": {
      "text/plain": [
       "4619"
      ]
     },
     "execution_count": 84,
     "metadata": {},
     "output_type": "execute_result"
    }
   ],
   "source": [
    "len(outlier_indices)"
   ]
  },
  {
   "cell_type": "code",
   "execution_count": 85,
   "metadata": {},
   "outputs": [],
   "source": [
    "df.drop(axis=0,index=outlier_indices, inplace=True)"
   ]
  },
  {
   "cell_type": "code",
   "execution_count": 86,
   "metadata": {},
   "outputs": [
    {
     "data": {
      "text/plain": [
       "(94981, 49)"
      ]
     },
     "execution_count": 86,
     "metadata": {},
     "output_type": "execute_result"
    }
   ],
   "source": [
    "df.shape"
   ]
  },
  {
   "cell_type": "code",
   "execution_count": 87,
   "metadata": {},
   "outputs": [
    {
     "data": {
      "image/png": "[encoded data removed]",
      "text/plain": [
       "<Figure size 432x288 with 2 Axes>"
      ]
     },
     "metadata": {},
     "output_type": "display_data"
    }
   ],
   "source": [
    "## lets plot distribution with and box plot to see the change after we trim down the outliers\n",
    "distWithBox('price')"
   ]
  },
  {
   "cell_type": "markdown",
   "metadata": {},
   "source": [
    "## Feature Selection"
   ]
  },
  {
   "cell_type": "markdown",
   "metadata": {},
   "source": [
    "\n",
    "VarianceThreshold is a simple baseline approach to feature selection. It removes all features whose variance doesn’t meet some threshold. By default, it removes all zero-variance features, i.e. features that have the same value in all samples.\n",
    "\n",
    "threshold .8 * (1 - .8)\n",
    "\n",
    "Using 0.8 as a threshhold, we will remove features with less than 20 percent variation within itself. "
   ]
  },
  {
   "cell_type": "code",
   "execution_count": 88,
   "metadata": {},
   "outputs": [],
   "source": [
    "df_X=df.loc[:, df.columns != 'price']\n",
    "df_y=df['price']"
   ]
  },
  {
   "cell_type": "code",
   "execution_count": 89,
   "metadata": {},
   "outputs": [
    {
     "name": "stdout",
     "output_type": "stream",
     "text": [
      "48 Number of features before VarianceThreshhold\n",
      "[ True  True False  True False False  True  True  True False False  True\n",
      " False False False  True  True  True  True False  True  True False  True\n",
      "  True  True  True  True  True  True  True  True  True  True  True  True\n",
      "  True  True  True  True  True  True  True  True  True  True  True False]\n"
     ]
    }
   ],
   "source": [
    "from sklearn.feature_selection import VarianceThreshold\n",
    "print('%s Number of features before VarianceThreshhold'%len(df_X.columns))\n",
    "\n",
    "selector=VarianceThreshold(threshold=(.8*(1-.8)))\n",
    "FeaturesTransformed=selector.fit_transform(df_X)\n",
    "\n",
    "## print the support and shape of the transformed features\n",
    "print(selector.get_support())\n"
   ]
  },
  {
   "cell_type": "code",
   "execution_count": 90,
   "metadata": {},
   "outputs": [],
   "source": [
    "data=df_X[df_X.columns[selector.get_support(indices=True)]]\n",
    "cols=data.columns"
   ]
  },
  {
   "cell_type": "code",
   "execution_count": 91,
   "metadata": {},
   "outputs": [
    {
     "data": {
      "text/plain": [
       "(94981, 37)"
      ]
     },
     "execution_count": 91,
     "metadata": {},
     "output_type": "execute_result"
    }
   ],
   "source": [
    "df_reduced=pd.DataFrame(FeaturesTransformed, columns=cols)\n",
    "df_reduced.shape"
   ]
  },
  {
   "cell_type": "code",
   "execution_count": 92,
   "metadata": {},
   "outputs": [],
   "source": [
    "data=df_reduced\n",
    "target=df_y"
   ]
  },
  {
   "cell_type": "code",
   "execution_count": 93,
   "metadata": {},
   "outputs": [
    {
     "data": {
      "text/plain": [
       "(94981, 37)"
      ]
     },
     "execution_count": 93,
     "metadata": {},
     "output_type": "execute_result"
    }
   ],
   "source": [
    "data.shape"
   ]
  },
  {
   "cell_type": "markdown",
   "metadata": {},
   "source": [
    "# Yellowbrick for Feature Selection\n",
    "\n",
    "we are using yellowbrick's feature selection method for finding and selecting the most useful features and eliminate zero importance features from the dataset.\n"
   ]
  },
  {
   "cell_type": "markdown",
   "metadata": {},
   "source": [
    "### Important Features for Random Forest Regressor"
   ]
  },
  {
   "cell_type": "code",
   "execution_count": 94,
   "metadata": {},
   "outputs": [
    {
     "data": {
      "image/png": "[encoded data removed]",
      "text/plain": [
       "<Figure size 720x720 with 1 Axes>"
      ]
     },
     "metadata": {},
     "output_type": "display_data"
    }
   ],
   "source": [
    "#Using yellowbrick feature selection method with random forest regressor\n",
    "from sklearn.ensemble import RandomForestRegressor\n",
    "\n",
    "from yellowbrick.features.importances import FeatureImportances\n",
    "\n",
    "fig = plt.figure(figsize=(10,10))\n",
    "ax = fig.add_subplot()\n",
    "\n",
    "viz = FeatureImportances(RandomForestRegressor(), ax=ax)\n",
    "viz.fit(data, target)\n",
    "viz.poof()"
   ]
  },
  {
   "cell_type": "code",
   "execution_count": 95,
   "metadata": {},
   "outputs": [],
   "source": [
    "feature_importances = pd.DataFrame(viz.feature_importances_,\n",
    "                                   index=data.columns,\n",
    "                                   columns=['importance']).sort_values('importance', ascending=False)"
   ]
  },
  {
   "cell_type": "code",
   "execution_count": 96,
   "metadata": {},
   "outputs": [],
   "source": [
    "## important features for Random Forest Regression\n",
    "RF_importants=feature_importances.index[feature_importances.importance!=0]"
   ]
  },
  {
   "cell_type": "code",
   "execution_count": 97,
   "metadata": {},
   "outputs": [
    {
     "data": {
      "text/plain": [
       "(94981, 37)"
      ]
     },
     "execution_count": 97,
     "metadata": {},
     "output_type": "execute_result"
    }
   ],
   "source": [
    "df[RF_importants].shape"
   ]
  },
  {
   "cell_type": "code",
   "execution_count": 98,
   "metadata": {},
   "outputs": [],
   "source": [
    "# predicting price using random forest regressor\n",
    "from sklearn.ensemble import RandomForestRegressor\n",
    "from sklearn.model_selection import train_test_split as split\n",
    "X=df[RF_importants]\n",
    "Y=df['price']\n",
    "model=RandomForestRegressor()\n",
    "X_train, X_test, Y_train, Y_test= split(X,Y,test_size=0.25, random_state=42)\n",
    "model.fit(X_train,Y_train)\n",
    "Y_test=model.predict(X_test)"
   ]
  },
  {
   "cell_type": "code",
   "execution_count": 99,
   "metadata": {},
   "outputs": [
    {
     "data": {
      "image/png": "[encoded data removed]",
      "text/plain": [
       "<Figure size 576x396 with 1 Axes>"
      ]
     },
     "metadata": {},
     "output_type": "display_data"
    }
   ],
   "source": [
    "ax1=sns.distplot(target,hist=False, color='r',label=\"Actual price\")\n",
    "sns.distplot(Y_test,hist=False,color='b', label=\"Predicted price\", ax=ax1)\n",
    "plt.title(\" Actual Vs Predicted Price \")\n",
    "plt.xlabel('Price')\n",
    "plt.ylabel('Proportion of Books')\n",
    "plt.show()"
   ]
  },
  {
   "cell_type": "markdown",
   "metadata": {},
   "source": [
    "### Important Features for Gradient Boosting Regressor"
   ]
  },
  {
   "cell_type": "code",
   "execution_count": 100,
   "metadata": {},
   "outputs": [
    {
     "data": {
      "image/png": "[encoded data removed]",
      "text/plain": [
       "<Figure size 1440x1440 with 1 Axes>"
      ]
     },
     "metadata": {},
     "output_type": "display_data"
    }
   ],
   "source": [
    "from sklearn.ensemble import GradientBoostingRegressor\n",
    "\n",
    "from yellowbrick.features.importances import FeatureImportances\n",
    "\n",
    "fig = plt.figure(figsize=(20,20))\n",
    "ax = fig.add_subplot()\n",
    "\n",
    "viz = FeatureImportances(GradientBoostingRegressor(), ax=ax)\n",
    "viz.fit(data, target)\n",
    "viz.poof()"
   ]
  },
  {
   "cell_type": "code",
   "execution_count": 101,
   "metadata": {},
   "outputs": [],
   "source": [
    "feature_importances = pd.DataFrame(viz.feature_importances_,\n",
    "                                   index=data.columns,\n",
    "                                   columns=['importance']).sort_values('importance', ascending=False)"
   ]
  },
  {
   "cell_type": "code",
   "execution_count": 102,
   "metadata": {},
   "outputs": [],
   "source": [
    "## important features for gradient boosting regression\n",
    "GBR_importants=feature_importances.index[feature_importances.importance!=0]"
   ]
  },
  {
   "cell_type": "code",
   "execution_count": 103,
   "metadata": {},
   "outputs": [
    {
     "data": {
      "text/plain": [
       "(94981, 33)"
      ]
     },
     "execution_count": 103,
     "metadata": {},
     "output_type": "execute_result"
    }
   ],
   "source": [
    "df[GBR_importants].shape"
   ]
  },
  {
   "cell_type": "code",
   "execution_count": 104,
   "metadata": {},
   "outputs": [],
   "source": [
    "from sklearn.ensemble import GradientBoostingRegressor\n",
    "from sklearn.model_selection import train_test_split as split\n",
    "X=df[GBR_importants]\n",
    "Y=df['price']\n",
    "model=GradientBoostingRegressor()\n",
    "X_train, X_test, Y_train, Y_test= split(X,Y,test_size=0.25, random_state=42)\n",
    "model.fit(X_train,Y_train)\n",
    "Y_test=model.predict(X_test)"
   ]
  },
  {
   "cell_type": "code",
   "execution_count": 105,
   "metadata": {},
   "outputs": [
    {
     "data": {
      "image/png": "[encoded data removed]",
      "text/plain": [
       "<Figure size 576x396 with 1 Axes>"
      ]
     },
     "metadata": {},
     "output_type": "display_data"
    }
   ],
   "source": [
    "ax1=sns.distplot(target,hist=False, color='r',label=\"Actual price\")\n",
    "sns.distplot(Y_test,hist=False,color='b', label=\"Predicted price\", ax=ax1)\n",
    "plt.title(\" Actual Vs Predicted Price \")\n",
    "plt.xlabel('Price')\n",
    "plt.ylabel('Proportion of Books')\n",
    "plt.show()"
   ]
  },
  {
   "cell_type": "markdown",
   "metadata": {},
   "source": [
    "### Important Features for Decision Tree Regressor"
   ]
  },
  {
   "cell_type": "code",
   "execution_count": 106,
   "metadata": {},
   "outputs": [
    {
     "data": {
      "image/png": "[encoded data removed]",
      "text/plain": [
       "<Figure size 1440x1440 with 1 Axes>"
      ]
     },
     "metadata": {},
     "output_type": "display_data"
    }
   ],
   "source": [
    "from sklearn.tree import DecisionTreeRegressor\n",
    "\n",
    "from yellowbrick.features.importances import FeatureImportances\n",
    "\n",
    "fig = plt.figure(figsize=(20,20))\n",
    "ax = fig.add_subplot()\n",
    "\n",
    "viz = FeatureImportances( DecisionTreeRegressor(), ax=ax)\n",
    "viz.fit(data, target)\n",
    "viz.poof()"
   ]
  },
  {
   "cell_type": "code",
   "execution_count": 107,
   "metadata": {},
   "outputs": [],
   "source": [
    "feature_importances = pd.DataFrame(viz.feature_importances_,\n",
    "                                   index=data.columns,\n",
    "                                   columns=['importance']).sort_values('importance', ascending=False)"
   ]
  },
  {
   "cell_type": "code",
   "execution_count": 108,
   "metadata": {},
   "outputs": [],
   "source": [
    "## important features for decision tree regression\n",
    "DTR_importants=feature_importances.index[feature_importances.importance!=0]"
   ]
  },
  {
   "cell_type": "code",
   "execution_count": 109,
   "metadata": {},
   "outputs": [
    {
     "data": {
      "text/plain": [
       "(94981, 37)"
      ]
     },
     "execution_count": 109,
     "metadata": {},
     "output_type": "execute_result"
    }
   ],
   "source": [
    "df[DTR_importants].shape"
   ]
  },
  {
   "cell_type": "code",
   "execution_count": 110,
   "metadata": {},
   "outputs": [],
   "source": [
    "from sklearn.tree import DecisionTreeRegressor\n",
    "from sklearn.model_selection import train_test_split as split\n",
    "X=df[DTR_importants]\n",
    "Y=df['price']\n",
    "model=DecisionTreeRegressor()\n",
    "X_train, X_test, Y_train, Y_test= split(X,Y,test_size=0.25, random_state=42)\n",
    "model.fit(X_train,Y_train)\n",
    "Y_test=model.predict(X_test)"
   ]
  },
  {
   "cell_type": "code",
   "execution_count": 111,
   "metadata": {},
   "outputs": [
    {
     "data": {
      "image/png": "[encoded data removed]",
      "text/plain": [
       "<Figure size 576x396 with 1 Axes>"
      ]
     },
     "metadata": {},
     "output_type": "display_data"
    }
   ],
   "source": [
    "ax1=sns.distplot(target,hist=False, color='r',label=\"Actual price\")\n",
    "sns.distplot(Y_test,hist=False,color='b', label=\"Predicted price\", ax=ax1)\n",
    "plt.title(\" Actual Vs Predicted Price \")\n",
    "plt.xlabel('Price')\n",
    "plt.ylabel('Proportion of Books')\n",
    "plt.show()"
   ]
  },
  {
   "cell_type": "markdown",
   "metadata": {},
   "source": [
    "## Model Development\n",
    "In this section we will implement several models that will predict price using the dependent variables and compare the accuracy, r-score, goodness of fit and plot residuals. Based on the scores and visual comparison of the plots, we will refine the best performing models using grid search to fine tune the hyperparameters to generate a better predictive model. "
   ]
  },
  {
   "cell_type": "code",
   "execution_count": 112,
   "metadata": {},
   "outputs": [],
   "source": [
    "# This function applies multiple models on the data and returns model name with r2-score and mean squared error value\n",
    "def ModelScores(data,target):\n",
    "    X=data\n",
    "    Y=target\n",
    "    \n",
    "    from sklearn.metrics import r2_score\n",
    "    from sklearn.metrics import mean_squared_error\n",
    "    import math\n",
    "    from sklearn.model_selection import train_test_split as split\n",
    "    X_train, X_test, Y_train, Y_test= split(X,Y,test_size=0.25, random_state=42)\n",
    "    \n",
    "    from sklearn.ensemble import GradientBoostingRegressor\n",
    "    from sklearn.ensemble import RandomForestRegressor\n",
    "    from sklearn.tree import DecisionTreeRegressor\n",
    "    from sklearn.linear_model import LinearRegression\n",
    "    from sklearn.neural_network import MLPRegressor\n",
    "    from sklearn.linear_model import RidgeCV\n",
    "    from sklearn.linear_model import LassoLars\n",
    "    from sklearn.linear_model import Lasso\n",
    "    from sklearn.linear_model import ElasticNet\n",
    "    from sklearn.linear_model import BayesianRidge\n",
    "    from sklearn.linear_model import RANSACRegressor\n",
    "\n",
    "    models={'Gradient Boost': GradientBoostingRegressor(),\n",
    "            'Random Forest': RandomForestRegressor(),\n",
    "            'Decision Tree': DecisionTreeRegressor(),\n",
    "            'Linear Regression': LinearRegression(),\n",
    "            'MLP': MLPRegressor(),\n",
    "            'Ridge CV': RidgeCV(),\n",
    "            'LassoLars':LassoLars(),\n",
    "            'Lasso':Lasso(),\n",
    "            'Elastic Search': ElasticNet(),\n",
    "            'Bayesian Ridge':BayesianRidge(),\n",
    "            'Ransac':RANSACRegressor()      \n",
    "           }\n",
    "    for name,model in models.items():\n",
    "        mdl=model\n",
    "        mdl.fit(X_train, Y_train)\n",
    "        prediction = mdl.predict(X_test)\n",
    "        print(name)\n",
    "        print(\"Accuracy Score\", r2_score(Y_test, prediction))\n",
    "        mse3 = mean_squared_error(Y_test, prediction)\n",
    "        print(\"The root mean square value\", math.sqrt(mse3))"
   ]
  },
  {
   "cell_type": "code",
   "execution_count": 113,
   "metadata": {},
   "outputs": [
    {
     "name": "stdout",
     "output_type": "stream",
     "text": [
      "Gradient Boost\n",
      "Accuracy Score 0.9367105661042464\n",
      "The root mean square value 186.931799909237\n",
      "Random Forest\n",
      "Accuracy Score 0.9346469796069719\n",
      "The root mean square value 189.95486204536053\n",
      "Decision Tree\n",
      "Accuracy Score 0.8811568761603725\n",
      "The root mean square value 256.156046410896\n",
      "Linear Regression\n",
      "Accuracy Score 0.3394498212973682\n",
      "The root mean square value 603.9075919839008\n",
      "MLP\n",
      "Accuracy Score -5480825.777836607\n",
      "The root mean square value 1739564.8367547493\n",
      "Ridge CV\n",
      "Accuracy Score -3.574138728143758e+41\n",
      "The root mean square value 4.442252954172871e+23\n",
      "LassoLars\n",
      "Accuracy Score 0.6205168287618223\n",
      "The root mean square value 457.734706363672\n",
      "Lasso\n",
      "Accuracy Score 0.8548904938243855\n",
      "The root mean square value 283.0515348738743\n",
      "Elastic Search\n",
      "Accuracy Score 0.8502261115053912\n",
      "The root mean square value 287.5647408013992\n",
      "Bayesian Ridge\n",
      "Accuracy Score -7055.092069781869\n",
      "The root mean square value 62416.54162720075\n",
      "Ransac\n",
      "Accuracy Score -414173.945383485\n",
      "The root mean square value 478199.91433035285\n"
     ]
    }
   ],
   "source": [
    "data= data\n",
    "target=df['price']\n",
    "ModelScores(data, target)"
   ]
  },
  {
   "cell_type": "code",
   "execution_count": 114,
   "metadata": {},
   "outputs": [
    {
     "data": {
      "image/png": "[encoded data removed]",
      "text/plain": [
       "<Figure size 432x288 with 2 Axes>"
      ]
     },
     "metadata": {
      "needs_background": "light"
     },
     "output_type": "display_data"
    },
    {
     "data": {
      "image/png": "[encoded data removed]",
      "text/plain": [
       "<Figure size 432x288 with 2 Axes>"
      ]
     },
     "metadata": {
      "needs_background": "light"
     },
     "output_type": "display_data"
    },
    {
     "data": {
      "image/png": "[encoded data removed]",
      "text/plain": [
       "<Figure size 432x288 with 2 Axes>"
      ]
     },
     "metadata": {
      "needs_background": "light"
     },
     "output_type": "display_data"
    },
    {
     "data": {
      "image/png": "[encoded data removed]",
      "text/plain": [
       "<Figure size 432x288 with 2 Axes>"
      ]
     },
     "metadata": {
      "needs_background": "light"
     },
     "output_type": "display_data"
    }
   ],
   "source": [
    "%matplotlib inline\n",
    "from yellowbrick.classifier import ClassificationReport\n",
    "from yellowbrick.classifier import ClassPredictionError\n",
    "from yellowbrick.regressor import ResidualsPlot\n",
    "from sklearn.linear_model import LassoLars\n",
    "from sklearn.ensemble import RandomForestRegressor\n",
    "from sklearn.ensemble import GradientBoostingRegressor\n",
    "from sklearn.tree import DecisionTreeRegressor\n",
    "\n",
    "regressors = {\n",
    "    \"Lasso Lars\": LassoLars(),\n",
    "    \"Gradient Boost\": GradientBoostingRegressor(),\n",
    "    \"Random Forest\": RandomForestRegressor(),\n",
    "    \"Decision Tree\": DecisionTreeRegressor()\n",
    "    \n",
    "}\n",
    "\n",
    "for _, regressor in regressors.items():\n",
    "    visualizer = ResidualsPlot(regressor)\n",
    "    visualizer.fit(X_train, Y_train)\n",
    "    visualizer.score(X_test, Y_test)\n",
    "    visualizer.poof()"
   ]
  },
  {
   "cell_type": "code",
   "execution_count": 115,
   "metadata": {},
   "outputs": [
    {
     "data": {
      "image/png": "[encoded data removed]",
      "text/plain": [
       "<Figure size 432x288 with 1 Axes>"
      ]
     },
     "metadata": {
      "needs_background": "light"
     },
     "output_type": "display_data"
    }
   ],
   "source": [
    "from yellowbrick.target import FeatureCorrelation\n",
    "feature_names = np.array(df.columns)\n",
    "data=df.loc[:, df.columns != 'price']\n",
    "target=df['price']\n",
    "figsize=(20, 20)\n",
    "visualizer = FeatureCorrelation(labels=feature_names)\n",
    "visualizer.fit(data, target)\n",
    "visualizer.poof()"
   ]
  },
  {
   "cell_type": "code",
   "execution_count": 116,
   "metadata": {},
   "outputs": [
    {
     "data": {
      "image/png": "[encoded data removed]",
      "text/plain": [
       "<Figure size 432x288 with 1 Axes>"
      ]
     },
     "metadata": {
      "needs_background": "light"
     },
     "output_type": "display_data"
    },
    {
     "data": {
      "image/png": "[encoded data removed]",
      "text/plain": [
       "<Figure size 432x288 with 1 Axes>"
      ]
     },
     "metadata": {
      "needs_background": "light"
     },
     "output_type": "display_data"
    }
   ],
   "source": [
    "#validation curve for decision tree regression and Random forest regression models\n",
    "\n",
    "from yellowbrick.model_selection import ValidationCurve\n",
    "\n",
    "# Extract the instances and target\n",
    "X = df_X\n",
    "y = df_y\n",
    "\n",
    "regressors = {\n",
    "        \"Random Forest\": RandomForestRegressor(),\n",
    "        \"Decision Tree\": DecisionTreeRegressor()    \n",
    "}\n",
    "for _, regressor in regressors.items():\n",
    "    viz = ValidationCurve(\n",
    "        regressor, param_name=\"max_depth\",\n",
    "        param_range=np.arange(1, 11), cv=10, scoring=\"r2\"\n",
    "    )\n",
    "    # Fit and poof the visualizer\n",
    "    viz.fit(X, y)\n",
    "    viz.poof()\n"
   ]
  },
  {
   "cell_type": "markdown",
   "metadata": {},
   "source": [
    "We will use the validation curve from the above thee figures to narrow down the optimal 'max_depth' value range to use, for hyperparameter tuning in a  grid search."
   ]
  },
  {
   "cell_type": "code",
   "execution_count": 117,
   "metadata": {},
   "outputs": [
    {
     "data": {
      "image/png": "[encoded data removed]",
      "text/plain": [
       "<Figure size 432x288 with 1 Axes>"
      ]
     },
     "metadata": {
      "needs_background": "light"
     },
     "output_type": "display_data"
    }
   ],
   "source": [
    "# Cross Validation Score for Random Forest Regressor\n",
    "from sklearn.ensemble import RandomForestRegressor\n",
    "from sklearn.model_selection import KFold\n",
    "from sklearn.model_selection import StratifiedKFold\n",
    "from yellowbrick.model_selection import CVScores\n",
    "\n",
    "ind=df[RF_importants].values\n",
    "dep=df['price'].values\n",
    "\n",
    "_, ax = plt.subplots()\n",
    "cv = StratifiedKFold(n_splits=12, random_state=42)\n",
    "oz = CVScores(\n",
    "    RandomForestRegressor(), ax=ax, cv=cv, scoring='r2'\n",
    ")\n",
    "\n",
    "oz.fit(ind, dep)\n",
    "oz.poof()\n"
   ]
  },
  {
   "cell_type": "code",
   "execution_count": 118,
   "metadata": {},
   "outputs": [
    {
     "data": {
      "image/png": "[encoded data removed]",
      "text/plain": [
       "<Figure size 432x288 with 1 Axes>"
      ]
     },
     "metadata": {
      "needs_background": "light"
     },
     "output_type": "display_data"
    }
   ],
   "source": [
    "# CV score for Gradiet Boosting Regresor\n",
    "from sklearn.ensemble import GradientBoostingRegressor\n",
    "from sklearn.model_selection import StratifiedKFold\n",
    "from yellowbrick.model_selection import CVScores\n",
    "\n",
    "ind=df[GBR_importants].values\n",
    "dep=df['price'].values\n",
    "\n",
    "_, ax = plt.subplots()\n",
    "cv = StratifiedKFold(n_splits=12, random_state=42)\n",
    "cv = KFold(10)\n",
    "oz = CVScores(\n",
    "    GradientBoostingRegressor(), ax=ax, cv=cv, scoring = 'r2'\n",
    ")\n",
    "\n",
    "oz.fit(ind, dep)\n",
    "oz.poof()\n",
    "\n"
   ]
  },
  {
   "cell_type": "code",
   "execution_count": 119,
   "metadata": {},
   "outputs": [
    {
     "data": {
      "image/png": "[encoded data removed]",
      "text/plain": [
       "<Figure size 432x288 with 1 Axes>"
      ]
     },
     "metadata": {
      "needs_background": "light"
     },
     "output_type": "display_data"
    }
   ],
   "source": [
    "# CV score for Decision Tree Regressor\n",
    "from sklearn.tree import DecisionTreeRegressor\n",
    "from sklearn.model_selection import KFold\n",
    "from sklearn.model_selection import StratifiedKFold\n",
    "from yellowbrick.model_selection import CVScores\n",
    "\n",
    "ind=df[DTR_importants].values\n",
    "dep=df['price'].values\n",
    "\n",
    "_, ax = plt.subplots()\n",
    "cv = StratifiedKFold(n_splits=12, random_state=42)\n",
    "oz = CVScores(\n",
    "    DecisionTreeRegressor(), ax=ax, cv=cv, scoring = 'r2'\n",
    ")\n",
    "\n",
    "oz.fit(ind, dep)\n",
    "oz.poof()\n"
   ]
  },
  {
   "cell_type": "markdown",
   "metadata": {},
   "source": [
    "## Hyperparameter Tuning"
   ]
  },
  {
   "cell_type": "code",
   "execution_count": 120,
   "metadata": {},
   "outputs": [
    {
     "name": "stdout",
     "output_type": "stream",
     "text": [
      "DecisionTreeRegressor(criterion='mse', max_depth=6, max_features=None,\n",
      "           max_leaf_nodes=None, min_impurity_decrease=0.0,\n",
      "           min_impurity_split=None, min_samples_leaf=1,\n",
      "           min_samples_split=2, min_weight_fraction_leaf=0.0,\n",
      "           presort=False, random_state=40, splitter='best')\n"
     ]
    }
   ],
   "source": [
    "# hyper-parameter tunung for decision tree\n",
    "from sklearn.model_selection import GridSearchCV\n",
    "from sklearn.tree import DecisionTreeRegressor\n",
    "\n",
    "DecisionTree = DecisionTreeRegressor(random_state = 40)\n",
    "\n",
    "min_samples_split = [2,3,4,5,6,7,8]\n",
    "min_samples_leaf = [1,2,3,4,5]\n",
    "max_depth = [4,5,6,7,8,9]\n",
    "tuned_params = [{'min_samples_split': min_samples_split}, {'min_samples_leaf': min_samples_leaf},{'max_depth': max_depth}]\n",
    "n_folds = 5\n",
    "\n",
    "X=df[DTR_importants]\n",
    "Y=df['price']\n",
    "\n",
    "grid = GridSearchCV(\n",
    "    DecisionTree, tuned_params, cv=n_folds\n",
    ")\n",
    "\n",
    "grid.fit(X, Y)\n",
    "print(grid.best_estimator_)"
   ]
  },
  {
   "cell_type": "code",
   "execution_count": 121,
   "metadata": {},
   "outputs": [
    {
     "name": "stdout",
     "output_type": "stream",
     "text": [
      "GradientBoostingRegressor(alpha=0.9, criterion='friedman_mse', init=None,\n",
      "             learning_rate=0.1, loss='ls', max_depth=6, max_features=None,\n",
      "             max_leaf_nodes=None, min_impurity_decrease=0.0,\n",
      "             min_impurity_split=None, min_samples_leaf=1,\n",
      "             min_samples_split=2, min_weight_fraction_leaf=0.0,\n",
      "             n_estimators=100, n_iter_no_change=None, presort='auto',\n",
      "             random_state=40, subsample=1.0, tol=0.0001,\n",
      "             validation_fraction=0.1, verbose=0, warm_start=False)\n"
     ]
    }
   ],
   "source": [
    "from sklearn.model_selection import GridSearchCV\n",
    "from sklearn.ensemble import GradientBoostingRegressor\n",
    "\n",
    "GradientBoosting = GradientBoostingRegressor(random_state = 40)\n",
    "alphas = [0.001, 0.01, 0.1, 0.5, 0.9]\n",
    "sample_split = [2,3,4,5,6,7,8]\n",
    "max_depth = [4,5,6,7,8,9]\n",
    "learning_rate = [0.1, 0.3, 0.5, 0.7]\n",
    "tuned_params = [{'alpha': alphas}, {'min_samples_split': sample_split}, {'max_depth': max_depth}, {'learning_rate':learning_rate}]\n",
    "n_folds = 5\n",
    "\n",
    "X=df[GBR_importants]\n",
    "Y=df['price']\n",
    "\n",
    "grid = GridSearchCV(\n",
    "    GradientBoosting, tuned_params, cv=n_folds\n",
    ")\n",
    "\n",
    "grid.fit(X, Y)\n",
    "print(grid.best_estimator_)\n",
    "\n",
    "\n"
   ]
  },
  {
   "cell_type": "code",
   "execution_count": 122,
   "metadata": {},
   "outputs": [
    {
     "name": "stdout",
     "output_type": "stream",
     "text": [
      "RandomForestRegressor(bootstrap=True, criterion='mse', max_depth=None,\n",
      "           max_features='auto', max_leaf_nodes=None,\n",
      "           min_impurity_decrease=0.0, min_impurity_split=None,\n",
      "           min_samples_leaf=1, min_samples_split=2,\n",
      "           min_weight_fraction_leaf=0.0, n_estimators=100, n_jobs=None,\n",
      "           oob_score=False, random_state=40, verbose=0, warm_start=False)\n"
     ]
    }
   ],
   "source": [
    "from sklearn.model_selection import GridSearchCV\n",
    "from sklearn.ensemble import RandomForestRegressor\n",
    "\n",
    "RandomForest = RandomForestRegressor(random_state = 40)\n",
    "\n",
    "estimators = [10,50,100]\n",
    "sample_split = [2,3,4,5,6,7,8]\n",
    "sample_leaf = [1,2,3,4,5]\n",
    "max_depth = [4,5,6,7,8,9]\n",
    "tuned_params = [{'n_estimators': estimators}, {'min_samples_split': sample_split}, {'min_samples_leaf': sample_leaf},{'max_leaf_nodes': max_depth}]\n",
    "n_folds = 5\n",
    "\n",
    "X=df[RF_importants]\n",
    "Y=df['price']\n",
    "\n",
    "grid = GridSearchCV(\n",
    "    RandomForest, tuned_params, cv=n_folds\n",
    ")\n",
    "\n",
    "grid.fit(X, Y)\n",
    "print(grid.best_estimator_)"
   ]
  },
  {
   "cell_type": "markdown",
   "metadata": {},
   "source": [
    "## Model Evaluation\n",
    "In this part we are using the result that we obtained from the grid search as an input to retrain our models. The grid search is applied with cross validation by taking the average score over 12 folds. "
   ]
  },
  {
   "cell_type": "code",
   "execution_count": 123,
   "metadata": {},
   "outputs": [
    {
     "name": "stdout",
     "output_type": "stream",
     "text": [
      "Accuracy Score 0.927795810834849\n",
      "The root mean square value 199.66354597996684\n"
     ]
    }
   ],
   "source": [
    "from sklearn.metrics import r2_score\n",
    "from sklearn.metrics import mean_squared_error\n",
    "import math\n",
    "X=df[DTR_importants]\n",
    "Y=df['price']\n",
    "X_train, X_test, Y_train, Y_test= split(X,Y,test_size=0.25, random_state=42)\n",
    "\n",
    "from sklearn.tree import DecisionTreeRegressor\n",
    "model=DecisionTreeRegressor(criterion='mse', max_depth=6, max_features=None,\n",
    "           max_leaf_nodes=None, min_impurity_decrease=0.0,\n",
    "           min_impurity_split=None, min_samples_leaf=1,\n",
    "           min_samples_split=2, min_weight_fraction_leaf=0.0,\n",
    "           presort=False, random_state=40, splitter='best')\n",
    "\n",
    "model.fit(X_train,Y_train)\n",
    "prediction13 = model.predict(X_test)\n",
    "print(\"Accuracy Score\", r2_score(Y_test, prediction13))\n",
    "mse = mean_squared_error(Y_test, prediction13)\n",
    "print(\"The root mean square value\", math.sqrt(mse))"
   ]
  },
  {
   "cell_type": "code",
   "execution_count": 124,
   "metadata": {},
   "outputs": [
    {
     "name": "stdout",
     "output_type": "stream",
     "text": [
      "Accuracy Score 0.9394475703194354\n",
      "The root mean square value 182.8451180288185\n"
     ]
    }
   ],
   "source": [
    "from sklearn.metrics import r2_score\n",
    "from sklearn.metrics import mean_squared_error\n",
    "import math\n",
    "X=df[GBR_importants]\n",
    "Y=df['price']\n",
    "X_train, X_test, Y_train, Y_test= split(X,Y,test_size=0.25, random_state=42)\n",
    "\n",
    "from sklearn.ensemble import GradientBoostingRegressor\n",
    "model=GradientBoostingRegressor(alpha=0.9, criterion='friedman_mse', init=None,\n",
    "             learning_rate=0.1, loss='ls', max_depth=6, max_features=None,\n",
    "             max_leaf_nodes=None, min_impurity_decrease=0.0,\n",
    "             min_impurity_split=None, min_samples_leaf=1,\n",
    "             min_samples_split=2, min_weight_fraction_leaf=0.0,\n",
    "             n_estimators=100, n_iter_no_change=None, presort='auto',\n",
    "             random_state=40, subsample=1.0, tol=0.0001,\n",
    "             validation_fraction=0.1, verbose=0, warm_start=False)\n",
    "model.fit(X_train,Y_train)\n",
    "prediction13 = model.predict(X_test)\n",
    "print(\"Accuracy Score\", r2_score(Y_test, prediction13))\n",
    "mse = mean_squared_error(Y_test, prediction13)\n",
    "print(\"The root mean square value\", math.sqrt(mse))"
   ]
  },
  {
   "cell_type": "code",
   "execution_count": 125,
   "metadata": {},
   "outputs": [
    {
     "name": "stdout",
     "output_type": "stream",
     "text": [
      "Accuracy Score 0.9404086092584173\n",
      "The root mean square value 181.3883301353828\n"
     ]
    }
   ],
   "source": [
    "from sklearn.metrics import r2_score\n",
    "from sklearn.metrics import mean_squared_error\n",
    "import math\n",
    "X=df[RF_importants]\n",
    "Y=df['price']\n",
    "X_train, X_test, Y_train, Y_test= split(X,Y,test_size=0.25, random_state=42)\n",
    "\n",
    "from sklearn.ensemble import RandomForestRegressor\n",
    "rfg = RandomForestRegressor(bootstrap=True, criterion='mse', max_depth=None,\n",
    "           max_features='auto', max_leaf_nodes=None,\n",
    "           min_impurity_decrease=0.0, min_impurity_split=None,\n",
    "           min_samples_leaf=1, min_samples_split=2,\n",
    "           min_weight_fraction_leaf=0.0, n_estimators=100, n_jobs=None,\n",
    "           oob_score=False, random_state=40, verbose=0, warm_start=False)\n",
    "rfg.fit(X_train, Y_train)\n",
    "prediction14 = rfg.predict(X_test)\n",
    "print(\"Accuracy Score\", r2_score(Y_test, prediction14))\n",
    "mse2 = mean_squared_error(Y_test, prediction14)\n",
    "print(\"The root mean square value\", math.sqrt(mse2))\n"
   ]
  },
  {
   "cell_type": "markdown",
   "metadata": {},
   "source": [
    "http://sphweb.bumc.bu.edu/otlt/mph-modules/bs/bs704_summarizingdata/bs704_summarizingdata7.html"
   ]
  }
 ],
 "metadata": {
  "kernelspec": {
   "display_name": "Python 3",
   "language": "python",
   "name": "python3"
  },
  "language_info": {
   "codemirror_mode": {
    "name": "ipython",
    "version": 3
   },
   "file_extension": ".py",
   "mimetype": "text/x-python",
   "name": "python",
   "nbconvert_exporter": "python",
   "pygments_lexer": "ipython3",
   "version": "3.7.3"
  }
 },
 "nbformat": 4,
 "nbformat_minor": 2
}
