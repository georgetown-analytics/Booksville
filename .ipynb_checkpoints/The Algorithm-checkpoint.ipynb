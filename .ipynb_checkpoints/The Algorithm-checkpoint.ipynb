{
 "cells": [
  {
   "cell_type": "code",
   "execution_count": 4,
   "metadata": {},
   "outputs": [],
   "source": [
    "import psycopg2"
   ]
  },
  {
   "cell_type": "code",
   "execution_count": 5,
   "metadata": {},
   "outputs": [],
   "source": [
    "conn = psycopg2.connect('dbname = Amazon user= postgres password = data host= 127.0.0.1 port = 5432')\n",
    "curr = conn.cursor()"
   ]
  },
  {
   "cell_type": "code",
   "execution_count": 6,
   "metadata": {},
   "outputs": [],
   "source": [
    "import pandas as pd\n",
    "import numpy as np\n",
    "import seaborn as sns\n",
    "import matplotlib.pyplot as plt\n",
    "%matplotlib inline"
   ]
  },
  {
   "cell_type": "code",
   "execution_count": 7,
   "metadata": {},
   "outputs": [],
   "source": [
    "from sklearn.preprocessing import LabelEncoder\n",
    "# loading package for the label encoding\n",
    "import datetime as dt\n",
    "# package used for converting the data into datetime format"
   ]
  },
  {
   "cell_type": "code",
   "execution_count": 8,
   "metadata": {},
   "outputs": [],
   "source": [
    "df = pd.read_sql_query('SELECT \"productType\", \"asin\", \"author\", \"availabilityAmazon\",\"binding\",\"categoryTree_0\", \"categoryTree_1\", \"categoryTree_2\",\"categoryTree_3\",\"categoryTree_4\",\"ean\",\"hasReviews\", \"isEligibleForSuperSaverShipping\", \"isEligibleForTradeIn\", \"isRedirectASIN\", \"isSNS\", \"languages_0\", \"lastPriceChange\", \"lastRatingUpdate\", \"lastUpdate\", \"listedSince\", \"newPriceIsMAP\", \"numberOfItems\", \"numberOfPages\", \"packageHeight\", \"packageLength\", \"packageQuantity\", \"packageWeight\", \"packageWidth\", \"productGroup\", \"publicationDate\", \"publisher\", \"releaseDate\", \"rootCategory\",\"stats_atIntervalStart\", \"stats_avg\", \"stats_avg30\", \"stats_avg90\", \"stats_avg180\", \"stats_current\", \"stats_outOfStockPercentage30\",\"stats_outOfStockPercentage90\", \"stats_outOfStockPercentageInInterval\", \"title\", \"trackingSince\", \"type\", \"upc\", \"price\", \"sales_rank\" FROM public.\\\"keepaclean1\"',con=conn)"
   ]
  },
  {
   "cell_type": "code",
   "execution_count": 9,
   "metadata": {},
   "outputs": [],
   "source": [
    "df = df.set_index('asin')"
   ]
  },
  {
   "cell_type": "code",
   "execution_count": 10,
   "metadata": {},
   "outputs": [],
   "source": [
    "df.drop_duplicates(inplace = True)"
   ]
  },
  {
   "cell_type": "code",
   "execution_count": 11,
   "metadata": {},
   "outputs": [],
   "source": [
    "df = df.drop(['ean'], axis =1)"
   ]
  },
  {
   "cell_type": "code",
   "execution_count": 12,
   "metadata": {},
   "outputs": [
    {
     "data": {
      "text/plain": [
       "productType                              int64\n",
       "author                                  object\n",
       "availabilityAmazon                       int64\n",
       "binding                                 object\n",
       "categoryTree_0                          object\n",
       "categoryTree_1                          object\n",
       "categoryTree_2                          object\n",
       "categoryTree_3                          object\n",
       "categoryTree_4                          object\n",
       "hasReviews                               int64\n",
       "isEligibleForSuperSaverShipping          int64\n",
       "isEligibleForTradeIn                     int64\n",
       "isRedirectASIN                           int64\n",
       "isSNS                                    int64\n",
       "languages_0                             object\n",
       "lastPriceChange                          int64\n",
       "lastRatingUpdate                         int64\n",
       "lastUpdate                               int64\n",
       "listedSince                              int64\n",
       "newPriceIsMAP                            int64\n",
       "numberOfItems                            int64\n",
       "numberOfPages                            int64\n",
       "packageHeight                            int64\n",
       "packageLength                            int64\n",
       "packageQuantity                          int64\n",
       "packageWeight                            int64\n",
       "packageWidth                             int64\n",
       "productGroup                            object\n",
       "publicationDate                         object\n",
       "publisher                               object\n",
       "releaseDate                             object\n",
       "rootCategory                             int64\n",
       "stats_atIntervalStart                    int64\n",
       "stats_avg                                int64\n",
       "stats_avg30                              int64\n",
       "stats_avg90                              int64\n",
       "stats_avg180                             int64\n",
       "stats_current                            int64\n",
       "stats_outOfStockPercentage30             int64\n",
       "stats_outOfStockPercentage90             int64\n",
       "stats_outOfStockPercentageInInterval     int64\n",
       "title                                   object\n",
       "trackingSince                            int64\n",
       "type                                    object\n",
       "upc                                     object\n",
       "price                                    int64\n",
       "sales_rank                               int64\n",
       "dtype: object"
      ]
     },
     "execution_count": 12,
     "metadata": {},
     "output_type": "execute_result"
    }
   ],
   "source": [
    "df.dtypes"
   ]
  },
  {
   "cell_type": "code",
   "execution_count": 13,
   "metadata": {},
   "outputs": [],
   "source": [
    "cols = ['releaseDate', 'publicationDate']\n",
    "df[cols] = df[cols].apply(pd.to_numeric, errors = 'coerce', axis=1)"
   ]
  },
  {
   "cell_type": "code",
   "execution_count": 14,
   "metadata": {},
   "outputs": [
    {
     "data": {
      "text/plain": [
       "productType                              int64\n",
       "author                                  object\n",
       "availabilityAmazon                       int64\n",
       "binding                                 object\n",
       "categoryTree_0                          object\n",
       "categoryTree_1                          object\n",
       "categoryTree_2                          object\n",
       "categoryTree_3                          object\n",
       "categoryTree_4                          object\n",
       "hasReviews                               int64\n",
       "isEligibleForSuperSaverShipping          int64\n",
       "isEligibleForTradeIn                     int64\n",
       "isRedirectASIN                           int64\n",
       "isSNS                                    int64\n",
       "languages_0                             object\n",
       "lastPriceChange                          int64\n",
       "lastRatingUpdate                         int64\n",
       "lastUpdate                               int64\n",
       "listedSince                              int64\n",
       "newPriceIsMAP                            int64\n",
       "numberOfItems                            int64\n",
       "numberOfPages                            int64\n",
       "packageHeight                            int64\n",
       "packageLength                            int64\n",
       "packageQuantity                          int64\n",
       "packageWeight                            int64\n",
       "packageWidth                             int64\n",
       "productGroup                            object\n",
       "publicationDate                          int64\n",
       "publisher                               object\n",
       "releaseDate                              int64\n",
       "rootCategory                             int64\n",
       "stats_atIntervalStart                    int64\n",
       "stats_avg                                int64\n",
       "stats_avg30                              int64\n",
       "stats_avg90                              int64\n",
       "stats_avg180                             int64\n",
       "stats_current                            int64\n",
       "stats_outOfStockPercentage30             int64\n",
       "stats_outOfStockPercentage90             int64\n",
       "stats_outOfStockPercentageInInterval     int64\n",
       "title                                   object\n",
       "trackingSince                            int64\n",
       "type                                    object\n",
       "upc                                     object\n",
       "price                                    int64\n",
       "sales_rank                               int64\n",
       "dtype: object"
      ]
     },
     "execution_count": 14,
     "metadata": {},
     "output_type": "execute_result"
    }
   ],
   "source": [
    "df.dtypes"
   ]
  },
  {
   "cell_type": "code",
   "execution_count": 17,
   "metadata": {},
   "outputs": [
    {
     "data": {
      "text/plain": [
       "0"
      ]
     },
     "execution_count": 17,
     "metadata": {},
     "output_type": "execute_result"
    }
   ],
   "source": [
    "df[\"author\"].fillna(\"No Information\", inplace = True)\n",
    "# Replacing missing values with \"No Information\"\n",
    "df['author'].isnull().sum().sum()\n",
    "# No null values after imputing the NaN values"
   ]
  },
  {
   "cell_type": "code",
   "execution_count": 18,
   "metadata": {},
   "outputs": [
    {
     "data": {
      "text/plain": [
       "0"
      ]
     },
     "execution_count": 18,
     "metadata": {},
     "output_type": "execute_result"
    }
   ],
   "source": [
    "df[\"binding\"].fillna(\"Audible Audiobook\", inplace = True)\n",
    "# Replacing missing values with \"Audible Audiobook\"\n",
    "df['binding'].isnull().sum().sum()\n",
    "# No null values after imputing null values"
   ]
  },
  {
   "cell_type": "code",
   "execution_count": 19,
   "metadata": {},
   "outputs": [
    {
     "data": {
      "text/plain": [
       "Books                                  100113\n",
       "Home & Kitchen                              4\n",
       "Sports & Outdoors                           3\n",
       "Pet Supplies                                3\n",
       "Office Products                             2\n",
       "Clothing, Shoes & Jewelry                   2\n",
       "Movies & TV                                 1\n",
       "Health Care                                 1\n",
       "Toys & Games                                1\n",
       "Cell Phones & Accessories                   1\n",
       "Instrument Accessories                      1\n",
       "Baby Products                               1\n",
       "Stationery & Gift Wrapping Supplies         1\n",
       "Name: categoryTree_0, dtype: int64"
      ]
     },
     "execution_count": 19,
     "metadata": {},
     "output_type": "execute_result"
    }
   ],
   "source": [
    "df[\"categoryTree_0\"].fillna(\"Books\", inplace = True)\n",
    "df['categoryTree_0'].value_counts()\n",
    "# replacing missing category tree_0 values with \"Books\" which is the mode value of the column"
   ]
  },
  {
   "cell_type": "code",
   "execution_count": 20,
   "metadata": {},
   "outputs": [
    {
     "data": {
      "text/plain": [
       "Subjects                     100113\n",
       "Sports & Fitness                  3\n",
       "Kitchen & Dining                  3\n",
       "Women                             2\n",
       "Cases, Holsters & Sleeves         1\n",
       "Office Electronics                1\n",
       "Dogs                              1\n",
       "Novelty & Gag Toys                1\n",
       "Movies                            1\n",
       "Office & School Supplies          1\n",
       "Stationery                        1\n",
       "Nursery                           1\n",
       "Foot Health                       1\n",
       "Cats                              1\n",
       "Bedding                           1\n",
       "Fish & Aquatic Pets               1\n",
       "Guitar & Bass Accessories         1\n",
       "Name: categoryTree_1, dtype: int64"
      ]
     },
     "execution_count": 20,
     "metadata": {},
     "output_type": "execute_result"
    }
   ],
   "source": [
    "df[\"categoryTree_1\"].fillna(\"Subjects\", inplace = True)\n",
    "# replacing missing category tree_1 values with \"Subjects\" which is the mode value of the column\n",
    "df['categoryTree_1'].value_counts()"
   ]
  },
  {
   "cell_type": "code",
   "execution_count": 21,
   "metadata": {},
   "outputs": [
    {
     "data": {
      "text/plain": [
       "Literature & Fiction                               17493\n",
       "Children's Books                                   12746\n",
       "Self-Help                                           9807\n",
       "Christian Books & Bibles                            6901\n",
       "Biographies & Memoirs                               5441\n",
       "Business & Money                                    5088\n",
       "Arts & Photography                                  4383\n",
       "Mystery, Thriller & Suspense                        4058\n",
       "Health, Fitness & Dieting                           3710\n",
       "Science Fiction & Fantasy                           3291\n",
       "Romance                                             3160\n",
       "Not Available                                       3006\n",
       "History                                             2547\n",
       "Cookbooks, Food & Wine                              2471\n",
       "Reference                                           1867\n",
       "Teen & Young Adult                                  1752\n",
       "Humor & Entertainment                               1594\n",
       "Crafts, Hobbies & Home                              1450\n",
       "Science & Math                                      1388\n",
       "Comics & Graphic Novels                             1284\n",
       "Religion & Spirituality                             1053\n",
       "Computers & Technology                               938\n",
       "Medical Books                                        900\n",
       "Politics & Social Sciences                           758\n",
       "Education & Teaching                                 597\n",
       "Travel                                               530\n",
       "Parenting & Relationships                            427\n",
       "Engineering & Transportation                         348\n",
       "Lesbian, Gay, Bisexual & Transgender Books           341\n",
       "Sports & Outdoors                                    325\n",
       "Law                                                  259\n",
       "Test Preparation                                     177\n",
       "Calendars                                             26\n",
       "Exercise & Fitness                                     2\n",
       "Blankets & Throws                                      1\n",
       "Furniture                                              1\n",
       "Home Brewing & Wine Making                             1\n",
       "Inserts & Insoles                                      1\n",
       "Jewelry                                                1\n",
       "Grooming                                               1\n",
       "Shoes                                                  1\n",
       "Dining & Entertaining                                  1\n",
       "Basic Cases                                            1\n",
       "Automatic Feeders                                      1\n",
       "Coffee, Tea & Espresso                                 1\n",
       "Other Sports                                           1\n",
       "Electronic Dictionaries, Thesauri & Translators        1\n",
       "Treats                                                 1\n",
       "Paper                                                  1\n",
       "Letter Writing Stationery                              1\n",
       "Name: categoryTree_2, dtype: int64"
      ]
     },
     "execution_count": 21,
     "metadata": {},
     "output_type": "execute_result"
    }
   ],
   "source": [
    "df[\"categoryTree_2\"].fillna(\"Not Available\", inplace = True)\n",
    "# replacing missing category tree_2 values with a new category called \"Not Available\" since there are many categories in the column\n",
    "df['categoryTree_2'].value_counts()"
   ]
  },
  {
   "cell_type": "code",
   "execution_count": 22,
   "metadata": {},
   "outputs": [
    {
     "data": {
      "text/plain": [
       "Genre Fiction                             8239\n",
       "Not Available                             7241\n",
       "Christian Living                          3553\n",
       "Animals                                   3518\n",
       "Literature & Fiction                      3368\n",
       "Growing Up & Facts of Life                3224\n",
       "Fantasy                                   3106\n",
       "Mystery                                   2889\n",
       "Action & Adventure                        2470\n",
       "Classics                                  2373\n",
       "Motivational                              1729\n",
       "Relationships                             1648\n",
       "Historical                                1612\n",
       "Contemporary                              1537\n",
       "Music                                     1386\n",
       "Memoirs                                   1344\n",
       "Americas                                  1207\n",
       "Thrillers & Suspense                      1158\n",
       "United States                             1131\n",
       "Humor                                     1114\n",
       "Personal Transformation                   1113\n",
       "Management & Leadership                   1112\n",
       "Women's Fiction                           1104\n",
       "Education & Reference                     1042\n",
       "Performing Arts                            918\n",
       "Happiness                                  851\n",
       "Psychology & Counseling                    843\n",
       "Arts & Literature                          841\n",
       "Economics                                  830\n",
       "Alternative Medicine                       750\n",
       "                                          ... \n",
       "Bracelets                                    1\n",
       "Intellectual Property                        1\n",
       "Legal Self-Help                              1\n",
       "Experiments, Instruments & Measurement       1\n",
       "Environment                                  1\n",
       "Travel Writing                               1\n",
       "Flatware                                     1\n",
       "Coffee Grinders                              1\n",
       "Family Law                                   1\n",
       "Athletic                                     1\n",
       "Softball                                     1\n",
       "Children's & Teens                           1\n",
       "Art, Music & Photography                     1\n",
       "Sports                                       1\n",
       "Agnosticism                                  1\n",
       "Martial Arts                                 1\n",
       "Food, Lodging & Transportation               1\n",
       "Science for Kids                             1\n",
       "Insoles                                      1\n",
       "Storage & Organization                       1\n",
       "Event Planning                               1\n",
       "Media & the Law                              1\n",
       "Regency                                      1\n",
       "Pictorial                                    1\n",
       "Photography                                  1\n",
       "Survival                                     1\n",
       "Weighted Blankets                            1\n",
       "Ancient & Medieval Literature                1\n",
       "Television                                   1\n",
       "Wine Making                                  1\n",
       "Name: categoryTree_3, Length: 373, dtype: int64"
      ]
     },
     "execution_count": 22,
     "metadata": {},
     "output_type": "execute_result"
    }
   ],
   "source": [
    "df[\"categoryTree_3\"].fillna(\"Not Available\", inplace = True)\n",
    "# replacing missing category tree_3 values with \"Not Available\" value i.e. creating a new category in the column\n",
    "df['categoryTree_3'].value_counts()"
   ]
  },
  {
   "cell_type": "code",
   "execution_count": 23,
   "metadata": {},
   "outputs": [
    {
     "data": {
      "text/plain": [
       "No further info                            34972\n",
       "Historical                                  2708\n",
       "Family Life                                 2253\n",
       "United States                               1996\n",
       "Fantasy                                     1703\n",
       "Horror                                      1667\n",
       "Friendship, Social Skills & School Life     1291\n",
       "Family Saga                                  833\n",
       "Police Procedurals                           743\n",
       "Contemporary                                 690\n",
       "Mystery, Thriller & Suspense                 661\n",
       "Spiritual Growth                             656\n",
       "Women Sleuths                                641\n",
       "Instruments                                  612\n",
       "Epic                                         599\n",
       "Action & Adventure                           568\n",
       "Dogs                                         531\n",
       "Activity Books                               503\n",
       "Leadership                                   487\n",
       "Psychological                                479\n",
       "Women's Issues                               479\n",
       "Suspense                                     465\n",
       "Interpersonal Relations                      458\n",
       "Inspirational                                451\n",
       "Political                                    419\n",
       "Chapter Books & Readers                      418\n",
       "Coming of Age                                416\n",
       "Social & Family Issues                       415\n",
       "Reference                                    392\n",
       "Guides                                       381\n",
       "                                           ...  \n",
       "Pain Medicine                                  1\n",
       "Job Markets & Advice                           1\n",
       "DC                                             1\n",
       "Zoroastrianism                                 1\n",
       "Southern                                       1\n",
       "Exploration                                    1\n",
       "Iditarod & Dog-Sledding                        1\n",
       "Macrobiotics                                   1\n",
       "Biographies                                    1\n",
       "Twelve-Step Programs                           1\n",
       "New England                                    1\n",
       "Literary Criticism                             1\n",
       "Rocks & Minerals                               1\n",
       "Liechtenstein                                  1\n",
       "Colonization                                   1\n",
       "Gymnastics                                     1\n",
       "Automotive                                     1\n",
       "Hepatitis                                      1\n",
       "Bankruptcy                                     1\n",
       "Endodontics                                    1\n",
       "Oncology                                       1\n",
       "Compiler Design                                1\n",
       "Customs & Traditions                           1\n",
       "Ecotourism                                     1\n",
       "Web Browsers                                   1\n",
       "Medieval Thought                               1\n",
       "Shaker                                         1\n",
       "Tibetan Book of the Dead                       1\n",
       "Maturing                                       1\n",
       "High Blood Pressure                            1\n",
       "Name: categoryTree_4, Length: 1620, dtype: int64"
      ]
     },
     "execution_count": 23,
     "metadata": {},
     "output_type": "execute_result"
    }
   ],
   "source": [
    "df[\"categoryTree_4\"].fillna(\"No further info\", inplace = True)\n",
    "# replacing missing category tree_4 values with \"No further info\" value\n",
    "df['categoryTree_4'].value_counts()"
   ]
  },
  {
   "cell_type": "code",
   "execution_count": 24,
   "metadata": {},
   "outputs": [
    {
     "data": {
      "text/plain": [
       "English,Published                      96330\n",
       "English,Original Language               2621\n",
       "Spanish,Published                        646\n",
       "english,published                        240\n",
       "German,Published                          64\n",
       "French,Published                          61\n",
       "English                                   33\n",
       "Italian,Published                         20\n",
       "Spanish,Original Language                 12\n",
       "Multilingual,Published                    12\n",
       "Chinese,Published                         11\n",
       "Portuguese,Published                      10\n",
       "Arabic,Published                           8\n",
       "Mandarin Chinese,Published                 8\n",
       "German,Original Language                   5\n",
       "Japanese,Published                         5\n",
       "Danish,Published                           4\n",
       "Norwegian,Published                        4\n",
       "Hebrew,Published                           3\n",
       "Russian,Published                          3\n",
       "Turkish,Original Language                  2\n",
       "Latin,Published                            2\n",
       "Romanian,Original Language                 1\n",
       "French,Subtitled                           1\n",
       "French,Published,DTS-HD 5.1                1\n",
       "Turkish,Published                          1\n",
       "Middle English,Published                   1\n",
       "Hindi,Translation                          1\n",
       "English,Subtitled                          1\n",
       "Greek,Published                            1\n",
       "Japanese,Translation                       1\n",
       "Japanese                                   1\n",
       "French,Original Language                   1\n",
       "Spanish,Translation                        1\n",
       "English,Published,Dolby Digital 1.0        1\n",
       "Mandarin Chinese,Original Language         1\n",
       "Dutch,Published                            1\n",
       "Russian,Original Language                  1\n",
       "Czech,Published                            1\n",
       "Middle English                             1\n",
       "Malay,Published                            1\n",
       "Portuguese,Original Language               1\n",
       "English,Translation                        1\n",
       "Scots,Published                            1\n",
       "Simplified Chinese,Published               1\n",
       "German,Subtitled                           1\n",
       "Spanish,Subtitled                          1\n",
       "English,Menu                               1\n",
       "Italian,Original Language                  1\n",
       "German,Manual                              1\n",
       "Filipino,Published                         1\n",
       "Korean,Published                           1\n",
       "Name: languages_0, dtype: int64"
      ]
     },
     "execution_count": 24,
     "metadata": {},
     "output_type": "execute_result"
    }
   ],
   "source": [
    "df[\"languages_0\"].fillna(\"English,Published\", inplace = True)\n",
    "df['languages_0'].value_counts()\n",
    "# replacing the missing values with the \"English Published\" since it is clearly the mode of the column"
   ]
  },
  {
   "cell_type": "code",
   "execution_count": 20,
   "metadata": {},
   "outputs": [
    {
     "data": {
      "text/plain": [
       "Book                                54652\n",
       "Audible                             44925\n",
       "Digital Software                      206\n",
       "Musical Instruments                   102\n",
       "Single Detail Page Misc                78\n",
       "Toy                                    18\n",
       "Office Product                         18\n",
       "BISS                                   15\n",
       "BISS Basic                             12\n",
       "Sports                                 11\n",
       "Photography                            10\n",
       "Baby Product                           10\n",
       "Kitchen                                 8\n",
       "Art and Craft Supply                    8\n",
       "Ebook Bundle                            7\n",
       "Magazine                                7\n",
       "Shoes                                   6\n",
       "Automotive Parts and Accessories        5\n",
       "Collectibles                            4\n",
       "Home                                    4\n",
       "Art                                     4\n",
       "Health and Beauty                       3\n",
       "Lawn & Patio                            2\n",
       "Pet Products                            2\n",
       "Digital Video Games                     2\n",
       "CE                                      2\n",
       "Guild Product                           1\n",
       "Home Improvement                        1\n",
       "Personal Computer                       1\n",
       "DVD                                     1\n",
       "Authority Non Buyable                   1\n",
       "Beauty                                  1\n",
       "Entertainment Memorabilia               1\n",
       "Major Appliances                        1\n",
       "Downloadable Text                       1\n",
       "Alcoholic Beverage                      1\n",
       "Software                                1\n",
       "Wireless                                1\n",
       "Jewelry                                 1\n",
       "Name: productGroup, dtype: int64"
      ]
     },
     "execution_count": 20,
     "metadata": {},
     "output_type": "execute_result"
    }
   ],
   "source": [
    "df['productGroup'].value_counts()"
   ]
  },
  {
   "cell_type": "code",
   "execution_count": 25,
   "metadata": {},
   "outputs": [
    {
     "data": {
      "text/plain": [
       "0"
      ]
     },
     "execution_count": 25,
     "metadata": {},
     "output_type": "execute_result"
    }
   ],
   "source": [
    "df['productGroup'].fillna(\"Book\", inplace = True)\n",
    "df['productGroup'].isnull().sum().sum()"
   ]
  },
  {
   "cell_type": "code",
   "execution_count": 26,
   "metadata": {},
   "outputs": [
    {
     "data": {
      "text/plain": [
       "0"
      ]
     },
     "execution_count": 26,
     "metadata": {},
     "output_type": "execute_result"
    }
   ],
   "source": [
    "df[\"publisher\"].fillna(\"No publisher Info\", inplace = True)\n",
    "# replacing missing publisher values with \"No publisher Info\" value\n",
    "df['publisher'].isnull().sum().sum()"
   ]
  },
  {
   "cell_type": "code",
   "execution_count": null,
   "metadata": {},
   "outputs": [],
   "source": []
  },
  {
   "cell_type": "code",
   "execution_count": 27,
   "metadata": {},
   "outputs": [],
   "source": [
    "df = df.drop(['upc'], axis =1)"
   ]
  },
  {
   "cell_type": "code",
   "execution_count": 28,
   "metadata": {},
   "outputs": [
    {
     "data": {
      "text/plain": [
       "0"
      ]
     },
     "execution_count": 28,
     "metadata": {},
     "output_type": "execute_result"
    }
   ],
   "source": [
    "df['type'].fillna(\"ABIS_BOOK\", inplace = True)\n",
    "df['type'].isnull().sum().sum()\n"
   ]
  },
  {
   "cell_type": "code",
   "execution_count": 29,
   "metadata": {},
   "outputs": [
    {
     "data": {
      "text/plain": [
       "0"
      ]
     },
     "execution_count": 29,
     "metadata": {},
     "output_type": "execute_result"
    }
   ],
   "source": [
    "df['title'].fillna(\"No Information\", inplace = True)\n",
    "df['title'].isnull().sum().sum()"
   ]
  },
  {
   "cell_type": "code",
   "execution_count": 30,
   "metadata": {},
   "outputs": [
    {
     "data": {
      "text/plain": [
       "productType                              int64\n",
       "author                                  object\n",
       "availabilityAmazon                       int64\n",
       "binding                                 object\n",
       "categoryTree_0                          object\n",
       "categoryTree_1                          object\n",
       "categoryTree_2                          object\n",
       "categoryTree_3                          object\n",
       "categoryTree_4                          object\n",
       "hasReviews                               int64\n",
       "isEligibleForSuperSaverShipping          int64\n",
       "isEligibleForTradeIn                     int64\n",
       "isRedirectASIN                           int64\n",
       "isSNS                                    int64\n",
       "languages_0                             object\n",
       "lastPriceChange                          int64\n",
       "lastRatingUpdate                         int64\n",
       "lastUpdate                               int64\n",
       "listedSince                              int64\n",
       "newPriceIsMAP                            int64\n",
       "numberOfItems                            int64\n",
       "numberOfPages                            int64\n",
       "packageHeight                            int64\n",
       "packageLength                            int64\n",
       "packageQuantity                          int64\n",
       "packageWeight                            int64\n",
       "packageWidth                             int64\n",
       "productGroup                            object\n",
       "publicationDate                          int64\n",
       "publisher                               object\n",
       "releaseDate                              int64\n",
       "rootCategory                             int64\n",
       "stats_atIntervalStart                    int64\n",
       "stats_avg                                int64\n",
       "stats_avg30                              int64\n",
       "stats_avg90                              int64\n",
       "stats_avg180                             int64\n",
       "stats_current                            int64\n",
       "stats_outOfStockPercentage30             int64\n",
       "stats_outOfStockPercentage90             int64\n",
       "stats_outOfStockPercentageInInterval     int64\n",
       "title                                   object\n",
       "trackingSince                            int64\n",
       "type                                    object\n",
       "price                                    int64\n",
       "sales_rank                               int64\n",
       "dtype: object"
      ]
     },
     "execution_count": 30,
     "metadata": {},
     "output_type": "execute_result"
    }
   ],
   "source": [
    "df.dtypes"
   ]
  },
  {
   "cell_type": "code",
   "execution_count": 31,
   "metadata": {},
   "outputs": [],
   "source": [
    "from sklearn.preprocessing import OneHotEncoder\n",
    "ohe = OneHotEncoder()"
   ]
  },
  {
   "cell_type": "code",
   "execution_count": 42,
   "metadata": {},
   "outputs": [],
   "source": [
    "ll = ['author','binding','categoryTree_0','categoryTree_1','categoryTree_2','categoryTree_3','categoryTree_4','languages_0','productGroup','publisher','title','type']"
   ]
  },
  {
   "cell_type": "code",
   "execution_count": 44,
   "metadata": {},
   "outputs": [],
   "source": [
    "df_processed = pd.get_dummies(df, prefix_sep=\"__\", columns=ll)\n"
   ]
  },
  {
   "cell_type": "code",
   "execution_count": 47,
   "metadata": {},
   "outputs": [],
   "source": [
    "df = df_processed"
   ]
  },
  {
   "cell_type": "code",
   "execution_count": 48,
   "metadata": {},
   "outputs": [
    {
     "data": {
      "text/html": [
       "<div>\n",
       "<style scoped>\n",
       "    .dataframe tbody tr th:only-of-type {\n",
       "        vertical-align: middle;\n",
       "    }\n",
       "\n",
       "    .dataframe tbody tr th {\n",
       "        vertical-align: top;\n",
       "    }\n",
       "\n",
       "    .dataframe thead th {\n",
       "        text-align: right;\n",
       "    }\n",
       "</style>\n",
       "<table border=\"1\" class=\"dataframe\">\n",
       "  <thead>\n",
       "    <tr style=\"text-align: right;\">\n",
       "      <th></th>\n",
       "      <th>productType</th>\n",
       "      <th>availabilityAmazon</th>\n",
       "      <th>hasReviews</th>\n",
       "      <th>isEligibleForSuperSaverShipping</th>\n",
       "      <th>isEligibleForTradeIn</th>\n",
       "      <th>isRedirectASIN</th>\n",
       "      <th>isSNS</th>\n",
       "      <th>lastPriceChange</th>\n",
       "      <th>lastRatingUpdate</th>\n",
       "      <th>lastUpdate</th>\n",
       "      <th>...</th>\n",
       "      <th>type__SPIRITS</th>\n",
       "      <th>type__SPORTING_GOODS</th>\n",
       "      <th>type__SPORTS_MEMORABILIA</th>\n",
       "      <th>type__STRINGED_INSTRUMENTS</th>\n",
       "      <th>type__SWEATER</th>\n",
       "      <th>type__TEACHING_EQUIPMENT</th>\n",
       "      <th>type__TOOLS</th>\n",
       "      <th>type__TOYS_AND_GAMES</th>\n",
       "      <th>type__UNDERWEAR</th>\n",
       "      <th>type__WIRELESS_ACCESSORY</th>\n",
       "    </tr>\n",
       "    <tr>\n",
       "      <th>asin</th>\n",
       "      <th></th>\n",
       "      <th></th>\n",
       "      <th></th>\n",
       "      <th></th>\n",
       "      <th></th>\n",
       "      <th></th>\n",
       "      <th></th>\n",
       "      <th></th>\n",
       "      <th></th>\n",
       "      <th></th>\n",
       "      <th></th>\n",
       "      <th></th>\n",
       "      <th></th>\n",
       "      <th></th>\n",
       "      <th></th>\n",
       "      <th></th>\n",
       "      <th></th>\n",
       "      <th></th>\n",
       "      <th></th>\n",
       "      <th></th>\n",
       "      <th></th>\n",
       "    </tr>\n",
       "  </thead>\n",
       "  <tbody>\n",
       "    <tr>\n",
       "      <th>154204006X</th>\n",
       "      <td>0</td>\n",
       "      <td>0</td>\n",
       "      <td>1</td>\n",
       "      <td>1</td>\n",
       "      <td>0</td>\n",
       "      <td>0</td>\n",
       "      <td>0</td>\n",
       "      <td>1552176960</td>\n",
       "      <td>1552067040</td>\n",
       "      <td>1552183920</td>\n",
       "      <td>...</td>\n",
       "      <td>0</td>\n",
       "      <td>0</td>\n",
       "      <td>0</td>\n",
       "      <td>0</td>\n",
       "      <td>0</td>\n",
       "      <td>0</td>\n",
       "      <td>0</td>\n",
       "      <td>0</td>\n",
       "      <td>0</td>\n",
       "      <td>0</td>\n",
       "    </tr>\n",
       "    <tr>\n",
       "      <th>B07B3JQZCL</th>\n",
       "      <td>1</td>\n",
       "      <td>0</td>\n",
       "      <td>1</td>\n",
       "      <td>0</td>\n",
       "      <td>0</td>\n",
       "      <td>0</td>\n",
       "      <td>0</td>\n",
       "      <td>1547653920</td>\n",
       "      <td>1552181760</td>\n",
       "      <td>1552182000</td>\n",
       "      <td>...</td>\n",
       "      <td>0</td>\n",
       "      <td>0</td>\n",
       "      <td>0</td>\n",
       "      <td>0</td>\n",
       "      <td>0</td>\n",
       "      <td>0</td>\n",
       "      <td>0</td>\n",
       "      <td>0</td>\n",
       "      <td>0</td>\n",
       "      <td>0</td>\n",
       "    </tr>\n",
       "    <tr>\n",
       "      <th>B07JHVJ5SC</th>\n",
       "      <td>0</td>\n",
       "      <td>-1</td>\n",
       "      <td>0</td>\n",
       "      <td>0</td>\n",
       "      <td>0</td>\n",
       "      <td>0</td>\n",
       "      <td>0</td>\n",
       "      <td>1544624400</td>\n",
       "      <td>-1</td>\n",
       "      <td>1552184880</td>\n",
       "      <td>...</td>\n",
       "      <td>0</td>\n",
       "      <td>0</td>\n",
       "      <td>0</td>\n",
       "      <td>0</td>\n",
       "      <td>0</td>\n",
       "      <td>0</td>\n",
       "      <td>0</td>\n",
       "      <td>0</td>\n",
       "      <td>0</td>\n",
       "      <td>0</td>\n",
       "    </tr>\n",
       "    <tr>\n",
       "      <th>B00XJ108I6</th>\n",
       "      <td>0</td>\n",
       "      <td>-1</td>\n",
       "      <td>0</td>\n",
       "      <td>0</td>\n",
       "      <td>0</td>\n",
       "      <td>0</td>\n",
       "      <td>0</td>\n",
       "      <td>1538639760</td>\n",
       "      <td>-1</td>\n",
       "      <td>1552184880</td>\n",
       "      <td>...</td>\n",
       "      <td>0</td>\n",
       "      <td>0</td>\n",
       "      <td>0</td>\n",
       "      <td>0</td>\n",
       "      <td>0</td>\n",
       "      <td>0</td>\n",
       "      <td>0</td>\n",
       "      <td>0</td>\n",
       "      <td>0</td>\n",
       "      <td>0</td>\n",
       "    </tr>\n",
       "    <tr>\n",
       "      <th>1524763136</th>\n",
       "      <td>0</td>\n",
       "      <td>0</td>\n",
       "      <td>1</td>\n",
       "      <td>1</td>\n",
       "      <td>0</td>\n",
       "      <td>0</td>\n",
       "      <td>0</td>\n",
       "      <td>1552173360</td>\n",
       "      <td>1552169760</td>\n",
       "      <td>1552182120</td>\n",
       "      <td>...</td>\n",
       "      <td>0</td>\n",
       "      <td>0</td>\n",
       "      <td>0</td>\n",
       "      <td>0</td>\n",
       "      <td>0</td>\n",
       "      <td>0</td>\n",
       "      <td>0</td>\n",
       "      <td>0</td>\n",
       "      <td>0</td>\n",
       "      <td>0</td>\n",
       "    </tr>\n",
       "  </tbody>\n",
       "</table>\n",
       "<p>5 rows × 140140 columns</p>\n",
       "</div>"
      ],
      "text/plain": [
       "            productType  availabilityAmazon  hasReviews  \\\n",
       "asin                                                      \n",
       "154204006X            0                   0           1   \n",
       "B07B3JQZCL            1                   0           1   \n",
       "B07JHVJ5SC            0                  -1           0   \n",
       "B00XJ108I6            0                  -1           0   \n",
       "1524763136            0                   0           1   \n",
       "\n",
       "            isEligibleForSuperSaverShipping  isEligibleForTradeIn  \\\n",
       "asin                                                                \n",
       "154204006X                                1                     0   \n",
       "B07B3JQZCL                                0                     0   \n",
       "B07JHVJ5SC                                0                     0   \n",
       "B00XJ108I6                                0                     0   \n",
       "1524763136                                1                     0   \n",
       "\n",
       "            isRedirectASIN  isSNS  lastPriceChange  lastRatingUpdate  \\\n",
       "asin                                                                   \n",
       "154204006X               0      0       1552176960        1552067040   \n",
       "B07B3JQZCL               0      0       1547653920        1552181760   \n",
       "B07JHVJ5SC               0      0       1544624400                -1   \n",
       "B00XJ108I6               0      0       1538639760                -1   \n",
       "1524763136               0      0       1552173360        1552169760   \n",
       "\n",
       "            lastUpdate  ...  type__SPIRITS  type__SPORTING_GOODS  \\\n",
       "asin                    ...                                        \n",
       "154204006X  1552183920  ...              0                     0   \n",
       "B07B3JQZCL  1552182000  ...              0                     0   \n",
       "B07JHVJ5SC  1552184880  ...              0                     0   \n",
       "B00XJ108I6  1552184880  ...              0                     0   \n",
       "1524763136  1552182120  ...              0                     0   \n",
       "\n",
       "            type__SPORTS_MEMORABILIA  type__STRINGED_INSTRUMENTS  \\\n",
       "asin                                                               \n",
       "154204006X                         0                           0   \n",
       "B07B3JQZCL                         0                           0   \n",
       "B07JHVJ5SC                         0                           0   \n",
       "B00XJ108I6                         0                           0   \n",
       "1524763136                         0                           0   \n",
       "\n",
       "            type__SWEATER  type__TEACHING_EQUIPMENT  type__TOOLS  \\\n",
       "asin                                                               \n",
       "154204006X              0                         0            0   \n",
       "B07B3JQZCL              0                         0            0   \n",
       "B07JHVJ5SC              0                         0            0   \n",
       "B00XJ108I6              0                         0            0   \n",
       "1524763136              0                         0            0   \n",
       "\n",
       "            type__TOYS_AND_GAMES  type__UNDERWEAR  type__WIRELESS_ACCESSORY  \n",
       "asin                                                                         \n",
       "154204006X                     0                0                         0  \n",
       "B07B3JQZCL                     0                0                         0  \n",
       "B07JHVJ5SC                     0                0                         0  \n",
       "B00XJ108I6                     0                0                         0  \n",
       "1524763136                     0                0                         0  \n",
       "\n",
       "[5 rows x 140140 columns]"
      ]
     },
     "execution_count": 48,
     "metadata": {},
     "output_type": "execute_result"
    }
   ],
   "source": [
    "df.head(5)"
   ]
  },
  {
   "cell_type": "code",
   "execution_count": 27,
   "metadata": {},
   "outputs": [],
   "source": [
    "ll = ['author','binding','categoryTree_0','categoryTree_1','categoryTree_2','categoryTree_3','categoryTree_4','languages_0','productGroup','publisher','title','type']"
   ]
  },
  {
   "cell_type": "code",
   "execution_count": null,
   "metadata": {},
   "outputs": [],
   "source": []
  },
  {
   "cell_type": "code",
   "execution_count": 29,
   "metadata": {},
   "outputs": [
    {
     "data": {
      "text/html": [
       "<div>\n",
       "<style scoped>\n",
       "    .dataframe tbody tr th:only-of-type {\n",
       "        vertical-align: middle;\n",
       "    }\n",
       "\n",
       "    .dataframe tbody tr th {\n",
       "        vertical-align: top;\n",
       "    }\n",
       "\n",
       "    .dataframe thead th {\n",
       "        text-align: right;\n",
       "    }\n",
       "</style>\n",
       "<table border=\"1\" class=\"dataframe\">\n",
       "  <thead>\n",
       "    <tr style=\"text-align: right;\">\n",
       "      <th></th>\n",
       "      <th>productType</th>\n",
       "      <th>author</th>\n",
       "      <th>availabilityAmazon</th>\n",
       "      <th>binding</th>\n",
       "      <th>categoryTree_0</th>\n",
       "      <th>categoryTree_1</th>\n",
       "      <th>categoryTree_2</th>\n",
       "      <th>categoryTree_3</th>\n",
       "      <th>categoryTree_4</th>\n",
       "      <th>hasReviews</th>\n",
       "      <th>...</th>\n",
       "      <th>stats_avg180</th>\n",
       "      <th>stats_current</th>\n",
       "      <th>stats_outOfStockPercentage30</th>\n",
       "      <th>stats_outOfStockPercentage90</th>\n",
       "      <th>stats_outOfStockPercentageInInterval</th>\n",
       "      <th>title</th>\n",
       "      <th>trackingSince</th>\n",
       "      <th>type</th>\n",
       "      <th>price</th>\n",
       "      <th>sales_rank</th>\n",
       "    </tr>\n",
       "    <tr>\n",
       "      <th>asin</th>\n",
       "      <th></th>\n",
       "      <th></th>\n",
       "      <th></th>\n",
       "      <th></th>\n",
       "      <th></th>\n",
       "      <th></th>\n",
       "      <th></th>\n",
       "      <th></th>\n",
       "      <th></th>\n",
       "      <th></th>\n",
       "      <th></th>\n",
       "      <th></th>\n",
       "      <th></th>\n",
       "      <th></th>\n",
       "      <th></th>\n",
       "      <th></th>\n",
       "      <th></th>\n",
       "      <th></th>\n",
       "      <th></th>\n",
       "      <th></th>\n",
       "      <th></th>\n",
       "    </tr>\n",
       "  </thead>\n",
       "  <tbody>\n",
       "    <tr>\n",
       "      <th>154204006X</th>\n",
       "      <td>0</td>\n",
       "      <td>12800</td>\n",
       "      <td>0</td>\n",
       "      <td>25</td>\n",
       "      <td>1</td>\n",
       "      <td>15</td>\n",
       "      <td>30</td>\n",
       "      <td>151</td>\n",
       "      <td>551</td>\n",
       "      <td>1</td>\n",
       "      <td>...</td>\n",
       "      <td>1477</td>\n",
       "      <td>1599</td>\n",
       "      <td>0</td>\n",
       "      <td>0</td>\n",
       "      <td>0</td>\n",
       "      <td>87098</td>\n",
       "      <td>1540041120</td>\n",
       "      <td>0</td>\n",
       "      <td>1599</td>\n",
       "      <td>1945</td>\n",
       "    </tr>\n",
       "    <tr>\n",
       "      <th>B07B3JQZCL</th>\n",
       "      <td>1</td>\n",
       "      <td>25576</td>\n",
       "      <td>0</td>\n",
       "      <td>4</td>\n",
       "      <td>1</td>\n",
       "      <td>15</td>\n",
       "      <td>3</td>\n",
       "      <td>128</td>\n",
       "      <td>38</td>\n",
       "      <td>1</td>\n",
       "      <td>...</td>\n",
       "      <td>2978</td>\n",
       "      <td>3099</td>\n",
       "      <td>0</td>\n",
       "      <td>1</td>\n",
       "      <td>1</td>\n",
       "      <td>8455</td>\n",
       "      <td>1519770480</td>\n",
       "      <td>18</td>\n",
       "      <td>-1</td>\n",
       "      <td>79</td>\n",
       "    </tr>\n",
       "    <tr>\n",
       "      <th>B07JHVJ5SC</th>\n",
       "      <td>0</td>\n",
       "      <td>33946</td>\n",
       "      <td>-1</td>\n",
       "      <td>32</td>\n",
       "      <td>1</td>\n",
       "      <td>15</td>\n",
       "      <td>7</td>\n",
       "      <td>21</td>\n",
       "      <td>234</td>\n",
       "      <td>0</td>\n",
       "      <td>...</td>\n",
       "      <td>-1</td>\n",
       "      <td>-1</td>\n",
       "      <td>100</td>\n",
       "      <td>100</td>\n",
       "      <td>100</td>\n",
       "      <td>51540</td>\n",
       "      <td>1541976000</td>\n",
       "      <td>20</td>\n",
       "      <td>-1</td>\n",
       "      <td>1</td>\n",
       "    </tr>\n",
       "    <tr>\n",
       "      <th>B00XJ108I6</th>\n",
       "      <td>0</td>\n",
       "      <td>599</td>\n",
       "      <td>-1</td>\n",
       "      <td>32</td>\n",
       "      <td>1</td>\n",
       "      <td>15</td>\n",
       "      <td>11</td>\n",
       "      <td>273</td>\n",
       "      <td>1391</td>\n",
       "      <td>0</td>\n",
       "      <td>...</td>\n",
       "      <td>-1</td>\n",
       "      <td>-1</td>\n",
       "      <td>100</td>\n",
       "      <td>100</td>\n",
       "      <td>100</td>\n",
       "      <td>71180</td>\n",
       "      <td>1538639760</td>\n",
       "      <td>20</td>\n",
       "      <td>-1</td>\n",
       "      <td>2</td>\n",
       "    </tr>\n",
       "    <tr>\n",
       "      <th>1524763136</th>\n",
       "      <td>0</td>\n",
       "      <td>25576</td>\n",
       "      <td>0</td>\n",
       "      <td>25</td>\n",
       "      <td>1</td>\n",
       "      <td>15</td>\n",
       "      <td>3</td>\n",
       "      <td>128</td>\n",
       "      <td>38</td>\n",
       "      <td>1</td>\n",
       "      <td>...</td>\n",
       "      <td>1944</td>\n",
       "      <td>1950</td>\n",
       "      <td>0</td>\n",
       "      <td>0</td>\n",
       "      <td>1</td>\n",
       "      <td>8455</td>\n",
       "      <td>1519588560</td>\n",
       "      <td>0</td>\n",
       "      <td>1788</td>\n",
       "      <td>3568</td>\n",
       "    </tr>\n",
       "  </tbody>\n",
       "</table>\n",
       "<p>5 rows × 46 columns</p>\n",
       "</div>"
      ],
      "text/plain": [
       "            productType  author  availabilityAmazon  binding  categoryTree_0  \\\n",
       "asin                                                                           \n",
       "154204006X            0   12800                   0       25               1   \n",
       "B07B3JQZCL            1   25576                   0        4               1   \n",
       "B07JHVJ5SC            0   33946                  -1       32               1   \n",
       "B00XJ108I6            0     599                  -1       32               1   \n",
       "1524763136            0   25576                   0       25               1   \n",
       "\n",
       "            categoryTree_1  categoryTree_2  categoryTree_3  categoryTree_4  \\\n",
       "asin                                                                         \n",
       "154204006X              15              30             151             551   \n",
       "B07B3JQZCL              15               3             128              38   \n",
       "B07JHVJ5SC              15               7              21             234   \n",
       "B00XJ108I6              15              11             273            1391   \n",
       "1524763136              15               3             128              38   \n",
       "\n",
       "            hasReviews  ...  stats_avg180  stats_current  \\\n",
       "asin                    ...                                \n",
       "154204006X           1  ...          1477           1599   \n",
       "B07B3JQZCL           1  ...          2978           3099   \n",
       "B07JHVJ5SC           0  ...            -1             -1   \n",
       "B00XJ108I6           0  ...            -1             -1   \n",
       "1524763136           1  ...          1944           1950   \n",
       "\n",
       "            stats_outOfStockPercentage30  stats_outOfStockPercentage90  \\\n",
       "asin                                                                     \n",
       "154204006X                             0                             0   \n",
       "B07B3JQZCL                             0                             1   \n",
       "B07JHVJ5SC                           100                           100   \n",
       "B00XJ108I6                           100                           100   \n",
       "1524763136                             0                             0   \n",
       "\n",
       "            stats_outOfStockPercentageInInterval  title  trackingSince  type  \\\n",
       "asin                                                                           \n",
       "154204006X                                     0  87098     1540041120     0   \n",
       "B07B3JQZCL                                     1   8455     1519770480    18   \n",
       "B07JHVJ5SC                                   100  51540     1541976000    20   \n",
       "B00XJ108I6                                   100  71180     1538639760    20   \n",
       "1524763136                                     1   8455     1519588560     0   \n",
       "\n",
       "            price  sales_rank  \n",
       "asin                           \n",
       "154204006X   1599        1945  \n",
       "B07B3JQZCL     -1          79  \n",
       "B07JHVJ5SC     -1           1  \n",
       "B00XJ108I6     -1           2  \n",
       "1524763136   1788        3568  \n",
       "\n",
       "[5 rows x 46 columns]"
      ]
     },
     "execution_count": 29,
     "metadata": {},
     "output_type": "execute_result"
    }
   ],
   "source": [
    "df.head(5)"
   ]
  },
  {
   "cell_type": "code",
   "execution_count": 30,
   "metadata": {},
   "outputs": [],
   "source": [
    "df = df[[\"productType\", \"author\", \"availabilityAmazon\",\"binding\",\"categoryTree_0\", \"categoryTree_1\", \"categoryTree_2\",\"categoryTree_3\",\"categoryTree_4\", \"hasReviews\", \"isEligibleForSuperSaverShipping\", \"isEligibleForTradeIn\", \"isRedirectASIN\", \"isSNS\", \"languages_0\", \"lastPriceChange\", \"lastRatingUpdate\", \"lastUpdate\", \"listedSince\", \"newPriceIsMAP\", \"numberOfItems\", \"numberOfPages\", \"packageHeight\", \"packageLength\", \"packageQuantity\", \"packageWeight\", \"packageWidth\", \"productGroup\", \"publicationDate\", \"publisher\", \"releaseDate\", \"rootCategory\",\"stats_atIntervalStart\", \"stats_avg\", \"stats_avg30\", \"stats_avg90\", \"stats_avg180\", \"stats_current\", \"stats_outOfStockPercentage30\",\"stats_outOfStockPercentage90\", \"stats_outOfStockPercentageInInterval\", \"title\", \"trackingSince\", \"type\", \"sales_rank\", \"price\"]]"
   ]
  },
  {
   "cell_type": "code",
   "execution_count": 31,
   "metadata": {},
   "outputs": [
    {
     "data": {
      "text/html": [
       "<div>\n",
       "<style scoped>\n",
       "    .dataframe tbody tr th:only-of-type {\n",
       "        vertical-align: middle;\n",
       "    }\n",
       "\n",
       "    .dataframe tbody tr th {\n",
       "        vertical-align: top;\n",
       "    }\n",
       "\n",
       "    .dataframe thead th {\n",
       "        text-align: right;\n",
       "    }\n",
       "</style>\n",
       "<table border=\"1\" class=\"dataframe\">\n",
       "  <thead>\n",
       "    <tr style=\"text-align: right;\">\n",
       "      <th></th>\n",
       "      <th>productType</th>\n",
       "      <th>author</th>\n",
       "      <th>availabilityAmazon</th>\n",
       "      <th>binding</th>\n",
       "      <th>categoryTree_0</th>\n",
       "      <th>categoryTree_1</th>\n",
       "      <th>categoryTree_2</th>\n",
       "      <th>categoryTree_3</th>\n",
       "      <th>categoryTree_4</th>\n",
       "      <th>hasReviews</th>\n",
       "      <th>...</th>\n",
       "      <th>stats_avg90</th>\n",
       "      <th>stats_avg180</th>\n",
       "      <th>stats_current</th>\n",
       "      <th>stats_outOfStockPercentage30</th>\n",
       "      <th>stats_outOfStockPercentage90</th>\n",
       "      <th>stats_outOfStockPercentageInInterval</th>\n",
       "      <th>title</th>\n",
       "      <th>trackingSince</th>\n",
       "      <th>type</th>\n",
       "      <th>sales_rank</th>\n",
       "    </tr>\n",
       "    <tr>\n",
       "      <th>asin</th>\n",
       "      <th></th>\n",
       "      <th></th>\n",
       "      <th></th>\n",
       "      <th></th>\n",
       "      <th></th>\n",
       "      <th></th>\n",
       "      <th></th>\n",
       "      <th></th>\n",
       "      <th></th>\n",
       "      <th></th>\n",
       "      <th></th>\n",
       "      <th></th>\n",
       "      <th></th>\n",
       "      <th></th>\n",
       "      <th></th>\n",
       "      <th></th>\n",
       "      <th></th>\n",
       "      <th></th>\n",
       "      <th></th>\n",
       "      <th></th>\n",
       "      <th></th>\n",
       "    </tr>\n",
       "  </thead>\n",
       "  <tbody>\n",
       "    <tr>\n",
       "      <th>154204006X</th>\n",
       "      <td>0</td>\n",
       "      <td>12800</td>\n",
       "      <td>0</td>\n",
       "      <td>25</td>\n",
       "      <td>1</td>\n",
       "      <td>15</td>\n",
       "      <td>30</td>\n",
       "      <td>151</td>\n",
       "      <td>551</td>\n",
       "      <td>1</td>\n",
       "      <td>...</td>\n",
       "      <td>1409</td>\n",
       "      <td>1477</td>\n",
       "      <td>1599</td>\n",
       "      <td>0</td>\n",
       "      <td>0</td>\n",
       "      <td>0</td>\n",
       "      <td>87098</td>\n",
       "      <td>1540041120</td>\n",
       "      <td>0</td>\n",
       "      <td>1945</td>\n",
       "    </tr>\n",
       "    <tr>\n",
       "      <th>B07B3JQZCL</th>\n",
       "      <td>1</td>\n",
       "      <td>25576</td>\n",
       "      <td>0</td>\n",
       "      <td>4</td>\n",
       "      <td>1</td>\n",
       "      <td>15</td>\n",
       "      <td>3</td>\n",
       "      <td>128</td>\n",
       "      <td>38</td>\n",
       "      <td>1</td>\n",
       "      <td>...</td>\n",
       "      <td>3064</td>\n",
       "      <td>2978</td>\n",
       "      <td>3099</td>\n",
       "      <td>0</td>\n",
       "      <td>1</td>\n",
       "      <td>1</td>\n",
       "      <td>8455</td>\n",
       "      <td>1519770480</td>\n",
       "      <td>18</td>\n",
       "      <td>79</td>\n",
       "    </tr>\n",
       "    <tr>\n",
       "      <th>B07JHVJ5SC</th>\n",
       "      <td>0</td>\n",
       "      <td>33946</td>\n",
       "      <td>-1</td>\n",
       "      <td>32</td>\n",
       "      <td>1</td>\n",
       "      <td>15</td>\n",
       "      <td>7</td>\n",
       "      <td>21</td>\n",
       "      <td>234</td>\n",
       "      <td>0</td>\n",
       "      <td>...</td>\n",
       "      <td>-1</td>\n",
       "      <td>-1</td>\n",
       "      <td>-1</td>\n",
       "      <td>100</td>\n",
       "      <td>100</td>\n",
       "      <td>100</td>\n",
       "      <td>51540</td>\n",
       "      <td>1541976000</td>\n",
       "      <td>20</td>\n",
       "      <td>1</td>\n",
       "    </tr>\n",
       "    <tr>\n",
       "      <th>B00XJ108I6</th>\n",
       "      <td>0</td>\n",
       "      <td>599</td>\n",
       "      <td>-1</td>\n",
       "      <td>32</td>\n",
       "      <td>1</td>\n",
       "      <td>15</td>\n",
       "      <td>11</td>\n",
       "      <td>273</td>\n",
       "      <td>1391</td>\n",
       "      <td>0</td>\n",
       "      <td>...</td>\n",
       "      <td>-1</td>\n",
       "      <td>-1</td>\n",
       "      <td>-1</td>\n",
       "      <td>100</td>\n",
       "      <td>100</td>\n",
       "      <td>100</td>\n",
       "      <td>71180</td>\n",
       "      <td>1538639760</td>\n",
       "      <td>20</td>\n",
       "      <td>2</td>\n",
       "    </tr>\n",
       "    <tr>\n",
       "      <th>1524763136</th>\n",
       "      <td>0</td>\n",
       "      <td>25576</td>\n",
       "      <td>0</td>\n",
       "      <td>25</td>\n",
       "      <td>1</td>\n",
       "      <td>15</td>\n",
       "      <td>3</td>\n",
       "      <td>128</td>\n",
       "      <td>38</td>\n",
       "      <td>1</td>\n",
       "      <td>...</td>\n",
       "      <td>1936</td>\n",
       "      <td>1944</td>\n",
       "      <td>1950</td>\n",
       "      <td>0</td>\n",
       "      <td>0</td>\n",
       "      <td>1</td>\n",
       "      <td>8455</td>\n",
       "      <td>1519588560</td>\n",
       "      <td>0</td>\n",
       "      <td>3568</td>\n",
       "    </tr>\n",
       "  </tbody>\n",
       "</table>\n",
       "<p>5 rows × 45 columns</p>\n",
       "</div>"
      ],
      "text/plain": [
       "            productType  author  availabilityAmazon  binding  categoryTree_0  \\\n",
       "asin                                                                           \n",
       "154204006X            0   12800                   0       25               1   \n",
       "B07B3JQZCL            1   25576                   0        4               1   \n",
       "B07JHVJ5SC            0   33946                  -1       32               1   \n",
       "B00XJ108I6            0     599                  -1       32               1   \n",
       "1524763136            0   25576                   0       25               1   \n",
       "\n",
       "            categoryTree_1  categoryTree_2  categoryTree_3  categoryTree_4  \\\n",
       "asin                                                                         \n",
       "154204006X              15              30             151             551   \n",
       "B07B3JQZCL              15               3             128              38   \n",
       "B07JHVJ5SC              15               7              21             234   \n",
       "B00XJ108I6              15              11             273            1391   \n",
       "1524763136              15               3             128              38   \n",
       "\n",
       "            hasReviews  ...  stats_avg90  stats_avg180  stats_current  \\\n",
       "asin                    ...                                             \n",
       "154204006X           1  ...         1409          1477           1599   \n",
       "B07B3JQZCL           1  ...         3064          2978           3099   \n",
       "B07JHVJ5SC           0  ...           -1            -1             -1   \n",
       "B00XJ108I6           0  ...           -1            -1             -1   \n",
       "1524763136           1  ...         1936          1944           1950   \n",
       "\n",
       "            stats_outOfStockPercentage30  stats_outOfStockPercentage90  \\\n",
       "asin                                                                     \n",
       "154204006X                             0                             0   \n",
       "B07B3JQZCL                             0                             1   \n",
       "B07JHVJ5SC                           100                           100   \n",
       "B00XJ108I6                           100                           100   \n",
       "1524763136                             0                             0   \n",
       "\n",
       "            stats_outOfStockPercentageInInterval  title  trackingSince  type  \\\n",
       "asin                                                                           \n",
       "154204006X                                     0  87098     1540041120     0   \n",
       "B07B3JQZCL                                     1   8455     1519770480    18   \n",
       "B07JHVJ5SC                                   100  51540     1541976000    20   \n",
       "B00XJ108I6                                   100  71180     1538639760    20   \n",
       "1524763136                                     1   8455     1519588560     0   \n",
       "\n",
       "            sales_rank  \n",
       "asin                    \n",
       "154204006X        1945  \n",
       "B07B3JQZCL          79  \n",
       "B07JHVJ5SC           1  \n",
       "B00XJ108I6           2  \n",
       "1524763136        3568  \n",
       "\n",
       "[5 rows x 45 columns]"
      ]
     },
     "execution_count": 31,
     "metadata": {},
     "output_type": "execute_result"
    }
   ],
   "source": [
    "X = df.iloc[:, 0:45]\n",
    "X.head(5)"
   ]
  },
  {
   "cell_type": "code",
   "execution_count": 32,
   "metadata": {},
   "outputs": [
    {
     "data": {
      "text/html": [
       "<div>\n",
       "<style scoped>\n",
       "    .dataframe tbody tr th:only-of-type {\n",
       "        vertical-align: middle;\n",
       "    }\n",
       "\n",
       "    .dataframe tbody tr th {\n",
       "        vertical-align: top;\n",
       "    }\n",
       "\n",
       "    .dataframe thead th {\n",
       "        text-align: right;\n",
       "    }\n",
       "</style>\n",
       "<table border=\"1\" class=\"dataframe\">\n",
       "  <thead>\n",
       "    <tr style=\"text-align: right;\">\n",
       "      <th></th>\n",
       "      <th>price</th>\n",
       "    </tr>\n",
       "    <tr>\n",
       "      <th>asin</th>\n",
       "      <th></th>\n",
       "    </tr>\n",
       "  </thead>\n",
       "  <tbody>\n",
       "    <tr>\n",
       "      <th>154204006X</th>\n",
       "      <td>1599</td>\n",
       "    </tr>\n",
       "    <tr>\n",
       "      <th>B07B3JQZCL</th>\n",
       "      <td>-1</td>\n",
       "    </tr>\n",
       "    <tr>\n",
       "      <th>B07JHVJ5SC</th>\n",
       "      <td>-1</td>\n",
       "    </tr>\n",
       "    <tr>\n",
       "      <th>B00XJ108I6</th>\n",
       "      <td>-1</td>\n",
       "    </tr>\n",
       "    <tr>\n",
       "      <th>1524763136</th>\n",
       "      <td>1788</td>\n",
       "    </tr>\n",
       "  </tbody>\n",
       "</table>\n",
       "</div>"
      ],
      "text/plain": [
       "            price\n",
       "asin             \n",
       "154204006X   1599\n",
       "B07B3JQZCL     -1\n",
       "B07JHVJ5SC     -1\n",
       "B00XJ108I6     -1\n",
       "1524763136   1788"
      ]
     },
     "execution_count": 32,
     "metadata": {},
     "output_type": "execute_result"
    }
   ],
   "source": [
    "y = df[['price']]\n",
    "y.head(5)"
   ]
  },
  {
   "cell_type": "code",
   "execution_count": 33,
   "metadata": {},
   "outputs": [],
   "source": [
    "from sklearn.preprocessing import StandardScaler"
   ]
  },
  {
   "cell_type": "code",
   "execution_count": 34,
   "metadata": {},
   "outputs": [],
   "source": [
    "names = X.columns"
   ]
  },
  {
   "cell_type": "code",
   "execution_count": 35,
   "metadata": {},
   "outputs": [
    {
     "name": "stderr",
     "output_type": "stream",
     "text": [
      "C:\\Anaconda3\\envs\\GT Capstone\\lib\\site-packages\\sklearn\\preprocessing\\data.py:645: DataConversionWarning: Data with input dtype int32, int64 were all converted to float64 by StandardScaler.\n",
      "  return self.partial_fit(X, y)\n",
      "C:\\Anaconda3\\envs\\GT Capstone\\lib\\site-packages\\sklearn\\base.py:464: DataConversionWarning: Data with input dtype int32, int64 were all converted to float64 by StandardScaler.\n",
      "  return self.fit(X, **fit_params).transform(X)\n"
     ]
    }
   ],
   "source": [
    "scale = StandardScaler()\n",
    "X_df = scale.fit_transform(X)\n",
    "X_df = pd.DataFrame(X_df, columns=names)"
   ]
  },
  {
   "cell_type": "code",
   "execution_count": 36,
   "metadata": {},
   "outputs": [
    {
     "data": {
      "text/html": [
       "<div>\n",
       "<style scoped>\n",
       "    .dataframe tbody tr th:only-of-type {\n",
       "        vertical-align: middle;\n",
       "    }\n",
       "\n",
       "    .dataframe tbody tr th {\n",
       "        vertical-align: top;\n",
       "    }\n",
       "\n",
       "    .dataframe thead th {\n",
       "        text-align: right;\n",
       "    }\n",
       "</style>\n",
       "<table border=\"1\" class=\"dataframe\">\n",
       "  <thead>\n",
       "    <tr style=\"text-align: right;\">\n",
       "      <th></th>\n",
       "      <th>productType</th>\n",
       "      <th>author</th>\n",
       "      <th>availabilityAmazon</th>\n",
       "      <th>binding</th>\n",
       "      <th>categoryTree_0</th>\n",
       "      <th>categoryTree_1</th>\n",
       "      <th>categoryTree_2</th>\n",
       "      <th>categoryTree_3</th>\n",
       "      <th>categoryTree_4</th>\n",
       "      <th>hasReviews</th>\n",
       "      <th>...</th>\n",
       "      <th>stats_avg90</th>\n",
       "      <th>stats_avg180</th>\n",
       "      <th>stats_current</th>\n",
       "      <th>stats_outOfStockPercentage30</th>\n",
       "      <th>stats_outOfStockPercentage90</th>\n",
       "      <th>stats_outOfStockPercentageInInterval</th>\n",
       "      <th>title</th>\n",
       "      <th>trackingSince</th>\n",
       "      <th>type</th>\n",
       "      <th>sales_rank</th>\n",
       "    </tr>\n",
       "  </thead>\n",
       "  <tbody>\n",
       "    <tr>\n",
       "      <th>0</th>\n",
       "      <td>-0.892836</td>\n",
       "      <td>-0.515219</td>\n",
       "      <td>0.032436</td>\n",
       "      <td>0.127975</td>\n",
       "      <td>-0.012656</td>\n",
       "      <td>0.011749</td>\n",
       "      <td>0.490456</td>\n",
       "      <td>-0.209895</td>\n",
       "      <td>-0.891262</td>\n",
       "      <td>0.175983</td>\n",
       "      <td>...</td>\n",
       "      <td>-0.212521</td>\n",
       "      <td>-0.187398</td>\n",
       "      <td>-0.112441</td>\n",
       "      <td>-0.175682</td>\n",
       "      <td>-0.187165</td>\n",
       "      <td>-0.186729</td>\n",
       "      <td>1.601271</td>\n",
       "      <td>0.866179</td>\n",
       "      <td>-0.908350</td>\n",
       "      <td>-0.213769</td>\n",
       "    </tr>\n",
       "    <tr>\n",
       "      <th>1</th>\n",
       "      <td>1.072502</td>\n",
       "      <td>0.643631</td>\n",
       "      <td>0.032436</td>\n",
       "      <td>-1.003420</td>\n",
       "      <td>-0.012656</td>\n",
       "      <td>0.011749</td>\n",
       "      <td>-1.319466</td>\n",
       "      <td>-0.453849</td>\n",
       "      <td>-2.223255</td>\n",
       "      <td>0.175983</td>\n",
       "      <td>...</td>\n",
       "      <td>0.493513</td>\n",
       "      <td>0.437940</td>\n",
       "      <td>0.569281</td>\n",
       "      <td>-0.175682</td>\n",
       "      <td>-0.121669</td>\n",
       "      <td>-0.119589</td>\n",
       "      <td>-1.419130</td>\n",
       "      <td>0.615060</td>\n",
       "      <td>1.071602</td>\n",
       "      <td>-0.219916</td>\n",
       "    </tr>\n",
       "    <tr>\n",
       "      <th>2</th>\n",
       "      <td>-0.892836</td>\n",
       "      <td>1.402834</td>\n",
       "      <td>-4.213199</td>\n",
       "      <td>0.505106</td>\n",
       "      <td>-0.012656</td>\n",
       "      <td>0.011749</td>\n",
       "      <td>-1.051330</td>\n",
       "      <td>-1.588765</td>\n",
       "      <td>-1.714345</td>\n",
       "      <td>-5.682361</td>\n",
       "      <td>...</td>\n",
       "      <td>-0.814037</td>\n",
       "      <td>-0.803155</td>\n",
       "      <td>-0.839611</td>\n",
       "      <td>6.154904</td>\n",
       "      <td>6.362448</td>\n",
       "      <td>6.527228</td>\n",
       "      <td>0.235613</td>\n",
       "      <td>0.890149</td>\n",
       "      <td>1.291597</td>\n",
       "      <td>-0.220173</td>\n",
       "    </tr>\n",
       "    <tr>\n",
       "      <th>3</th>\n",
       "      <td>-0.892836</td>\n",
       "      <td>-1.621914</td>\n",
       "      <td>-4.213199</td>\n",
       "      <td>0.505106</td>\n",
       "      <td>-0.012656</td>\n",
       "      <td>0.011749</td>\n",
       "      <td>-0.783193</td>\n",
       "      <td>1.084121</td>\n",
       "      <td>1.289780</td>\n",
       "      <td>-5.682361</td>\n",
       "      <td>...</td>\n",
       "      <td>-0.814037</td>\n",
       "      <td>-0.803155</td>\n",
       "      <td>-0.839611</td>\n",
       "      <td>6.154904</td>\n",
       "      <td>6.362448</td>\n",
       "      <td>6.527228</td>\n",
       "      <td>0.989917</td>\n",
       "      <td>0.848819</td>\n",
       "      <td>1.291597</td>\n",
       "      <td>-0.220170</td>\n",
       "    </tr>\n",
       "    <tr>\n",
       "      <th>4</th>\n",
       "      <td>-0.892836</td>\n",
       "      <td>0.643631</td>\n",
       "      <td>0.032436</td>\n",
       "      <td>0.127975</td>\n",
       "      <td>-0.012656</td>\n",
       "      <td>0.011749</td>\n",
       "      <td>-1.319466</td>\n",
       "      <td>-0.453849</td>\n",
       "      <td>-2.223255</td>\n",
       "      <td>0.175983</td>\n",
       "      <td>...</td>\n",
       "      <td>0.012300</td>\n",
       "      <td>0.007161</td>\n",
       "      <td>0.047082</td>\n",
       "      <td>-0.175682</td>\n",
       "      <td>-0.187165</td>\n",
       "      <td>-0.119589</td>\n",
       "      <td>-1.419130</td>\n",
       "      <td>0.612806</td>\n",
       "      <td>-0.908350</td>\n",
       "      <td>-0.208422</td>\n",
       "    </tr>\n",
       "  </tbody>\n",
       "</table>\n",
       "<p>5 rows × 45 columns</p>\n",
       "</div>"
      ],
      "text/plain": [
       "   productType    author  availabilityAmazon   binding  categoryTree_0  \\\n",
       "0    -0.892836 -0.515219            0.032436  0.127975       -0.012656   \n",
       "1     1.072502  0.643631            0.032436 -1.003420       -0.012656   \n",
       "2    -0.892836  1.402834           -4.213199  0.505106       -0.012656   \n",
       "3    -0.892836 -1.621914           -4.213199  0.505106       -0.012656   \n",
       "4    -0.892836  0.643631            0.032436  0.127975       -0.012656   \n",
       "\n",
       "   categoryTree_1  categoryTree_2  categoryTree_3  categoryTree_4  hasReviews  \\\n",
       "0        0.011749        0.490456       -0.209895       -0.891262    0.175983   \n",
       "1        0.011749       -1.319466       -0.453849       -2.223255    0.175983   \n",
       "2        0.011749       -1.051330       -1.588765       -1.714345   -5.682361   \n",
       "3        0.011749       -0.783193        1.084121        1.289780   -5.682361   \n",
       "4        0.011749       -1.319466       -0.453849       -2.223255    0.175983   \n",
       "\n",
       "   ...  stats_avg90  stats_avg180  stats_current  \\\n",
       "0  ...    -0.212521     -0.187398      -0.112441   \n",
       "1  ...     0.493513      0.437940       0.569281   \n",
       "2  ...    -0.814037     -0.803155      -0.839611   \n",
       "3  ...    -0.814037     -0.803155      -0.839611   \n",
       "4  ...     0.012300      0.007161       0.047082   \n",
       "\n",
       "   stats_outOfStockPercentage30  stats_outOfStockPercentage90  \\\n",
       "0                     -0.175682                     -0.187165   \n",
       "1                     -0.175682                     -0.121669   \n",
       "2                      6.154904                      6.362448   \n",
       "3                      6.154904                      6.362448   \n",
       "4                     -0.175682                     -0.187165   \n",
       "\n",
       "   stats_outOfStockPercentageInInterval     title  trackingSince      type  \\\n",
       "0                             -0.186729  1.601271       0.866179 -0.908350   \n",
       "1                             -0.119589 -1.419130       0.615060  1.071602   \n",
       "2                              6.527228  0.235613       0.890149  1.291597   \n",
       "3                              6.527228  0.989917       0.848819  1.291597   \n",
       "4                             -0.119589 -1.419130       0.612806 -0.908350   \n",
       "\n",
       "   sales_rank  \n",
       "0   -0.213769  \n",
       "1   -0.219916  \n",
       "2   -0.220173  \n",
       "3   -0.220170  \n",
       "4   -0.208422  \n",
       "\n",
       "[5 rows x 45 columns]"
      ]
     },
     "execution_count": 36,
     "metadata": {},
     "output_type": "execute_result"
    }
   ],
   "source": [
    "X_df.head(5)"
   ]
  },
  {
   "cell_type": "code",
   "execution_count": 37,
   "metadata": {},
   "outputs": [],
   "source": [
    "y = y.reset_index(drop = True)"
   ]
  },
  {
   "cell_type": "code",
   "execution_count": 38,
   "metadata": {},
   "outputs": [],
   "source": [
    "from sklearn.ensemble import GradientBoostingRegressor"
   ]
  },
  {
   "cell_type": "code",
   "execution_count": 39,
   "metadata": {},
   "outputs": [],
   "source": [
    "from yellowbrick.features.importances import FeatureImportances\n",
    "from yellowbrick.features import RFECV"
   ]
  },
  {
   "cell_type": "code",
   "execution_count": 40,
   "metadata": {},
   "outputs": [
    {
     "name": "stderr",
     "output_type": "stream",
     "text": [
      "C:\\Anaconda3\\envs\\GT Capstone\\lib\\site-packages\\sklearn\\utils\\validation.py:761: DataConversionWarning: A column-vector y was passed when a 1d array was expected. Please change the shape of y to (n_samples, ), for example using ravel().\n",
      "  y = column_or_1d(y, warn=True)\n"
     ]
    },
    {
     "data": {
      "image/png": "[encoded data removed]",
      "text/plain": [
       "<Figure size 576x396 with 1 Axes>"
      ]
     },
     "metadata": {},
     "output_type": "display_data"
    }
   ],
   "source": [
    "fig = plt.figure()\n",
    "ax = fig.add_subplot()\n",
    "\n",
    "viz = FeatureImportances(GradientBoostingRegressor(), ax=ax)\n",
    "viz.fit(X_df, y)\n",
    "viz.poof()"
   ]
  },
  {
   "cell_type": "code",
   "execution_count": 41,
   "metadata": {},
   "outputs": [],
   "source": [
    "from sklearn.model_selection import train_test_split"
   ]
  },
  {
   "cell_type": "code",
   "execution_count": 42,
   "metadata": {},
   "outputs": [],
   "source": [
    "X_train, X_test, y_train, y_test = train_test_split(X_df,y, test_size = 0.25, random_state = 39)"
   ]
  },
  {
   "cell_type": "code",
   "execution_count": 43,
   "metadata": {},
   "outputs": [],
   "source": [
    "from sklearn.decomposition import PCA"
   ]
  },
  {
   "cell_type": "code",
   "execution_count": 44,
   "metadata": {},
   "outputs": [],
   "source": [
    "pca = PCA()\n",
    "X_train = pca.fit_transform(X_train)\n",
    "X_test = pca.transform(X_test)"
   ]
  },
  {
   "cell_type": "code",
   "execution_count": 45,
   "metadata": {},
   "outputs": [],
   "source": [
    "exp_variance = pca.explained_variance_ratio_"
   ]
  },
  {
   "cell_type": "code",
   "execution_count": 46,
   "metadata": {},
   "outputs": [
    {
     "name": "stdout",
     "output_type": "stream",
     "text": [
      "[1.95867166e-01 1.28296755e-01 8.16003986e-02 4.28718088e-02\n",
      " 3.35524635e-02 2.92970782e-02 2.90928600e-02 2.88711683e-02\n",
      " 2.70680968e-02 2.64782489e-02 2.43214921e-02 2.28261913e-02\n",
      " 2.20365981e-02 2.12176808e-02 2.06210720e-02 2.05638155e-02\n",
      " 2.02946299e-02 1.98087866e-02 1.93895858e-02 1.83839181e-02\n",
      " 1.74446592e-02 1.66022145e-02 1.59643614e-02 1.51212323e-02\n",
      " 1.46801227e-02 1.46267000e-02 1.35515740e-02 9.54471572e-03\n",
      " 8.37351258e-03 7.83598507e-03 7.08437667e-03 6.05301973e-03\n",
      " 4.69943065e-03 4.30197080e-03 2.83446226e-03 1.84321864e-03\n",
      " 1.58128139e-03 1.38930159e-03 1.17375806e-03 1.08909109e-03\n",
      " 5.51872706e-04 4.02057633e-04 3.58365091e-04 2.83254718e-04\n",
      " 1.49647606e-04]\n"
     ]
    }
   ],
   "source": [
    "print(exp_variance)"
   ]
  },
  {
   "cell_type": "code",
   "execution_count": 47,
   "metadata": {},
   "outputs": [
    {
     "name": "stderr",
     "output_type": "stream",
     "text": [
      "C:\\Anaconda3\\envs\\GT Capstone\\lib\\site-packages\\sklearn\\utils\\validation.py:761: DataConversionWarning: A column-vector y was passed when a 1d array was expected. Please change the shape of y to (n_samples, ), for example using ravel().\n",
      "  y = column_or_1d(y, warn=True)\n"
     ]
    },
    {
     "data": {
      "text/plain": [
       "GradientBoostingRegressor(alpha=0.9, criterion='friedman_mse', init=None,\n",
       "             learning_rate=0.1, loss='ls', max_depth=3, max_features=None,\n",
       "             max_leaf_nodes=None, min_impurity_decrease=0.0,\n",
       "             min_impurity_split=None, min_samples_leaf=1,\n",
       "             min_samples_split=2, min_weight_fraction_leaf=0.0,\n",
       "             n_estimators=100, n_iter_no_change=None, presort='auto',\n",
       "             random_state=None, subsample=1.0, tol=0.0001,\n",
       "             validation_fraction=0.1, verbose=0, warm_start=False)"
      ]
     },
     "execution_count": 47,
     "metadata": {},
     "output_type": "execute_result"
    }
   ],
   "source": [
    "reg = GradientBoostingRegressor()\n",
    "reg.fit(X_train, y_train)"
   ]
  },
  {
   "cell_type": "code",
   "execution_count": 48,
   "metadata": {},
   "outputs": [],
   "source": [
    "y_pred = reg.predict(X_test)"
   ]
  },
  {
   "cell_type": "code",
   "execution_count": 49,
   "metadata": {},
   "outputs": [],
   "source": [
    "from sklearn.metrics import r2_score"
   ]
  },
  {
   "cell_type": "code",
   "execution_count": 50,
   "metadata": {},
   "outputs": [
    {
     "data": {
      "text/plain": [
       "0.8856080996700727"
      ]
     },
     "execution_count": 50,
     "metadata": {},
     "output_type": "execute_result"
    }
   ],
   "source": [
    "r2_score(y_test, y_pred)"
   ]
  },
  {
   "cell_type": "code",
   "execution_count": 51,
   "metadata": {},
   "outputs": [],
   "source": [
    "from sklearn import metrics"
   ]
  },
  {
   "cell_type": "code",
   "execution_count": 52,
   "metadata": {},
   "outputs": [],
   "source": [
    "mse = metrics.mean_squared_error(y_test, y_pred)"
   ]
  },
  {
   "cell_type": "code",
   "execution_count": 53,
   "metadata": {},
   "outputs": [
    {
     "name": "stdout",
     "output_type": "stream",
     "text": [
      "628885.7248129438\n"
     ]
    }
   ],
   "source": [
    "print((metrics.mean_squared_error(y_test, y_pred)))"
   ]
  },
  {
   "cell_type": "code",
   "execution_count": 54,
   "metadata": {},
   "outputs": [],
   "source": [
    "import math"
   ]
  },
  {
   "cell_type": "code",
   "execution_count": 55,
   "metadata": {},
   "outputs": [
    {
     "data": {
      "text/plain": [
       "793.0231552817004"
      ]
     },
     "execution_count": 55,
     "metadata": {},
     "output_type": "execute_result"
    }
   ],
   "source": [
    "math.sqrt(mse)"
   ]
  },
  {
   "cell_type": "code",
   "execution_count": 56,
   "metadata": {},
   "outputs": [],
   "source": [
    "pca = PCA(n_components=6)\n",
    "X_train = pca.fit_transform(X_train)\n",
    "X_test = pca.transform(X_test)"
   ]
  },
  {
   "cell_type": "code",
   "execution_count": 57,
   "metadata": {},
   "outputs": [
    {
     "name": "stderr",
     "output_type": "stream",
     "text": [
      "C:\\Anaconda3\\envs\\GT Capstone\\lib\\site-packages\\sklearn\\utils\\validation.py:761: DataConversionWarning: A column-vector y was passed when a 1d array was expected. Please change the shape of y to (n_samples, ), for example using ravel().\n",
      "  y = column_or_1d(y, warn=True)\n"
     ]
    },
    {
     "data": {
      "text/plain": [
       "GradientBoostingRegressor(alpha=0.9, criterion='friedman_mse', init=None,\n",
       "             learning_rate=0.1, loss='ls', max_depth=3, max_features=None,\n",
       "             max_leaf_nodes=None, min_impurity_decrease=0.0,\n",
       "             min_impurity_split=None, min_samples_leaf=1,\n",
       "             min_samples_split=2, min_weight_fraction_leaf=0.0,\n",
       "             n_estimators=100, n_iter_no_change=None, presort='auto',\n",
       "             random_state=None, subsample=1.0, tol=0.0001,\n",
       "             validation_fraction=0.1, verbose=0, warm_start=False)"
      ]
     },
     "execution_count": 57,
     "metadata": {},
     "output_type": "execute_result"
    }
   ],
   "source": [
    "reg = GradientBoostingRegressor()\n",
    "reg.fit(X_train, y_train)"
   ]
  },
  {
   "cell_type": "code",
   "execution_count": 58,
   "metadata": {},
   "outputs": [],
   "source": [
    "y_pred = reg.predict(X_test)"
   ]
  },
  {
   "cell_type": "code",
   "execution_count": 59,
   "metadata": {},
   "outputs": [],
   "source": [
    "from sklearn.metrics import r2_score"
   ]
  },
  {
   "cell_type": "code",
   "execution_count": 60,
   "metadata": {},
   "outputs": [
    {
     "data": {
      "text/plain": [
       "0.8751742915413347"
      ]
     },
     "execution_count": 60,
     "metadata": {},
     "output_type": "execute_result"
    }
   ],
   "source": [
    "r2_score(y_test,  y_pred)"
   ]
  },
  {
   "cell_type": "code",
   "execution_count": 61,
   "metadata": {},
   "outputs": [],
   "source": [
    "from sklearn import metrics"
   ]
  },
  {
   "cell_type": "code",
   "execution_count": 62,
   "metadata": {},
   "outputs": [],
   "source": [
    "mse = metrics.mean_squared_error(y_test, y_pred)"
   ]
  },
  {
   "cell_type": "code",
   "execution_count": 63,
   "metadata": {},
   "outputs": [
    {
     "name": "stdout",
     "output_type": "stream",
     "text": [
      "686247.067431394\n"
     ]
    }
   ],
   "source": [
    "print((metrics.mean_squared_error(y_test, y_pred)))"
   ]
  },
  {
   "cell_type": "code",
   "execution_count": 64,
   "metadata": {},
   "outputs": [],
   "source": [
    "import math"
   ]
  },
  {
   "cell_type": "code",
   "execution_count": 65,
   "metadata": {},
   "outputs": [
    {
     "data": {
      "text/plain": [
       "828.4003062719098"
      ]
     },
     "execution_count": 65,
     "metadata": {},
     "output_type": "execute_result"
    }
   ],
   "source": [
    "math.sqrt(mse)"
   ]
  },
  {
   "cell_type": "code",
   "execution_count": 66,
   "metadata": {},
   "outputs": [],
   "source": [
    "from sklearn.linear_model import LinearRegression"
   ]
  },
  {
   "cell_type": "code",
   "execution_count": 67,
   "metadata": {},
   "outputs": [],
   "source": [
    "lr = LinearRegression()"
   ]
  },
  {
   "cell_type": "code",
   "execution_count": 68,
   "metadata": {},
   "outputs": [
    {
     "data": {
      "text/plain": [
       "LinearRegression(copy_X=True, fit_intercept=True, n_jobs=None,\n",
       "         normalize=False)"
      ]
     },
     "execution_count": 68,
     "metadata": {},
     "output_type": "execute_result"
    }
   ],
   "source": [
    "lr.fit(X_train, y_train)"
   ]
  },
  {
   "cell_type": "code",
   "execution_count": 69,
   "metadata": {},
   "outputs": [
    {
     "data": {
      "text/plain": [
       "array([[216.76520922, 917.11947972, 146.51110895, -21.60483199,\n",
       "        -20.87939266,  16.59919179]])"
      ]
     },
     "execution_count": 69,
     "metadata": {},
     "output_type": "execute_result"
    }
   ],
   "source": [
    "lr.coef_"
   ]
  },
  {
   "cell_type": "code",
   "execution_count": 70,
   "metadata": {},
   "outputs": [],
   "source": [
    "pred = lr.predict(X_test)"
   ]
  },
  {
   "cell_type": "code",
   "execution_count": 71,
   "metadata": {},
   "outputs": [
    {
     "data": {
      "text/plain": [
       "0.8541998606903137"
      ]
     },
     "execution_count": 71,
     "metadata": {},
     "output_type": "execute_result"
    }
   ],
   "source": [
    "r2_score(y_test,  pred)"
   ]
  },
  {
   "cell_type": "code",
   "execution_count": 72,
   "metadata": {},
   "outputs": [
    {
     "name": "stdout",
     "output_type": "stream",
     "text": [
      "686247.067431394\n"
     ]
    }
   ],
   "source": [
    "mse = metrics.mean_squared_error(y_test, y_pred)\n",
    "print((metrics.mean_squared_error(y_test, y_pred)))"
   ]
  },
  {
   "cell_type": "code",
   "execution_count": 73,
   "metadata": {},
   "outputs": [
    {
     "data": {
      "text/plain": [
       "828.4003062719098"
      ]
     },
     "execution_count": 73,
     "metadata": {},
     "output_type": "execute_result"
    }
   ],
   "source": [
    "math.sqrt(mse)"
   ]
  },
  {
   "cell_type": "code",
   "execution_count": 74,
   "metadata": {},
   "outputs": [],
   "source": [
    "from sklearn.ensemble import RandomForestRegressor"
   ]
  },
  {
   "cell_type": "code",
   "execution_count": 75,
   "metadata": {},
   "outputs": [],
   "source": [
    "rfg = RandomForestRegressor()"
   ]
  },
  {
   "cell_type": "code",
   "execution_count": 76,
   "metadata": {},
   "outputs": [
    {
     "name": "stderr",
     "output_type": "stream",
     "text": [
      "C:\\Anaconda3\\envs\\GT Capstone\\lib\\site-packages\\sklearn\\ensemble\\forest.py:246: FutureWarning: The default value of n_estimators will change from 10 in version 0.20 to 100 in 0.22.\n",
      "  \"10 in version 0.20 to 100 in 0.22.\", FutureWarning)\n",
      "C:\\Anaconda3\\envs\\GT Capstone\\lib\\site-packages\\ipykernel_launcher.py:1: DataConversionWarning: A column-vector y was passed when a 1d array was expected. Please change the shape of y to (n_samples,), for example using ravel().\n",
      "  \"\"\"Entry point for launching an IPython kernel.\n"
     ]
    },
    {
     "data": {
      "text/plain": [
       "RandomForestRegressor(bootstrap=True, criterion='mse', max_depth=None,\n",
       "           max_features='auto', max_leaf_nodes=None,\n",
       "           min_impurity_decrease=0.0, min_impurity_split=None,\n",
       "           min_samples_leaf=1, min_samples_split=2,\n",
       "           min_weight_fraction_leaf=0.0, n_estimators=10, n_jobs=None,\n",
       "           oob_score=False, random_state=None, verbose=0, warm_start=False)"
      ]
     },
     "execution_count": 76,
     "metadata": {},
     "output_type": "execute_result"
    }
   ],
   "source": [
    "rfg.fit(X_train, y_train)"
   ]
  },
  {
   "cell_type": "code",
   "execution_count": 77,
   "metadata": {},
   "outputs": [],
   "source": [
    "pre = rfg.predict(X_test)"
   ]
  },
  {
   "cell_type": "code",
   "execution_count": 78,
   "metadata": {},
   "outputs": [
    {
     "data": {
      "text/plain": [
       "0.8513048833273934"
      ]
     },
     "execution_count": 78,
     "metadata": {},
     "output_type": "execute_result"
    }
   ],
   "source": [
    "r2_score(y_test,  pre)"
   ]
  },
  {
   "cell_type": "code",
   "execution_count": 79,
   "metadata": {},
   "outputs": [
    {
     "name": "stdout",
     "output_type": "stream",
     "text": [
      "686247.067431394\n"
     ]
    }
   ],
   "source": [
    "mse = metrics.mean_squared_error(y_test, y_pred)\n",
    "print((metrics.mean_squared_error(y_test, y_pred)))"
   ]
  },
  {
   "cell_type": "code",
   "execution_count": 80,
   "metadata": {},
   "outputs": [
    {
     "data": {
      "text/plain": [
       "828.4003062719098"
      ]
     },
     "execution_count": 80,
     "metadata": {},
     "output_type": "execute_result"
    }
   ],
   "source": [
    "math.sqrt(mse)"
   ]
  },
  {
   "cell_type": "code",
   "execution_count": 81,
   "metadata": {},
   "outputs": [],
   "source": [
    "from sklearn.tree import DecisionTreeRegressor"
   ]
  },
  {
   "cell_type": "code",
   "execution_count": 82,
   "metadata": {},
   "outputs": [],
   "source": [
    "dtg = DecisionTreeRegressor()"
   ]
  },
  {
   "cell_type": "code",
   "execution_count": 83,
   "metadata": {},
   "outputs": [
    {
     "data": {
      "text/plain": [
       "DecisionTreeRegressor(criterion='mse', max_depth=None, max_features=None,\n",
       "           max_leaf_nodes=None, min_impurity_decrease=0.0,\n",
       "           min_impurity_split=None, min_samples_leaf=1,\n",
       "           min_samples_split=2, min_weight_fraction_leaf=0.0,\n",
       "           presort=False, random_state=None, splitter='best')"
      ]
     },
     "execution_count": 83,
     "metadata": {},
     "output_type": "execute_result"
    }
   ],
   "source": [
    "dtg.fit(X_train, y_train)"
   ]
  },
  {
   "cell_type": "code",
   "execution_count": 84,
   "metadata": {},
   "outputs": [],
   "source": [
    "pr = dtg.predict(X_test)"
   ]
  },
  {
   "cell_type": "code",
   "execution_count": 85,
   "metadata": {},
   "outputs": [
    {
     "data": {
      "text/plain": [
       "0.7571995528941898"
      ]
     },
     "execution_count": 85,
     "metadata": {},
     "output_type": "execute_result"
    }
   ],
   "source": [
    "r2_score(y_test,  pr)"
   ]
  },
  {
   "cell_type": "code",
   "execution_count": 86,
   "metadata": {},
   "outputs": [
    {
     "name": "stdout",
     "output_type": "stream",
     "text": [
      "686247.067431394\n"
     ]
    }
   ],
   "source": [
    "mse = metrics.mean_squared_error(y_test, y_pred)\n",
    "print((metrics.mean_squared_error(y_test, y_pred)))"
   ]
  },
  {
   "cell_type": "code",
   "execution_count": 87,
   "metadata": {},
   "outputs": [
    {
     "data": {
      "text/plain": [
       "828.4003062719098"
      ]
     },
     "execution_count": 87,
     "metadata": {},
     "output_type": "execute_result"
    }
   ],
   "source": [
    "math.sqrt(mse)"
   ]
  },
  {
   "cell_type": "code",
   "execution_count": 88,
   "metadata": {},
   "outputs": [],
   "source": [
    "from sklearn.neural_network import MLPRegressor"
   ]
  },
  {
   "cell_type": "code",
   "execution_count": 89,
   "metadata": {},
   "outputs": [],
   "source": [
    "mr = MLPRegressor()"
   ]
  },
  {
   "cell_type": "code",
   "execution_count": 90,
   "metadata": {},
   "outputs": [
    {
     "name": "stderr",
     "output_type": "stream",
     "text": [
      "C:\\Anaconda3\\envs\\GT Capstone\\lib\\site-packages\\sklearn\\neural_network\\multilayer_perceptron.py:1316: DataConversionWarning: A column-vector y was passed when a 1d array was expected. Please change the shape of y to (n_samples, ), for example using ravel().\n",
      "  y = column_or_1d(y, warn=True)\n",
      "C:\\Anaconda3\\envs\\GT Capstone\\lib\\site-packages\\sklearn\\neural_network\\multilayer_perceptron.py:562: ConvergenceWarning: Stochastic Optimizer: Maximum iterations (200) reached and the optimization hasn't converged yet.\n",
      "  % self.max_iter, ConvergenceWarning)\n"
     ]
    },
    {
     "data": {
      "text/plain": [
       "MLPRegressor(activation='relu', alpha=0.0001, batch_size='auto', beta_1=0.9,\n",
       "       beta_2=0.999, early_stopping=False, epsilon=1e-08,\n",
       "       hidden_layer_sizes=(100,), learning_rate='constant',\n",
       "       learning_rate_init=0.001, max_iter=200, momentum=0.9,\n",
       "       n_iter_no_change=10, nesterovs_momentum=True, power_t=0.5,\n",
       "       random_state=None, shuffle=True, solver='adam', tol=0.0001,\n",
       "       validation_fraction=0.1, verbose=False, warm_start=False)"
      ]
     },
     "execution_count": 90,
     "metadata": {},
     "output_type": "execute_result"
    }
   ],
   "source": [
    "mr.fit(X_train, y_train)"
   ]
  },
  {
   "cell_type": "code",
   "execution_count": 91,
   "metadata": {},
   "outputs": [],
   "source": [
    "prede = mr.predict(X_test)"
   ]
  },
  {
   "cell_type": "code",
   "execution_count": 92,
   "metadata": {},
   "outputs": [
    {
     "data": {
      "text/plain": [
       "0.8695782069247018"
      ]
     },
     "execution_count": 92,
     "metadata": {},
     "output_type": "execute_result"
    }
   ],
   "source": [
    "r2_score(y_test,  prede)"
   ]
  },
  {
   "cell_type": "code",
   "execution_count": 93,
   "metadata": {},
   "outputs": [
    {
     "name": "stdout",
     "output_type": "stream",
     "text": [
      "686247.067431394\n"
     ]
    }
   ],
   "source": [
    "mse = metrics.mean_squared_error(y_test, y_pred)\n",
    "print((metrics.mean_squared_error(y_test, y_pred)))"
   ]
  },
  {
   "cell_type": "code",
   "execution_count": 94,
   "metadata": {},
   "outputs": [
    {
     "data": {
      "text/plain": [
       "828.4003062719098"
      ]
     },
     "execution_count": 94,
     "metadata": {},
     "output_type": "execute_result"
    }
   ],
   "source": [
    "math.sqrt(mse)"
   ]
  },
  {
   "cell_type": "code",
   "execution_count": 95,
   "metadata": {},
   "outputs": [],
   "source": [
    "from sklearn.linear_model import Lasso"
   ]
  },
  {
   "cell_type": "code",
   "execution_count": 96,
   "metadata": {},
   "outputs": [
    {
     "data": {
      "text/plain": [
       "Lasso(alpha=1.0, copy_X=True, fit_intercept=True, max_iter=1000,\n",
       "   normalize=False, positive=False, precompute=False, random_state=None,\n",
       "   selection='cyclic', tol=0.0001, warm_start=False)"
      ]
     },
     "execution_count": 96,
     "metadata": {},
     "output_type": "execute_result"
    }
   ],
   "source": [
    "ls = Lasso()\n",
    "ls.fit(X_train, y_train)"
   ]
  },
  {
   "cell_type": "code",
   "execution_count": 97,
   "metadata": {},
   "outputs": [
    {
     "data": {
      "text/plain": [
       "array([216.65294982, 916.94809634, 146.24164904, -21.09141829,\n",
       "       -20.22188489,  15.8390621 ])"
      ]
     },
     "execution_count": 97,
     "metadata": {},
     "output_type": "execute_result"
    }
   ],
   "source": [
    "ls.coef_"
   ]
  },
  {
   "cell_type": "code",
   "execution_count": 98,
   "metadata": {},
   "outputs": [],
   "source": [
    "pre_ls = ls.predict(X_test)"
   ]
  },
  {
   "cell_type": "code",
   "execution_count": 99,
   "metadata": {},
   "outputs": [
    {
     "data": {
      "text/plain": [
       "0.8542248518641987"
      ]
     },
     "execution_count": 99,
     "metadata": {},
     "output_type": "execute_result"
    }
   ],
   "source": [
    "r2_score(y_test,  pre_ls)"
   ]
  },
  {
   "cell_type": "code",
   "execution_count": 101,
   "metadata": {},
   "outputs": [
    {
     "name": "stdout",
     "output_type": "stream",
     "text": [
      "801419.5885433097\n"
     ]
    }
   ],
   "source": [
    "mse = metrics.mean_squared_error(y_test, pre_ls)\n",
    "print((metrics.mean_squared_error(y_test, pre_ls)))"
   ]
  },
  {
   "cell_type": "code",
   "execution_count": 102,
   "metadata": {},
   "outputs": [
    {
     "data": {
      "text/plain": [
       "895.2204133861726"
      ]
     },
     "execution_count": 102,
     "metadata": {},
     "output_type": "execute_result"
    }
   ],
   "source": [
    "math.sqrt(mse)"
   ]
  },
  {
   "cell_type": "code",
   "execution_count": 103,
   "metadata": {},
   "outputs": [],
   "source": [
    "gb = GradientBoostingRegressor()"
   ]
  },
  {
   "cell_type": "code",
   "execution_count": 105,
   "metadata": {},
   "outputs": [],
   "source": [
    "from sklearn.model_selection import cross_val_score"
   ]
  },
  {
   "cell_type": "code",
   "execution_count": 109,
   "metadata": {},
   "outputs": [
    {
     "name": "stderr",
     "output_type": "stream",
     "text": [
      "C:\\Anaconda3\\envs\\GT Capstone\\lib\\site-packages\\sklearn\\utils\\validation.py:761: DataConversionWarning: A column-vector y was passed when a 1d array was expected. Please change the shape of y to (n_samples, ), for example using ravel().\n",
      "  y = column_or_1d(y, warn=True)\n",
      "C:\\Anaconda3\\envs\\GT Capstone\\lib\\site-packages\\sklearn\\utils\\validation.py:761: DataConversionWarning: A column-vector y was passed when a 1d array was expected. Please change the shape of y to (n_samples, ), for example using ravel().\n",
      "  y = column_or_1d(y, warn=True)\n",
      "C:\\Anaconda3\\envs\\GT Capstone\\lib\\site-packages\\sklearn\\utils\\validation.py:761: DataConversionWarning: A column-vector y was passed when a 1d array was expected. Please change the shape of y to (n_samples, ), for example using ravel().\n",
      "  y = column_or_1d(y, warn=True)\n",
      "C:\\Anaconda3\\envs\\GT Capstone\\lib\\site-packages\\sklearn\\utils\\validation.py:761: DataConversionWarning: A column-vector y was passed when a 1d array was expected. Please change the shape of y to (n_samples, ), for example using ravel().\n",
      "  y = column_or_1d(y, warn=True)\n",
      "C:\\Anaconda3\\envs\\GT Capstone\\lib\\site-packages\\sklearn\\utils\\validation.py:761: DataConversionWarning: A column-vector y was passed when a 1d array was expected. Please change the shape of y to (n_samples, ), for example using ravel().\n",
      "  y = column_or_1d(y, warn=True)\n",
      "C:\\Anaconda3\\envs\\GT Capstone\\lib\\site-packages\\sklearn\\utils\\validation.py:761: DataConversionWarning: A column-vector y was passed when a 1d array was expected. Please change the shape of y to (n_samples, ), for example using ravel().\n",
      "  y = column_or_1d(y, warn=True)\n",
      "C:\\Anaconda3\\envs\\GT Capstone\\lib\\site-packages\\sklearn\\utils\\validation.py:761: DataConversionWarning: A column-vector y was passed when a 1d array was expected. Please change the shape of y to (n_samples, ), for example using ravel().\n",
      "  y = column_or_1d(y, warn=True)\n",
      "C:\\Anaconda3\\envs\\GT Capstone\\lib\\site-packages\\sklearn\\utils\\validation.py:761: DataConversionWarning: A column-vector y was passed when a 1d array was expected. Please change the shape of y to (n_samples, ), for example using ravel().\n",
      "  y = column_or_1d(y, warn=True)\n",
      "C:\\Anaconda3\\envs\\GT Capstone\\lib\\site-packages\\sklearn\\utils\\validation.py:761: DataConversionWarning: A column-vector y was passed when a 1d array was expected. Please change the shape of y to (n_samples, ), for example using ravel().\n",
      "  y = column_or_1d(y, warn=True)\n",
      "C:\\Anaconda3\\envs\\GT Capstone\\lib\\site-packages\\sklearn\\utils\\validation.py:761: DataConversionWarning: A column-vector y was passed when a 1d array was expected. Please change the shape of y to (n_samples, ), for example using ravel().\n",
      "  y = column_or_1d(y, warn=True)\n"
     ]
    }
   ],
   "source": [
    "score = cross_val_score(gb, X_train, y_train, cv = 10, scoring = 'r2')"
   ]
  },
  {
   "cell_type": "code",
   "execution_count": 111,
   "metadata": {},
   "outputs": [
    {
     "name": "stdout",
     "output_type": "stream",
     "text": [
      "0.8896025086236021\n"
     ]
    }
   ],
   "source": [
    "print(score.mean())"
   ]
  },
  {
   "cell_type": "code",
   "execution_count": 113,
   "metadata": {},
   "outputs": [
    {
     "name": "stderr",
     "output_type": "stream",
     "text": [
      "C:\\Anaconda3\\envs\\GT Capstone\\lib\\site-packages\\sklearn\\utils\\validation.py:761: DataConversionWarning: A column-vector y was passed when a 1d array was expected. Please change the shape of y to (n_samples, ), for example using ravel().\n",
      "  y = column_or_1d(y, warn=True)\n",
      "C:\\Anaconda3\\envs\\GT Capstone\\lib\\site-packages\\sklearn\\utils\\validation.py:761: DataConversionWarning: A column-vector y was passed when a 1d array was expected. Please change the shape of y to (n_samples, ), for example using ravel().\n",
      "  y = column_or_1d(y, warn=True)\n",
      "C:\\Anaconda3\\envs\\GT Capstone\\lib\\site-packages\\sklearn\\utils\\validation.py:761: DataConversionWarning: A column-vector y was passed when a 1d array was expected. Please change the shape of y to (n_samples, ), for example using ravel().\n",
      "  y = column_or_1d(y, warn=True)\n",
      "C:\\Anaconda3\\envs\\GT Capstone\\lib\\site-packages\\sklearn\\utils\\validation.py:761: DataConversionWarning: A column-vector y was passed when a 1d array was expected. Please change the shape of y to (n_samples, ), for example using ravel().\n",
      "  y = column_or_1d(y, warn=True)\n",
      "C:\\Anaconda3\\envs\\GT Capstone\\lib\\site-packages\\sklearn\\utils\\validation.py:761: DataConversionWarning: A column-vector y was passed when a 1d array was expected. Please change the shape of y to (n_samples, ), for example using ravel().\n",
      "  y = column_or_1d(y, warn=True)\n",
      "C:\\Anaconda3\\envs\\GT Capstone\\lib\\site-packages\\sklearn\\utils\\validation.py:761: DataConversionWarning: A column-vector y was passed when a 1d array was expected. Please change the shape of y to (n_samples, ), for example using ravel().\n",
      "  y = column_or_1d(y, warn=True)\n",
      "C:\\Anaconda3\\envs\\GT Capstone\\lib\\site-packages\\sklearn\\utils\\validation.py:761: DataConversionWarning: A column-vector y was passed when a 1d array was expected. Please change the shape of y to (n_samples, ), for example using ravel().\n",
      "  y = column_or_1d(y, warn=True)\n",
      "C:\\Anaconda3\\envs\\GT Capstone\\lib\\site-packages\\sklearn\\utils\\validation.py:761: DataConversionWarning: A column-vector y was passed when a 1d array was expected. Please change the shape of y to (n_samples, ), for example using ravel().\n",
      "  y = column_or_1d(y, warn=True)\n",
      "C:\\Anaconda3\\envs\\GT Capstone\\lib\\site-packages\\sklearn\\utils\\validation.py:761: DataConversionWarning: A column-vector y was passed when a 1d array was expected. Please change the shape of y to (n_samples, ), for example using ravel().\n",
      "  y = column_or_1d(y, warn=True)\n",
      "C:\\Anaconda3\\envs\\GT Capstone\\lib\\site-packages\\sklearn\\utils\\validation.py:761: DataConversionWarning: A column-vector y was passed when a 1d array was expected. Please change the shape of y to (n_samples, ), for example using ravel().\n",
      "  y = column_or_1d(y, warn=True)\n"
     ]
    },
    {
     "name": "stdout",
     "output_type": "stream",
     "text": [
      "-712155.0200938717\n"
     ]
    }
   ],
   "source": [
    "scr = print(cross_val_score(gb, X_train, y_train, cv = 10, scoring = 'neg_mean_squared_error').mean())"
   ]
  },
  {
   "cell_type": "code",
   "execution_count": 117,
   "metadata": {},
   "outputs": [
    {
     "data": {
      "text/plain": [
       "843.8927775493756"
      ]
     },
     "execution_count": 117,
     "metadata": {},
     "output_type": "execute_result"
    }
   ],
   "source": [
    "math.sqrt(712155.02)"
   ]
  },
  {
   "cell_type": "code",
   "execution_count": null,
   "metadata": {},
   "outputs": [],
   "source": []
  }
 ],
 "metadata": {
  "kernelspec": {
   "display_name": "Python 3",
   "language": "python",
   "name": "python3"
  },
  "language_info": {
   "codemirror_mode": {
    "name": "ipython",
    "version": 3
   },
   "file_extension": ".py",
   "mimetype": "text/x-python",
   "name": "python",
   "nbconvert_exporter": "python",
   "pygments_lexer": "ipython3",
   "version": "3.7.3"
  }
 },
 "nbformat": 4,
 "nbformat_minor": 2
}
